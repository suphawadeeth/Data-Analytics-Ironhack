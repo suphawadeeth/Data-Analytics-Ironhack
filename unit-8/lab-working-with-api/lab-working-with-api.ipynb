{
 "cells": [
  {
   "cell_type": "markdown",
   "id": "091a1edd",
   "metadata": {},
   "source": [
    "# Lab | Working with APIs\n",
    "### Instructions\n",
    "- Select your own data you want to explore\n",
    "- Working with APIs to access the data\n",
    "- Explore data - try to think in terms of business, what it will bring to the client or what problem you're trying to solve\n"
   ]
  },
  {
   "cell_type": "markdown",
   "id": "cf5336cd",
   "metadata": {},
   "source": [
    "# Import libraries"
   ]
  },
  {
   "cell_type": "code",
   "execution_count": 1,
   "id": "2895b7b2",
   "metadata": {},
   "outputs": [],
   "source": [
    "import requests\n",
    "from bs4 import BeautifulSoup\n",
    "import pandas as pd\n",
    "import datetime as dt\n",
    "import matplotlib.pyplot as plt\n",
    "from scipy.stats import linregress"
   ]
  },
  {
   "cell_type": "markdown",
   "id": "9f8133ff",
   "metadata": {},
   "source": [
    "# Atmosphere methane concentration\n",
    "- This API provides on a monthly basis, the amount of methane in the atmosphere from 1983 to the present. Expressed as a mole fraction in dry air, parts per million (ppm).\n",
    "\n",
    "\n",
    "**Note**:\n",
    "- I check data from many sources. I think the dataset is reliable, the only thing that is inconsistent here is the description on the API provider's website (API source: https://rapidapi.com/rene-mdd/api/atmosphere-methane-concentration).\n",
    "- As the descrption stated above: the amount of methane in the atmosphere from 1983 to the present, expressed as a mole fraction in dry air, **parts per million (ppm)**. <-- This should be **parts per billion (ppb)**\n",
    "\n",
    "**Sources**:\n",
    "- [Annual Increase in Globally-Averaged Atmospheric Methane, noaa.gov](https://gml.noaa.gov/ccgg/trends_ch4/)\n",
    "- [Global Warming and Climate Change API ](https://global-warming.org/)\n",
    "- [Greenhouse gas concentrations, climate.copernicus.eu\n",
    "](https://climate.copernicus.eu/ESOTC/2019/greenhouse-gas-concentrations)"
   ]
  },
  {
   "cell_type": "code",
   "execution_count": 2,
   "id": "d9e92821",
   "metadata": {},
   "outputs": [],
   "source": [
    "# Make a request via API\n",
    "url = \"https://atmosphere-methane-concentration.p.rapidapi.com/api/methane-api\"\n",
    "\n",
    "headers = {\"X-RapidAPI-Key\": \"72e420e6ddmshc3015daa82e4145p134908jsnfb8cb13e8efb\",\n",
    "           \"X-RapidAPI-Host\": \"atmosphere-methane-concentration.p.rapidapi.com\"\n",
    "}\n",
    "\n",
    "response = requests.get(url, headers=headers)\n",
    "\n",
    "# Create a json\n",
    "myjson = response.json()\n",
    "# myjson"
   ]
  },
  {
   "cell_type": "code",
   "execution_count": 3,
   "id": "9ead4a61",
   "metadata": {},
   "outputs": [],
   "source": [
    "# Loop through a dictionary in the json & put into the \"mydata\" list\n",
    "mydata = []\n",
    "\n",
    "for x in myjson['methane']:\n",
    "    data_list = [x['date'], x['average'], x['trend'], x['averageUnc'], x['trendUnc']]\n",
    "    mydata.append(data_list)"
   ]
  },
  {
   "cell_type": "code",
   "execution_count": 4,
   "id": "d0e3ce53",
   "metadata": {},
   "outputs": [
    {
     "data": {
      "text/html": [
       "<div>\n",
       "<style scoped>\n",
       "    .dataframe tbody tr th:only-of-type {\n",
       "        vertical-align: middle;\n",
       "    }\n",
       "\n",
       "    .dataframe tbody tr th {\n",
       "        vertical-align: top;\n",
       "    }\n",
       "\n",
       "    .dataframe thead th {\n",
       "        text-align: right;\n",
       "    }\n",
       "</style>\n",
       "<table border=\"1\" class=\"dataframe\">\n",
       "  <thead>\n",
       "    <tr style=\"text-align: right;\">\n",
       "      <th></th>\n",
       "      <th>year</th>\n",
       "      <th>decimal</th>\n",
       "      <th>average_unc</th>\n",
       "      <th>average</th>\n",
       "      <th>trend</th>\n",
       "    </tr>\n",
       "  </thead>\n",
       "  <tbody>\n",
       "    <tr>\n",
       "      <th>0</th>\n",
       "      <td>#.year</td>\n",
       "      <td>decimal</td>\n",
       "      <td>average_unc</td>\n",
       "      <td>average</td>\n",
       "      <td>trend</td>\n",
       "    </tr>\n",
       "    <tr>\n",
       "      <th>1</th>\n",
       "      <td>1983.7</td>\n",
       "      <td>1625.91</td>\n",
       "      <td>1635.11</td>\n",
       "      <td>2.10</td>\n",
       "      <td>1.39</td>\n",
       "    </tr>\n",
       "    <tr>\n",
       "      <th>2</th>\n",
       "      <td>1983.8</td>\n",
       "      <td>1628.07</td>\n",
       "      <td>1635.64</td>\n",
       "      <td>2.69</td>\n",
       "      <td>1.33</td>\n",
       "    </tr>\n",
       "    <tr>\n",
       "      <th>3</th>\n",
       "      <td>1983.9</td>\n",
       "      <td>1638.43</td>\n",
       "      <td>1636.22</td>\n",
       "      <td>2.33</td>\n",
       "      <td>1.27</td>\n",
       "    </tr>\n",
       "    <tr>\n",
       "      <th>4</th>\n",
       "      <td>1983.10</td>\n",
       "      <td>1644.79</td>\n",
       "      <td>1636.85</td>\n",
       "      <td>1.59</td>\n",
       "      <td>1.20</td>\n",
       "    </tr>\n",
       "  </tbody>\n",
       "</table>\n",
       "</div>"
      ],
      "text/plain": [
       "      year  decimal  average_unc  average  trend\n",
       "0   #.year  decimal  average_unc  average  trend\n",
       "1   1983.7  1625.91      1635.11     2.10   1.39\n",
       "2   1983.8  1628.07      1635.64     2.69   1.33\n",
       "3   1983.9  1638.43      1636.22     2.33   1.27\n",
       "4  1983.10  1644.79      1636.85     1.59   1.20"
      ]
     },
     "execution_count": 4,
     "metadata": {},
     "output_type": "execute_result"
    }
   ],
   "source": [
    "# Put data into pandas dataframe\n",
    "df = pd.DataFrame(data = mydata,\n",
    "                  columns = ['year', 'decimal', 'average_unc', 'average', 'trend'])\n",
    "df.head()"
   ]
  },
  {
   "cell_type": "code",
   "execution_count": 5,
   "id": "09856796",
   "metadata": {},
   "outputs": [
    {
     "data": {
      "text/html": [
       "<div>\n",
       "<style scoped>\n",
       "    .dataframe tbody tr th:only-of-type {\n",
       "        vertical-align: middle;\n",
       "    }\n",
       "\n",
       "    .dataframe tbody tr th {\n",
       "        vertical-align: top;\n",
       "    }\n",
       "\n",
       "    .dataframe thead th {\n",
       "        text-align: right;\n",
       "    }\n",
       "</style>\n",
       "<table border=\"1\" class=\"dataframe\">\n",
       "  <thead>\n",
       "    <tr style=\"text-align: right;\">\n",
       "      <th></th>\n",
       "      <th>year</th>\n",
       "      <th>decimal</th>\n",
       "      <th>average_unc</th>\n",
       "      <th>average</th>\n",
       "      <th>trend</th>\n",
       "    </tr>\n",
       "  </thead>\n",
       "  <tbody>\n",
       "    <tr>\n",
       "      <th>1</th>\n",
       "      <td>1983.7</td>\n",
       "      <td>1625.91</td>\n",
       "      <td>1635.11</td>\n",
       "      <td>2.10</td>\n",
       "      <td>1.39</td>\n",
       "    </tr>\n",
       "    <tr>\n",
       "      <th>2</th>\n",
       "      <td>1983.8</td>\n",
       "      <td>1628.07</td>\n",
       "      <td>1635.64</td>\n",
       "      <td>2.69</td>\n",
       "      <td>1.33</td>\n",
       "    </tr>\n",
       "    <tr>\n",
       "      <th>3</th>\n",
       "      <td>1983.9</td>\n",
       "      <td>1638.43</td>\n",
       "      <td>1636.22</td>\n",
       "      <td>2.33</td>\n",
       "      <td>1.27</td>\n",
       "    </tr>\n",
       "    <tr>\n",
       "      <th>4</th>\n",
       "      <td>1983.10</td>\n",
       "      <td>1644.79</td>\n",
       "      <td>1636.85</td>\n",
       "      <td>1.59</td>\n",
       "      <td>1.20</td>\n",
       "    </tr>\n",
       "    <tr>\n",
       "      <th>5</th>\n",
       "      <td>1983.11</td>\n",
       "      <td>1642.62</td>\n",
       "      <td>1637.55</td>\n",
       "      <td>0.78</td>\n",
       "      <td>1.12</td>\n",
       "    </tr>\n",
       "    <tr>\n",
       "      <th>...</th>\n",
       "      <td>...</td>\n",
       "      <td>...</td>\n",
       "      <td>...</td>\n",
       "      <td>...</td>\n",
       "      <td>...</td>\n",
       "    </tr>\n",
       "    <tr>\n",
       "      <th>472</th>\n",
       "      <td>2022.10</td>\n",
       "      <td>1920.04</td>\n",
       "      <td>1916.39</td>\n",
       "      <td>-9.99</td>\n",
       "      <td>-9.99</td>\n",
       "    </tr>\n",
       "    <tr>\n",
       "      <th>473</th>\n",
       "      <td>2022.11</td>\n",
       "      <td>1923.77</td>\n",
       "      <td>1917.44</td>\n",
       "      <td>-9.99</td>\n",
       "      <td>-9.99</td>\n",
       "    </tr>\n",
       "    <tr>\n",
       "      <th>474</th>\n",
       "      <td>2022.12</td>\n",
       "      <td>1924.71</td>\n",
       "      <td>1918.43</td>\n",
       "      <td>-9.99</td>\n",
       "      <td>-9.99</td>\n",
       "    </tr>\n",
       "    <tr>\n",
       "      <th>475</th>\n",
       "      <td>2023.1</td>\n",
       "      <td>1921.69</td>\n",
       "      <td>1919.39</td>\n",
       "      <td>-9.99</td>\n",
       "      <td>-9.99</td>\n",
       "    </tr>\n",
       "    <tr>\n",
       "      <th>476</th>\n",
       "      <td>2023.2</td>\n",
       "      <td>1919.97</td>\n",
       "      <td>1920.26</td>\n",
       "      <td>-9.99</td>\n",
       "      <td>-9.99</td>\n",
       "    </tr>\n",
       "  </tbody>\n",
       "</table>\n",
       "<p>476 rows × 5 columns</p>\n",
       "</div>"
      ],
      "text/plain": [
       "        year  decimal average_unc average  trend\n",
       "1     1983.7  1625.91     1635.11    2.10   1.39\n",
       "2     1983.8  1628.07     1635.64    2.69   1.33\n",
       "3     1983.9  1638.43     1636.22    2.33   1.27\n",
       "4    1983.10  1644.79     1636.85    1.59   1.20\n",
       "5    1983.11  1642.62     1637.55    0.78   1.12\n",
       "..       ...      ...         ...     ...    ...\n",
       "472  2022.10  1920.04     1916.39   -9.99  -9.99\n",
       "473  2022.11  1923.77     1917.44   -9.99  -9.99\n",
       "474  2022.12  1924.71     1918.43   -9.99  -9.99\n",
       "475   2023.1  1921.69     1919.39   -9.99  -9.99\n",
       "476   2023.2  1919.97     1920.26   -9.99  -9.99\n",
       "\n",
       "[476 rows x 5 columns]"
      ]
     },
     "execution_count": 5,
     "metadata": {},
     "output_type": "execute_result"
    }
   ],
   "source": [
    "# Drop the firt row of data (it's the column name)\n",
    "df = df.tail(-1) \n",
    "df"
   ]
  },
  {
   "cell_type": "code",
   "execution_count": 6,
   "id": "fed93915",
   "metadata": {},
   "outputs": [
    {
     "name": "stdout",
     "output_type": "stream",
     "text": [
      "NaN (n rows):  \n",
      " year           0\n",
      "decimal        0\n",
      "average_unc    0\n",
      "average        0\n",
      "trend          0\n",
      "dtype: int64\n",
      "\n",
      " Emptyspace (n rows):  \n",
      " year           0\n",
      "decimal        0\n",
      "average_unc    0\n",
      "average        0\n",
      "trend          0\n",
      "dtype: int64\n"
     ]
    }
   ],
   "source": [
    "# Check NaN and emptyspace\n",
    "print('NaN (n rows): ', '\\n', df.isna().sum())\n",
    "print('\\n', 'Emptyspace (n rows): ', '\\n', df.eq(' ').sum())"
   ]
  },
  {
   "cell_type": "code",
   "execution_count": 7,
   "id": "91c71d4d",
   "metadata": {},
   "outputs": [
    {
     "name": "stdout",
     "output_type": "stream",
     "text": [
      "<class 'pandas.core.frame.DataFrame'>\n",
      "RangeIndex: 476 entries, 1 to 476\n",
      "Data columns (total 5 columns):\n",
      " #   Column       Non-Null Count  Dtype \n",
      "---  ------       --------------  ----- \n",
      " 0   year         476 non-null    object\n",
      " 1   decimal      476 non-null    object\n",
      " 2   average_unc  476 non-null    object\n",
      " 3   average      476 non-null    object\n",
      " 4   trend        476 non-null    object\n",
      "dtypes: object(5)\n",
      "memory usage: 18.7+ KB\n"
     ]
    }
   ],
   "source": [
    "# Check data types\n",
    "df.info()"
   ]
  },
  {
   "cell_type": "code",
   "execution_count": 8,
   "id": "5f42b97d",
   "metadata": {},
   "outputs": [
    {
     "name": "stdout",
     "output_type": "stream",
     "text": [
      "<class 'pandas.core.frame.DataFrame'>\n",
      "RangeIndex: 476 entries, 1 to 476\n",
      "Data columns (total 5 columns):\n",
      " #   Column       Non-Null Count  Dtype         \n",
      "---  ------       --------------  -----         \n",
      " 0   date         476 non-null    datetime64[ns]\n",
      " 1   decimal      476 non-null    float64       \n",
      " 2   average_unc  476 non-null    float64       \n",
      " 3   average      476 non-null    float64       \n",
      " 4   trend        476 non-null    float64       \n",
      "dtypes: datetime64[ns](1), float64(4)\n",
      "memory usage: 18.7 KB\n"
     ]
    }
   ],
   "source": [
    "### Correct data types\n",
    "\n",
    "# Convert string to datetime type\n",
    "df['date'] = pd.to_datetime(df['year'])\n",
    "\n",
    "# Convert string to float\n",
    "df_num = df[['decimal', 'average_unc', 'average', 'trend']]\n",
    "df_num = df_num.astype(float)\n",
    "\n",
    "# Put coverted data into a dataframe\n",
    "df = pd.concat([df['date'], df_num], axis=1)\n",
    "df.info()"
   ]
  },
  {
   "cell_type": "code",
   "execution_count": 9,
   "id": "9f0aa3d5",
   "metadata": {},
   "outputs": [
    {
     "data": {
      "text/html": [
       "<div>\n",
       "<style scoped>\n",
       "    .dataframe tbody tr th:only-of-type {\n",
       "        vertical-align: middle;\n",
       "    }\n",
       "\n",
       "    .dataframe tbody tr th {\n",
       "        vertical-align: top;\n",
       "    }\n",
       "\n",
       "    .dataframe thead th {\n",
       "        text-align: right;\n",
       "    }\n",
       "</style>\n",
       "<table border=\"1\" class=\"dataframe\">\n",
       "  <thead>\n",
       "    <tr style=\"text-align: right;\">\n",
       "      <th></th>\n",
       "      <th>date</th>\n",
       "      <th>ppb</th>\n",
       "      <th>average_unc</th>\n",
       "      <th>average</th>\n",
       "      <th>trend</th>\n",
       "      <th>year</th>\n",
       "      <th>month</th>\n",
       "    </tr>\n",
       "  </thead>\n",
       "  <tbody>\n",
       "    <tr>\n",
       "      <th>1</th>\n",
       "      <td>1983-07-01</td>\n",
       "      <td>1625.91</td>\n",
       "      <td>1635.11</td>\n",
       "      <td>2.10</td>\n",
       "      <td>1.39</td>\n",
       "      <td>1983</td>\n",
       "      <td>7</td>\n",
       "    </tr>\n",
       "    <tr>\n",
       "      <th>2</th>\n",
       "      <td>1983-08-01</td>\n",
       "      <td>1628.07</td>\n",
       "      <td>1635.64</td>\n",
       "      <td>2.69</td>\n",
       "      <td>1.33</td>\n",
       "      <td>1983</td>\n",
       "      <td>8</td>\n",
       "    </tr>\n",
       "    <tr>\n",
       "      <th>3</th>\n",
       "      <td>1983-09-01</td>\n",
       "      <td>1638.43</td>\n",
       "      <td>1636.22</td>\n",
       "      <td>2.33</td>\n",
       "      <td>1.27</td>\n",
       "      <td>1983</td>\n",
       "      <td>9</td>\n",
       "    </tr>\n",
       "    <tr>\n",
       "      <th>4</th>\n",
       "      <td>1983-10-01</td>\n",
       "      <td>1644.79</td>\n",
       "      <td>1636.85</td>\n",
       "      <td>1.59</td>\n",
       "      <td>1.20</td>\n",
       "      <td>1983</td>\n",
       "      <td>10</td>\n",
       "    </tr>\n",
       "    <tr>\n",
       "      <th>5</th>\n",
       "      <td>1983-11-01</td>\n",
       "      <td>1642.62</td>\n",
       "      <td>1637.55</td>\n",
       "      <td>0.78</td>\n",
       "      <td>1.12</td>\n",
       "      <td>1983</td>\n",
       "      <td>11</td>\n",
       "    </tr>\n",
       "  </tbody>\n",
       "</table>\n",
       "</div>"
      ],
      "text/plain": [
       "        date      ppb  average_unc  average  trend  year  month\n",
       "1 1983-07-01  1625.91      1635.11     2.10   1.39  1983      7\n",
       "2 1983-08-01  1628.07      1635.64     2.69   1.33  1983      8\n",
       "3 1983-09-01  1638.43      1636.22     2.33   1.27  1983      9\n",
       "4 1983-10-01  1644.79      1636.85     1.59   1.20  1983     10\n",
       "5 1983-11-01  1642.62      1637.55     0.78   1.12  1983     11"
      ]
     },
     "execution_count": 9,
     "metadata": {},
     "output_type": "execute_result"
    }
   ],
   "source": [
    "# Extract 'month' and 'year'\n",
    "df['year'] = pd.to_datetime(df['date']).dt.year\n",
    "df['month'] = pd.to_datetime(df['date']).dt.month\n",
    "\n",
    "# Rename a column decimal to ppb\n",
    "df = df.rename(columns={'decimal': 'ppb'})\n",
    "df.head()"
   ]
  },
  {
   "cell_type": "code",
   "execution_count": 10,
   "id": "d2cfa955",
   "metadata": {},
   "outputs": [
    {
     "data": {
      "text/plain": [
       "Text(0, 0.5, 'Methane Concentration (ppb)')"
      ]
     },
     "execution_count": 10,
     "metadata": {},
     "output_type": "execute_result"
    },
    {
     "data": {
      "image/png": "[encoded data removed]",
      "text/plain": [
       "<Figure size 640x480 with 1 Axes>"
      ]
     },
     "metadata": {},
     "output_type": "display_data"
    }
   ],
   "source": [
    "# Simple time-series plot\n",
    "df.plot(x=\"year\", y=\"ppb\")\n",
    "\n",
    "# Set x-y label & range\n",
    "plt.xlabel(\"Year\")\n",
    "plt.ylabel(\"Methane Concentration (ppb)\")"
   ]
  },
  {
   "cell_type": "markdown",
   "id": "22908746",
   "metadata": {},
   "source": [
    "## Observe\n",
    "\n",
    "- Trend in the first plot shows the methane level rises drastically after around 2006 similar to the trend between 1983 and 1993\n",
    "- But if we look closely from the year 2020 onward, the trend gets steeper \n",
    "\n",
    "\n",
    "## What does that mean?\n",
    "- I have so many questions after seeing this graph\n",
    "    - What happened between 1983 and 1993? Was the economy rise drastically? Was the agriculture section expand drastically? Or what exactly did happen during those times?\n",
    "    - And what happened after that (around 1990 - 2010)? Because the methane level seemed to emit less. Was there a big change in society in how they lived?\n",
    "    - Then again after the year 2010, the methane level continues to rise, especially after year 2020. While the green movement gets more intention but why the methane trend is like a rocket shooting up? From which sources are they?\n",
    "    - Etc.\n",
    "    \n",
    "\n",
    "## What's next?\n",
    "\n",
    "However, since this lab is about \"API\". I will leave it here (for now). \n",
    "\n",
    "**For this lab**, the only question I want to know is that:\n",
    "\n",
    "   - **What if the trend/human activities continue like this (since 2020) in the next 10 years?**\n",
    "    \n",
    "   - **How much the methane level could be in the next 10 years?**"
   ]
  },
  {
   "cell_type": "markdown",
   "id": "50759f8b",
   "metadata": {},
   "source": [
    "#### References about methane & climate change\n",
    "- [Methane and climate change](https://www.iea.org/reports/methane-tracker-2021/methane-and-climate-change)\n",
    "- [Importance of Methane](https://www.epa.gov/gmi/importance-methane)\n",
    "- [Methane emissions are driving climate change. Here’s how to reduce them.](https://www.unep.org/news-and-stories/story/methane-emissions-are-driving-climate-change-heres-how-reduce-them)"
   ]
  },
  {
   "cell_type": "markdown",
   "id": "1f63eae6",
   "metadata": {},
   "source": [
    "# Atmosphere methane concentration in thenext decade\n"
   ]
  },
  {
   "cell_type": "code",
   "execution_count": 11,
   "id": "9af10832",
   "metadata": {
    "scrolled": false
   },
   "outputs": [],
   "source": [
    "### Create a linear plot from year 2006 to 2037 (2 decades)\n",
    "\n",
    "# Get dataset to calculate new slope & intercept values\n",
    "df_2006 = df[df['year'] >= 2006].reset_index(drop=True)\n",
    "\n",
    "# Set new x and y\n",
    "x = df_2006['year']\n",
    "y = df_2006['ppb']\n",
    "\n",
    "\n",
    "# Get slope & intercept values\n",
    "slope, intercept, r_value, p_value, stderr = linregress(x, y)\n",
    "\n",
    "# Set new x, y to create a line plot\n",
    "x_pred = pd.Series([i for i in range(2010, 2038)])\n",
    "y_pred = slope*x_pred + intercept # Following simple linear graph (y = mx + c)\n",
    "\n",
    "# Visualize line plot\n",
    "# plt.plot(x_pred, y_pred, 'black')"
   ]
  },
  {
   "cell_type": "code",
   "execution_count": 12,
   "id": "f0b4ab27",
   "metadata": {},
   "outputs": [],
   "source": [
    "### Create a forecast line --> we need new slope & intercept values\n",
    "\n",
    "# Get dataset to calculate new slope & intercept values\n",
    "df_forecast = df[df['year'] >= 2017].reset_index(drop=True)\n",
    "\n",
    "# Set new x and y\n",
    "X_fc = df_forecast['year']\n",
    "y_fc = df_forecast['ppb']\n",
    "\n",
    "# Get slope & intercept values\n",
    "slope_forecast, intercept_forecast, r_value_forecast, p_value_forecast, stderr_forecast = linregress(X_fc, y_fc)\n",
    "\n",
    "# Set new x, y to create a line plot\n",
    "x_forecast = pd.Series([i for i in range(2017, 2038)])\n",
    "y_forecast = slope_forecast*x_forecast + intercept_forecast # Following simple linear graph (y = mx + c)\n",
    "\n",
    "# Visualize line plot\n",
    "# plt.plot(x_forecast, y_forecast, 'red')"
   ]
  },
  {
   "cell_type": "code",
   "execution_count": 13,
   "id": "ebc868c3",
   "metadata": {
    "scrolled": false
   },
   "outputs": [
    {
     "data": {
      "text/plain": [
       "(1980.3, 2040.0)"
      ]
     },
     "execution_count": 13,
     "metadata": {},
     "output_type": "execute_result"
    },
    {
     "data": {
      "image/png": "[encoded data removed]",
      "text/plain": [
       "<Figure size 600x600 with 1 Axes>"
      ]
     },
     "metadata": {},
     "output_type": "display_data"
    }
   ],
   "source": [
    "# All plots in the same plot\n",
    "plt.figure(figsize = (6,6))\n",
    "\n",
    "# Create a scatter plot\n",
    "x = df['year']\n",
    "y = df['ppb']\n",
    "plt.scatter(x, y)\n",
    "\n",
    "# Place the slope from the dataset\n",
    "plt.plot(x_pred, y_pred, 'black')\n",
    "\n",
    "# Place the forecast line \n",
    "plt.plot(x_forecast, y_forecast, 'red')\n",
    "\n",
    "# Set x-y label & range\n",
    "plt.xlabel(\"Year\")\n",
    "plt.ylabel(\"Methane Concentration (ppb)\")\n",
    "plt.xlim([None, 2040])"
   ]
  },
  {
   "cell_type": "markdown",
   "id": "e5ee49d8",
   "metadata": {},
   "source": [
    "\n",
    "## Observe\n",
    "- We can expect that the global methane level could exceed 2,000 ppb by the year of 2030 (7 years from now, I'm not even old yet.)\n",
    "\n",
    "---\n",
    "\n",
    "\n",
    "After seeing this plot, I also have another question:\n",
    "- How close is the methane level to the change in global temperature? How are they related comparing to the amount of CO2?\n",
    "\n",
    "\n",
    "Note:\n",
    "- I'm done with the lab but not done in the sense of this work. \n",
    "- I find working with time-series still problematic for me. I don't understand lots of things about time-series. \n",
    "- I stumped on some article mentioned about 'lag' in the LinearRegression model which I want to understand.\n",
    "- I'll work on this 'time-series' topic more. \n",
    "\n",
    "And here for me to read: \n",
    "- [Forecasting Atmospheric CO2 with Python](https://towardsdatascience.com/forecasting-atmospheric-co2-concentration-with-python-c4a99e4cf142)\n",
    "- [Machine learning-based time series models for effective CO2 emission prediction in India](https://link.springer.com/article/10.1007/s11356-022-21723-8)"
   ]
  },
  {
   "cell_type": "code",
   "execution_count": 14,
   "id": "6250e10b",
   "metadata": {},
   "outputs": [],
   "source": [
    "##### LAB CLOSED THANK YOU! 💖 #####"
   ]
  }
 ],
 "metadata": {
  "kernelspec": {
   "display_name": "Python 3 (ipykernel)",
   "language": "python",
   "name": "python3"
  },
  "language_info": {
   "codemirror_mode": {
    "name": "ipython",
    "version": 3
   },
   "file_extension": ".py",
   "mimetype": "text/x-python",
   "name": "python",
   "nbconvert_exporter": "python",
   "pygments_lexer": "ipython3",
   "version": "3.9.13"
  }
 },
 "nbformat": 4,
 "nbformat_minor": 5
}
