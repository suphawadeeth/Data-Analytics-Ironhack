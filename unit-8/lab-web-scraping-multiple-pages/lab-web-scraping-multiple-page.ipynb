{
 "cells": [
  {
   "cell_type": "markdown",
   "id": "d35d4ac4",
   "metadata": {},
   "source": [
    "<div class=\"alert alert-block alert-warning\">\n",
    "    \n",
    "    \n",
    "<h4>Please scroll down to Lab | Web Scraping Multiple Pages</h4> \n",
    "    \n",
    "    \n",
    "</div>\n",
    "\n"
   ]
  },
  {
   "cell_type": "markdown",
   "id": "fd27d438",
   "metadata": {},
   "source": [
    "# Lab | Web Scraping Single Page\n",
    "### Business goal:\n",
    "- Check the case_study_gnod.md file.\n",
    "\n",
    "- Make sure you've understood the big picture of your project:\n",
    "\n",
    "    - the goal of the company (Gnod),\n",
    "    - their current product (Gnoosic),\n",
    "    - their strategy, and\n",
    "    - how your project fits into this context.\n",
    "    \n",
    "    Re-read the business case and the e-mail from the CTO, take a look at the flowchart and create an initial Trello board with the tasks you think you'll have to accomplish.\n",
    "\n",
    "### Instructions - Scraping popular songs\n",
    "- Your product will take a song as an input from the user and will output another song (the recommendation). In most cases, the recommended song will have to be similar to the inputted song, but the CTO thinks that if the song is on the top charts at the moment, the user will enjoy more a recommendation of a song that's also popular at the moment.\n",
    "\n",
    "- You have find data on the internet about currently popular songs. Billboard maintains a weekly Top 100 of \"hot\" songs here: https://www.billboard.com/charts/hot-100.\n",
    "\n",
    "- It's a good place to start! Scrape the current top 100 songs and their respective artists, and put the information into a pandas dataframe."
   ]
  },
  {
   "cell_type": "markdown",
   "id": "e05a26bc",
   "metadata": {},
   "source": [
    "<div class=\"alert alert-block alert-info\">\n",
    "    \n",
    "    \n",
    "<h1>Objective of this lab:</h1> \n",
    "    \n",
    "    \n",
    "<h5> - Get top 100 songs on Billboard, list into a pandas dataframe</h5>\n",
    "</div>\n",
    "\n"
   ]
  },
  {
   "cell_type": "markdown",
   "id": "06fd1728",
   "metadata": {},
   "source": [
    "# Import libraries"
   ]
  },
  {
   "cell_type": "code",
   "execution_count": 1,
   "id": "307043b3",
   "metadata": {},
   "outputs": [],
   "source": [
    "from bs4 import BeautifulSoup\n",
    "import pandas as pd\n",
    "import requests\n",
    "from urllib.request import urlopen\n",
    "import re"
   ]
  },
  {
   "cell_type": "markdown",
   "id": "c3951900",
   "metadata": {},
   "source": [
    "# Scraping the content from the web"
   ]
  },
  {
   "cell_type": "code",
   "execution_count": 2,
   "id": "9e03aa50",
   "metadata": {},
   "outputs": [],
   "source": [
    "# open url and read the whole url page\n",
    "html = urlopen(\"https://www.billboard.com/charts/hot-100\").read()\n",
    "\n",
    "# Parsing the data into a readable form & assign into a \"soup\" object\n",
    "soup = BeautifulSoup(html, \"html.parser\")"
   ]
  },
  {
   "cell_type": "code",
   "execution_count": 3,
   "id": "b49d11e2",
   "metadata": {
    "scrolled": true
   },
   "outputs": [],
   "source": [
    "# Retrieve all the h3 tag\n",
    "\n",
    "tag = soup(\"h3\")\n",
    "# tag"
   ]
  },
  {
   "cell_type": "code",
   "execution_count": 4,
   "id": "47bdd959",
   "metadata": {},
   "outputs": [],
   "source": [
    "# Class for all the song in the top 100 songs except the top1\n",
    "class_100 = \"c-title a-no-trucate a-font-primary-bold-s u-letter-spacing-0021 lrv-u-font-size-18@tablet lrv-u-font-size-16 u-line-height-125 u-line-height-normal@mobile-max a-truncate-ellipsis u-max-width-330 u-max-width-230@tablet-only\"\n",
    "\n",
    "# Class for the top 1 song\n",
    "class_1 = \"c-title a-no-trucate a-font-primary-bold-s u-letter-spacing-0021 u-font-size-23@tablet lrv-u-font-size-16 u-line-height-125 u-line-height-normal@mobile-max a-truncate-ellipsis u-max-width-245 u-max-width-230@tablet-only u-letter-spacing-0028@tablet\""
   ]
  },
  {
   "cell_type": "code",
   "execution_count": 5,
   "id": "e9df4a96",
   "metadata": {},
   "outputs": [],
   "source": [
    "# Set a list for collecting song title\n",
    "title = []"
   ]
  },
  {
   "cell_type": "code",
   "execution_count": 6,
   "id": "d150644a",
   "metadata": {},
   "outputs": [
    {
     "data": {
      "text/plain": [
       "['\\n\\n\\t\\n\\t\\n\\t\\t\\n\\t\\t\\t\\t\\tLast Night\\t\\t\\n\\t\\n']"
      ]
     },
     "execution_count": 6,
     "metadata": {},
     "output_type": "execute_result"
    }
   ],
   "source": [
    "# Retrieve the top 1 song\n",
    "song_1 = soup.find_all(\"h3\", attrs={\"class\": class_1})\n",
    "\n",
    "# Get the name of the song\n",
    "title_1 = song_1[0].get_text()\n",
    "\n",
    "# Append the top 1 song into the list\n",
    "title.append(title_1)\n",
    "title"
   ]
  },
  {
   "cell_type": "code",
   "execution_count": 7,
   "id": "6f665c9e",
   "metadata": {},
   "outputs": [],
   "source": [
    "# Retrieve the top 100 song (except the top1)\n",
    "song_100 = soup.find_all(\"h3\", attrs={\"class\": class_100})\n",
    "\n",
    "# Get the name of the song for all songs in this class_100 & append in the same list above\n",
    "for i in range(len(song_100)):\n",
    "    title.append(song_100[i].get_text())"
   ]
  },
  {
   "cell_type": "code",
   "execution_count": 8,
   "id": "2d7c0d0e",
   "metadata": {
    "scrolled": true
   },
   "outputs": [],
   "source": [
    "# Check the list\n",
    "# title"
   ]
  },
  {
   "cell_type": "markdown",
   "id": "49035a38",
   "metadata": {},
   "source": [
    "- We see all the whitespace pattern before and after the title (string)\n",
    "- Remove them using regex"
   ]
  },
  {
   "cell_type": "code",
   "execution_count": 9,
   "id": "79367bd0",
   "metadata": {},
   "outputs": [],
   "source": [
    "# Regex for finding all whitespace & other unicode characters\n",
    "pattern = re.compile(\"^\\s+$\")\n",
    "\n",
    "# Iterates through the list \"title\" \n",
    "# and strip() removes/trims all the the whitespace from string and put it into a list []\n",
    "title = [item.strip() for item in title if not pattern.match(item)]\n",
    "# title"
   ]
  },
  {
   "cell_type": "markdown",
   "id": "12140b56",
   "metadata": {},
   "source": [
    "#### What does the script above do?\n",
    "\n",
    "- Note: Need a little explanation for myself\n",
    "\n",
    "**Regular Expression**:\n",
    "\n",
    "   ^ --> start with \n",
    "   \n",
    "   \\s --> matches a whitespace (blank, tab \\t, and newline \\r or \\n)\n",
    "   \n",
    "   \"+\" --> one or more \n",
    "   \n",
    "   $ --> end of string\n",
    "   \n",
    "\n",
    "---\n",
    "\\s\n",
    "For Unicode (str) patterns:\n",
    "Matches Unicode whitespace characters (which includes [ \\t\\n\\r\\f\\v], and also many other characters, for example the non-breaking spaces mandated by typography rules in many languages). If the ASCII flag is used, only [ \\t\\n\\r\\f\\v] is matched.\n",
    "\n",
    "For 8-bit (bytes) patterns:\n",
    "Matches characters considered whitespace in the ASCII character set; this is equivalent to [ \\t\\n\\r\\f\\v].\n",
    "\n",
    "- [Ref](https://docs.python.org/3/library/re.html): https://docs.python.org/3/library/re.html\n",
    "---\n",
    "\n",
    "\n",
    "\n",
    "\n",
    "\n",
    "#### For Loop:\n",
    "**[item.strip() for item in title if not regex.match(item)]**\n",
    "\n",
    "- It iterates through the list \"title\" and strip() removes all the the white space from string and put it into a  list []\n",
    "\n",
    "\n",
    "- The loop can be written (in the way that easy to understand) as follow:\n",
    "\n",
    "```\n",
    "for item in title:\n",
    "    if not pattern.match(item):\n",
    "        title.append(item.strip()) \n",
    "\n",
    "```\n",
    "\n",
    "\n",
    "##### Some functions:\n",
    "\n",
    "- match() - to find the match string and return the first occurence\n",
    "- [re.compile()](https://pynative.com/python-regex-compile/) - method is used to compile a regular expression pattern provided as a string into a regex pattern object "
   ]
  },
  {
   "cell_type": "markdown",
   "id": "5f686e65",
   "metadata": {},
   "source": [
    "## Get Artists Name"
   ]
  },
  {
   "cell_type": "code",
   "execution_count": 10,
   "id": "faf9db93",
   "metadata": {},
   "outputs": [],
   "source": [
    "# Retrieve all the span tag\n",
    "\n",
    "span_tage = soup(\"span\")\n",
    "# span_tage"
   ]
  },
  {
   "cell_type": "code",
   "execution_count": 11,
   "id": "9498a063",
   "metadata": {},
   "outputs": [],
   "source": [
    "# We'll get artist name in these classes\n",
    "class_artist_1 = \"c-label a-no-trucate a-font-primary-s lrv-u-font-size-14@mobile-max u-line-height-normal@mobile-max u-letter-spacing-0021 lrv-u-display-block a-truncate-ellipsis-2line u-max-width-330 u-max-width-230@tablet-only u-font-size-20@tablet\"\n",
    "\n",
    "class_artist_100 = \"c-label a-no-trucate a-font-primary-s lrv-u-font-size-14@mobile-max u-line-height-normal@mobile-max u-letter-spacing-0021 lrv-u-display-block a-truncate-ellipsis-2line u-max-width-330 u-max-width-230@tablet-only\""
   ]
  },
  {
   "cell_type": "code",
   "execution_count": 12,
   "id": "9b470305",
   "metadata": {},
   "outputs": [
    {
     "data": {
      "text/plain": [
       "['\\n\\t\\n\\tMorgan Wallen\\n']"
      ]
     },
     "execution_count": 12,
     "metadata": {},
     "output_type": "execute_result"
    }
   ],
   "source": [
    "# Set a list for collecting artist \n",
    "artist = []\n",
    "\n",
    "# Retrieve the top 1 artist\n",
    "artist_1 = soup.find_all(\"span\", attrs={\"class\": class_artist_1})\n",
    "\n",
    "# Get the name of the artist\n",
    "artist_name_1 = artist_1[0].get_text()\n",
    "\n",
    "# Append the top 1 artist into the list\n",
    "artist.append(artist_name_1)\n",
    "artist"
   ]
  },
  {
   "cell_type": "code",
   "execution_count": 13,
   "id": "ef70a184",
   "metadata": {},
   "outputs": [],
   "source": [
    "# Retrieve the top 100 song (except the top1)\n",
    "artist_100 = soup.find_all(\"span\", attrs={\"class\": class_artist_100})\n",
    "\n",
    "# Get the name of the song for all songs in this class_100 & append in the same list above\n",
    "for j in range(len(artist_100)):\n",
    "    artist.append(artist_100[j].get_text())\n",
    "\n",
    "# Check the list\n",
    "# artist"
   ]
  },
  {
   "cell_type": "code",
   "execution_count": 14,
   "id": "d158b56a",
   "metadata": {},
   "outputs": [],
   "source": [
    "# Remove \\n\\t characters\n",
    "artist = [name.strip() for name in artist if not pattern.match(name)]\n",
    "# artist"
   ]
  },
  {
   "cell_type": "markdown",
   "id": "b6d5edd3",
   "metadata": {},
   "source": [
    "# Billboard Hot 100"
   ]
  },
  {
   "cell_type": "code",
   "execution_count": 15,
   "id": "3ad5b1f5",
   "metadata": {},
   "outputs": [
    {
     "data": {
      "text/html": [
       "<div>\n",
       "<style scoped>\n",
       "    .dataframe tbody tr th:only-of-type {\n",
       "        vertical-align: middle;\n",
       "    }\n",
       "\n",
       "    .dataframe tbody tr th {\n",
       "        vertical-align: top;\n",
       "    }\n",
       "\n",
       "    .dataframe thead th {\n",
       "        text-align: right;\n",
       "    }\n",
       "</style>\n",
       "<table border=\"1\" class=\"dataframe\">\n",
       "  <thead>\n",
       "    <tr style=\"text-align: right;\">\n",
       "      <th></th>\n",
       "      <th>Song</th>\n",
       "      <th>Artist</th>\n",
       "    </tr>\n",
       "  </thead>\n",
       "  <tbody>\n",
       "    <tr>\n",
       "      <th>0</th>\n",
       "      <td>Last Night</td>\n",
       "      <td>Morgan Wallen</td>\n",
       "    </tr>\n",
       "    <tr>\n",
       "      <th>1</th>\n",
       "      <td>Flowers</td>\n",
       "      <td>Miley Cyrus</td>\n",
       "    </tr>\n",
       "    <tr>\n",
       "      <th>2</th>\n",
       "      <td>Fast Car</td>\n",
       "      <td>Luke Combs</td>\n",
       "    </tr>\n",
       "    <tr>\n",
       "      <th>3</th>\n",
       "      <td>Calm Down</td>\n",
       "      <td>Rema &amp; Selena Gomez</td>\n",
       "    </tr>\n",
       "    <tr>\n",
       "      <th>4</th>\n",
       "      <td>All My Life</td>\n",
       "      <td>Lil Durk Featuring J. Cole</td>\n",
       "    </tr>\n",
       "    <tr>\n",
       "      <th>...</th>\n",
       "      <td>...</td>\n",
       "      <td>...</td>\n",
       "    </tr>\n",
       "    <tr>\n",
       "      <th>95</th>\n",
       "      <td>Save Me</td>\n",
       "      <td>Jelly Roll With Lainey Wilson</td>\n",
       "    </tr>\n",
       "    <tr>\n",
       "      <th>96</th>\n",
       "      <td>Yandel 150</td>\n",
       "      <td>Yandel &amp; Feid</td>\n",
       "    </tr>\n",
       "    <tr>\n",
       "      <th>97</th>\n",
       "      <td>Beso</td>\n",
       "      <td>Rosalia &amp; Rauw Alejandro</td>\n",
       "    </tr>\n",
       "    <tr>\n",
       "      <th>98</th>\n",
       "      <td>I Wrote The Book</td>\n",
       "      <td>Morgan Wallen</td>\n",
       "    </tr>\n",
       "    <tr>\n",
       "      <th>99</th>\n",
       "      <td>Hummingbird</td>\n",
       "      <td>Metro Boomin &amp; James Blake</td>\n",
       "    </tr>\n",
       "  </tbody>\n",
       "</table>\n",
       "<p>100 rows × 2 columns</p>\n",
       "</div>"
      ],
      "text/plain": [
       "                Song                         Artist\n",
       "0         Last Night                  Morgan Wallen\n",
       "1            Flowers                    Miley Cyrus\n",
       "2           Fast Car                     Luke Combs\n",
       "3          Calm Down            Rema & Selena Gomez\n",
       "4        All My Life     Lil Durk Featuring J. Cole\n",
       "..               ...                            ...\n",
       "95           Save Me  Jelly Roll With Lainey Wilson\n",
       "96        Yandel 150                  Yandel & Feid\n",
       "97              Beso       Rosalia & Rauw Alejandro\n",
       "98  I Wrote The Book                  Morgan Wallen\n",
       "99       Hummingbird     Metro Boomin & James Blake\n",
       "\n",
       "[100 rows x 2 columns]"
      ]
     },
     "execution_count": 15,
     "metadata": {},
     "output_type": "execute_result"
    }
   ],
   "source": [
    "# Put data into a pandas dataframe\n",
    "df = pd.DataFrame({\"Song\": title, \"Artist\": artist})\n",
    "df"
   ]
  },
  {
   "cell_type": "markdown",
   "id": "a45eaf0a",
   "metadata": {},
   "source": [
    "### Sources:\n",
    "#### About requests.get()\n",
    "   - [GET and POST Requests Using Python](https://www.geeksforgeeks.org/get-post-requests-using-python/)\n",
    "   - [Python requests: GET Request Explained](https://datagy.io/python-requests-get-request/)\n",
    "   - [Python Requests get() Method](https://www.w3schools.com/python/ref_requests_get.asp)\n",
    "   \n",
    "\n",
    "#### Web Scraping\n",
    "   - [BeautifulSoup Guide: Scraping HTML Pages With Python](https://scrapeops.io/python-web-scraping-playbook/python-beautifulsoup-web-scraping/)\n",
    "   \n",
    "\n",
    "#### Regular Express Cheat Sheet\n",
    "   - [RegEX cheatsheet](https://quickref.me/regex.html)\n",
    "   - [re.compile()](https://pynative.com/python-regex-compile/) - method is used to compile a regular expression pattern provided as a string into a regex pattern object \n",
    "   - [Removing \\n\\t from string](https://stackoverflow.com/questions/47953523/remove-an-n-t-t-t-element-from-list)"
   ]
  },
  {
   "cell_type": "markdown",
   "id": "73d080ad",
   "metadata": {},
   "source": [
    "<div class=\"alert alert-block alert-success\">\n",
    "    \n",
    "<h1>Lab | Web Scraping Multiple Pages</h1> \n",
    "    \n",
    "<h3>Objective of this lab:</h3> \n",
    "    \n",
    "    \n",
    "<h5> - Get more songs from different sources and list them into the same pandas dataframe from previous lab</h5>\n",
    "</div>\n"
   ]
  },
  {
   "cell_type": "markdown",
   "id": "c50e8465",
   "metadata": {},
   "source": [
    "### Instructions\n",
    "Prioritize the MVP\n",
    "In the previous lab, you had to scrape data about \"hot songs\". It's critical to be on track with that part, as it was part of the request from the CTO.\n",
    "\n",
    "If you couldn't finish the first lab, use this time to go back there.\n",
    "\n",
    "### Expand the project\n",
    "If you're done, you can try to expand the project on your own. Here are a few suggestions:\n",
    "\n",
    "- Find other lists of hot songs on the internet and scrape them too: having a bigger pool of songs will be awesome!\n",
    "- Apply the same logic to other \"groups\" of songs: the best songs from a decade or from a country / culture / language / genre.\n",
    "- Wikipedia maintains a large collection of lists of songs: https://en.wikipedia.org/wiki/Lists_of_songs\n",
    "\n",
    "### Practice web scraping\n",
    "As you've seen, scraping the internet is a skill that can get you all sorts of information. Here are some little challenges that you can try to gain more experience in the field:\n",
    "\n",
    "\n",
    "- Retrieve an arbitrary Wikipedia page of \"Python\" and create a list of links on that page: url ='https://en.wikipedia.org/wiki/Python'\n",
    "- Find the number of titles that have changed in the United States Code since its last release point: url = 'http://uscode.house.gov/download/download.shtml'\n",
    "- Create a Python list with the top ten FBI's Most Wanted names: url = 'https://www.fbi.gov/wanted/topten'\n",
    "- Display the 20 latest earthquakes info (date, time, latitude, longitude and region name) by the EMSC as a pandas dataframe: url = 'https://www.emsc-csem.org/Earthquake/'\n",
    "- List all language names and number of related articles in the order they appear in wikipedia.org: url = 'https://www.wikipedia.org/'\n",
    "- A list with the different kind of datasets available in data.gov.uk: url = 'https://data.gov.uk/'\n",
    "- Display the top 10 languages by number of native speakers stored in a pandas dataframe: url = 'https://en.wikipedia.org/wiki/List_of_languages_by_number_of_native_speakers'"
   ]
  },
  {
   "cell_type": "code",
   "execution_count": 16,
   "id": "1ea9a375",
   "metadata": {},
   "outputs": [],
   "source": [
    "import requests as r\n",
    "\n",
    "# Send a request to a web page\n",
    "\n",
    "youtube = r.get(\"https://charts.youtube.com/charts/TopSongs/global\")\n",
    "spotify = r.get(\"https://kworb.net/spotify/country/global_weekly_totals.html\")\n",
    "itunes = r.get(\"https://kworb.net/ww/\")\n",
    "apple = r.get(\"https://kworb.net/apple_songs/\")\n",
    "rollingstone = r.get(\"https://www.rollingstone.com/music/music-lists/best-songs-of-2023-so-far-1234766821/\")"
   ]
  },
  {
   "cell_type": "code",
   "execution_count": 17,
   "id": "65cc8173",
   "metadata": {},
   "outputs": [
    {
     "name": "stdout",
     "output_type": "stream",
     "text": [
      "youtube status: 200\n",
      "spotify status: 200\n",
      "itunes status: 200\n",
      "apple status: 200\n",
      "rollingstone status: 200\n"
     ]
    }
   ],
   "source": [
    "# Return the status code after sending request\n",
    "\n",
    "web = {\"youtube\": youtube, \"spotify\": spotify, \"itunes\": itunes, \"apple\": apple, \"rollingstone\": rollingstone}\n",
    "for k, v in web.items():\n",
    "    print(k, \"status:\", v.status_code)"
   ]
  },
  {
   "cell_type": "markdown",
   "id": "cae5720d",
   "metadata": {},
   "source": [
    "- Status-code 200: Everything went okay and the result has been returned (if any)"
   ]
  },
  {
   "cell_type": "code",
   "execution_count": 18,
   "id": "6af0579a",
   "metadata": {},
   "outputs": [],
   "source": [
    "# Parsing the data into a readable form\n",
    "yt = BeautifulSoup(youtube.content, \"html.parser\")\n",
    "sptf = BeautifulSoup(spotify.content, \"html.parser\") \n",
    "itun = BeautifulSoup(itunes.content, \"html.parser\")\n",
    "appl = BeautifulSoup(apple.content, \"html.parser\")\n",
    "rlst = BeautifulSoup(rollingstone.content, \"html.parser\")"
   ]
  },
  {
   "cell_type": "markdown",
   "id": "00de4e64",
   "metadata": {},
   "source": [
    " - I went over all the webs above. I can't retrieve data from youtube and rollingstone.\n",
    " - For the time I have, I decided to do one web from above which is itun (& the song list is similar to apple).\n",
    " - And I also do multiple page from npr.com (see script below)"
   ]
  },
  {
   "cell_type": "markdown",
   "id": "b1ad8ad4",
   "metadata": {},
   "source": [
    "# Itunes"
   ]
  },
  {
   "cell_type": "code",
   "execution_count": 19,
   "id": "f256ed58",
   "metadata": {},
   "outputs": [],
   "source": [
    "# Find all song title & artist in the list\n",
    "itun_200 = itun.find_all('td', attrs={\"class\": \"mp text\"})"
   ]
  },
  {
   "cell_type": "code",
   "execution_count": 20,
   "id": "9248bbdf",
   "metadata": {},
   "outputs": [],
   "source": [
    "# Put them in a list\n",
    "itun_list = []\n",
    "for i in range(len(itun_200)):\n",
    "    itun_list.append(itun_200[i].get_text())\n",
    "\n",
    "# itun_list"
   ]
  },
  {
   "cell_type": "code",
   "execution_count": 21,
   "id": "8efc380f",
   "metadata": {},
   "outputs": [],
   "source": [
    "# Separate song title from artist name\n",
    "a = []\n",
    "itun_title = []\n",
    "itun_artist = []\n",
    "\n",
    "for j in range(len(itun_list)):\n",
    "    a.append(itun_list[j].split(\" - \"))\n",
    "\n",
    "for element in a:\n",
    "    itun_title.append(element[1])\n",
    "    itun_artist.append(element[0])"
   ]
  },
  {
   "cell_type": "code",
   "execution_count": 22,
   "id": "fdc8c3e5",
   "metadata": {},
   "outputs": [
    {
     "name": "stdout",
     "output_type": "stream",
     "text": [
      "Total 200 songs\n"
     ]
    }
   ],
   "source": [
    "# Put song list into a dataframe\n",
    "itun_df = pd.DataFrame({\"Song\": itun_title, \"Artist\": itun_artist})\n",
    "itun_df.head()\n",
    "print(\"Total\", len(itun_df), \"songs\")"
   ]
  },
  {
   "cell_type": "code",
   "execution_count": 23,
   "id": "6954ba25",
   "metadata": {},
   "outputs": [
    {
     "name": "stdout",
     "output_type": "stream",
     "text": [
      "Total 300 songs\n"
     ]
    }
   ],
   "source": [
    "# Pool all songs in one dataframe (billboard + itunes)\n",
    "df = pd.concat([df, itun_df])\n",
    "print(\"Total\", len(df), \"songs\")"
   ]
  },
  {
   "cell_type": "markdown",
   "id": "7bc1d189",
   "metadata": {},
   "source": [
    "# NPR (multiple page)"
   ]
  },
  {
   "cell_type": "code",
   "execution_count": 24,
   "id": "2c64bfca",
   "metadata": {},
   "outputs": [],
   "source": [
    "import time\n",
    "\n",
    "# time.sleep(15)\n",
    "html_lst = []\n",
    "npr_list = []\n",
    "pages = [1, 2, 3, 4, 5]\n",
    "digit = [2083, 2978, 3422, 3900, 4266]\n",
    "\n",
    "for (di, page) in zip(digit, pages):\n",
    "    npr_req_get = r.get(f'https://www.npr.org/2022/12/15/113580{di}/100-best-songs-2022-page-{page}')\n",
    "    npr_soup = BeautifulSoup(npr_req_get.content, 'html.parser')\n",
    "    songs = npr_soup.find_all('h3', attrs={\"class\": \"edTag\"})\n",
    "    html_lst.append(songs)\n",
    "    \n",
    "    for m in range(len(songs)):\n",
    "        npr_list.append(songs[m].get_text())\n",
    "\n",
    "    time.sleep(15)\n",
    "\n",
    "# html_lst"
   ]
  },
  {
   "cell_type": "code",
   "execution_count": 25,
   "id": "1b202861",
   "metadata": {},
   "outputs": [],
   "source": [
    "# Separate song title and artist into different lists\n",
    "npr_artist = []\n",
    "npr_title = []\n",
    "\n",
    "for q in range(0, len(npr_list)):\n",
    "    if q % 2:\n",
    "        npr_title.append(npr_list[q])\n",
    "    else:\n",
    "        npr_artist.append(npr_list[q])\n"
   ]
  },
  {
   "cell_type": "code",
   "execution_count": 26,
   "id": "aa5298bf",
   "metadata": {},
   "outputs": [],
   "source": [
    "# Remove some characters from song title list\n",
    "npr_correct_title = []\n",
    "for ti in range(len(npr_title)):\n",
    "    npr_correct_title.append(npr_title[ti].strip('\"').replace('\" ', ''))\n",
    "\n",
    "# Remove some characters from artist list\n",
    "npr_correct_artist = []\n",
    "for ar in range(len(npr_artist)):\n",
    "    npr_correct_artist.append(npr_artist[ar].strip('\"').replace('\" ', ''))"
   ]
  },
  {
   "cell_type": "code",
   "execution_count": 27,
   "id": "d99fc66b",
   "metadata": {},
   "outputs": [
    {
     "data": {
      "text/html": [
       "<div>\n",
       "<style scoped>\n",
       "    .dataframe tbody tr th:only-of-type {\n",
       "        vertical-align: middle;\n",
       "    }\n",
       "\n",
       "    .dataframe tbody tr th {\n",
       "        vertical-align: top;\n",
       "    }\n",
       "\n",
       "    .dataframe thead th {\n",
       "        text-align: right;\n",
       "    }\n",
       "</style>\n",
       "<table border=\"1\" class=\"dataframe\">\n",
       "  <thead>\n",
       "    <tr style=\"text-align: right;\">\n",
       "      <th></th>\n",
       "      <th>Song</th>\n",
       "      <th>Artist</th>\n",
       "    </tr>\n",
       "  </thead>\n",
       "  <tbody>\n",
       "    <tr>\n",
       "      <th>0</th>\n",
       "      <td>Gorilla</td>\n",
       "      <td>Little Simz</td>\n",
       "    </tr>\n",
       "    <tr>\n",
       "      <th>1</th>\n",
       "      <td>Attention For It Radiates</td>\n",
       "      <td>Ian William Craig</td>\n",
       "    </tr>\n",
       "    <tr>\n",
       "      <th>2</th>\n",
       "      <td>Leave It Alone (Remix)</td>\n",
       "      <td>Viking Ding Dong x Ravi B</td>\n",
       "    </tr>\n",
       "    <tr>\n",
       "      <th>3</th>\n",
       "      <td>Middle of a Heart</td>\n",
       "      <td>Adeem the Artist</td>\n",
       "    </tr>\n",
       "    <tr>\n",
       "      <th>4</th>\n",
       "      <td>Shakedhat</td>\n",
       "      <td>Zahsosaa, D STURDY &amp; DJ Crazy</td>\n",
       "    </tr>\n",
       "    <tr>\n",
       "      <th>...</th>\n",
       "      <td>...</td>\n",
       "      <td>...</td>\n",
       "    </tr>\n",
       "    <tr>\n",
       "      <th>97</th>\n",
       "      <td>SAOKO</td>\n",
       "      <td>ROSALÍA</td>\n",
       "    </tr>\n",
       "    <tr>\n",
       "      <th>98</th>\n",
       "      <td>Runner</td>\n",
       "      <td>Alex G</td>\n",
       "    </tr>\n",
       "    <tr>\n",
       "      <th>99</th>\n",
       "      <td>El Apagón</td>\n",
       "      <td>Bad Bunny</td>\n",
       "    </tr>\n",
       "    <tr>\n",
       "      <th>100</th>\n",
       "      <td>ALIEN SUPERSTAR</td>\n",
       "      <td>Beyoncé</td>\n",
       "    </tr>\n",
       "    <tr>\n",
       "      <th>101</th>\n",
       "      <td>F.N.F. (Let's Go)</td>\n",
       "      <td>Hitkidd &amp; GloRilla</td>\n",
       "    </tr>\n",
       "  </tbody>\n",
       "</table>\n",
       "<p>102 rows × 2 columns</p>\n",
       "</div>"
      ],
      "text/plain": [
       "                          Song                         Artist\n",
       "0                      Gorilla                    Little Simz\n",
       "1    Attention For It Radiates              Ian William Craig\n",
       "2       Leave It Alone (Remix)      Viking Ding Dong x Ravi B\n",
       "3            Middle of a Heart               Adeem the Artist\n",
       "4                    Shakedhat  Zahsosaa, D STURDY & DJ Crazy\n",
       "..                         ...                            ...\n",
       "97                       SAOKO                        ROSALÍA\n",
       "98                      Runner                         Alex G\n",
       "99                   El Apagón                      Bad Bunny\n",
       "100            ALIEN SUPERSTAR                        Beyoncé\n",
       "101          F.N.F. (Let's Go)             Hitkidd & GloRilla\n",
       "\n",
       "[102 rows x 2 columns]"
      ]
     },
     "execution_count": 27,
     "metadata": {},
     "output_type": "execute_result"
    }
   ],
   "source": [
    "npr_df = pd.DataFrame({\"Song\": npr_correct_title, \"Artist\": npr_correct_artist})\n",
    "npr_df"
   ]
  },
  {
   "cell_type": "markdown",
   "id": "cd9d8fde",
   "metadata": {},
   "source": [
    "- There are 2 extra rows\n",
    "- How can I find out which of them are not song?"
   ]
  },
  {
   "cell_type": "code",
   "execution_count": 28,
   "id": "7e36dcc2",
   "metadata": {},
   "outputs": [],
   "source": [
    "# pd.set_option('display.max_rows', None)"
   ]
  },
  {
   "cell_type": "code",
   "execution_count": 29,
   "id": "fa51463c",
   "metadata": {},
   "outputs": [],
   "source": [
    "# npr_df"
   ]
  },
  {
   "cell_type": "code",
   "execution_count": 30,
   "id": "c337c7e9",
   "metadata": {},
   "outputs": [
    {
     "name": "stdout",
     "output_type": "stream",
     "text": [
      "Total 402 songs\n"
     ]
    },
    {
     "data": {
      "text/html": [
       "<div>\n",
       "<style scoped>\n",
       "    .dataframe tbody tr th:only-of-type {\n",
       "        vertical-align: middle;\n",
       "    }\n",
       "\n",
       "    .dataframe tbody tr th {\n",
       "        vertical-align: top;\n",
       "    }\n",
       "\n",
       "    .dataframe thead th {\n",
       "        text-align: right;\n",
       "    }\n",
       "</style>\n",
       "<table border=\"1\" class=\"dataframe\">\n",
       "  <thead>\n",
       "    <tr style=\"text-align: right;\">\n",
       "      <th></th>\n",
       "      <th>Song</th>\n",
       "      <th>Artist</th>\n",
       "    </tr>\n",
       "  </thead>\n",
       "  <tbody>\n",
       "    <tr>\n",
       "      <th>0</th>\n",
       "      <td>Last Night</td>\n",
       "      <td>Morgan Wallen</td>\n",
       "    </tr>\n",
       "    <tr>\n",
       "      <th>1</th>\n",
       "      <td>Flowers</td>\n",
       "      <td>Miley Cyrus</td>\n",
       "    </tr>\n",
       "    <tr>\n",
       "      <th>2</th>\n",
       "      <td>Fast Car</td>\n",
       "      <td>Luke Combs</td>\n",
       "    </tr>\n",
       "    <tr>\n",
       "      <th>3</th>\n",
       "      <td>Calm Down</td>\n",
       "      <td>Rema &amp; Selena Gomez</td>\n",
       "    </tr>\n",
       "    <tr>\n",
       "      <th>4</th>\n",
       "      <td>All My Life</td>\n",
       "      <td>Lil Durk Featuring J. Cole</td>\n",
       "    </tr>\n",
       "    <tr>\n",
       "      <th>...</th>\n",
       "      <td>...</td>\n",
       "      <td>...</td>\n",
       "    </tr>\n",
       "    <tr>\n",
       "      <th>397</th>\n",
       "      <td>SAOKO</td>\n",
       "      <td>ROSALÍA</td>\n",
       "    </tr>\n",
       "    <tr>\n",
       "      <th>398</th>\n",
       "      <td>Runner</td>\n",
       "      <td>Alex G</td>\n",
       "    </tr>\n",
       "    <tr>\n",
       "      <th>399</th>\n",
       "      <td>El Apagón</td>\n",
       "      <td>Bad Bunny</td>\n",
       "    </tr>\n",
       "    <tr>\n",
       "      <th>400</th>\n",
       "      <td>ALIEN SUPERSTAR</td>\n",
       "      <td>Beyoncé</td>\n",
       "    </tr>\n",
       "    <tr>\n",
       "      <th>401</th>\n",
       "      <td>F.N.F. (Let's Go)</td>\n",
       "      <td>Hitkidd &amp; GloRilla</td>\n",
       "    </tr>\n",
       "  </tbody>\n",
       "</table>\n",
       "<p>402 rows × 2 columns</p>\n",
       "</div>"
      ],
      "text/plain": [
       "                  Song                      Artist\n",
       "0           Last Night               Morgan Wallen\n",
       "1              Flowers                 Miley Cyrus\n",
       "2             Fast Car                  Luke Combs\n",
       "3            Calm Down         Rema & Selena Gomez\n",
       "4          All My Life  Lil Durk Featuring J. Cole\n",
       "..                 ...                         ...\n",
       "397              SAOKO                     ROSALÍA\n",
       "398             Runner                      Alex G\n",
       "399          El Apagón                   Bad Bunny\n",
       "400    ALIEN SUPERSTAR                     Beyoncé\n",
       "401  F.N.F. (Let's Go)          Hitkidd & GloRilla\n",
       "\n",
       "[402 rows x 2 columns]"
      ]
     },
     "execution_count": 30,
     "metadata": {},
     "output_type": "execute_result"
    }
   ],
   "source": [
    "# Concat into one dataframe\n",
    "df = pd.concat([df, npr_df]).reset_index(drop=True)\n",
    "print(\"Total\", len(df), \"songs\")\n",
    "df"
   ]
  },
  {
   "cell_type": "markdown",
   "id": "9a45d819",
   "metadata": {},
   "source": [
    "### Next step\n",
    "- Check for duplication song\n",
    "\n",
    "### Note\n",
    "- I learned later that we have .get_text(strip=True) function to get cleaned, nice string. We don't need extra work for that."
   ]
  },
  {
   "cell_type": "code",
   "execution_count": null,
   "id": "8c96647f",
   "metadata": {},
   "outputs": [],
   "source": []
  }
 ],
 "metadata": {
  "kernelspec": {
   "display_name": "Python 3 (ipykernel)",
   "language": "python",
   "name": "python3"
  },
  "language_info": {
   "codemirror_mode": {
    "name": "ipython",
    "version": 3
   },
   "file_extension": ".py",
   "mimetype": "text/x-python",
   "name": "python",
   "nbconvert_exporter": "python",
   "pygments_lexer": "ipython3",
   "version": "3.9.13"
  }
 },
 "nbformat": 4,
 "nbformat_minor": 5
}
