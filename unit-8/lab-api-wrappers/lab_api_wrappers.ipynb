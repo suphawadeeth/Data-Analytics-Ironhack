{
 "cells": [
  {
   "cell_type": "markdown",
   "metadata": {},
   "source": [
    "# Lab | API wrappers - Create your collection of songs & audio features\n",
    "### Instructions\n",
    "To move forward with the project, you need to create a collection of songs with their audio features - as large as possible!\n",
    "\n",
    "These are the songs that we will cluster. And, later, when the user inputs a song, we will find the cluster to which the song belongs and recommend a song from the same cluster. The more songs you have, the more accurate and diverse recommendations you'll be able to give. Although... you might want to make sure the collected songs are \"curated\" in a certain way. Try to find playlists of songs that are diverse, but also that meet certain standards.\n",
    "\n",
    "The process of sending hundreds or thousands of requests can take some time - it's normal if you have to wait a few minutes (or, if you're ambitious, even hours) to get all the data you need.\n",
    "\n",
    "An idea for collecting as many songs as possible is to start with all the songs of a big, diverse playlist and then go to every artist present in the playlist and grab every song of every album of that artist. The amount of songs you'll be collecting per playlist will grow exponentially!"
   ]
  },
  {
   "cell_type": "code",
   "execution_count": 1,
   "metadata": {
    "scrolled": true
   },
   "outputs": [],
   "source": [
    "import spotipy\n",
    "from spotipy.oauth2 import SpotifyClientCredentials\n",
    "import pandas as pd"
   ]
  },
  {
   "cell_type": "code",
   "execution_count": 2,
   "metadata": {},
   "outputs": [],
   "source": [
    "#Initialize SpotiPy with user credentias\n",
    "sp = spotipy.Spotify(auth_manager=SpotifyClientCredentials(client_id=\"af3a4e21d9974f798b0ddef081728f2b\",\n",
    "                                                           client_secret=\"99a65d20eff04d64bcf24b11824dffc4\"))\n"
   ]
  },
  {
   "cell_type": "markdown",
   "metadata": {},
   "source": [
    "# Get the playlist"
   ]
  },
  {
   "cell_type": "code",
   "execution_count": 3,
   "metadata": {
    "scrolled": true
   },
   "outputs": [],
   "source": [
    "playlist = sp.user_playlist_tracks(\"spotify\", \"5fo41o54DPTvdPO2uMTDH1\")\n",
    "# playlist#.keys() "
   ]
  },
  {
   "cell_type": "code",
   "execution_count": 4,
   "metadata": {},
   "outputs": [
    {
     "data": {
      "text/plain": [
       "249"
      ]
     },
     "execution_count": 4,
     "metadata": {},
     "output_type": "execute_result"
    }
   ],
   "source": [
    "# Number of songs in the playlist\n",
    "playlist[\"total\"]"
   ]
  },
  {
   "cell_type": "code",
   "execution_count": 5,
   "metadata": {},
   "outputs": [
    {
     "data": {
      "text/plain": [
       "100"
      ]
     },
     "execution_count": 5,
     "metadata": {},
     "output_type": "execute_result"
    }
   ],
   "source": [
    "# We can only retrieve 100 songs of this playlist\n",
    "len(playlist[\"items\"]) "
   ]
  },
  {
   "cell_type": "markdown",
   "metadata": {},
   "source": [
    "- Since the default limitation when callint ['item'] is 100 \n",
    "- But we want to get all 249 songs inside this playlist"
   ]
  },
  {
   "cell_type": "markdown",
   "metadata": {},
   "source": [
    "# Get all tracks in the playlist\n",
    "- Since the limit is 100\n",
    "- We can use while loop to get more tracks \n",
    "\n",
    "[Ref.](https://stackoverflow.com/questions/39086287/spotipy-how-to-read-more-than-100-tracks-from-a-playlist)\n",
    "\n",
    "---\n",
    "\n",
    "#### Info that might help you navegate through the API\n",
    "\n",
    "- results[\"tracks\"][\"limit\"] #Limit we have chosen\n",
    "\n",
    "- results[\"tracks\"][\"next\"] #link to the next page (next 50 tracks)\n",
    "\n",
    "- results[\"tracks\"][\"offset\"] # Actual offset (starting point)\n",
    "\n",
    "- results[\"tracks\"][\"previous\"] #Previous search\n",
    "\n",
    "- results[\"tracks\"][\"total\"] # Number of matches\n",
    "\n",
    "---"
   ]
  },
  {
   "cell_type": "code",
   "execution_count": 6,
   "metadata": {},
   "outputs": [],
   "source": [
    "# While loop to get all tracks\n",
    "def get_playlist_tracks(username, playlist_id):\n",
    "    results = sp.user_playlist_tracks(username, playlist_id)\n",
    "    tracks = results['items']\n",
    "    while results['next']:\n",
    "        results = sp.next(results)\n",
    "        tracks.extend(results['items'])\n",
    "    return tracks\n",
    "\n",
    "all_tracks = get_playlist_tracks(\"spotify\", \"5fo41o54DPTvdPO2uMTDH1\")\n",
    "# all_tracks"
   ]
  },
  {
   "cell_type": "code",
   "execution_count": 7,
   "metadata": {},
   "outputs": [
    {
     "data": {
      "text/plain": [
       "'Remedy'"
      ]
     },
     "execution_count": 7,
     "metadata": {},
     "output_type": "execute_result"
    }
   ],
   "source": [
    "# Check the name of the first track\n",
    "all_tracks[0]['track']['name']"
   ]
  },
  {
   "cell_type": "code",
   "execution_count": 8,
   "metadata": {
    "scrolled": true
   },
   "outputs": [
    {
     "name": "stdout",
     "output_type": "stream",
     "text": [
      " There are 249 songs in the list\n"
     ]
    }
   ],
   "source": [
    "# Get all the song titles from the all_tracks list\n",
    "best_2023_li = []\n",
    "for i in range(0, len(all_tracks)):\n",
    "    title = all_tracks[i]['track']['name']\n",
    "    best_2023_li.append(title)\n",
    "\n",
    "print(f\" There are {len(best_2023_li)} songs in the list\")"
   ]
  },
  {
   "cell_type": "code",
   "execution_count": 9,
   "metadata": {},
   "outputs": [
    {
     "data": {
      "text/html": [
       "<div>\n",
       "<style scoped>\n",
       "    .dataframe tbody tr th:only-of-type {\n",
       "        vertical-align: middle;\n",
       "    }\n",
       "\n",
       "    .dataframe tbody tr th {\n",
       "        vertical-align: top;\n",
       "    }\n",
       "\n",
       "    .dataframe thead th {\n",
       "        text-align: right;\n",
       "    }\n",
       "</style>\n",
       "<table border=\"1\" class=\"dataframe\">\n",
       "  <thead>\n",
       "    <tr style=\"text-align: right;\">\n",
       "      <th></th>\n",
       "      <th>title</th>\n",
       "    </tr>\n",
       "  </thead>\n",
       "  <tbody>\n",
       "    <tr>\n",
       "      <th>0</th>\n",
       "      <td>Remedy</td>\n",
       "    </tr>\n",
       "    <tr>\n",
       "      <th>1</th>\n",
       "      <td>Auf &amp; Ab</td>\n",
       "    </tr>\n",
       "    <tr>\n",
       "      <th>2</th>\n",
       "      <td>Heat Waves</td>\n",
       "    </tr>\n",
       "    <tr>\n",
       "      <th>3</th>\n",
       "      <td>Acapulco</td>\n",
       "    </tr>\n",
       "    <tr>\n",
       "      <th>4</th>\n",
       "      <td>Pepas</td>\n",
       "    </tr>\n",
       "  </tbody>\n",
       "</table>\n",
       "</div>"
      ],
      "text/plain": [
       "        title\n",
       "0      Remedy\n",
       "1    Auf & Ab\n",
       "2  Heat Waves\n",
       "3    Acapulco\n",
       "4       Pepas"
      ]
     },
     "execution_count": 9,
     "metadata": {},
     "output_type": "execute_result"
    }
   ],
   "source": [
    "# Put title into a dataframe\n",
    "song_title = pd.DataFrame(best_2023_li)\n",
    "song_title.columns = ['title']\n",
    "song_title.head()"
   ]
  },
  {
   "cell_type": "markdown",
   "metadata": {},
   "source": [
    "# Get all artists in the playlist"
   ]
  },
  {
   "cell_type": "code",
   "execution_count": 10,
   "metadata": {},
   "outputs": [
    {
     "data": {
      "text/plain": [
       "[{'external_urls': {'spotify': 'https://open.spotify.com/artist/2NpPlwwDVYR5dIj0F31EcC'},\n",
       "  'href': 'https://api.spotify.com/v1/artists/2NpPlwwDVYR5dIj0F31EcC',\n",
       "  'id': '2NpPlwwDVYR5dIj0F31EcC',\n",
       "  'name': 'Leony',\n",
       "  'type': 'artist',\n",
       "  'uri': 'spotify:artist:2NpPlwwDVYR5dIj0F31EcC'}]"
      ]
     },
     "execution_count": 10,
     "metadata": {},
     "output_type": "execute_result"
    }
   ],
   "source": [
    "# Check artist info in the first track\n",
    "artist_info = all_tracks[0]['track']['artists']\n",
    "artist_info"
   ]
  },
  {
   "cell_type": "code",
   "execution_count": 11,
   "metadata": {},
   "outputs": [
    {
     "data": {
      "text/plain": [
       "'2NpPlwwDVYR5dIj0F31EcC'"
      ]
     },
     "execution_count": 11,
     "metadata": {},
     "output_type": "execute_result"
    }
   ],
   "source": [
    "# Check artist id in the first track\n",
    "artist_info[0]['id']"
   ]
  },
  {
   "cell_type": "code",
   "execution_count": 12,
   "metadata": {},
   "outputs": [
    {
     "data": {
      "text/plain": [
       "'Leony'"
      ]
     },
     "execution_count": 12,
     "metadata": {},
     "output_type": "execute_result"
    }
   ],
   "source": [
    "# Check artist name in the first track\n",
    "artist_info[0]['name']"
   ]
  },
  {
   "cell_type": "code",
   "execution_count": 13,
   "metadata": {},
   "outputs": [],
   "source": [
    "# Loop through all_tracks (249 songs) to get all the artist_id and artist_name into the lists\n",
    "\n",
    "artist_info = []\n",
    "artist_ids = []\n",
    "artist_names = []\n",
    "\n",
    "for a in range(len(all_tracks)):\n",
    "    artist_info.append(all_tracks[a]['track']['artists'])\n",
    "\n",
    "for a_info in range(len(artist_info)):\n",
    "        artist_ids.append(artist_info[a_info][0]['id'])\n",
    "        artist_names.append(artist_info[a_info][0]['name'])"
   ]
  },
  {
   "cell_type": "code",
   "execution_count": 14,
   "metadata": {},
   "outputs": [
    {
     "data": {
      "text/html": [
       "<div>\n",
       "<style scoped>\n",
       "    .dataframe tbody tr th:only-of-type {\n",
       "        vertical-align: middle;\n",
       "    }\n",
       "\n",
       "    .dataframe tbody tr th {\n",
       "        vertical-align: top;\n",
       "    }\n",
       "\n",
       "    .dataframe thead th {\n",
       "        text-align: right;\n",
       "    }\n",
       "</style>\n",
       "<table border=\"1\" class=\"dataframe\">\n",
       "  <thead>\n",
       "    <tr style=\"text-align: right;\">\n",
       "      <th></th>\n",
       "      <th>artist_id</th>\n",
       "      <th>artist_name</th>\n",
       "    </tr>\n",
       "  </thead>\n",
       "  <tbody>\n",
       "    <tr>\n",
       "      <th>0</th>\n",
       "      <td>2NpPlwwDVYR5dIj0F31EcC</td>\n",
       "      <td>Leony</td>\n",
       "    </tr>\n",
       "    <tr>\n",
       "      <th>1</th>\n",
       "      <td>5ZY4M2aGiTaZQEP6HfqeJc</td>\n",
       "      <td>Montez</td>\n",
       "    </tr>\n",
       "    <tr>\n",
       "      <th>2</th>\n",
       "      <td>4yvcSjfu4PC0CYQyLy4wSq</td>\n",
       "      <td>Glass Animals</td>\n",
       "    </tr>\n",
       "    <tr>\n",
       "      <th>3</th>\n",
       "      <td>07YZf4WDAMNwqr4jfgOZ8y</td>\n",
       "      <td>Jason Derulo</td>\n",
       "    </tr>\n",
       "    <tr>\n",
       "      <th>4</th>\n",
       "      <td>329e4yvIujISKGKz1BZZbO</td>\n",
       "      <td>Farruko</td>\n",
       "    </tr>\n",
       "  </tbody>\n",
       "</table>\n",
       "</div>"
      ],
      "text/plain": [
       "                artist_id    artist_name\n",
       "0  2NpPlwwDVYR5dIj0F31EcC          Leony\n",
       "1  5ZY4M2aGiTaZQEP6HfqeJc         Montez\n",
       "2  4yvcSjfu4PC0CYQyLy4wSq  Glass Animals\n",
       "3  07YZf4WDAMNwqr4jfgOZ8y   Jason Derulo\n",
       "4  329e4yvIujISKGKz1BZZbO        Farruko"
      ]
     },
     "execution_count": 14,
     "metadata": {},
     "output_type": "execute_result"
    }
   ],
   "source": [
    "# Get artist_id, artist_name into a pandas dataframe\n",
    "df_artist = pd.DataFrame(list(zip(artist_ids, artist_names)))\n",
    "df_artist.columns = ['artist_id', 'artist_name']\n",
    "df_artist.head()"
   ]
  },
  {
   "cell_type": "markdown",
   "metadata": {},
   "source": [
    "# Get all the track_ids from the playlist\n",
    "\n",
    "- We want to get audio features to build our prototype and we need the track_id to retrieve the features"
   ]
  },
  {
   "cell_type": "code",
   "execution_count": 15,
   "metadata": {},
   "outputs": [
    {
     "data": {
      "text/plain": [
       "'5JVA0t7r2Y7m9NaHmgaeiC'"
      ]
     },
     "execution_count": 15,
     "metadata": {},
     "output_type": "execute_result"
    }
   ],
   "source": [
    "# Check the track_id of the first track\n",
    "all_tracks[0]['track']['id']"
   ]
  },
  {
   "cell_type": "code",
   "execution_count": 16,
   "metadata": {},
   "outputs": [
    {
     "name": "stdout",
     "output_type": "stream",
     "text": [
      "Number of track_id in the list: 249\n"
     ]
    }
   ],
   "source": [
    "# Loop through to get all track_id and append in the track_ids list\n",
    "track_ids = [all_tracks[j]['track']['id'] for j in range(len(all_tracks))]\n",
    "print(f\"Number of track_id in the list: {len(track_ids)}\")"
   ]
  },
  {
   "cell_type": "markdown",
   "metadata": {},
   "source": [
    "# Get audio features of all songs in the playlist"
   ]
  },
  {
   "cell_type": "markdown",
   "metadata": {},
   "source": [
    "- Since the function audio_features() can retrieve only 100 songs per call\n",
    "- We need to loop --> I tried to write a function as we retrieved the song title above but I could not do it.\n",
    "- So instead, I came up with the idea of breaking the track_id list into small chunks, then calling the function audio_features() multiple times (using for loop) --> see script below [Ref.](https://www.geeksforgeeks.org/break-list-chunks-size-n-python/)"
   ]
  },
  {
   "cell_type": "code",
   "execution_count": 17,
   "metadata": {},
   "outputs": [
    {
     "name": "stdout",
     "output_type": "stream",
     "text": [
      "We now have 5 chunks of track_ids\n"
     ]
    }
   ],
   "source": [
    "# Break a list into chunks of size 50\n",
    "start = 0\n",
    "end = len(track_ids)\n",
    "step = 50\n",
    "chunks = []\n",
    "\n",
    "for j in range(start, end, step):\n",
    "    x = j \n",
    "    chunks.append(track_ids[x:x + step])\n",
    "\n",
    "print(f\"We now have {len(chunks)} chunks of track_ids\")"
   ]
  },
  {
   "cell_type": "code",
   "execution_count": 18,
   "metadata": {},
   "outputs": [
    {
     "name": "stdout",
     "output_type": "stream",
     "text": [
      "We now have 5 chunks of the audio features, which is from a totle 249 songs\n"
     ]
    }
   ],
   "source": [
    "# Get audio features chunk by chunk and append each into the feature_chunks list\n",
    "feature_chunks = []\n",
    "\n",
    "for k in range(len(chunks)):\n",
    "    feature = sp.audio_features(chunks[k][:len(chunks[k])])\n",
    "    feature_chunks.append(feature)\n",
    "\n",
    "print(f\"We now have {len(feature_chunks)} chunks of the audio features, which is from a totle 249 songs\")"
   ]
  },
  {
   "cell_type": "code",
   "execution_count": 19,
   "metadata": {},
   "outputs": [
    {
     "name": "stdout",
     "output_type": "stream",
     "text": [
      "We have retrieved 50 audio features in the first chunk\n",
      "and 49 features for the last chunk\n"
     ]
    }
   ],
   "source": [
    "### Check feature in the first chunk --> Note: I will not print it out here because it's hard to read (also too long)\n",
    "# feature_chunks[0]\n",
    "\n",
    "print(f\"We have retrieved {len(feature_chunks[0])} audio features in the first chunk\")\n",
    "print(f\"and {len(feature_chunks[4])} features for the last chunk\")"
   ]
  },
  {
   "cell_type": "markdown",
   "metadata": {},
   "source": [
    "# Get all the audio features & song title into a dataframe"
   ]
  },
  {
   "cell_type": "code",
   "execution_count": 20,
   "metadata": {},
   "outputs": [
    {
     "data": {
      "text/plain": [
       "249"
      ]
     },
     "execution_count": 20,
     "metadata": {},
     "output_type": "execute_result"
    }
   ],
   "source": [
    "# Put all the features from those chunks into one list\n",
    "\n",
    "audio_features = []\n",
    "\n",
    "for digit in range(len(chunks)):\n",
    "    audio_features += feature_chunks[digit]\n",
    "\n",
    "len(audio_features)"
   ]
  },
  {
   "cell_type": "code",
   "execution_count": 21,
   "metadata": {
    "scrolled": false
   },
   "outputs": [
    {
     "name": "stdout",
     "output_type": "stream",
     "text": [
      "<class 'pandas.core.frame.DataFrame'>\n",
      "RangeIndex: 249 entries, 0 to 248\n",
      "Data columns (total 18 columns):\n",
      " #   Column            Non-Null Count  Dtype  \n",
      "---  ------            --------------  -----  \n",
      " 0   danceability      249 non-null    float64\n",
      " 1   energy            249 non-null    float64\n",
      " 2   key               249 non-null    int64  \n",
      " 3   loudness          249 non-null    float64\n",
      " 4   mode              249 non-null    int64  \n",
      " 5   speechiness       249 non-null    float64\n",
      " 6   acousticness      249 non-null    float64\n",
      " 7   instrumentalness  249 non-null    float64\n",
      " 8   liveness          249 non-null    float64\n",
      " 9   valence           249 non-null    float64\n",
      " 10  tempo             249 non-null    float64\n",
      " 11  type              249 non-null    object \n",
      " 12  id                249 non-null    object \n",
      " 13  uri               249 non-null    object \n",
      " 14  track_href        249 non-null    object \n",
      " 15  analysis_url      249 non-null    object \n",
      " 16  duration_ms       249 non-null    int64  \n",
      " 17  time_signature    249 non-null    int64  \n",
      "dtypes: float64(9), int64(4), object(5)\n",
      "memory usage: 35.1+ KB\n"
     ]
    }
   ],
   "source": [
    "# Create a dataframe from the audio_features list\n",
    "df = pd.DataFrame(audio_features)\n",
    "# df.head()\n",
    "df.info()"
   ]
  },
  {
   "cell_type": "markdown",
   "metadata": {},
   "source": [
    "- Since we have only id of the song in the dataframe\n",
    "- I want to include the title of the song as well as artist_is and artist_name"
   ]
  },
  {
   "cell_type": "code",
   "execution_count": 22,
   "metadata": {
    "scrolled": false
   },
   "outputs": [
    {
     "data": {
      "text/html": [
       "<div>\n",
       "<style scoped>\n",
       "    .dataframe tbody tr th:only-of-type {\n",
       "        vertical-align: middle;\n",
       "    }\n",
       "\n",
       "    .dataframe tbody tr th {\n",
       "        vertical-align: top;\n",
       "    }\n",
       "\n",
       "    .dataframe thead th {\n",
       "        text-align: right;\n",
       "    }\n",
       "</style>\n",
       "<table border=\"1\" class=\"dataframe\">\n",
       "  <thead>\n",
       "    <tr style=\"text-align: right;\">\n",
       "      <th></th>\n",
       "      <th>danceability</th>\n",
       "      <th>energy</th>\n",
       "      <th>key</th>\n",
       "      <th>loudness</th>\n",
       "      <th>mode</th>\n",
       "      <th>speechiness</th>\n",
       "      <th>acousticness</th>\n",
       "      <th>instrumentalness</th>\n",
       "      <th>liveness</th>\n",
       "      <th>valence</th>\n",
       "      <th>...</th>\n",
       "      <th>type</th>\n",
       "      <th>id</th>\n",
       "      <th>uri</th>\n",
       "      <th>track_href</th>\n",
       "      <th>analysis_url</th>\n",
       "      <th>duration_ms</th>\n",
       "      <th>time_signature</th>\n",
       "      <th>title</th>\n",
       "      <th>artist_id</th>\n",
       "      <th>artist_name</th>\n",
       "    </tr>\n",
       "  </thead>\n",
       "  <tbody>\n",
       "    <tr>\n",
       "      <th>0</th>\n",
       "      <td>0.550</td>\n",
       "      <td>0.750</td>\n",
       "      <td>0</td>\n",
       "      <td>-3.289</td>\n",
       "      <td>1</td>\n",
       "      <td>0.1460</td>\n",
       "      <td>0.05610</td>\n",
       "      <td>0.000000</td>\n",
       "      <td>0.1290</td>\n",
       "      <td>0.381</td>\n",
       "      <td>...</td>\n",
       "      <td>audio_features</td>\n",
       "      <td>5JVA0t7r2Y7m9NaHmgaeiC</td>\n",
       "      <td>spotify:track:5JVA0t7r2Y7m9NaHmgaeiC</td>\n",
       "      <td>https://api.spotify.com/v1/tracks/5JVA0t7r2Y7m...</td>\n",
       "      <td>https://api.spotify.com/v1/audio-analysis/5JVA...</td>\n",
       "      <td>147410</td>\n",
       "      <td>4</td>\n",
       "      <td>Remedy</td>\n",
       "      <td>2NpPlwwDVYR5dIj0F31EcC</td>\n",
       "      <td>Leony</td>\n",
       "    </tr>\n",
       "    <tr>\n",
       "      <th>1</th>\n",
       "      <td>0.714</td>\n",
       "      <td>0.425</td>\n",
       "      <td>1</td>\n",
       "      <td>-8.064</td>\n",
       "      <td>1</td>\n",
       "      <td>0.0809</td>\n",
       "      <td>0.40300</td>\n",
       "      <td>0.000105</td>\n",
       "      <td>0.1150</td>\n",
       "      <td>0.316</td>\n",
       "      <td>...</td>\n",
       "      <td>audio_features</td>\n",
       "      <td>0RSZ8EmUPEN3ySfCgytPke</td>\n",
       "      <td>spotify:track:0RSZ8EmUPEN3ySfCgytPke</td>\n",
       "      <td>https://api.spotify.com/v1/tracks/0RSZ8EmUPEN3...</td>\n",
       "      <td>https://api.spotify.com/v1/audio-analysis/0RSZ...</td>\n",
       "      <td>165477</td>\n",
       "      <td>4</td>\n",
       "      <td>Auf &amp; Ab</td>\n",
       "      <td>5ZY4M2aGiTaZQEP6HfqeJc</td>\n",
       "      <td>Montez</td>\n",
       "    </tr>\n",
       "    <tr>\n",
       "      <th>2</th>\n",
       "      <td>0.761</td>\n",
       "      <td>0.525</td>\n",
       "      <td>11</td>\n",
       "      <td>-6.900</td>\n",
       "      <td>1</td>\n",
       "      <td>0.0944</td>\n",
       "      <td>0.44000</td>\n",
       "      <td>0.000007</td>\n",
       "      <td>0.0921</td>\n",
       "      <td>0.531</td>\n",
       "      <td>...</td>\n",
       "      <td>audio_features</td>\n",
       "      <td>6CDzDgIUqeDY5g8ujExx2f</td>\n",
       "      <td>spotify:track:6CDzDgIUqeDY5g8ujExx2f</td>\n",
       "      <td>https://api.spotify.com/v1/tracks/6CDzDgIUqeDY...</td>\n",
       "      <td>https://api.spotify.com/v1/audio-analysis/6CDz...</td>\n",
       "      <td>238805</td>\n",
       "      <td>4</td>\n",
       "      <td>Heat Waves</td>\n",
       "      <td>4yvcSjfu4PC0CYQyLy4wSq</td>\n",
       "      <td>Glass Animals</td>\n",
       "    </tr>\n",
       "    <tr>\n",
       "      <th>3</th>\n",
       "      <td>0.774</td>\n",
       "      <td>0.792</td>\n",
       "      <td>10</td>\n",
       "      <td>-4.021</td>\n",
       "      <td>1</td>\n",
       "      <td>0.0523</td>\n",
       "      <td>0.05100</td>\n",
       "      <td>0.000000</td>\n",
       "      <td>0.1550</td>\n",
       "      <td>0.507</td>\n",
       "      <td>...</td>\n",
       "      <td>audio_features</td>\n",
       "      <td>3eJH2nAjvNXdmPfBkALiPZ</td>\n",
       "      <td>spotify:track:3eJH2nAjvNXdmPfBkALiPZ</td>\n",
       "      <td>https://api.spotify.com/v1/tracks/3eJH2nAjvNXd...</td>\n",
       "      <td>https://api.spotify.com/v1/audio-analysis/3eJH...</td>\n",
       "      <td>139672</td>\n",
       "      <td>4</td>\n",
       "      <td>Acapulco</td>\n",
       "      <td>07YZf4WDAMNwqr4jfgOZ8y</td>\n",
       "      <td>Jason Derulo</td>\n",
       "    </tr>\n",
       "    <tr>\n",
       "      <th>4</th>\n",
       "      <td>0.762</td>\n",
       "      <td>0.766</td>\n",
       "      <td>7</td>\n",
       "      <td>-3.955</td>\n",
       "      <td>1</td>\n",
       "      <td>0.0343</td>\n",
       "      <td>0.00776</td>\n",
       "      <td>0.000070</td>\n",
       "      <td>0.1280</td>\n",
       "      <td>0.442</td>\n",
       "      <td>...</td>\n",
       "      <td>audio_features</td>\n",
       "      <td>5fwSHlTEWpluwOM0Sxnh5k</td>\n",
       "      <td>spotify:track:5fwSHlTEWpluwOM0Sxnh5k</td>\n",
       "      <td>https://api.spotify.com/v1/tracks/5fwSHlTEWplu...</td>\n",
       "      <td>https://api.spotify.com/v1/audio-analysis/5fwS...</td>\n",
       "      <td>287120</td>\n",
       "      <td>4</td>\n",
       "      <td>Pepas</td>\n",
       "      <td>329e4yvIujISKGKz1BZZbO</td>\n",
       "      <td>Farruko</td>\n",
       "    </tr>\n",
       "  </tbody>\n",
       "</table>\n",
       "<p>5 rows × 21 columns</p>\n",
       "</div>"
      ],
      "text/plain": [
       "   danceability  energy  key  loudness  mode  speechiness  acousticness  \\\n",
       "0         0.550   0.750    0    -3.289     1       0.1460       0.05610   \n",
       "1         0.714   0.425    1    -8.064     1       0.0809       0.40300   \n",
       "2         0.761   0.525   11    -6.900     1       0.0944       0.44000   \n",
       "3         0.774   0.792   10    -4.021     1       0.0523       0.05100   \n",
       "4         0.762   0.766    7    -3.955     1       0.0343       0.00776   \n",
       "\n",
       "   instrumentalness  liveness  valence  ...            type  \\\n",
       "0          0.000000    0.1290    0.381  ...  audio_features   \n",
       "1          0.000105    0.1150    0.316  ...  audio_features   \n",
       "2          0.000007    0.0921    0.531  ...  audio_features   \n",
       "3          0.000000    0.1550    0.507  ...  audio_features   \n",
       "4          0.000070    0.1280    0.442  ...  audio_features   \n",
       "\n",
       "                       id                                   uri  \\\n",
       "0  5JVA0t7r2Y7m9NaHmgaeiC  spotify:track:5JVA0t7r2Y7m9NaHmgaeiC   \n",
       "1  0RSZ8EmUPEN3ySfCgytPke  spotify:track:0RSZ8EmUPEN3ySfCgytPke   \n",
       "2  6CDzDgIUqeDY5g8ujExx2f  spotify:track:6CDzDgIUqeDY5g8ujExx2f   \n",
       "3  3eJH2nAjvNXdmPfBkALiPZ  spotify:track:3eJH2nAjvNXdmPfBkALiPZ   \n",
       "4  5fwSHlTEWpluwOM0Sxnh5k  spotify:track:5fwSHlTEWpluwOM0Sxnh5k   \n",
       "\n",
       "                                          track_href  \\\n",
       "0  https://api.spotify.com/v1/tracks/5JVA0t7r2Y7m...   \n",
       "1  https://api.spotify.com/v1/tracks/0RSZ8EmUPEN3...   \n",
       "2  https://api.spotify.com/v1/tracks/6CDzDgIUqeDY...   \n",
       "3  https://api.spotify.com/v1/tracks/3eJH2nAjvNXd...   \n",
       "4  https://api.spotify.com/v1/tracks/5fwSHlTEWplu...   \n",
       "\n",
       "                                        analysis_url duration_ms  \\\n",
       "0  https://api.spotify.com/v1/audio-analysis/5JVA...      147410   \n",
       "1  https://api.spotify.com/v1/audio-analysis/0RSZ...      165477   \n",
       "2  https://api.spotify.com/v1/audio-analysis/6CDz...      238805   \n",
       "3  https://api.spotify.com/v1/audio-analysis/3eJH...      139672   \n",
       "4  https://api.spotify.com/v1/audio-analysis/5fwS...      287120   \n",
       "\n",
       "   time_signature       title               artist_id    artist_name  \n",
       "0               4      Remedy  2NpPlwwDVYR5dIj0F31EcC          Leony  \n",
       "1               4    Auf & Ab  5ZY4M2aGiTaZQEP6HfqeJc         Montez  \n",
       "2               4  Heat Waves  4yvcSjfu4PC0CYQyLy4wSq  Glass Animals  \n",
       "3               4    Acapulco  07YZf4WDAMNwqr4jfgOZ8y   Jason Derulo  \n",
       "4               4       Pepas  329e4yvIujISKGKz1BZZbO        Farruko  \n",
       "\n",
       "[5 rows x 21 columns]"
      ]
     },
     "execution_count": 22,
     "metadata": {},
     "output_type": "execute_result"
    }
   ],
   "source": [
    "# Concat all together\n",
    "df = pd.concat([df, song_title, df_artist], axis=1)\n",
    "\n",
    "# Make sure 'id' is the song_id because we also have artist_id in the dataframe\n",
    "df.rename(columns={'id': 'song_id'})\n",
    "df.head()"
   ]
  },
  {
   "cell_type": "code",
   "execution_count": 23,
   "metadata": {},
   "outputs": [],
   "source": [
    "df.to_csv('audio_features_249.csv', index=False)"
   ]
  },
  {
   "cell_type": "markdown",
   "metadata": {},
   "source": [
    "# Result\n",
    "- The playlist contains 249 songs \n",
    "- We retrieved the audio features & title of every song in the playlist\n",
    "- Finally, we have a dataframe and we can save it to a .csv for further uses"
   ]
  }
 ],
 "metadata": {
  "kernelspec": {
   "display_name": "Python 3 (ipykernel)",
   "language": "python",
   "name": "python3"
  },
  "language_info": {
   "codemirror_mode": {
    "name": "ipython",
    "version": 3
   },
   "file_extension": ".py",
   "mimetype": "text/x-python",
   "name": "python",
   "nbconvert_exporter": "python",
   "pygments_lexer": "ipython3",
   "version": "3.9.13"
  }
 },
 "nbformat": 4,
 "nbformat_minor": 4
}
