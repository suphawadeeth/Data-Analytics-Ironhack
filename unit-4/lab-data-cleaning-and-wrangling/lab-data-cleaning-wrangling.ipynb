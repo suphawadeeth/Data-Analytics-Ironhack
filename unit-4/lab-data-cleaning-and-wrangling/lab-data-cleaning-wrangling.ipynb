{
 "cells": [
  {
   "cell_type": "markdown",
   "id": "544a8158",
   "metadata": {},
   "source": [
    "# Lab | Data cleaning and wrangling\n",
    "For this lab, we will be using the same dataset we used in the previous labs. We recommend using the same notebook since you will be reusing the same variables you previous created and used in labs.\n",
    "\n",
    "### Instructions\n",
    "So far we have worked on EDA. This lab will focus on data cleaning and wrangling from everything we noticed before.\n",
    "\n",
    "1. We will start with removing outliers. So far, we have discussed different methods to remove outliers. Use the one you feel more comfortable with, define a function for that. Use the function to remove the outliers and apply it to the dataframe.\n",
    "2. Create a copy of the dataframe for the data wrangling.\n",
    "3. Normalize the continuous variables. You can use any one method you want.\n",
    "4. Encode the categorical variables\n",
    "5. The time variable can be useful. Try to transform its data into a useful one. Hint: Day week and month as integers might be useful.\n",
    "6. Since the model will only accept numerical data, check and make sure that every column is numerical, if some are not, change it using encoding.\n"
   ]
  },
  {
   "cell_type": "code",
   "execution_count": 209,
   "id": "b502e088",
   "metadata": {},
   "outputs": [],
   "source": [
    "import pandas as pd\n",
    "import numpy as np\n",
    "import datetime\n",
    "\n",
    "import warnings\n",
    "warnings.filterwarnings('ignore')\n",
    "warnings.filterwarnings(\"ignore\", message=\"numpy.ufunc size changed\")\n",
    "\n",
    "import matplotlib.pyplot as plt\n",
    "import seaborn as sns\n",
    "%matplotlib inline\n",
    "\n",
    "from scipy import stats\n",
    "\n",
    "from sklearn.preprocessing import OneHotEncoder"
   ]
  },
  {
   "cell_type": "markdown",
   "id": "b602b957",
   "metadata": {},
   "source": [
    "# 1. Removing outliers. "
   ]
  },
  {
   "cell_type": "code",
   "execution_count": 193,
   "id": "5040b1e4",
   "metadata": {
    "scrolled": true
   },
   "outputs": [
    {
     "data": {
      "text/html": [
       "<div>\n",
       "<style scoped>\n",
       "    .dataframe tbody tr th:only-of-type {\n",
       "        vertical-align: middle;\n",
       "    }\n",
       "\n",
       "    .dataframe tbody tr th {\n",
       "        vertical-align: top;\n",
       "    }\n",
       "\n",
       "    .dataframe thead th {\n",
       "        text-align: right;\n",
       "    }\n",
       "</style>\n",
       "<table border=\"1\" class=\"dataframe\">\n",
       "  <thead>\n",
       "    <tr style=\"text-align: right;\">\n",
       "      <th></th>\n",
       "      <th>customer</th>\n",
       "      <th>state</th>\n",
       "      <th>customer_lifetime_value</th>\n",
       "      <th>response</th>\n",
       "      <th>coverage</th>\n",
       "      <th>education</th>\n",
       "      <th>effective_to_date</th>\n",
       "      <th>employmentstatus</th>\n",
       "      <th>gender</th>\n",
       "      <th>income</th>\n",
       "      <th>...</th>\n",
       "      <th>months_since_policy_inception</th>\n",
       "      <th>number_of_open_complaints</th>\n",
       "      <th>number_of_policies</th>\n",
       "      <th>policy_type</th>\n",
       "      <th>policy</th>\n",
       "      <th>renew_offer_type</th>\n",
       "      <th>sales_channel</th>\n",
       "      <th>total_claim_amount</th>\n",
       "      <th>vehicle_class</th>\n",
       "      <th>vehicle_size</th>\n",
       "    </tr>\n",
       "  </thead>\n",
       "  <tbody>\n",
       "    <tr>\n",
       "      <th>0</th>\n",
       "      <td>BU79786</td>\n",
       "      <td>Washington</td>\n",
       "      <td>2763.519279</td>\n",
       "      <td>No</td>\n",
       "      <td>Basic</td>\n",
       "      <td>Bachelor</td>\n",
       "      <td>2/24/11</td>\n",
       "      <td>Employed</td>\n",
       "      <td>F</td>\n",
       "      <td>56274</td>\n",
       "      <td>...</td>\n",
       "      <td>5</td>\n",
       "      <td>0</td>\n",
       "      <td>1</td>\n",
       "      <td>Corporate Auto</td>\n",
       "      <td>Corporate L3</td>\n",
       "      <td>Offer1</td>\n",
       "      <td>Agent</td>\n",
       "      <td>384.811147</td>\n",
       "      <td>Two-Door Car</td>\n",
       "      <td>Medsize</td>\n",
       "    </tr>\n",
       "    <tr>\n",
       "      <th>1</th>\n",
       "      <td>QZ44356</td>\n",
       "      <td>Arizona</td>\n",
       "      <td>6979.535903</td>\n",
       "      <td>No</td>\n",
       "      <td>Extended</td>\n",
       "      <td>Bachelor</td>\n",
       "      <td>1/31/11</td>\n",
       "      <td>Unemployed</td>\n",
       "      <td>F</td>\n",
       "      <td>0</td>\n",
       "      <td>...</td>\n",
       "      <td>42</td>\n",
       "      <td>0</td>\n",
       "      <td>8</td>\n",
       "      <td>Personal Auto</td>\n",
       "      <td>Personal L3</td>\n",
       "      <td>Offer3</td>\n",
       "      <td>Agent</td>\n",
       "      <td>1131.464935</td>\n",
       "      <td>Four-Door Car</td>\n",
       "      <td>Medsize</td>\n",
       "    </tr>\n",
       "    <tr>\n",
       "      <th>2</th>\n",
       "      <td>AI49188</td>\n",
       "      <td>Nevada</td>\n",
       "      <td>12887.431650</td>\n",
       "      <td>No</td>\n",
       "      <td>Premium</td>\n",
       "      <td>Bachelor</td>\n",
       "      <td>2/19/11</td>\n",
       "      <td>Employed</td>\n",
       "      <td>F</td>\n",
       "      <td>48767</td>\n",
       "      <td>...</td>\n",
       "      <td>38</td>\n",
       "      <td>0</td>\n",
       "      <td>2</td>\n",
       "      <td>Personal Auto</td>\n",
       "      <td>Personal L3</td>\n",
       "      <td>Offer1</td>\n",
       "      <td>Agent</td>\n",
       "      <td>566.472247</td>\n",
       "      <td>Two-Door Car</td>\n",
       "      <td>Medsize</td>\n",
       "    </tr>\n",
       "    <tr>\n",
       "      <th>3</th>\n",
       "      <td>WW63253</td>\n",
       "      <td>California</td>\n",
       "      <td>7645.861827</td>\n",
       "      <td>No</td>\n",
       "      <td>Basic</td>\n",
       "      <td>Bachelor</td>\n",
       "      <td>1/20/11</td>\n",
       "      <td>Unemployed</td>\n",
       "      <td>M</td>\n",
       "      <td>0</td>\n",
       "      <td>...</td>\n",
       "      <td>65</td>\n",
       "      <td>0</td>\n",
       "      <td>7</td>\n",
       "      <td>Corporate Auto</td>\n",
       "      <td>Corporate L2</td>\n",
       "      <td>Offer1</td>\n",
       "      <td>Call Center</td>\n",
       "      <td>529.881344</td>\n",
       "      <td>SUV</td>\n",
       "      <td>Medsize</td>\n",
       "    </tr>\n",
       "    <tr>\n",
       "      <th>4</th>\n",
       "      <td>HB64268</td>\n",
       "      <td>Washington</td>\n",
       "      <td>2813.692575</td>\n",
       "      <td>No</td>\n",
       "      <td>Basic</td>\n",
       "      <td>Bachelor</td>\n",
       "      <td>2/3/11</td>\n",
       "      <td>Employed</td>\n",
       "      <td>M</td>\n",
       "      <td>43836</td>\n",
       "      <td>...</td>\n",
       "      <td>44</td>\n",
       "      <td>0</td>\n",
       "      <td>1</td>\n",
       "      <td>Personal Auto</td>\n",
       "      <td>Personal L1</td>\n",
       "      <td>Offer1</td>\n",
       "      <td>Agent</td>\n",
       "      <td>138.130879</td>\n",
       "      <td>Four-Door Car</td>\n",
       "      <td>Medsize</td>\n",
       "    </tr>\n",
       "  </tbody>\n",
       "</table>\n",
       "<p>5 rows × 24 columns</p>\n",
       "</div>"
      ],
      "text/plain": [
       "  customer       state  customer_lifetime_value response  coverage education  \\\n",
       "0  BU79786  Washington              2763.519279       No     Basic  Bachelor   \n",
       "1  QZ44356     Arizona              6979.535903       No  Extended  Bachelor   \n",
       "2  AI49188      Nevada             12887.431650       No   Premium  Bachelor   \n",
       "3  WW63253  California              7645.861827       No     Basic  Bachelor   \n",
       "4  HB64268  Washington              2813.692575       No     Basic  Bachelor   \n",
       "\n",
       "  effective_to_date employmentstatus gender  income  ...  \\\n",
       "0           2/24/11         Employed      F   56274  ...   \n",
       "1           1/31/11       Unemployed      F       0  ...   \n",
       "2           2/19/11         Employed      F   48767  ...   \n",
       "3           1/20/11       Unemployed      M       0  ...   \n",
       "4            2/3/11         Employed      M   43836  ...   \n",
       "\n",
       "  months_since_policy_inception number_of_open_complaints  number_of_policies  \\\n",
       "0                             5                         0                   1   \n",
       "1                            42                         0                   8   \n",
       "2                            38                         0                   2   \n",
       "3                            65                         0                   7   \n",
       "4                            44                         0                   1   \n",
       "\n",
       "      policy_type        policy  renew_offer_type  sales_channel  \\\n",
       "0  Corporate Auto  Corporate L3            Offer1          Agent   \n",
       "1   Personal Auto   Personal L3            Offer3          Agent   \n",
       "2   Personal Auto   Personal L3            Offer1          Agent   \n",
       "3  Corporate Auto  Corporate L2            Offer1    Call Center   \n",
       "4   Personal Auto   Personal L1            Offer1          Agent   \n",
       "\n",
       "  total_claim_amount  vehicle_class vehicle_size  \n",
       "0         384.811147   Two-Door Car      Medsize  \n",
       "1        1131.464935  Four-Door Car      Medsize  \n",
       "2         566.472247   Two-Door Car      Medsize  \n",
       "3         529.881344            SUV      Medsize  \n",
       "4         138.130879  Four-Door Car      Medsize  \n",
       "\n",
       "[5 rows x 24 columns]"
      ]
     },
     "execution_count": 193,
     "metadata": {},
     "output_type": "execute_result"
    }
   ],
   "source": [
    "df = pd.read_csv('/Users/kt/Desktop/Ironhack/Data-Analytics-Ironhack/unit-4/lab-cleaning-numerical-data/we_fn_use_c_marketing_customer_value_analysis.csv')\n",
    "\n",
    "# standardize column name following PE8\n",
    "df.columns = [df.columns[i].lower().replace(' ', '_') for i in range(len(df.columns))] \n",
    "df.head()\n"
   ]
  },
  {
   "cell_type": "code",
   "execution_count": 10,
   "id": "50d4c2a5",
   "metadata": {},
   "outputs": [
    {
     "name": "stdout",
     "output_type": "stream",
     "text": [
      "<class 'pandas.core.frame.DataFrame'>\n",
      "RangeIndex: 9134 entries, 0 to 9133\n",
      "Data columns (total 24 columns):\n",
      " #   Column                         Non-Null Count  Dtype  \n",
      "---  ------                         --------------  -----  \n",
      " 0   customer                       9134 non-null   object \n",
      " 1   state                          9134 non-null   object \n",
      " 2   customer_lifetime_value        9134 non-null   float64\n",
      " 3   response                       9134 non-null   object \n",
      " 4   coverage                       9134 non-null   object \n",
      " 5   education                      9134 non-null   object \n",
      " 6   effective_to_date              9134 non-null   object \n",
      " 7   employmentstatus               9134 non-null   object \n",
      " 8   gender                         9134 non-null   object \n",
      " 9   income                         9134 non-null   int64  \n",
      " 10  location_code                  9134 non-null   object \n",
      " 11  marital_status                 9134 non-null   object \n",
      " 12  monthly_premium_auto           9134 non-null   int64  \n",
      " 13  months_since_last_claim        9134 non-null   int64  \n",
      " 14  months_since_policy_inception  9134 non-null   int64  \n",
      " 15  number_of_open_complaints      9134 non-null   int64  \n",
      " 16  number_of_policies             9134 non-null   int64  \n",
      " 17  policy_type                    9134 non-null   object \n",
      " 18  policy                         9134 non-null   object \n",
      " 19  renew_offer_type               9134 non-null   object \n",
      " 20  sales_channel                  9134 non-null   object \n",
      " 21  total_claim_amount             9134 non-null   float64\n",
      " 22  vehicle_class                  9134 non-null   object \n",
      " 23  vehicle_size                   9134 non-null   object \n",
      "dtypes: float64(2), int64(6), object(16)\n",
      "memory usage: 1.7+ MB\n"
     ]
    }
   ],
   "source": [
    "df.info()"
   ]
  },
  {
   "cell_type": "code",
   "execution_count": 11,
   "id": "a6482d9a",
   "metadata": {},
   "outputs": [
    {
     "data": {
      "text/html": [
       "<div>\n",
       "<style scoped>\n",
       "    .dataframe tbody tr th:only-of-type {\n",
       "        vertical-align: middle;\n",
       "    }\n",
       "\n",
       "    .dataframe tbody tr th {\n",
       "        vertical-align: top;\n",
       "    }\n",
       "\n",
       "    .dataframe thead th {\n",
       "        text-align: right;\n",
       "    }\n",
       "</style>\n",
       "<table border=\"1\" class=\"dataframe\">\n",
       "  <thead>\n",
       "    <tr style=\"text-align: right;\">\n",
       "      <th></th>\n",
       "      <th>customer_lifetime_value</th>\n",
       "      <th>income</th>\n",
       "      <th>monthly_premium_auto</th>\n",
       "      <th>months_since_last_claim</th>\n",
       "      <th>months_since_policy_inception</th>\n",
       "      <th>number_of_open_complaints</th>\n",
       "      <th>number_of_policies</th>\n",
       "      <th>total_claim_amount</th>\n",
       "    </tr>\n",
       "  </thead>\n",
       "  <tbody>\n",
       "    <tr>\n",
       "      <th>0</th>\n",
       "      <td>2763.519279</td>\n",
       "      <td>56274</td>\n",
       "      <td>69</td>\n",
       "      <td>32</td>\n",
       "      <td>5</td>\n",
       "      <td>0</td>\n",
       "      <td>1</td>\n",
       "      <td>384.811147</td>\n",
       "    </tr>\n",
       "    <tr>\n",
       "      <th>1</th>\n",
       "      <td>6979.535903</td>\n",
       "      <td>0</td>\n",
       "      <td>94</td>\n",
       "      <td>13</td>\n",
       "      <td>42</td>\n",
       "      <td>0</td>\n",
       "      <td>8</td>\n",
       "      <td>1131.464935</td>\n",
       "    </tr>\n",
       "    <tr>\n",
       "      <th>2</th>\n",
       "      <td>12887.431650</td>\n",
       "      <td>48767</td>\n",
       "      <td>108</td>\n",
       "      <td>18</td>\n",
       "      <td>38</td>\n",
       "      <td>0</td>\n",
       "      <td>2</td>\n",
       "      <td>566.472247</td>\n",
       "    </tr>\n",
       "    <tr>\n",
       "      <th>3</th>\n",
       "      <td>7645.861827</td>\n",
       "      <td>0</td>\n",
       "      <td>106</td>\n",
       "      <td>18</td>\n",
       "      <td>65</td>\n",
       "      <td>0</td>\n",
       "      <td>7</td>\n",
       "      <td>529.881344</td>\n",
       "    </tr>\n",
       "    <tr>\n",
       "      <th>4</th>\n",
       "      <td>2813.692575</td>\n",
       "      <td>43836</td>\n",
       "      <td>73</td>\n",
       "      <td>12</td>\n",
       "      <td>44</td>\n",
       "      <td>0</td>\n",
       "      <td>1</td>\n",
       "      <td>138.130879</td>\n",
       "    </tr>\n",
       "  </tbody>\n",
       "</table>\n",
       "</div>"
      ],
      "text/plain": [
       "   customer_lifetime_value  income  monthly_premium_auto  \\\n",
       "0              2763.519279   56274                    69   \n",
       "1              6979.535903       0                    94   \n",
       "2             12887.431650   48767                   108   \n",
       "3              7645.861827       0                   106   \n",
       "4              2813.692575   43836                    73   \n",
       "\n",
       "   months_since_last_claim  months_since_policy_inception  \\\n",
       "0                       32                              5   \n",
       "1                       13                             42   \n",
       "2                       18                             38   \n",
       "3                       18                             65   \n",
       "4                       12                             44   \n",
       "\n",
       "   number_of_open_complaints  number_of_policies  total_claim_amount  \n",
       "0                          0                   1          384.811147  \n",
       "1                          0                   8         1131.464935  \n",
       "2                          0                   2          566.472247  \n",
       "3                          0                   7          529.881344  \n",
       "4                          0                   1          138.130879  "
      ]
     },
     "execution_count": 11,
     "metadata": {},
     "output_type": "execute_result"
    }
   ],
   "source": [
    "numerical = df.select_dtypes(include=\"number\")\n",
    "numerical.head()"
   ]
  },
  {
   "cell_type": "code",
   "execution_count": 13,
   "id": "5df4dbac",
   "metadata": {},
   "outputs": [
    {
     "data": {
      "image/png": "[encoded data removed]",
      "text/plain": [
       "<Figure size 800x1000 with 8 Axes>"
      ]
     },
     "metadata": {},
     "output_type": "display_data"
    }
   ],
   "source": [
    "# quick check distribution \n",
    "\n",
    "fig = plt.figure(figsize = (8, 10), constrained_layout = True)\n",
    "\n",
    "for i, column in enumerate(numerical.columns):\n",
    "    fig.add_subplot(4, 2, i + 1) \n",
    "    sns.distplot(numerical[column])"
   ]
  },
  {
   "cell_type": "markdown",
   "id": "fd604896",
   "metadata": {},
   "source": [
    "The plots above show that three columns are continuous data: customer_lifetime_value, income, and total_claim_amount.\n",
    "Elses are discrete data.\n"
   ]
  },
  {
   "cell_type": "code",
   "execution_count": 60,
   "id": "d34e08ce",
   "metadata": {},
   "outputs": [
    {
     "data": {
      "text/html": [
       "<div>\n",
       "<style scoped>\n",
       "    .dataframe tbody tr th:only-of-type {\n",
       "        vertical-align: middle;\n",
       "    }\n",
       "\n",
       "    .dataframe tbody tr th {\n",
       "        vertical-align: top;\n",
       "    }\n",
       "\n",
       "    .dataframe thead th {\n",
       "        text-align: right;\n",
       "    }\n",
       "</style>\n",
       "<table border=\"1\" class=\"dataframe\">\n",
       "  <thead>\n",
       "    <tr style=\"text-align: right;\">\n",
       "      <th></th>\n",
       "      <th>customer_lifetime_value</th>\n",
       "      <th>income</th>\n",
       "      <th>total_claim_amount</th>\n",
       "    </tr>\n",
       "  </thead>\n",
       "  <tbody>\n",
       "    <tr>\n",
       "      <th>0</th>\n",
       "      <td>2763.519279</td>\n",
       "      <td>56274</td>\n",
       "      <td>384.811147</td>\n",
       "    </tr>\n",
       "    <tr>\n",
       "      <th>1</th>\n",
       "      <td>6979.535903</td>\n",
       "      <td>0</td>\n",
       "      <td>1131.464935</td>\n",
       "    </tr>\n",
       "    <tr>\n",
       "      <th>2</th>\n",
       "      <td>12887.431650</td>\n",
       "      <td>48767</td>\n",
       "      <td>566.472247</td>\n",
       "    </tr>\n",
       "    <tr>\n",
       "      <th>3</th>\n",
       "      <td>7645.861827</td>\n",
       "      <td>0</td>\n",
       "      <td>529.881344</td>\n",
       "    </tr>\n",
       "    <tr>\n",
       "      <th>4</th>\n",
       "      <td>2813.692575</td>\n",
       "      <td>43836</td>\n",
       "      <td>138.130879</td>\n",
       "    </tr>\n",
       "  </tbody>\n",
       "</table>\n",
       "</div>"
      ],
      "text/plain": [
       "   customer_lifetime_value  income  total_claim_amount\n",
       "0              2763.519279   56274          384.811147\n",
       "1              6979.535903       0         1131.464935\n",
       "2             12887.431650   48767          566.472247\n",
       "3              7645.861827       0          529.881344\n",
       "4              2813.692575   43836          138.130879"
      ]
     },
     "execution_count": 60,
     "metadata": {},
     "output_type": "execute_result"
    }
   ],
   "source": [
    "# To work on outliers, need continuous data\n",
    "\n",
    "contin_df = numerical[['customer_lifetime_value', 'income', 'total_claim_amount']]\n",
    "contin_df.head()"
   ]
  },
  {
   "cell_type": "code",
   "execution_count": 61,
   "id": "426e5334",
   "metadata": {
    "scrolled": false
   },
   "outputs": [
    {
     "data": {
      "image/png": "[encoded data removed]",
      "text/plain": [
       "<Figure size 1200x1200 with 3 Axes>"
      ]
     },
     "metadata": {},
     "output_type": "display_data"
    }
   ],
   "source": [
    "# quick check on boxplot before removing outliers (visualize outliers)\n",
    "\n",
    "fig = plt.figure(figsize = (12, 12), constrained_layout = True)\n",
    "\n",
    "for i, column in enumerate(contin_df.columns):\n",
    "    fig.add_subplot(4, 2, i + 1) \n",
    "    sns.boxplot(contin_df[column])"
   ]
  },
  {
   "cell_type": "markdown",
   "id": "f3f42232",
   "metadata": {},
   "source": [
    "### What did we get from boxplots above?\n",
    "\n",
    "- Boxplots show that customer_lifetime_value and total_claim_amount have (a lot of) values that exceed the upper limit of a (mild) outlier (1.5 x IQR).\n",
    "- But because there is too much information that will be lost if we move all those values. \n",
    "\n",
    "       - So first, I want to check how many information (rows) are there.\n",
    "       - Then decide if that too much to remove or we might need to adjust the upper limit."
   ]
  },
  {
   "cell_type": "code",
   "execution_count": 62,
   "id": "6f41cdcb",
   "metadata": {},
   "outputs": [
    {
     "name": "stdout",
     "output_type": "stream",
     "text": [
      "Upper limit (mild):  16414.039911750002\n",
      "Lower limit (mild):  -3457.6210762500014\n"
     ]
    }
   ],
   "source": [
    "# calculate 1.5 x IQR, in order to see those values that are mild outliers\n",
    "\n",
    "upper_limit = np.percentile(contin_df[\"customer_lifetime_value\"],75) + 1.5*iqr\n",
    "lower_limit = np.percentile(contin_df[\"customer_lifetime_value\"],25) - 1.5*iqr\n",
    "\n",
    "print('Upper limit (mild): ', upper_limit)\n",
    "print('Lower limit (mild): ', lower_limit)"
   ]
  },
  {
   "cell_type": "code",
   "execution_count": 80,
   "id": "483f76a3",
   "metadata": {},
   "outputs": [
    {
     "name": "stdout",
     "output_type": "stream",
     "text": [
      "Number of (mild) outliers:  817 values\n",
      "Proportion to the whole dataset:  8.94 %\n"
     ]
    }
   ],
   "source": [
    "# how many values are (mild) outliers\n",
    "\n",
    "mild_outliers = contin_df[(contin_df[\"customer_lifetime_value\"] < lower_limit) | (contin_df[\"customer_lifetime_value\"] > upper_limit)]\n",
    "\n",
    "print('Number of (mild) outliers: ', len(mild_outliers), 'values')\n",
    "print('Proportion to the whole dataset: ', round(len(mild_outliers)*100/len(contin_df), 2), '%')"
   ]
  },
  {
   "cell_type": "markdown",
   "id": "5dce4cf8",
   "metadata": {},
   "source": [
    "### My thought on this\n",
    "\n",
    "- 9% of data to be lost. I think it's a lot. We could lose important information on that portion.\n",
    "- So I prefer to set the upper limit where those outliers should be less than 1% of the dataset"
   ]
  },
  {
   "cell_type": "code",
   "execution_count": 81,
   "id": "efba1f8f",
   "metadata": {},
   "outputs": [
    {
     "name": "stdout",
     "output_type": "stream",
     "text": [
      "Upper limit (mild):  38769.65852325001\n",
      "Lower limit (mild):  -25813.239687750007\n",
      "Number of (mild) outliers:  66 values\n",
      "Proportion to the whole dataset:  0.72 %\n"
     ]
    }
   ],
   "source": [
    "# find new upper limit (extreme)\n",
    "upper_limit_extreme = np.percentile(contin_df[\"customer_lifetime_value\"],75) + 6*iqr\n",
    "lower_limit_extreme = np.percentile(contin_df[\"customer_lifetime_value\"],25) - 6*iqr\n",
    "print('Upper limit (extreme): ', upper_limit_extreme)\n",
    "print('Lower limit (extreme): ', lower_limit_extreme)\n",
    "\n",
    "\n",
    "\n",
    "# filter the extreme outliers\n",
    "extreme_outliers = contin_df[(contin_df[\"customer_lifetime_value\"] < lower_limit_extreme) | (contin_df[\"customer_lifetime_value\"] > upper_limit_extreme)]\n",
    "print('Number of (extreme) outliers: ', len(extreme_outliers), 'values')\n",
    "print('Proportion to the whole dataset: ', round(len(extreme_outliers)*100/len(contin_df), 2), '%')\n",
    "\n"
   ]
  },
  {
   "cell_type": "markdown",
   "id": "dd7b3aa7",
   "metadata": {},
   "source": [
    "- After setting the extreme upper limit (whis=6), outliers are 0.72% of the data. \n",
    "- To me, it is forgivable to remove those data. But let's check the plot again to see how those data look like."
   ]
  },
  {
   "cell_type": "code",
   "execution_count": 78,
   "id": "1bd684bb",
   "metadata": {
    "scrolled": false
   },
   "outputs": [
    {
     "data": {
      "text/plain": [
       "<AxesSubplot:xlabel='customer_lifetime_value'>"
      ]
     },
     "execution_count": 78,
     "metadata": {},
     "output_type": "execute_result"
    },
    {
     "data": {
      "image/png": "[encoded data removed]",
      "text/plain": [
       "<Figure size 640x480 with 1 Axes>"
      ]
     },
     "metadata": {},
     "output_type": "display_data"
    }
   ],
   "source": [
    "# check if we can remove those extreme outliers and be happy about it\n",
    "sns.boxplot(contin_df[\"customer_lifetime_value\"], whis=6)"
   ]
  },
  {
   "cell_type": "markdown",
   "id": "bd3e8be8",
   "metadata": {},
   "source": [
    "- I don't feel comfortable removing those data and considering them outliers. Because to delete these outliers, it means removing the whole row of data.\n",
    "- There are a bunch of data (could be about 50 values) that can be considered one group of (important) information\n",
    "- At this point, I don't know exactly what is the right approach to deal with this\n",
    "- My thought: \n",
    "\n",
    "        - I consider removing < 1% of data is not that much but I'd like to be safer to not remove too much (they could be important). \n",
    "        - So I decided to move the upper limit, to remove about < 0.5% (we can still remove them later in the process after well consideration.)"
   ]
  },
  {
   "cell_type": "code",
   "execution_count": 92,
   "id": "97126e39",
   "metadata": {},
   "outputs": [
    {
     "name": "stdout",
     "output_type": "stream",
     "text": [
      "Upper limit (mild):  43737.57377025001\n",
      "Lower limit (mild):  -30781.15493475001\n",
      "Number of (mild) outliers:  34 values\n",
      "Proportion to the whole dataset:  0.37 %\n"
     ]
    }
   ],
   "source": [
    "# set new upper limit (extreme)\n",
    "upper_limit_extreme = np.percentile(contin_df[\"customer_lifetime_value\"],75) + 7*iqr\n",
    "lower_limit_extreme = np.percentile(contin_df[\"customer_lifetime_value\"],25) - 7*iqr\n",
    "print('Upper limit (extreme): ', upper_limit_extreme)\n",
    "print('Lower limit (extreme): ', lower_limit_extreme)\n",
    "\n",
    "\n",
    "\n",
    "# filter the extreme outliers\n",
    "extreme_outliers = contin_df[(contin_df[\"customer_lifetime_value\"] < lower_limit_extreme) | (contin_df[\"customer_lifetime_value\"] > upper_limit_extreme)]\n",
    "print('Number of (extreme) outliers: ', len(extreme_outliers), 'values')\n",
    "print('Proportion to the whole dataset: ', round(len(extreme_outliers)*100/len(contin_df), 2), '%')\n",
    "\n"
   ]
  },
  {
   "cell_type": "code",
   "execution_count": 90,
   "id": "fd1d3593",
   "metadata": {},
   "outputs": [
    {
     "data": {
      "text/plain": [
       "<AxesSubplot:xlabel='customer_lifetime_value'>"
      ]
     },
     "execution_count": 90,
     "metadata": {},
     "output_type": "execute_result"
    },
    {
     "data": {
      "image/png": "[encoded data removed]",
      "text/plain": [
       "<Figure size 640x480 with 1 Axes>"
      ]
     },
     "metadata": {},
     "output_type": "display_data"
    }
   ],
   "source": [
    "# check boxplot one more time\n",
    "sns.boxplot(contin_df[\"customer_lifetime_value\"], whis=7)"
   ]
  },
  {
   "cell_type": "code",
   "execution_count": 101,
   "id": "00442d81",
   "metadata": {},
   "outputs": [
    {
     "name": "stdout",
     "output_type": "stream",
     "text": [
      "We now have 9100 rows in the data frame\n"
     ]
    }
   ],
   "source": [
    "# remove extreme outliers from the data\n",
    "contin_df = contin_df[(contin_df[\"customer_lifetime_value\"] > lower_limit_extreme) & (contin_df[\"customer_lifetime_value\"] < upper_limit_extreme)]\n",
    "\n",
    "print('We now have', len(contin_df), 'rows in the data frame')\n",
    "\n"
   ]
  },
  {
   "cell_type": "markdown",
   "id": "93fe2d89",
   "metadata": {},
   "source": [
    "### What I see here\n",
    "\n",
    "- After removing 34 rows, this means we also removed those outliers in the total_claim_amount column as well.\n",
    "- So I do boxplot again to do a quick check on continuous data\n",
    "\n",
    "        - There are three values that look like outliers but consider total_claim_amount (see plot below) as a target of this dataset. So we don't need to delete those values."
   ]
  },
  {
   "cell_type": "code",
   "execution_count": 100,
   "id": "1de822ca",
   "metadata": {
    "scrolled": false
   },
   "outputs": [
    {
     "data": {
      "image/png": "[encoded data removed]",
      "text/plain": [
       "<Figure size 1200x1200 with 3 Axes>"
      ]
     },
     "metadata": {},
     "output_type": "display_data"
    }
   ],
   "source": [
    "# quick check on boxplot before removing outliers (visualize outliers)\n",
    "\n",
    "fig = plt.figure(figsize = (12, 12), constrained_layout = True)\n",
    "\n",
    "for i, column in enumerate(contin_df.columns):\n",
    "    fig.add_subplot(4, 2, i + 1) \n",
    "    sns.boxplot(contin_df[column], whis=7)"
   ]
  },
  {
   "cell_type": "markdown",
   "id": "29f77101",
   "metadata": {},
   "source": [
    "# 2. Create a copy of the dataframe for the data wrangling.\n"
   ]
  },
  {
   "cell_type": "code",
   "execution_count": 194,
   "id": "e8ac8c60",
   "metadata": {},
   "outputs": [],
   "source": [
    "df_copy = df.copy()"
   ]
  },
  {
   "cell_type": "code",
   "execution_count": 195,
   "id": "46c7b6af",
   "metadata": {},
   "outputs": [
    {
     "data": {
      "text/plain": [
       "9134"
      ]
     },
     "execution_count": 195,
     "metadata": {},
     "output_type": "execute_result"
    }
   ],
   "source": [
    "len(df_copy)"
   ]
  },
  {
   "cell_type": "code",
   "execution_count": 196,
   "id": "9feeef79",
   "metadata": {},
   "outputs": [
    {
     "data": {
      "text/html": [
       "<div>\n",
       "<style scoped>\n",
       "    .dataframe tbody tr th:only-of-type {\n",
       "        vertical-align: middle;\n",
       "    }\n",
       "\n",
       "    .dataframe tbody tr th {\n",
       "        vertical-align: top;\n",
       "    }\n",
       "\n",
       "    .dataframe thead th {\n",
       "        text-align: right;\n",
       "    }\n",
       "</style>\n",
       "<table border=\"1\" class=\"dataframe\">\n",
       "  <thead>\n",
       "    <tr style=\"text-align: right;\">\n",
       "      <th></th>\n",
       "      <th>customer</th>\n",
       "      <th>state</th>\n",
       "      <th>customer_lifetime_value</th>\n",
       "      <th>response</th>\n",
       "      <th>coverage</th>\n",
       "      <th>education</th>\n",
       "      <th>effective_to_date</th>\n",
       "      <th>employmentstatus</th>\n",
       "      <th>gender</th>\n",
       "      <th>income</th>\n",
       "      <th>...</th>\n",
       "      <th>months_since_policy_inception</th>\n",
       "      <th>number_of_open_complaints</th>\n",
       "      <th>number_of_policies</th>\n",
       "      <th>policy_type</th>\n",
       "      <th>policy</th>\n",
       "      <th>renew_offer_type</th>\n",
       "      <th>sales_channel</th>\n",
       "      <th>total_claim_amount</th>\n",
       "      <th>vehicle_class</th>\n",
       "      <th>vehicle_size</th>\n",
       "    </tr>\n",
       "  </thead>\n",
       "  <tbody>\n",
       "    <tr>\n",
       "      <th>0</th>\n",
       "      <td>BU79786</td>\n",
       "      <td>Washington</td>\n",
       "      <td>2763.519279</td>\n",
       "      <td>No</td>\n",
       "      <td>Basic</td>\n",
       "      <td>Bachelor</td>\n",
       "      <td>2/24/11</td>\n",
       "      <td>Employed</td>\n",
       "      <td>F</td>\n",
       "      <td>56274</td>\n",
       "      <td>...</td>\n",
       "      <td>5</td>\n",
       "      <td>0</td>\n",
       "      <td>1</td>\n",
       "      <td>Corporate Auto</td>\n",
       "      <td>Corporate L3</td>\n",
       "      <td>Offer1</td>\n",
       "      <td>Agent</td>\n",
       "      <td>384.811147</td>\n",
       "      <td>Two-Door Car</td>\n",
       "      <td>Medsize</td>\n",
       "    </tr>\n",
       "    <tr>\n",
       "      <th>1</th>\n",
       "      <td>QZ44356</td>\n",
       "      <td>Arizona</td>\n",
       "      <td>6979.535903</td>\n",
       "      <td>No</td>\n",
       "      <td>Extended</td>\n",
       "      <td>Bachelor</td>\n",
       "      <td>1/31/11</td>\n",
       "      <td>Unemployed</td>\n",
       "      <td>F</td>\n",
       "      <td>0</td>\n",
       "      <td>...</td>\n",
       "      <td>42</td>\n",
       "      <td>0</td>\n",
       "      <td>8</td>\n",
       "      <td>Personal Auto</td>\n",
       "      <td>Personal L3</td>\n",
       "      <td>Offer3</td>\n",
       "      <td>Agent</td>\n",
       "      <td>1131.464935</td>\n",
       "      <td>Four-Door Car</td>\n",
       "      <td>Medsize</td>\n",
       "    </tr>\n",
       "    <tr>\n",
       "      <th>2</th>\n",
       "      <td>AI49188</td>\n",
       "      <td>Nevada</td>\n",
       "      <td>12887.431650</td>\n",
       "      <td>No</td>\n",
       "      <td>Premium</td>\n",
       "      <td>Bachelor</td>\n",
       "      <td>2/19/11</td>\n",
       "      <td>Employed</td>\n",
       "      <td>F</td>\n",
       "      <td>48767</td>\n",
       "      <td>...</td>\n",
       "      <td>38</td>\n",
       "      <td>0</td>\n",
       "      <td>2</td>\n",
       "      <td>Personal Auto</td>\n",
       "      <td>Personal L3</td>\n",
       "      <td>Offer1</td>\n",
       "      <td>Agent</td>\n",
       "      <td>566.472247</td>\n",
       "      <td>Two-Door Car</td>\n",
       "      <td>Medsize</td>\n",
       "    </tr>\n",
       "    <tr>\n",
       "      <th>3</th>\n",
       "      <td>WW63253</td>\n",
       "      <td>California</td>\n",
       "      <td>7645.861827</td>\n",
       "      <td>No</td>\n",
       "      <td>Basic</td>\n",
       "      <td>Bachelor</td>\n",
       "      <td>1/20/11</td>\n",
       "      <td>Unemployed</td>\n",
       "      <td>M</td>\n",
       "      <td>0</td>\n",
       "      <td>...</td>\n",
       "      <td>65</td>\n",
       "      <td>0</td>\n",
       "      <td>7</td>\n",
       "      <td>Corporate Auto</td>\n",
       "      <td>Corporate L2</td>\n",
       "      <td>Offer1</td>\n",
       "      <td>Call Center</td>\n",
       "      <td>529.881344</td>\n",
       "      <td>SUV</td>\n",
       "      <td>Medsize</td>\n",
       "    </tr>\n",
       "    <tr>\n",
       "      <th>4</th>\n",
       "      <td>HB64268</td>\n",
       "      <td>Washington</td>\n",
       "      <td>2813.692575</td>\n",
       "      <td>No</td>\n",
       "      <td>Basic</td>\n",
       "      <td>Bachelor</td>\n",
       "      <td>2/3/11</td>\n",
       "      <td>Employed</td>\n",
       "      <td>M</td>\n",
       "      <td>43836</td>\n",
       "      <td>...</td>\n",
       "      <td>44</td>\n",
       "      <td>0</td>\n",
       "      <td>1</td>\n",
       "      <td>Personal Auto</td>\n",
       "      <td>Personal L1</td>\n",
       "      <td>Offer1</td>\n",
       "      <td>Agent</td>\n",
       "      <td>138.130879</td>\n",
       "      <td>Four-Door Car</td>\n",
       "      <td>Medsize</td>\n",
       "    </tr>\n",
       "  </tbody>\n",
       "</table>\n",
       "<p>5 rows × 24 columns</p>\n",
       "</div>"
      ],
      "text/plain": [
       "  customer       state  customer_lifetime_value response  coverage education  \\\n",
       "0  BU79786  Washington              2763.519279       No     Basic  Bachelor   \n",
       "1  QZ44356     Arizona              6979.535903       No  Extended  Bachelor   \n",
       "2  AI49188      Nevada             12887.431650       No   Premium  Bachelor   \n",
       "3  WW63253  California              7645.861827       No     Basic  Bachelor   \n",
       "4  HB64268  Washington              2813.692575       No     Basic  Bachelor   \n",
       "\n",
       "  effective_to_date employmentstatus gender  income  ...  \\\n",
       "0           2/24/11         Employed      F   56274  ...   \n",
       "1           1/31/11       Unemployed      F       0  ...   \n",
       "2           2/19/11         Employed      F   48767  ...   \n",
       "3           1/20/11       Unemployed      M       0  ...   \n",
       "4            2/3/11         Employed      M   43836  ...   \n",
       "\n",
       "  months_since_policy_inception number_of_open_complaints  number_of_policies  \\\n",
       "0                             5                         0                   1   \n",
       "1                            42                         0                   8   \n",
       "2                            38                         0                   2   \n",
       "3                            65                         0                   7   \n",
       "4                            44                         0                   1   \n",
       "\n",
       "      policy_type        policy  renew_offer_type  sales_channel  \\\n",
       "0  Corporate Auto  Corporate L3            Offer1          Agent   \n",
       "1   Personal Auto   Personal L3            Offer3          Agent   \n",
       "2   Personal Auto   Personal L3            Offer1          Agent   \n",
       "3  Corporate Auto  Corporate L2            Offer1    Call Center   \n",
       "4   Personal Auto   Personal L1            Offer1          Agent   \n",
       "\n",
       "  total_claim_amount  vehicle_class vehicle_size  \n",
       "0         384.811147   Two-Door Car      Medsize  \n",
       "1        1131.464935  Four-Door Car      Medsize  \n",
       "2         566.472247   Two-Door Car      Medsize  \n",
       "3         529.881344            SUV      Medsize  \n",
       "4         138.130879  Four-Door Car      Medsize  \n",
       "\n",
       "[5 rows x 24 columns]"
      ]
     },
     "execution_count": 196,
     "metadata": {},
     "output_type": "execute_result"
    }
   ],
   "source": [
    "df_copy.head()"
   ]
  },
  {
   "cell_type": "code",
   "execution_count": 197,
   "id": "63ccecc0",
   "metadata": {},
   "outputs": [],
   "source": [
    "df_copy = df_copy.drop(['customer'], axis=1)\n",
    "\n",
    "# change effective_to_date to datetime\n",
    "df_copy['effective_to_date'] = pd.to_datetime(df_copy['effective_to_date'])"
   ]
  },
  {
   "cell_type": "code",
   "execution_count": 198,
   "id": "592543ca",
   "metadata": {},
   "outputs": [
    {
     "name": "stdout",
     "output_type": "stream",
     "text": [
      "Upper limit (extreme):  43737.57377025001\n",
      "Lower limit (extreme):  -30781.15493475001\n",
      "Number of (extreme) outliers:  34 values\n",
      "Proportion to the whole dataset:  0.37 %\n",
      "We now have 9100 rows in the data frame\n"
     ]
    }
   ],
   "source": [
    "# remove the outliers that we made example in previous step\n",
    "upper_limit = np.percentile(df_copy[\"customer_lifetime_value\"],75) + 7*iqr\n",
    "lower_limit = np.percentile(df_copy[\"customer_lifetime_value\"],25) - 7*iqr\n",
    "print('Upper limit (extreme): ', upper_limit)\n",
    "print('Lower limit (extreme): ', lower_limit)\n",
    "\n",
    "\n",
    "# how many rows to delete\n",
    "extreme_outliers = df_copy[(df_copy[\"customer_lifetime_value\"] < lower_limit) | (df_copy[\"customer_lifetime_value\"] > upper_limit)]\n",
    "print('Number of (extreme) outliers: ', len(extreme_outliers), 'values')\n",
    "print('Proportion to the whole dataset: ', round(len(extreme_outliers)*100/len(df_copy), 2), '%')\n",
    "\n",
    "# remove extreme outliers from the data\n",
    "df_copy = df_copy[(df_copy[\"customer_lifetime_value\"] > lower_limit) & (df_copy[\"customer_lifetime_value\"] < upper_limit)]\n",
    "print('We now have', len(df_copy), 'rows in the data frame')\n"
   ]
  },
  {
   "cell_type": "code",
   "execution_count": null,
   "id": "c9b1d4d8",
   "metadata": {},
   "outputs": [],
   "source": []
  },
  {
   "cell_type": "code",
   "execution_count": null,
   "id": "b45f6693",
   "metadata": {},
   "outputs": [],
   "source": []
  },
  {
   "cell_type": "code",
   "execution_count": null,
   "id": "5210465a",
   "metadata": {},
   "outputs": [],
   "source": []
  },
  {
   "cell_type": "code",
   "execution_count": null,
   "id": "5bb57de0",
   "metadata": {},
   "outputs": [],
   "source": []
  },
  {
   "cell_type": "markdown",
   "id": "dc64de1f",
   "metadata": {},
   "source": [
    "# 3. Normalize the continuous variables. \n",
    "\n",
    "You can use any one method you want.\n"
   ]
  },
  {
   "cell_type": "code",
   "execution_count": 199,
   "id": "56bfcf1d",
   "metadata": {},
   "outputs": [
    {
     "data": {
      "text/html": [
       "<div>\n",
       "<style scoped>\n",
       "    .dataframe tbody tr th:only-of-type {\n",
       "        vertical-align: middle;\n",
       "    }\n",
       "\n",
       "    .dataframe tbody tr th {\n",
       "        vertical-align: top;\n",
       "    }\n",
       "\n",
       "    .dataframe thead th {\n",
       "        text-align: right;\n",
       "    }\n",
       "</style>\n",
       "<table border=\"1\" class=\"dataframe\">\n",
       "  <thead>\n",
       "    <tr style=\"text-align: right;\">\n",
       "      <th></th>\n",
       "      <th>customer_lifetime_value</th>\n",
       "      <th>income</th>\n",
       "      <th>total_claim_amount</th>\n",
       "    </tr>\n",
       "  </thead>\n",
       "  <tbody>\n",
       "    <tr>\n",
       "      <th>0</th>\n",
       "      <td>2763.519279</td>\n",
       "      <td>56274</td>\n",
       "      <td>384.811147</td>\n",
       "    </tr>\n",
       "    <tr>\n",
       "      <th>1</th>\n",
       "      <td>6979.535903</td>\n",
       "      <td>0</td>\n",
       "      <td>1131.464935</td>\n",
       "    </tr>\n",
       "    <tr>\n",
       "      <th>2</th>\n",
       "      <td>12887.431650</td>\n",
       "      <td>48767</td>\n",
       "      <td>566.472247</td>\n",
       "    </tr>\n",
       "    <tr>\n",
       "      <th>3</th>\n",
       "      <td>7645.861827</td>\n",
       "      <td>0</td>\n",
       "      <td>529.881344</td>\n",
       "    </tr>\n",
       "    <tr>\n",
       "      <th>4</th>\n",
       "      <td>2813.692575</td>\n",
       "      <td>43836</td>\n",
       "      <td>138.130879</td>\n",
       "    </tr>\n",
       "  </tbody>\n",
       "</table>\n",
       "</div>"
      ],
      "text/plain": [
       "   customer_lifetime_value  income  total_claim_amount\n",
       "0              2763.519279   56274          384.811147\n",
       "1              6979.535903       0         1131.464935\n",
       "2             12887.431650   48767          566.472247\n",
       "3              7645.861827       0          529.881344\n",
       "4              2813.692575   43836          138.130879"
      ]
     },
     "execution_count": 199,
     "metadata": {},
     "output_type": "execute_result"
    }
   ],
   "source": [
    "# get numerical data\n",
    "numerical = df_copy.select_dtypes(include=\"number\")\n",
    "\n",
    "# get continuous data for normalisation (exclude total_claim_amount because it is out target)\n",
    "cont_df = numerical[['customer_lifetime_value', 'income', 'total_claim_amount']]\n",
    "cont_df.head()"
   ]
  },
  {
   "cell_type": "code",
   "execution_count": 200,
   "id": "33616818",
   "metadata": {},
   "outputs": [],
   "source": [
    "X = cont_df[['customer_lifetime_value', 'income']]\n",
    "y = cont_df[['income']]"
   ]
  },
  {
   "cell_type": "code",
   "execution_count": 201,
   "id": "d93f7858",
   "metadata": {},
   "outputs": [],
   "source": [
    "# I've never done Box-Cox transformation so I'll try Box-Cox this time\n",
    "\n",
    "def boxcox_transform(df):\n",
    "    continous_cols = df.columns\n",
    "    _ci = {column: None for column in continous_cols}\n",
    "    for column in continous_cols:\n",
    "        df[column] = np.where(df[column]<=0, np.NAN, df[column]) # fill 0 with NaN\n",
    "        df[column] = df[column].fillna(df[column].mean()) # fill NaN with mean\n",
    "        transformed_data, ci = stats.boxcox(df[column]) # transform with Box-Cox\n",
    "        df[column] = transformed_data\n",
    "        _ci[column] = [ci] \n",
    "    return df, _ci\n",
    "X_tranformed, _ci = boxcox_transform(X)"
   ]
  },
  {
   "cell_type": "code",
   "execution_count": 202,
   "id": "59d63f45",
   "metadata": {},
   "outputs": [
    {
     "data": {
      "text/html": [
       "<div>\n",
       "<style scoped>\n",
       "    .dataframe tbody tr th:only-of-type {\n",
       "        vertical-align: middle;\n",
       "    }\n",
       "\n",
       "    .dataframe tbody tr th {\n",
       "        vertical-align: top;\n",
       "    }\n",
       "\n",
       "    .dataframe thead th {\n",
       "        text-align: right;\n",
       "    }\n",
       "</style>\n",
       "<table border=\"1\" class=\"dataframe\">\n",
       "  <thead>\n",
       "    <tr style=\"text-align: right;\">\n",
       "      <th></th>\n",
       "      <th>customer_lifetime_value</th>\n",
       "      <th>income</th>\n",
       "    </tr>\n",
       "  </thead>\n",
       "  <tbody>\n",
       "    <tr>\n",
       "      <th>0</th>\n",
       "      <td>2.856682</td>\n",
       "      <td>1237.091748</td>\n",
       "    </tr>\n",
       "    <tr>\n",
       "      <th>1</th>\n",
       "      <td>2.918620</td>\n",
       "      <td>1157.747047</td>\n",
       "    </tr>\n",
       "    <tr>\n",
       "      <th>2</th>\n",
       "      <td>2.950527</td>\n",
       "      <td>1134.271699</td>\n",
       "    </tr>\n",
       "    <tr>\n",
       "      <th>3</th>\n",
       "      <td>2.923773</td>\n",
       "      <td>1157.747047</td>\n",
       "    </tr>\n",
       "    <tr>\n",
       "      <th>4</th>\n",
       "      <td>2.858070</td>\n",
       "      <td>1063.303375</td>\n",
       "    </tr>\n",
       "  </tbody>\n",
       "</table>\n",
       "</div>"
      ],
      "text/plain": [
       "   customer_lifetime_value       income\n",
       "0                 2.856682  1237.091748\n",
       "1                 2.918620  1157.747047\n",
       "2                 2.950527  1134.271699\n",
       "3                 2.923773  1157.747047\n",
       "4                 2.858070  1063.303375"
      ]
     },
     "execution_count": 202,
     "metadata": {},
     "output_type": "execute_result"
    }
   ],
   "source": [
    "X_tranformed.head()"
   ]
  },
  {
   "cell_type": "code",
   "execution_count": 203,
   "id": "d03eb7e6",
   "metadata": {},
   "outputs": [
    {
     "data": {
      "image/png": "[encoded data removed]",
      "text/plain": [
       "<Figure size 800x300 with 2 Axes>"
      ]
     },
     "metadata": {},
     "output_type": "display_data"
    }
   ],
   "source": [
    "# check distribution after transformed data\n",
    "\n",
    "\n",
    "fig = plt.figure(figsize = (8, 3), constrained_layout = True)\n",
    "\n",
    "for i, column in enumerate(X_tranformed.columns):\n",
    "    fig.add_subplot(1, 2, i + 1) \n",
    "    sns.distplot(X_tranformed[column])"
   ]
  },
  {
   "cell_type": "code",
   "execution_count": null,
   "id": "07d8e14a",
   "metadata": {},
   "outputs": [],
   "source": []
  },
  {
   "cell_type": "markdown",
   "id": "1584400b",
   "metadata": {},
   "source": [
    "# 4. Encode the categorical variables\n"
   ]
  },
  {
   "cell_type": "code",
   "execution_count": 204,
   "id": "c15db015",
   "metadata": {},
   "outputs": [
    {
     "data": {
      "text/html": [
       "<div>\n",
       "<style scoped>\n",
       "    .dataframe tbody tr th:only-of-type {\n",
       "        vertical-align: middle;\n",
       "    }\n",
       "\n",
       "    .dataframe tbody tr th {\n",
       "        vertical-align: top;\n",
       "    }\n",
       "\n",
       "    .dataframe thead th {\n",
       "        text-align: right;\n",
       "    }\n",
       "</style>\n",
       "<table border=\"1\" class=\"dataframe\">\n",
       "  <thead>\n",
       "    <tr style=\"text-align: right;\">\n",
       "      <th></th>\n",
       "      <th>state</th>\n",
       "      <th>response</th>\n",
       "      <th>coverage</th>\n",
       "      <th>education</th>\n",
       "      <th>employmentstatus</th>\n",
       "      <th>gender</th>\n",
       "      <th>location_code</th>\n",
       "      <th>marital_status</th>\n",
       "      <th>policy_type</th>\n",
       "      <th>policy</th>\n",
       "      <th>renew_offer_type</th>\n",
       "      <th>sales_channel</th>\n",
       "      <th>vehicle_class</th>\n",
       "      <th>vehicle_size</th>\n",
       "    </tr>\n",
       "  </thead>\n",
       "  <tbody>\n",
       "    <tr>\n",
       "      <th>0</th>\n",
       "      <td>Washington</td>\n",
       "      <td>No</td>\n",
       "      <td>Basic</td>\n",
       "      <td>Bachelor</td>\n",
       "      <td>Employed</td>\n",
       "      <td>F</td>\n",
       "      <td>Suburban</td>\n",
       "      <td>Married</td>\n",
       "      <td>Corporate Auto</td>\n",
       "      <td>Corporate L3</td>\n",
       "      <td>Offer1</td>\n",
       "      <td>Agent</td>\n",
       "      <td>Two-Door Car</td>\n",
       "      <td>Medsize</td>\n",
       "    </tr>\n",
       "    <tr>\n",
       "      <th>1</th>\n",
       "      <td>Arizona</td>\n",
       "      <td>No</td>\n",
       "      <td>Extended</td>\n",
       "      <td>Bachelor</td>\n",
       "      <td>Unemployed</td>\n",
       "      <td>F</td>\n",
       "      <td>Suburban</td>\n",
       "      <td>Single</td>\n",
       "      <td>Personal Auto</td>\n",
       "      <td>Personal L3</td>\n",
       "      <td>Offer3</td>\n",
       "      <td>Agent</td>\n",
       "      <td>Four-Door Car</td>\n",
       "      <td>Medsize</td>\n",
       "    </tr>\n",
       "    <tr>\n",
       "      <th>2</th>\n",
       "      <td>Nevada</td>\n",
       "      <td>No</td>\n",
       "      <td>Premium</td>\n",
       "      <td>Bachelor</td>\n",
       "      <td>Employed</td>\n",
       "      <td>F</td>\n",
       "      <td>Suburban</td>\n",
       "      <td>Married</td>\n",
       "      <td>Personal Auto</td>\n",
       "      <td>Personal L3</td>\n",
       "      <td>Offer1</td>\n",
       "      <td>Agent</td>\n",
       "      <td>Two-Door Car</td>\n",
       "      <td>Medsize</td>\n",
       "    </tr>\n",
       "    <tr>\n",
       "      <th>3</th>\n",
       "      <td>California</td>\n",
       "      <td>No</td>\n",
       "      <td>Basic</td>\n",
       "      <td>Bachelor</td>\n",
       "      <td>Unemployed</td>\n",
       "      <td>M</td>\n",
       "      <td>Suburban</td>\n",
       "      <td>Married</td>\n",
       "      <td>Corporate Auto</td>\n",
       "      <td>Corporate L2</td>\n",
       "      <td>Offer1</td>\n",
       "      <td>Call Center</td>\n",
       "      <td>SUV</td>\n",
       "      <td>Medsize</td>\n",
       "    </tr>\n",
       "    <tr>\n",
       "      <th>4</th>\n",
       "      <td>Washington</td>\n",
       "      <td>No</td>\n",
       "      <td>Basic</td>\n",
       "      <td>Bachelor</td>\n",
       "      <td>Employed</td>\n",
       "      <td>M</td>\n",
       "      <td>Rural</td>\n",
       "      <td>Single</td>\n",
       "      <td>Personal Auto</td>\n",
       "      <td>Personal L1</td>\n",
       "      <td>Offer1</td>\n",
       "      <td>Agent</td>\n",
       "      <td>Four-Door Car</td>\n",
       "      <td>Medsize</td>\n",
       "    </tr>\n",
       "  </tbody>\n",
       "</table>\n",
       "</div>"
      ],
      "text/plain": [
       "        state response  coverage education employmentstatus gender  \\\n",
       "0  Washington       No     Basic  Bachelor         Employed      F   \n",
       "1     Arizona       No  Extended  Bachelor       Unemployed      F   \n",
       "2      Nevada       No   Premium  Bachelor         Employed      F   \n",
       "3  California       No     Basic  Bachelor       Unemployed      M   \n",
       "4  Washington       No     Basic  Bachelor         Employed      M   \n",
       "\n",
       "  location_code marital_status     policy_type        policy renew_offer_type  \\\n",
       "0      Suburban        Married  Corporate Auto  Corporate L3           Offer1   \n",
       "1      Suburban         Single   Personal Auto   Personal L3           Offer3   \n",
       "2      Suburban        Married   Personal Auto   Personal L3           Offer1   \n",
       "3      Suburban        Married  Corporate Auto  Corporate L2           Offer1   \n",
       "4         Rural         Single   Personal Auto   Personal L1           Offer1   \n",
       "\n",
       "  sales_channel  vehicle_class vehicle_size  \n",
       "0         Agent   Two-Door Car      Medsize  \n",
       "1         Agent  Four-Door Car      Medsize  \n",
       "2         Agent   Two-Door Car      Medsize  \n",
       "3   Call Center            SUV      Medsize  \n",
       "4         Agent  Four-Door Car      Medsize  "
      ]
     },
     "execution_count": 204,
     "metadata": {},
     "output_type": "execute_result"
    }
   ],
   "source": [
    "categorical = df_copy.select_dtypes(include=\"object\")\n",
    "categorical.head()"
   ]
  },
  {
   "cell_type": "code",
   "execution_count": 205,
   "id": "828ff250",
   "metadata": {
    "scrolled": false
   },
   "outputs": [
    {
     "name": "stdout",
     "output_type": "stream",
     "text": [
      "<class 'pandas.core.frame.DataFrame'>\n",
      "Int64Index: 9100 entries, 0 to 9133\n",
      "Data columns (total 14 columns):\n",
      " #   Column            Non-Null Count  Dtype \n",
      "---  ------            --------------  ----- \n",
      " 0   state             9100 non-null   object\n",
      " 1   response          9100 non-null   object\n",
      " 2   coverage          9100 non-null   object\n",
      " 3   education         9100 non-null   object\n",
      " 4   employmentstatus  9100 non-null   object\n",
      " 5   gender            9100 non-null   object\n",
      " 6   location_code     9100 non-null   object\n",
      " 7   marital_status    9100 non-null   object\n",
      " 8   policy_type       9100 non-null   object\n",
      " 9   policy            9100 non-null   object\n",
      " 10  renew_offer_type  9100 non-null   object\n",
      " 11  sales_channel     9100 non-null   object\n",
      " 12  vehicle_class     9100 non-null   object\n",
      " 13  vehicle_size      9100 non-null   object\n",
      "dtypes: object(14)\n",
      "memory usage: 1.0+ MB\n"
     ]
    }
   ],
   "source": [
    "categorical.info()"
   ]
  },
  {
   "cell_type": "code",
   "execution_count": 207,
   "id": "50567f9b",
   "metadata": {},
   "outputs": [
    {
     "name": "stdout",
     "output_type": "stream",
     "text": [
      "\n",
      "state\n",
      "California    3140\n",
      "Oregon        2591\n",
      "Arizona       1697\n",
      "Nevada         878\n",
      "Washington     794\n",
      "Name: state, dtype: int64\n",
      "\n",
      "response\n",
      "No     7792\n",
      "Yes    1308\n",
      "Name: response, dtype: int64\n",
      "\n",
      "coverage\n",
      "Basic       5560\n",
      "Extended    2725\n",
      "Premium      815\n",
      "Name: coverage, dtype: int64\n",
      "\n",
      "education\n",
      "Bachelor                2739\n",
      "College                 2671\n",
      "High School or Below    2610\n",
      "Master                   739\n",
      "Doctor                   341\n",
      "Name: education, dtype: int64\n",
      "\n",
      "employmentstatus\n",
      "Employed         5673\n",
      "Unemployed       2309\n",
      "Medical Leave     432\n",
      "Disabled          404\n",
      "Retired           282\n",
      "Name: employmentstatus, dtype: int64\n",
      "\n",
      "gender\n",
      "F    4642\n",
      "M    4458\n",
      "Name: gender, dtype: int64\n",
      "\n",
      "location_code\n",
      "Suburban    5758\n",
      "Rural       1768\n",
      "Urban       1574\n",
      "Name: location_code, dtype: int64\n",
      "\n",
      "marital_status\n",
      "Married     5276\n",
      "Single      2457\n",
      "Divorced    1367\n",
      "Name: marital_status, dtype: int64\n",
      "\n",
      "policy_type\n",
      "Personal Auto     6759\n",
      "Corporate Auto    1964\n",
      "Special Auto       377\n",
      "Name: policy_type, dtype: int64\n",
      "\n",
      "policy\n",
      "Personal L3     3413\n",
      "Personal L2     2114\n",
      "Personal L1     1232\n",
      "Corporate L3    1013\n",
      "Corporate L2     594\n",
      "Corporate L1     357\n",
      "Special L2       164\n",
      "Special L3       147\n",
      "Special L1        66\n",
      "Name: policy, dtype: int64\n",
      "\n",
      "renew_offer_type\n",
      "Offer1    3733\n",
      "Offer2    2917\n",
      "Offer3    1427\n",
      "Offer4    1023\n",
      "Name: renew_offer_type, dtype: int64\n",
      "\n",
      "sales_channel\n",
      "Agent          3464\n",
      "Branch         2557\n",
      "Call Center    1758\n",
      "Web            1321\n",
      "Name: sales_channel, dtype: int64\n",
      "\n",
      "vehicle_class\n",
      "Four-Door Car    4621\n",
      "Two-Door Car     1886\n",
      "SUV              1782\n",
      "Sports Car        482\n",
      "Luxury SUV        173\n",
      "Luxury Car        156\n",
      "Name: vehicle_class, dtype: int64\n",
      "\n",
      "vehicle_size\n",
      "Medsize    6404\n",
      "Small      1755\n",
      "Large       941\n",
      "Name: vehicle_size, dtype: int64\n"
     ]
    }
   ],
   "source": [
    "# check value_counts for each column before encoding them\n",
    "\n",
    "for column in categorical.columns:\n",
    "    print(\"\\n\" + column)\n",
    "    print(categorical[column].value_counts())"
   ]
  },
  {
   "cell_type": "code",
   "execution_count": 208,
   "id": "169c1234",
   "metadata": {},
   "outputs": [],
   "source": [
    "# drop policy because of redundancy\n",
    "categorical = categorical.drop(['policy'], axis=1)"
   ]
  },
  {
   "cell_type": "code",
   "execution_count": 211,
   "id": "22c7fad5",
   "metadata": {},
   "outputs": [
    {
     "data": {
      "text/plain": [
       "(9100, 13)"
      ]
     },
     "execution_count": 211,
     "metadata": {},
     "output_type": "execute_result"
    }
   ],
   "source": [
    "categorical.shape"
   ]
  },
  {
   "cell_type": "code",
   "execution_count": 210,
   "id": "50b8427e",
   "metadata": {},
   "outputs": [
    {
     "data": {
      "text/plain": [
       "(9100, 35)"
      ]
     },
     "execution_count": 210,
     "metadata": {},
     "output_type": "execute_result"
    }
   ],
   "source": [
    "# Decoding categorical\n",
    "\n",
    "encoder = OneHotEncoder(handle_unknown='ignore', drop='first')\n",
    "encoder.fit(categorical)\n",
    "encoded = encoder.transform(categorical).toarray() # transform step = encoding step --> get an array as a result \n",
    "cat_encoded = pd.DataFrame(encoded) # put the array into a data frame\n",
    "cat_encoded.columns = encoder.get_feature_names_out() # name the columns after transformation\n",
    "cat_encoded.shape"
   ]
  },
  {
   "cell_type": "code",
   "execution_count": 212,
   "id": "3f266e69",
   "metadata": {},
   "outputs": [
    {
     "data": {
      "text/plain": [
       "(9134, 37)"
      ]
     },
     "execution_count": 212,
     "metadata": {},
     "output_type": "execute_result"
    }
   ],
   "source": [
    "# Concat categorical & numerical data (the normalized one) into one data frame, X\n",
    "X = pd.concat([X_tranformed, cat_encoded], axis=1)\n",
    "X.shape"
   ]
  },
  {
   "cell_type": "markdown",
   "id": "a09221b3",
   "metadata": {},
   "source": [
    "# 5. The time variable can be useful. \n",
    "\n",
    "Try to transform its data into a useful one. \n",
    "Hint: Day week and month as integers might be useful.\n"
   ]
  },
  {
   "cell_type": "code",
   "execution_count": 223,
   "id": "4d3285e4",
   "metadata": {},
   "outputs": [],
   "source": [
    "# extract day, week, month and I put them into X dataframe directly in order to use\n",
    "X['day'] = df_copy['effective_to_date'].dt.day\n",
    "X['week'] = df_copy['effective_to_date'].dt.week\n",
    "X['month'] = df_copy['effective_to_date'].dt.month"
   ]
  },
  {
   "cell_type": "code",
   "execution_count": 227,
   "id": "0ee3b5b8",
   "metadata": {},
   "outputs": [
    {
     "data": {
      "text/html": [
       "<div>\n",
       "<style scoped>\n",
       "    .dataframe tbody tr th:only-of-type {\n",
       "        vertical-align: middle;\n",
       "    }\n",
       "\n",
       "    .dataframe tbody tr th {\n",
       "        vertical-align: top;\n",
       "    }\n",
       "\n",
       "    .dataframe thead th {\n",
       "        text-align: right;\n",
       "    }\n",
       "</style>\n",
       "<table border=\"1\" class=\"dataframe\">\n",
       "  <thead>\n",
       "    <tr style=\"text-align: right;\">\n",
       "      <th></th>\n",
       "      <th>customer_lifetime_value</th>\n",
       "      <th>income</th>\n",
       "      <th>state_California</th>\n",
       "      <th>state_Nevada</th>\n",
       "      <th>state_Oregon</th>\n",
       "      <th>state_Washington</th>\n",
       "      <th>response_Yes</th>\n",
       "      <th>coverage_Extended</th>\n",
       "      <th>coverage_Premium</th>\n",
       "      <th>education_College</th>\n",
       "      <th>...</th>\n",
       "      <th>vehicle_class_Luxury Car</th>\n",
       "      <th>vehicle_class_Luxury SUV</th>\n",
       "      <th>vehicle_class_SUV</th>\n",
       "      <th>vehicle_class_Sports Car</th>\n",
       "      <th>vehicle_class_Two-Door Car</th>\n",
       "      <th>vehicle_size_Medsize</th>\n",
       "      <th>vehicle_size_Small</th>\n",
       "      <th>day</th>\n",
       "      <th>week</th>\n",
       "      <th>month</th>\n",
       "    </tr>\n",
       "  </thead>\n",
       "  <tbody>\n",
       "    <tr>\n",
       "      <th>0</th>\n",
       "      <td>2.856682</td>\n",
       "      <td>1237.091748</td>\n",
       "      <td>0.0</td>\n",
       "      <td>0.0</td>\n",
       "      <td>0.0</td>\n",
       "      <td>1.0</td>\n",
       "      <td>0.0</td>\n",
       "      <td>0.0</td>\n",
       "      <td>0.0</td>\n",
       "      <td>0.0</td>\n",
       "      <td>...</td>\n",
       "      <td>0.0</td>\n",
       "      <td>0.0</td>\n",
       "      <td>0.0</td>\n",
       "      <td>0.0</td>\n",
       "      <td>1.0</td>\n",
       "      <td>1.0</td>\n",
       "      <td>0.0</td>\n",
       "      <td>24.0</td>\n",
       "      <td>8.0</td>\n",
       "      <td>2.0</td>\n",
       "    </tr>\n",
       "    <tr>\n",
       "      <th>1</th>\n",
       "      <td>2.918620</td>\n",
       "      <td>1157.747047</td>\n",
       "      <td>0.0</td>\n",
       "      <td>0.0</td>\n",
       "      <td>0.0</td>\n",
       "      <td>0.0</td>\n",
       "      <td>0.0</td>\n",
       "      <td>1.0</td>\n",
       "      <td>0.0</td>\n",
       "      <td>0.0</td>\n",
       "      <td>...</td>\n",
       "      <td>0.0</td>\n",
       "      <td>0.0</td>\n",
       "      <td>0.0</td>\n",
       "      <td>0.0</td>\n",
       "      <td>0.0</td>\n",
       "      <td>1.0</td>\n",
       "      <td>0.0</td>\n",
       "      <td>31.0</td>\n",
       "      <td>5.0</td>\n",
       "      <td>1.0</td>\n",
       "    </tr>\n",
       "    <tr>\n",
       "      <th>2</th>\n",
       "      <td>2.950527</td>\n",
       "      <td>1134.271699</td>\n",
       "      <td>0.0</td>\n",
       "      <td>1.0</td>\n",
       "      <td>0.0</td>\n",
       "      <td>0.0</td>\n",
       "      <td>0.0</td>\n",
       "      <td>0.0</td>\n",
       "      <td>1.0</td>\n",
       "      <td>0.0</td>\n",
       "      <td>...</td>\n",
       "      <td>0.0</td>\n",
       "      <td>0.0</td>\n",
       "      <td>0.0</td>\n",
       "      <td>0.0</td>\n",
       "      <td>1.0</td>\n",
       "      <td>1.0</td>\n",
       "      <td>0.0</td>\n",
       "      <td>19.0</td>\n",
       "      <td>7.0</td>\n",
       "      <td>2.0</td>\n",
       "    </tr>\n",
       "  </tbody>\n",
       "</table>\n",
       "<p>3 rows × 40 columns</p>\n",
       "</div>"
      ],
      "text/plain": [
       "   customer_lifetime_value       income  state_California  state_Nevada  \\\n",
       "0                 2.856682  1237.091748               0.0           0.0   \n",
       "1                 2.918620  1157.747047               0.0           0.0   \n",
       "2                 2.950527  1134.271699               0.0           1.0   \n",
       "\n",
       "   state_Oregon  state_Washington  response_Yes  coverage_Extended  \\\n",
       "0           0.0               1.0           0.0                0.0   \n",
       "1           0.0               0.0           0.0                1.0   \n",
       "2           0.0               0.0           0.0                0.0   \n",
       "\n",
       "   coverage_Premium  education_College  ...  vehicle_class_Luxury Car  \\\n",
       "0               0.0                0.0  ...                       0.0   \n",
       "1               0.0                0.0  ...                       0.0   \n",
       "2               1.0                0.0  ...                       0.0   \n",
       "\n",
       "   vehicle_class_Luxury SUV  vehicle_class_SUV  vehicle_class_Sports Car  \\\n",
       "0                       0.0                0.0                       0.0   \n",
       "1                       0.0                0.0                       0.0   \n",
       "2                       0.0                0.0                       0.0   \n",
       "\n",
       "   vehicle_class_Two-Door Car  vehicle_size_Medsize  vehicle_size_Small   day  \\\n",
       "0                         1.0                   1.0                 0.0  24.0   \n",
       "1                         0.0                   1.0                 0.0  31.0   \n",
       "2                         1.0                   1.0                 0.0  19.0   \n",
       "\n",
       "   week  month  \n",
       "0   8.0    2.0  \n",
       "1   5.0    1.0  \n",
       "2   7.0    2.0  \n",
       "\n",
       "[3 rows x 40 columns]"
      ]
     },
     "execution_count": 227,
     "metadata": {},
     "output_type": "execute_result"
    }
   ],
   "source": [
    "X.head(3)"
   ]
  },
  {
   "cell_type": "markdown",
   "id": "90128679",
   "metadata": {},
   "source": [
    "# 6. Since the model will only accept numerical data, check and make sure that every column is numerical, if some are not, change it using encoding."
   ]
  },
  {
   "cell_type": "code",
   "execution_count": 226,
   "id": "f853620d",
   "metadata": {},
   "outputs": [
    {
     "name": "stdout",
     "output_type": "stream",
     "text": [
      "<class 'pandas.core.frame.DataFrame'>\n",
      "Int64Index: 9134 entries, 0 to 8825\n",
      "Data columns (total 40 columns):\n",
      " #   Column                          Non-Null Count  Dtype  \n",
      "---  ------                          --------------  -----  \n",
      " 0   customer_lifetime_value         9100 non-null   float64\n",
      " 1   income                          9100 non-null   float64\n",
      " 2   state_California                9100 non-null   float64\n",
      " 3   state_Nevada                    9100 non-null   float64\n",
      " 4   state_Oregon                    9100 non-null   float64\n",
      " 5   state_Washington                9100 non-null   float64\n",
      " 6   response_Yes                    9100 non-null   float64\n",
      " 7   coverage_Extended               9100 non-null   float64\n",
      " 8   coverage_Premium                9100 non-null   float64\n",
      " 9   education_College               9100 non-null   float64\n",
      " 10  education_Doctor                9100 non-null   float64\n",
      " 11  education_High School or Below  9100 non-null   float64\n",
      " 12  education_Master                9100 non-null   float64\n",
      " 13  employmentstatus_Employed       9100 non-null   float64\n",
      " 14  employmentstatus_Medical Leave  9100 non-null   float64\n",
      " 15  employmentstatus_Retired        9100 non-null   float64\n",
      " 16  employmentstatus_Unemployed     9100 non-null   float64\n",
      " 17  gender_M                        9100 non-null   float64\n",
      " 18  location_code_Suburban          9100 non-null   float64\n",
      " 19  location_code_Urban             9100 non-null   float64\n",
      " 20  marital_status_Married          9100 non-null   float64\n",
      " 21  marital_status_Single           9100 non-null   float64\n",
      " 22  policy_type_Personal Auto       9100 non-null   float64\n",
      " 23  policy_type_Special Auto        9100 non-null   float64\n",
      " 24  renew_offer_type_Offer2         9100 non-null   float64\n",
      " 25  renew_offer_type_Offer3         9100 non-null   float64\n",
      " 26  renew_offer_type_Offer4         9100 non-null   float64\n",
      " 27  sales_channel_Branch            9100 non-null   float64\n",
      " 28  sales_channel_Call Center       9100 non-null   float64\n",
      " 29  sales_channel_Web               9100 non-null   float64\n",
      " 30  vehicle_class_Luxury Car        9100 non-null   float64\n",
      " 31  vehicle_class_Luxury SUV        9100 non-null   float64\n",
      " 32  vehicle_class_SUV               9100 non-null   float64\n",
      " 33  vehicle_class_Sports Car        9100 non-null   float64\n",
      " 34  vehicle_class_Two-Door Car      9100 non-null   float64\n",
      " 35  vehicle_size_Medsize            9100 non-null   float64\n",
      " 36  vehicle_size_Small              9100 non-null   float64\n",
      " 37  day                             9100 non-null   float64\n",
      " 38  week                            9100 non-null   float64\n",
      " 39  month                           9100 non-null   float64\n",
      "dtypes: float64(40)\n",
      "memory usage: 2.9 MB\n"
     ]
    }
   ],
   "source": [
    "# check data type of all columns >> they are all numerical\n",
    "\n",
    "X.info()"
   ]
  },
  {
   "cell_type": "code",
   "execution_count": null,
   "id": "9fd370b0",
   "metadata": {},
   "outputs": [],
   "source": [
    "#### LAB ENDED AND THANK YOU FOR CHECKING :) ####"
   ]
  },
  {
   "cell_type": "code",
   "execution_count": null,
   "id": "f1be350b",
   "metadata": {},
   "outputs": [],
   "source": []
  }
 ],
 "metadata": {
  "kernelspec": {
   "display_name": "Python 3 (ipykernel)",
   "language": "python",
   "name": "python3"
  },
  "language_info": {
   "codemirror_mode": {
    "name": "ipython",
    "version": 3
   },
   "file_extension": ".py",
   "mimetype": "text/x-python",
   "name": "python",
   "nbconvert_exporter": "python",
   "pygments_lexer": "ipython3",
   "version": "3.9.13"
  }
 },
 "nbformat": 4,
 "nbformat_minor": 5
}
