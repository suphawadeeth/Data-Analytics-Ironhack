{
 "cells": [
  {
   "cell_type": "markdown",
   "id": "38ffaf2a",
   "metadata": {},
   "source": [
    "# Lab | Getting started with Tableau\n",
    "Refer to the files_for_lab/we_fn_use_c_marketing_customer_value_analysis.csv dataset.\n",
    "\n",
    "### Instructions\n",
    "1. Load the dataset into a notebook.\n",
    "2. Create a barplot of the number of customers per Gender.\n",
    "3. Create a barplot of the number of customers per EmploymentStatus and Gender.\n",
    "4. Identify Measurements and Dimensions. Are they the same as the ones in your Pandas dataframe? Modify accordingly.\n",
    "5. Save as unit-4-lab.tbwx."
   ]
  },
  {
   "cell_type": "code",
   "execution_count": 20,
   "id": "40539ba7",
   "metadata": {},
   "outputs": [],
   "source": [
    "import pandas as pd\n",
    "\n",
    "import matplotlib.pyplot as plt\n",
    "import seaborn as sns\n",
    "%matplotlib inline\n",
    "\n",
    "import warnings\n",
    "warnings.filterwarnings('ignore')\n",
    "warnings.filterwarnings(\"ignore\", message=\"numpy.ufunc size changed\")"
   ]
  },
  {
   "cell_type": "markdown",
   "id": "d76ea297",
   "metadata": {},
   "source": [
    "# 1. Load the dataset into a notebook.\n"
   ]
  },
  {
   "cell_type": "code",
   "execution_count": 4,
   "id": "0459cac0",
   "metadata": {},
   "outputs": [
    {
     "data": {
      "text/html": [
       "<div>\n",
       "<style scoped>\n",
       "    .dataframe tbody tr th:only-of-type {\n",
       "        vertical-align: middle;\n",
       "    }\n",
       "\n",
       "    .dataframe tbody tr th {\n",
       "        vertical-align: top;\n",
       "    }\n",
       "\n",
       "    .dataframe thead th {\n",
       "        text-align: right;\n",
       "    }\n",
       "</style>\n",
       "<table border=\"1\" class=\"dataframe\">\n",
       "  <thead>\n",
       "    <tr style=\"text-align: right;\">\n",
       "      <th></th>\n",
       "      <th>customer</th>\n",
       "      <th>state</th>\n",
       "      <th>customer_lifetime_value</th>\n",
       "      <th>response</th>\n",
       "      <th>coverage</th>\n",
       "      <th>education</th>\n",
       "      <th>effective_to_date</th>\n",
       "      <th>employmentstatus</th>\n",
       "      <th>gender</th>\n",
       "      <th>income</th>\n",
       "      <th>...</th>\n",
       "      <th>months_since_policy_inception</th>\n",
       "      <th>number_of_open_complaints</th>\n",
       "      <th>number_of_policies</th>\n",
       "      <th>policy_type</th>\n",
       "      <th>policy</th>\n",
       "      <th>renew_offer_type</th>\n",
       "      <th>sales_channel</th>\n",
       "      <th>total_claim_amount</th>\n",
       "      <th>vehicle_class</th>\n",
       "      <th>vehicle_size</th>\n",
       "    </tr>\n",
       "  </thead>\n",
       "  <tbody>\n",
       "    <tr>\n",
       "      <th>0</th>\n",
       "      <td>BU79786</td>\n",
       "      <td>Washington</td>\n",
       "      <td>2763.519279</td>\n",
       "      <td>No</td>\n",
       "      <td>Basic</td>\n",
       "      <td>Bachelor</td>\n",
       "      <td>2/24/11</td>\n",
       "      <td>Employed</td>\n",
       "      <td>F</td>\n",
       "      <td>56274</td>\n",
       "      <td>...</td>\n",
       "      <td>5</td>\n",
       "      <td>0</td>\n",
       "      <td>1</td>\n",
       "      <td>Corporate Auto</td>\n",
       "      <td>Corporate L3</td>\n",
       "      <td>Offer1</td>\n",
       "      <td>Agent</td>\n",
       "      <td>384.811147</td>\n",
       "      <td>Two-Door Car</td>\n",
       "      <td>Medsize</td>\n",
       "    </tr>\n",
       "    <tr>\n",
       "      <th>1</th>\n",
       "      <td>QZ44356</td>\n",
       "      <td>Arizona</td>\n",
       "      <td>6979.535903</td>\n",
       "      <td>No</td>\n",
       "      <td>Extended</td>\n",
       "      <td>Bachelor</td>\n",
       "      <td>1/31/11</td>\n",
       "      <td>Unemployed</td>\n",
       "      <td>F</td>\n",
       "      <td>0</td>\n",
       "      <td>...</td>\n",
       "      <td>42</td>\n",
       "      <td>0</td>\n",
       "      <td>8</td>\n",
       "      <td>Personal Auto</td>\n",
       "      <td>Personal L3</td>\n",
       "      <td>Offer3</td>\n",
       "      <td>Agent</td>\n",
       "      <td>1131.464935</td>\n",
       "      <td>Four-Door Car</td>\n",
       "      <td>Medsize</td>\n",
       "    </tr>\n",
       "    <tr>\n",
       "      <th>2</th>\n",
       "      <td>AI49188</td>\n",
       "      <td>Nevada</td>\n",
       "      <td>12887.431650</td>\n",
       "      <td>No</td>\n",
       "      <td>Premium</td>\n",
       "      <td>Bachelor</td>\n",
       "      <td>2/19/11</td>\n",
       "      <td>Employed</td>\n",
       "      <td>F</td>\n",
       "      <td>48767</td>\n",
       "      <td>...</td>\n",
       "      <td>38</td>\n",
       "      <td>0</td>\n",
       "      <td>2</td>\n",
       "      <td>Personal Auto</td>\n",
       "      <td>Personal L3</td>\n",
       "      <td>Offer1</td>\n",
       "      <td>Agent</td>\n",
       "      <td>566.472247</td>\n",
       "      <td>Two-Door Car</td>\n",
       "      <td>Medsize</td>\n",
       "    </tr>\n",
       "    <tr>\n",
       "      <th>3</th>\n",
       "      <td>WW63253</td>\n",
       "      <td>California</td>\n",
       "      <td>7645.861827</td>\n",
       "      <td>No</td>\n",
       "      <td>Basic</td>\n",
       "      <td>Bachelor</td>\n",
       "      <td>1/20/11</td>\n",
       "      <td>Unemployed</td>\n",
       "      <td>M</td>\n",
       "      <td>0</td>\n",
       "      <td>...</td>\n",
       "      <td>65</td>\n",
       "      <td>0</td>\n",
       "      <td>7</td>\n",
       "      <td>Corporate Auto</td>\n",
       "      <td>Corporate L2</td>\n",
       "      <td>Offer1</td>\n",
       "      <td>Call Center</td>\n",
       "      <td>529.881344</td>\n",
       "      <td>SUV</td>\n",
       "      <td>Medsize</td>\n",
       "    </tr>\n",
       "    <tr>\n",
       "      <th>4</th>\n",
       "      <td>HB64268</td>\n",
       "      <td>Washington</td>\n",
       "      <td>2813.692575</td>\n",
       "      <td>No</td>\n",
       "      <td>Basic</td>\n",
       "      <td>Bachelor</td>\n",
       "      <td>2/3/11</td>\n",
       "      <td>Employed</td>\n",
       "      <td>M</td>\n",
       "      <td>43836</td>\n",
       "      <td>...</td>\n",
       "      <td>44</td>\n",
       "      <td>0</td>\n",
       "      <td>1</td>\n",
       "      <td>Personal Auto</td>\n",
       "      <td>Personal L1</td>\n",
       "      <td>Offer1</td>\n",
       "      <td>Agent</td>\n",
       "      <td>138.130879</td>\n",
       "      <td>Four-Door Car</td>\n",
       "      <td>Medsize</td>\n",
       "    </tr>\n",
       "  </tbody>\n",
       "</table>\n",
       "<p>5 rows × 24 columns</p>\n",
       "</div>"
      ],
      "text/plain": [
       "  customer       state  customer_lifetime_value response  coverage education  \\\n",
       "0  BU79786  Washington              2763.519279       No     Basic  Bachelor   \n",
       "1  QZ44356     Arizona              6979.535903       No  Extended  Bachelor   \n",
       "2  AI49188      Nevada             12887.431650       No   Premium  Bachelor   \n",
       "3  WW63253  California              7645.861827       No     Basic  Bachelor   \n",
       "4  HB64268  Washington              2813.692575       No     Basic  Bachelor   \n",
       "\n",
       "  effective_to_date employmentstatus gender  income  ...  \\\n",
       "0           2/24/11         Employed      F   56274  ...   \n",
       "1           1/31/11       Unemployed      F       0  ...   \n",
       "2           2/19/11         Employed      F   48767  ...   \n",
       "3           1/20/11       Unemployed      M       0  ...   \n",
       "4            2/3/11         Employed      M   43836  ...   \n",
       "\n",
       "  months_since_policy_inception number_of_open_complaints  number_of_policies  \\\n",
       "0                             5                         0                   1   \n",
       "1                            42                         0                   8   \n",
       "2                            38                         0                   2   \n",
       "3                            65                         0                   7   \n",
       "4                            44                         0                   1   \n",
       "\n",
       "      policy_type        policy  renew_offer_type  sales_channel  \\\n",
       "0  Corporate Auto  Corporate L3            Offer1          Agent   \n",
       "1   Personal Auto   Personal L3            Offer3          Agent   \n",
       "2   Personal Auto   Personal L3            Offer1          Agent   \n",
       "3  Corporate Auto  Corporate L2            Offer1    Call Center   \n",
       "4   Personal Auto   Personal L1            Offer1          Agent   \n",
       "\n",
       "  total_claim_amount  vehicle_class vehicle_size  \n",
       "0         384.811147   Two-Door Car      Medsize  \n",
       "1        1131.464935  Four-Door Car      Medsize  \n",
       "2         566.472247   Two-Door Car      Medsize  \n",
       "3         529.881344            SUV      Medsize  \n",
       "4         138.130879  Four-Door Car      Medsize  \n",
       "\n",
       "[5 rows x 24 columns]"
      ]
     },
     "execution_count": 4,
     "metadata": {},
     "output_type": "execute_result"
    }
   ],
   "source": [
    "df = pd.read_csv('/Users/kt/Desktop/Ironhack/Data-Analytics-Ironhack/unit-4/lab-cleaning-numerical-data/we_fn_use_c_marketing_customer_value_analysis.csv')\n",
    "\n",
    "# standardize column name following PE8\n",
    "df.columns = [df.columns[i].lower().replace(' ', '_') for i in range(len(df.columns))] \n",
    "df.head()\n"
   ]
  },
  {
   "cell_type": "markdown",
   "id": "cca3157e",
   "metadata": {},
   "source": [
    "# 2. Create a barplot of the number of customers per Gender.\n"
   ]
  },
  {
   "cell_type": "code",
   "execution_count": 35,
   "id": "ff178ef4",
   "metadata": {},
   "outputs": [
    {
     "data": {
      "text/plain": [
       "F    4658\n",
       "M    4476\n",
       "Name: gender, dtype: int64"
      ]
     },
     "execution_count": 35,
     "metadata": {},
     "output_type": "execute_result"
    }
   ],
   "source": [
    "# check the number of ustomers per gender\n",
    "\n",
    "df['gender'].value_counts()"
   ]
  },
  {
   "cell_type": "code",
   "execution_count": 23,
   "id": "e06ead13",
   "metadata": {},
   "outputs": [
    {
     "data": {
      "text/plain": [
       "Text(0, 0.5, 'Number of Customer')"
      ]
     },
     "execution_count": 23,
     "metadata": {},
     "output_type": "execute_result"
    },
    {
     "data": {
      "image/png": "[encoded data removed]",
      "text/plain": [
       "<Figure size 640x480 with 1 Axes>"
      ]
     },
     "metadata": {},
     "output_type": "display_data"
    }
   ],
   "source": [
    "sns.countplot('gender', data=df).set_xticklabels(['Female', 'Male'])\n",
    "plt.xlabel('Gender')\n",
    "plt.ylabel('Number of Customer')"
   ]
  },
  {
   "cell_type": "markdown",
   "id": "d14c1c37",
   "metadata": {},
   "source": [
    "# 3. Create a barplot of the number of customers per EmploymentStatus and Gender.\n"
   ]
  },
  {
   "cell_type": "code",
   "execution_count": 30,
   "id": "95065979",
   "metadata": {},
   "outputs": [
    {
     "data": {
      "text/plain": [
       "employmentstatus  gender\n",
       "Disabled          F          244\n",
       "                  M          161\n",
       "Employed          F         2937\n",
       "                  M         2761\n",
       "Medical Leave     F          214\n",
       "                  M          218\n",
       "Retired           F          128\n",
       "                  M          154\n",
       "Unemployed        F         1135\n",
       "                  M         1182\n",
       "Name: customer, dtype: int64"
      ]
     },
     "execution_count": 30,
     "metadata": {},
     "output_type": "execute_result"
    }
   ],
   "source": [
    "# let's do a quick check number of customers per 'employmentstatus' and 'gender' \n",
    "\n",
    "df.groupby(['employmentstatus', 'gender'])['customer'].count()"
   ]
  },
  {
   "cell_type": "code",
   "execution_count": 21,
   "id": "a48aef88",
   "metadata": {},
   "outputs": [
    {
     "data": {
      "text/plain": [
       "Text(0, 0.5, 'Number of Customer')"
      ]
     },
     "execution_count": 21,
     "metadata": {},
     "output_type": "execute_result"
    },
    {
     "data": {
      "image/png": "[encoded data removed]",
      "text/plain": [
       "<Figure size 640x480 with 1 Axes>"
      ]
     },
     "metadata": {},
     "output_type": "display_data"
    }
   ],
   "source": [
    "sns.countplot('employmentstatus', hue = 'gender', data=df)\n",
    "plt.xlabel('Employment Status')\n",
    "plt.ylabel('Number of Customer')"
   ]
  },
  {
   "cell_type": "markdown",
   "id": "484eb6f2",
   "metadata": {},
   "source": [
    "# 4. Tableau - Identify Measurements and Dimensions\n",
    "\n",
    "Are they the same as the ones in your Pandas dataframe? Modify accordingly.\n"
   ]
  },
  {
   "cell_type": "markdown",
   "id": "704509ed",
   "metadata": {},
   "source": [
    "## Plot with Tableau\n",
    "\n",
    "<img src=\"tableau_start.png\" title=\"Customers per EmploymentStatus/Gender\">"
   ]
  },
  {
   "cell_type": "markdown",
   "id": "87d1cd98",
   "metadata": {},
   "source": [
    "## Comparing plots with pandas and tableau\n",
    "\n",
    "    - They are the same plots as they are from the same source of data\n",
    "    - The plots with Tableau look well-structured and more pleasant to the eyes.\n",
    "    - Also, you can manage to put many graphs in one dashboard and create a storyline. Which is the win over plotting with pandas.\n",
    "    - With Tableau, you can move/play around, and adjust axes' names, colors, etc. Much more flexible using the plot function.\n",
    "    - On the other hand, pandas gives us the flexibility to manipulate the data that Tableau can't."
   ]
  },
  {
   "cell_type": "markdown",
   "id": "727ac1dd",
   "metadata": {},
   "source": [
    "# 5. Save as unit-4-lab.tbwx."
   ]
  },
  {
   "cell_type": "markdown",
   "id": "b62d8552",
   "metadata": {},
   "source": [
    "Please find the file \"unit-4-lab.twbx\" in this folder --> unit-4/lab-getting-start-tableau\n",
    "\n",
    "Or visit [My Tableau Public](https://public.tableau.com/app/profile/suphawadee3172/viz/getting_start_tableau/Dashboard1?publish=yes)"
   ]
  },
  {
   "cell_type": "code",
   "execution_count": 37,
   "id": "770a92fc",
   "metadata": {},
   "outputs": [],
   "source": [
    "##### LAB ENDED & THANKS FOR CHECKING :) ##### "
   ]
  },
  {
   "cell_type": "code",
   "execution_count": null,
   "id": "a4da99d3",
   "metadata": {},
   "outputs": [],
   "source": []
  }
 ],
 "metadata": {
  "kernelspec": {
   "display_name": "Python 3 (ipykernel)",
   "language": "python",
   "name": "python3"
  },
  "language_info": {
   "codemirror_mode": {
    "name": "ipython",
    "version": 3
   },
   "file_extension": ".py",
   "mimetype": "text/x-python",
   "name": "python",
   "nbconvert_exporter": "python",
   "pygments_lexer": "ipython3",
   "version": "3.9.13"
  }
 },
 "nbformat": 4,
 "nbformat_minor": 5
}
