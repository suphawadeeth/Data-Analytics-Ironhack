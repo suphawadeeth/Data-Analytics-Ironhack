{
 "cells": [
  {
   "cell_type": "markdown",
   "id": "573a9309",
   "metadata": {},
   "source": [
    "# Lab | Handling Data Imbalance in Classification Models\n",
    "For this lab and in the next lessons we will build a model on customer churn binary classification problem. You will be using files_for_lab/Customer-Churn.csv file.\n",
    "\n",
    "### Scenario\n",
    "You are working as an analyst with this internet service provider. You are provided with this historical data about your company's customers and their churn trends. Your task is to build a machine learning model that will help the company identify customers that are more likely to default/churn and thus prevent losses from such customers.\n",
    "\n",
    "### Instructions\n",
    "In this lab, we will first take a look at the degree of imbalance in the data and correct it using the techniques we learned on the class.\n",
    "\n",
    "Here is the list of steps to be followed (building a simple model without balancing the data):\n",
    "\n",
    "- Import the required libraries and modules that you would need.\n",
    "- Read that data into Python and call the dataframe churnData.\n",
    "- Check the datatypes of all the columns in the data. You would see that the column TotalCharges is object type. - - Convert this column into numeric type using pd.to_numeric function.\n",
    "- Check for null values in the dataframe. Replace the null values.\n",
    "- Use the following features: tenure, SeniorCitizen, MonthlyCharges and TotalCharges:\n",
    "\n",
    "    - Scale the features either by using normalizer or a standard scaler.\n",
    "    - Split the data into a training set and a test set.\n",
    "    - Fit a logistic regression model on the training data.\n",
    "    - Check the accuracy on the test data.\n",
    "\n",
    "\n",
    "**Note**: So far we have not balanced the data.\n",
    "\n",
    "Managing imbalance in the dataset\n",
    "\n",
    "- Check for the imbalance.\n",
    "- Use the resampling strategies used in class for upsampling and downsampling to create a balance between the two classes.\n",
    "- Each time fit the model and see how the accuracy of the model is."
   ]
  },
  {
   "cell_type": "markdown",
   "id": "34dbad03",
   "metadata": {},
   "source": [
    "### Import Libraries"
   ]
  },
  {
   "cell_type": "code",
   "execution_count": 1,
   "id": "cefed7c9",
   "metadata": {},
   "outputs": [],
   "source": [
    "import pandas as pd\n",
    "import numpy as np\n",
    "import seaborn as sns\n",
    "import matplotlib.pyplot as plt\n",
    "\n",
    "from scipy import stats\n",
    "from sklearn.preprocessing import StandardScaler\n",
    "from sklearn.model_selection import train_test_split\n",
    "from sklearn.linear_model import LogisticRegression\n",
    "from sklearn.metrics import confusion_matrix, accuracy_score, precision_score, recall_score, f1_score, roc_auc_score\n",
    "from sklearn.metrics import classification_report\n",
    "from imblearn.under_sampling import RandomUnderSampler\n",
    "from imblearn.over_sampling import RandomOverSampler\n",
    "\n",
    "import warnings\n",
    "warnings.filterwarnings('ignore')"
   ]
  },
  {
   "cell_type": "code",
   "execution_count": 2,
   "id": "5aa6e2dd",
   "metadata": {},
   "outputs": [
    {
     "data": {
      "text/html": [
       "<div>\n",
       "<style scoped>\n",
       "    .dataframe tbody tr th:only-of-type {\n",
       "        vertical-align: middle;\n",
       "    }\n",
       "\n",
       "    .dataframe tbody tr th {\n",
       "        vertical-align: top;\n",
       "    }\n",
       "\n",
       "    .dataframe thead th {\n",
       "        text-align: right;\n",
       "    }\n",
       "</style>\n",
       "<table border=\"1\" class=\"dataframe\">\n",
       "  <thead>\n",
       "    <tr style=\"text-align: right;\">\n",
       "      <th></th>\n",
       "      <th>customerid</th>\n",
       "      <th>gender</th>\n",
       "      <th>seniorcitizen</th>\n",
       "      <th>partner</th>\n",
       "      <th>dependents</th>\n",
       "      <th>tenure</th>\n",
       "      <th>phoneservice</th>\n",
       "      <th>multiplelines</th>\n",
       "      <th>internetservice</th>\n",
       "      <th>onlinesecurity</th>\n",
       "      <th>...</th>\n",
       "      <th>deviceprotection</th>\n",
       "      <th>techsupport</th>\n",
       "      <th>streamingtv</th>\n",
       "      <th>streamingmovies</th>\n",
       "      <th>contract</th>\n",
       "      <th>paperlessbilling</th>\n",
       "      <th>paymentmethod</th>\n",
       "      <th>monthlycharges</th>\n",
       "      <th>totalcharges</th>\n",
       "      <th>churn</th>\n",
       "    </tr>\n",
       "  </thead>\n",
       "  <tbody>\n",
       "    <tr>\n",
       "      <th>0</th>\n",
       "      <td>7590-VHVEG</td>\n",
       "      <td>Female</td>\n",
       "      <td>0</td>\n",
       "      <td>Yes</td>\n",
       "      <td>No</td>\n",
       "      <td>1</td>\n",
       "      <td>No</td>\n",
       "      <td>No phone service</td>\n",
       "      <td>DSL</td>\n",
       "      <td>No</td>\n",
       "      <td>...</td>\n",
       "      <td>No</td>\n",
       "      <td>No</td>\n",
       "      <td>No</td>\n",
       "      <td>No</td>\n",
       "      <td>Month-to-month</td>\n",
       "      <td>Yes</td>\n",
       "      <td>Electronic check</td>\n",
       "      <td>29.85</td>\n",
       "      <td>29.85</td>\n",
       "      <td>No</td>\n",
       "    </tr>\n",
       "    <tr>\n",
       "      <th>1</th>\n",
       "      <td>5575-GNVDE</td>\n",
       "      <td>Male</td>\n",
       "      <td>0</td>\n",
       "      <td>No</td>\n",
       "      <td>No</td>\n",
       "      <td>34</td>\n",
       "      <td>Yes</td>\n",
       "      <td>No</td>\n",
       "      <td>DSL</td>\n",
       "      <td>Yes</td>\n",
       "      <td>...</td>\n",
       "      <td>Yes</td>\n",
       "      <td>No</td>\n",
       "      <td>No</td>\n",
       "      <td>No</td>\n",
       "      <td>One year</td>\n",
       "      <td>No</td>\n",
       "      <td>Mailed check</td>\n",
       "      <td>56.95</td>\n",
       "      <td>1889.5</td>\n",
       "      <td>No</td>\n",
       "    </tr>\n",
       "    <tr>\n",
       "      <th>2</th>\n",
       "      <td>3668-QPYBK</td>\n",
       "      <td>Male</td>\n",
       "      <td>0</td>\n",
       "      <td>No</td>\n",
       "      <td>No</td>\n",
       "      <td>2</td>\n",
       "      <td>Yes</td>\n",
       "      <td>No</td>\n",
       "      <td>DSL</td>\n",
       "      <td>Yes</td>\n",
       "      <td>...</td>\n",
       "      <td>No</td>\n",
       "      <td>No</td>\n",
       "      <td>No</td>\n",
       "      <td>No</td>\n",
       "      <td>Month-to-month</td>\n",
       "      <td>Yes</td>\n",
       "      <td>Mailed check</td>\n",
       "      <td>53.85</td>\n",
       "      <td>108.15</td>\n",
       "      <td>Yes</td>\n",
       "    </tr>\n",
       "    <tr>\n",
       "      <th>3</th>\n",
       "      <td>7795-CFOCW</td>\n",
       "      <td>Male</td>\n",
       "      <td>0</td>\n",
       "      <td>No</td>\n",
       "      <td>No</td>\n",
       "      <td>45</td>\n",
       "      <td>No</td>\n",
       "      <td>No phone service</td>\n",
       "      <td>DSL</td>\n",
       "      <td>Yes</td>\n",
       "      <td>...</td>\n",
       "      <td>Yes</td>\n",
       "      <td>Yes</td>\n",
       "      <td>No</td>\n",
       "      <td>No</td>\n",
       "      <td>One year</td>\n",
       "      <td>No</td>\n",
       "      <td>Bank transfer (automatic)</td>\n",
       "      <td>42.30</td>\n",
       "      <td>1840.75</td>\n",
       "      <td>No</td>\n",
       "    </tr>\n",
       "    <tr>\n",
       "      <th>4</th>\n",
       "      <td>9237-HQITU</td>\n",
       "      <td>Female</td>\n",
       "      <td>0</td>\n",
       "      <td>No</td>\n",
       "      <td>No</td>\n",
       "      <td>2</td>\n",
       "      <td>Yes</td>\n",
       "      <td>No</td>\n",
       "      <td>Fiber optic</td>\n",
       "      <td>No</td>\n",
       "      <td>...</td>\n",
       "      <td>No</td>\n",
       "      <td>No</td>\n",
       "      <td>No</td>\n",
       "      <td>No</td>\n",
       "      <td>Month-to-month</td>\n",
       "      <td>Yes</td>\n",
       "      <td>Electronic check</td>\n",
       "      <td>70.70</td>\n",
       "      <td>151.65</td>\n",
       "      <td>Yes</td>\n",
       "    </tr>\n",
       "  </tbody>\n",
       "</table>\n",
       "<p>5 rows × 21 columns</p>\n",
       "</div>"
      ],
      "text/plain": [
       "   customerid  gender  seniorcitizen partner dependents  tenure phoneservice  \\\n",
       "0  7590-VHVEG  Female              0     Yes         No       1           No   \n",
       "1  5575-GNVDE    Male              0      No         No      34          Yes   \n",
       "2  3668-QPYBK    Male              0      No         No       2          Yes   \n",
       "3  7795-CFOCW    Male              0      No         No      45           No   \n",
       "4  9237-HQITU  Female              0      No         No       2          Yes   \n",
       "\n",
       "      multiplelines internetservice onlinesecurity  ... deviceprotection  \\\n",
       "0  No phone service             DSL             No  ...               No   \n",
       "1                No             DSL            Yes  ...              Yes   \n",
       "2                No             DSL            Yes  ...               No   \n",
       "3  No phone service             DSL            Yes  ...              Yes   \n",
       "4                No     Fiber optic             No  ...               No   \n",
       "\n",
       "  techsupport streamingtv streamingmovies        contract paperlessbilling  \\\n",
       "0          No          No              No  Month-to-month              Yes   \n",
       "1          No          No              No        One year               No   \n",
       "2          No          No              No  Month-to-month              Yes   \n",
       "3         Yes          No              No        One year               No   \n",
       "4          No          No              No  Month-to-month              Yes   \n",
       "\n",
       "               paymentmethod monthlycharges  totalcharges churn  \n",
       "0           Electronic check          29.85         29.85    No  \n",
       "1               Mailed check          56.95        1889.5    No  \n",
       "2               Mailed check          53.85        108.15   Yes  \n",
       "3  Bank transfer (automatic)          42.30       1840.75    No  \n",
       "4           Electronic check          70.70        151.65   Yes  \n",
       "\n",
       "[5 rows x 21 columns]"
      ]
     },
     "execution_count": 2,
     "metadata": {},
     "output_type": "execute_result"
    }
   ],
   "source": [
    "df = pd.read_csv(\"/Users/kt/Desktop/Ironhack/Data-Analytics-Ironhack/unit-3/lab-imbalanced-data/customer_churn.csv\")\n",
    "df.columns = df.columns.str.replace(' ', '_').str.lower()\n",
    "df.head()"
   ]
  },
  {
   "cell_type": "code",
   "execution_count": 3,
   "id": "c9f85d1f",
   "metadata": {},
   "outputs": [
    {
     "data": {
      "text/plain": [
       "(7043, 21)"
      ]
     },
     "execution_count": 3,
     "metadata": {},
     "output_type": "execute_result"
    }
   ],
   "source": [
    "df.shape"
   ]
  },
  {
   "cell_type": "code",
   "execution_count": 4,
   "id": "bc0bd9fd",
   "metadata": {
    "scrolled": false
   },
   "outputs": [
    {
     "name": "stdout",
     "output_type": "stream",
     "text": [
      "<class 'pandas.core.frame.DataFrame'>\n",
      "RangeIndex: 7043 entries, 0 to 7042\n",
      "Data columns (total 21 columns):\n",
      " #   Column            Non-Null Count  Dtype  \n",
      "---  ------            --------------  -----  \n",
      " 0   customerid        7043 non-null   object \n",
      " 1   gender            7043 non-null   object \n",
      " 2   seniorcitizen     7043 non-null   int64  \n",
      " 3   partner           7043 non-null   object \n",
      " 4   dependents        7043 non-null   object \n",
      " 5   tenure            7043 non-null   int64  \n",
      " 6   phoneservice      7043 non-null   object \n",
      " 7   multiplelines     7043 non-null   object \n",
      " 8   internetservice   7043 non-null   object \n",
      " 9   onlinesecurity    7043 non-null   object \n",
      " 10  onlinebackup      7043 non-null   object \n",
      " 11  deviceprotection  7043 non-null   object \n",
      " 12  techsupport       7043 non-null   object \n",
      " 13  streamingtv       7043 non-null   object \n",
      " 14  streamingmovies   7043 non-null   object \n",
      " 15  contract          7043 non-null   object \n",
      " 16  paperlessbilling  7043 non-null   object \n",
      " 17  paymentmethod     7043 non-null   object \n",
      " 18  monthlycharges    7043 non-null   float64\n",
      " 19  totalcharges      7043 non-null   object \n",
      " 20  churn             7043 non-null   object \n",
      "dtypes: float64(1), int64(2), object(18)\n",
      "memory usage: 1.1+ MB\n"
     ]
    }
   ],
   "source": [
    "df.info()"
   ]
  },
  {
   "cell_type": "code",
   "execution_count": 5,
   "id": "c0dbfdc8",
   "metadata": {},
   "outputs": [
    {
     "data": {
      "text/plain": [
       "dtype('float64')"
      ]
     },
     "execution_count": 5,
     "metadata": {},
     "output_type": "execute_result"
    }
   ],
   "source": [
    "# Change data type of 'totalcharges' from str to float\n",
    "df['totalcharges'] = pd.to_numeric(df['totalcharges'],errors='coerce')\n",
    "df['totalcharges'].dtypes"
   ]
  },
  {
   "cell_type": "markdown",
   "id": "685914c7",
   "metadata": {},
   "source": [
    "## Imbalaned Data"
   ]
  },
  {
   "cell_type": "code",
   "execution_count": 13,
   "id": "3a9261f3",
   "metadata": {},
   "outputs": [
    {
     "name": "stdout",
     "output_type": "stream",
     "text": [
      "No     5163\n",
      "Yes    1869\n",
      "Name: churn, dtype: int64\n"
     ]
    },
    {
     "data": {
      "text/plain": [
       "<AxesSubplot:xlabel='churn', ylabel='count'>"
      ]
     },
     "execution_count": 13,
     "metadata": {},
     "output_type": "execute_result"
    },
    {
     "data": {
      "image/png": "[encoded data removed]",
      "text/plain": [
       "<Figure size 640x480 with 1 Axes>"
      ]
     },
     "metadata": {},
     "output_type": "display_data"
    }
   ],
   "source": [
    "# Check target --> we have imbalanced data\n",
    "y = df[\"churn\"]\n",
    "print (y.value_counts())\n",
    "\n",
    "sns.countplot(df[\"churn\"])"
   ]
  },
  {
   "cell_type": "markdown",
   "id": "4f091472",
   "metadata": {},
   "source": [
    "- We see imbalanced data with: \n",
    "    - majority \"No\" class 73%\n",
    "    - minority \"Yes\" class 27%"
   ]
  },
  {
   "cell_type": "code",
   "execution_count": 7,
   "id": "c3b7af57",
   "metadata": {
    "scrolled": false
   },
   "outputs": [
    {
     "name": "stdout",
     "output_type": "stream",
     "text": [
      "Sum of NaN:  \n",
      " customerid           0\n",
      "gender               0\n",
      "seniorcitizen        0\n",
      "partner              0\n",
      "dependents           0\n",
      "tenure               0\n",
      "phoneservice         0\n",
      "multiplelines        0\n",
      "internetservice      0\n",
      "onlinesecurity       0\n",
      "onlinebackup         0\n",
      "deviceprotection     0\n",
      "techsupport          0\n",
      "streamingtv          0\n",
      "streamingmovies      0\n",
      "contract             0\n",
      "paperlessbilling     0\n",
      "paymentmethod        0\n",
      "monthlycharges       0\n",
      "totalcharges        11\n",
      "churn                0\n",
      "dtype: int64 \n",
      "\n",
      "Sum of Empty spaces: \n",
      " customerid          0\n",
      "gender              0\n",
      "seniorcitizen       0\n",
      "partner             0\n",
      "dependents          0\n",
      "tenure              0\n",
      "phoneservice        0\n",
      "multiplelines       0\n",
      "internetservice     0\n",
      "onlinesecurity      0\n",
      "onlinebackup        0\n",
      "deviceprotection    0\n",
      "techsupport         0\n",
      "streamingtv         0\n",
      "streamingmovies     0\n",
      "contract            0\n",
      "paperlessbilling    0\n",
      "paymentmethod       0\n",
      "monthlycharges      0\n",
      "totalcharges        0\n",
      "churn               0\n",
      "dtype: int64\n"
     ]
    }
   ],
   "source": [
    "# Check nulls and empty spaces in the dataset\n",
    "print(\"Sum of NaN: \", \"\\n\", df.isna().sum(), \"\\n\")\n",
    "print(\"Sum of Empty spaces:\", \"\\n\", df.eq(\" \").sum())"
   ]
  },
  {
   "cell_type": "markdown",
   "id": "366c3545",
   "metadata": {},
   "source": [
    "- We have 11 nulls in \"totalcharges\" column"
   ]
  },
  {
   "cell_type": "code",
   "execution_count": 8,
   "id": "d5f286d4",
   "metadata": {},
   "outputs": [
    {
     "data": {
      "text/plain": [
       "No    11\n",
       "Name: churn, dtype: int64"
      ]
     },
     "execution_count": 8,
     "metadata": {},
     "output_type": "execute_result"
    }
   ],
   "source": [
    "# Check those NaNs, see which class of Churn they are in\n",
    "nan = df[df[\"totalcharges\"].isna()]\n",
    "nan[\"churn\"].value_counts()"
   ]
  },
  {
   "cell_type": "markdown",
   "id": "d7d6709f",
   "metadata": {},
   "source": [
    "- All of the NaNs are presented in the class \"No\" and they are < 0.5% of the data\n",
    "- Therefore, we can simply drop 11 rows of NaN"
   ]
  },
  {
   "cell_type": "code",
   "execution_count": 9,
   "id": "707cc8a6",
   "metadata": {},
   "outputs": [
    {
     "data": {
      "text/plain": [
       "7032"
      ]
     },
     "execution_count": 9,
     "metadata": {},
     "output_type": "execute_result"
    }
   ],
   "source": [
    "# drop na\n",
    "df = df.dropna()\n",
    "len(df)"
   ]
  },
  {
   "cell_type": "markdown",
   "id": "7aa161ea",
   "metadata": {},
   "source": [
    "## Define features"
   ]
  },
  {
   "cell_type": "code",
   "execution_count": 10,
   "id": "841cb246",
   "metadata": {
    "scrolled": true
   },
   "outputs": [
    {
     "data": {
      "text/html": [
       "<div>\n",
       "<style scoped>\n",
       "    .dataframe tbody tr th:only-of-type {\n",
       "        vertical-align: middle;\n",
       "    }\n",
       "\n",
       "    .dataframe tbody tr th {\n",
       "        vertical-align: top;\n",
       "    }\n",
       "\n",
       "    .dataframe thead th {\n",
       "        text-align: right;\n",
       "    }\n",
       "</style>\n",
       "<table border=\"1\" class=\"dataframe\">\n",
       "  <thead>\n",
       "    <tr style=\"text-align: right;\">\n",
       "      <th></th>\n",
       "      <th>tenure</th>\n",
       "      <th>seniorcitizen</th>\n",
       "      <th>monthlycharges</th>\n",
       "      <th>totalcharges</th>\n",
       "    </tr>\n",
       "  </thead>\n",
       "  <tbody>\n",
       "    <tr>\n",
       "      <th>0</th>\n",
       "      <td>1</td>\n",
       "      <td>0</td>\n",
       "      <td>29.85</td>\n",
       "      <td>29.85</td>\n",
       "    </tr>\n",
       "    <tr>\n",
       "      <th>1</th>\n",
       "      <td>34</td>\n",
       "      <td>0</td>\n",
       "      <td>56.95</td>\n",
       "      <td>1889.50</td>\n",
       "    </tr>\n",
       "    <tr>\n",
       "      <th>2</th>\n",
       "      <td>2</td>\n",
       "      <td>0</td>\n",
       "      <td>53.85</td>\n",
       "      <td>108.15</td>\n",
       "    </tr>\n",
       "    <tr>\n",
       "      <th>3</th>\n",
       "      <td>45</td>\n",
       "      <td>0</td>\n",
       "      <td>42.30</td>\n",
       "      <td>1840.75</td>\n",
       "    </tr>\n",
       "    <tr>\n",
       "      <th>4</th>\n",
       "      <td>2</td>\n",
       "      <td>0</td>\n",
       "      <td>70.70</td>\n",
       "      <td>151.65</td>\n",
       "    </tr>\n",
       "  </tbody>\n",
       "</table>\n",
       "</div>"
      ],
      "text/plain": [
       "   tenure  seniorcitizen  monthlycharges  totalcharges\n",
       "0       1              0           29.85         29.85\n",
       "1      34              0           56.95       1889.50\n",
       "2       2              0           53.85        108.15\n",
       "3      45              0           42.30       1840.75\n",
       "4       2              0           70.70        151.65"
      ]
     },
     "execution_count": 10,
     "metadata": {},
     "output_type": "execute_result"
    }
   ],
   "source": [
    "X = df[[\"tenure\", \"seniorcitizen\", \"monthlycharges\", \"totalcharges\"]]\n",
    "X.head()"
   ]
  },
  {
   "cell_type": "code",
   "execution_count": 16,
   "id": "3d165036",
   "metadata": {},
   "outputs": [
    {
     "data": {
      "image/png": "[encoded data removed]",
      "text/plain": [
       "<Figure size 600x400 with 4 Axes>"
      ]
     },
     "metadata": {},
     "output_type": "display_data"
    }
   ],
   "source": [
    "fig = plt.figure(figsize = (6, 4), constrained_layout = True)\n",
    "for i, column in enumerate(X.columns):\n",
    "    fig.add_subplot(2, 2, i + 1) \n",
    "    sns.histplot(X[column])"
   ]
  },
  {
   "cell_type": "code",
   "execution_count": 12,
   "id": "c0bd7c24",
   "metadata": {},
   "outputs": [
    {
     "data": {
      "text/html": [
       "<div>\n",
       "<style scoped>\n",
       "    .dataframe tbody tr th:only-of-type {\n",
       "        vertical-align: middle;\n",
       "    }\n",
       "\n",
       "    .dataframe tbody tr th {\n",
       "        vertical-align: top;\n",
       "    }\n",
       "\n",
       "    .dataframe thead th {\n",
       "        text-align: right;\n",
       "    }\n",
       "</style>\n",
       "<table border=\"1\" class=\"dataframe\">\n",
       "  <thead>\n",
       "    <tr style=\"text-align: right;\">\n",
       "      <th></th>\n",
       "      <th>tenure</th>\n",
       "      <th>seniorcitizen</th>\n",
       "      <th>monthlycharges</th>\n",
       "      <th>totalcharges</th>\n",
       "    </tr>\n",
       "  </thead>\n",
       "  <tbody>\n",
       "    <tr>\n",
       "      <th>0</th>\n",
       "      <td>-1.280248</td>\n",
       "      <td>-0.440327</td>\n",
       "      <td>-1.161694</td>\n",
       "      <td>-0.994194</td>\n",
       "    </tr>\n",
       "    <tr>\n",
       "      <th>1</th>\n",
       "      <td>0.064303</td>\n",
       "      <td>-0.440327</td>\n",
       "      <td>-0.260878</td>\n",
       "      <td>-0.173740</td>\n",
       "    </tr>\n",
       "    <tr>\n",
       "      <th>2</th>\n",
       "      <td>-1.239504</td>\n",
       "      <td>-0.440327</td>\n",
       "      <td>-0.363923</td>\n",
       "      <td>-0.959649</td>\n",
       "    </tr>\n",
       "    <tr>\n",
       "      <th>3</th>\n",
       "      <td>0.512486</td>\n",
       "      <td>-0.440327</td>\n",
       "      <td>-0.747850</td>\n",
       "      <td>-0.195248</td>\n",
       "    </tr>\n",
       "    <tr>\n",
       "      <th>4</th>\n",
       "      <td>-1.239504</td>\n",
       "      <td>-0.440327</td>\n",
       "      <td>0.196178</td>\n",
       "      <td>-0.940457</td>\n",
       "    </tr>\n",
       "  </tbody>\n",
       "</table>\n",
       "</div>"
      ],
      "text/plain": [
       "     tenure  seniorcitizen  monthlycharges  totalcharges\n",
       "0 -1.280248      -0.440327       -1.161694     -0.994194\n",
       "1  0.064303      -0.440327       -0.260878     -0.173740\n",
       "2 -1.239504      -0.440327       -0.363923     -0.959649\n",
       "3  0.512486      -0.440327       -0.747850     -0.195248\n",
       "4 -1.239504      -0.440327        0.196178     -0.940457"
      ]
     },
     "execution_count": 12,
     "metadata": {},
     "output_type": "execute_result"
    }
   ],
   "source": [
    "#standardise the numerical data \n",
    "scaler = StandardScaler()\n",
    "X_standardized = scaler.fit_transform(X)\n",
    "X_standardized = pd.DataFrame(X_standardized, columns=X.columns)\n",
    "\n",
    "X_standardized.head()"
   ]
  },
  {
   "cell_type": "markdown",
   "id": "555104c8",
   "metadata": {},
   "source": [
    "## Baseline Model"
   ]
  },
  {
   "cell_type": "code",
   "execution_count": 53,
   "id": "51051c17",
   "metadata": {},
   "outputs": [],
   "source": [
    "# Train-test split \n",
    "X_train, X_test, y_train, y_test = train_test_split(X_standardized, y, test_size=0.2, random_state=42)\n",
    "# print(len(X_train))\n",
    "# print(len(y_train))"
   ]
  },
  {
   "cell_type": "code",
   "execution_count": 54,
   "id": "b761a780",
   "metadata": {
    "scrolled": false
   },
   "outputs": [
    {
     "name": "stdout",
     "output_type": "stream",
     "text": [
      "              precision    recall  f1-score   support\n",
      "\n",
      "          No       0.82      0.91      0.86      1033\n",
      "         Yes       0.62      0.44      0.51       374\n",
      "\n",
      "    accuracy                           0.78      1407\n",
      "   macro avg       0.72      0.67      0.69      1407\n",
      "weighted avg       0.77      0.78      0.77      1407\n",
      "\n"
     ]
    },
    {
     "data": {
      "image/png": "[encoded data removed]",
      "text/plain": [
       "<Figure size 640x480 with 2 Axes>"
      ]
     },
     "metadata": {},
     "output_type": "display_data"
    }
   ],
   "source": [
    "def logreg_train_test(X_train, y_train):\n",
    "\n",
    "    # Train-test split \n",
    "    #X_train, X_test, y_train, y_test = train_test_split(X, y, test_size=0.2, random_state=42)\n",
    "\n",
    "    # Train the model \n",
    "    classification = LogisticRegression(random_state=0, multi_class='ovr').fit(X_train, y_train)\n",
    "    y_pred = classification.predict(X_test)\n",
    "    \n",
    "    \n",
    "    # create confusion matrix\n",
    "    cm = confusion_matrix(y_test, y_pred)\n",
    "\n",
    "    # plot the confusion matrix as a heatmap\n",
    "    plt.imshow(cm, cmap=plt.cm.Blues)\n",
    "    plt.title('Confusion Matrix')\n",
    "    plt.colorbar()\n",
    "    plt.xlabel('Predicted Response')\n",
    "    plt.ylabel('True Response')\n",
    "    plt.xticks([0,1], ['No', 'Yes'])\n",
    "    plt.yticks([0,1], ['No', 'Yes'])\n",
    "\n",
    "    # add the values of the confusion matrix to the heatmap\n",
    "    thresh = cm.max() / 2.\n",
    "    for i, j in ((0, 0), (0, 1), (1, 0), (1, 1)):\n",
    "        plt.text(j, i, cm[i, j],\n",
    "                 horizontalalignment=\"center\",\n",
    "                 color=\"white\" if cm[i, j] > thresh else \"black\")\n",
    "    \n",
    "    print(classification_report(y_test, y_pred))\n",
    "    plt.show()\n",
    "\n",
    "    \n",
    "logreg_train_test(X_train, y_train)"
   ]
  },
  {
   "cell_type": "markdown",
   "id": "1b036412",
   "metadata": {},
   "source": [
    "### Result\n",
    "\n",
    "- The baseline model predicts true positive (precision) for \"No\" 82% while predicts \"Yes\" 62%. \n",
    "- And it is consistent with the recall metric, for the \"No\" prediction. When the sample is \"No\" we can trust this model to predict correctly about 91%.\n",
    "- However, if the sample is \"Yes\" we can trust this model only about 44% to predict correctly. This tells us that there are too many false negative predictions.\n",
    "\n",
    "\n",
    "### What's next?\n",
    "- We are aiming for a model that predicts both classes correctly and simultaneously. \n",
    "- The event of high precision and/or recall scores in one class and low in another because of imbalanced data.\n",
    "- We can improve the model by using machine learning algorithms to manage the imbalanced- into balanced data.\n"
   ]
  },
  {
   "cell_type": "markdown",
   "id": "1b30ee31",
   "metadata": {},
   "source": [
    "<div class=\"alert alert-block alert-info\">\n",
    "    <font color=black>\n",
    "    <h2>Managing Imbalanced Data & Improving the Classification Model</h2>\n",
    "    </font>\n",
    "    </div>"
   ]
  },
  {
   "cell_type": "markdown",
   "id": "e3a3d91d",
   "metadata": {},
   "source": [
    "## SMOTE\n",
    "\n",
    "- Oversampling data using by \n",
    "    - Picking a point from the minority class\n",
    "    - Computing the k-nearest neighbors (for some pre-specified k) for this point\n",
    "    - Adding k new points somewhere between the chosen point and each of its neighbors\n",
    "    \n",
    "\n",
    "Read more:\n",
    "- [SMOTE explained for noobs – Synthetic Minority Over-sampling TEchnique line by line](https://rikunert.com/smote_explained)"
   ]
  },
  {
   "cell_type": "code",
   "execution_count": 55,
   "id": "15780ca3",
   "metadata": {},
   "outputs": [
    {
     "name": "stdout",
     "output_type": "stream",
     "text": [
      "Oversampling with SMOTE: \n",
      " Yes    4130\n",
      "No     4130\n",
      "Name: churn, dtype: int64 \n",
      "\n",
      "Origin data: \n",
      " No     5163\n",
      "Yes    1869\n",
      "Name: churn, dtype: int64 \n",
      "\n",
      "              precision    recall  f1-score   support\n",
      "\n",
      "          No       0.88      0.71      0.79      1033\n",
      "         Yes       0.48      0.73      0.58       374\n",
      "\n",
      "    accuracy                           0.72      1407\n",
      "   macro avg       0.68      0.72      0.68      1407\n",
      "weighted avg       0.77      0.72      0.73      1407\n",
      "\n"
     ]
    },
    {
     "data": {
      "image/png": "[encoded data removed]",
      "text/plain": [
       "<Figure size 640x480 with 2 Axes>"
      ]
     },
     "metadata": {},
     "output_type": "display_data"
    }
   ],
   "source": [
    "from imblearn.over_sampling import SMOTE\n",
    "  \n",
    "# Resampling with SMOTE\n",
    "sm = SMOTE(random_state = 42)\n",
    "X_train_smt, y_train_smt = sm.fit_resample(X_train, y_train)\n",
    "print(\"Oversampling with SMOTE:\", \"\\n\", y_train_smt.value_counts(), \"\\n\")\n",
    "print(\"Origin data:\", \"\\n\", y.value_counts(), \"\\n\")\n",
    "\n",
    "# calling the logistic regression model & check the result\n",
    "logreg_train_test(X_train_smt, y_train_smt)"
   ]
  },
  {
   "cell_type": "markdown",
   "id": "d9b198ea",
   "metadata": {},
   "source": [
    "### Result\n",
    "\n",
    "- The baseline model predicts true positive (precision) for \"No\" 88% while predicts \"Yes\" 48%. From here, we see that baseline model predicted \"Yes\" better than SMOTE.\n",
    "- However, when the sample is \"No\" we can trust this model to predict correctly about 71% and for \"Yes\" is 73%. Which is better than baseline model. \n",
    "- With this Recall shows that there are less false negative predictions compared to the baseline model."
   ]
  },
  {
   "cell_type": "markdown",
   "id": "b038522b",
   "metadata": {},
   "source": [
    "## TomekLinks\n",
    "\n",
    "Removing the instances of the majority class of each pair by comparing the close instances between two classes.  This method increases the space between the two classes, facilitating the classification process."
   ]
  },
  {
   "cell_type": "code",
   "execution_count": 56,
   "id": "f0f6c04c",
   "metadata": {},
   "outputs": [
    {
     "name": "stdout",
     "output_type": "stream",
     "text": [
      "Undersampling with TomekLinks: \n",
      " No     3729\n",
      "Yes    1495\n",
      "Name: churn, dtype: int64 \n",
      "\n",
      "Origin data: \n",
      " No     5163\n",
      "Yes    1869\n",
      "Name: churn, dtype: int64 \n",
      "\n",
      "              precision    recall  f1-score   support\n",
      "\n",
      "          No       0.83      0.87      0.85      1033\n",
      "         Yes       0.59      0.52      0.55       374\n",
      "\n",
      "    accuracy                           0.78      1407\n",
      "   macro avg       0.71      0.69      0.70      1407\n",
      "weighted avg       0.77      0.78      0.77      1407\n",
      "\n"
     ]
    },
    {
     "data": {
      "image/png": "[encoded data removed]",
      "text/plain": [
       "<Figure size 640x480 with 2 Axes>"
      ]
     },
     "metadata": {},
     "output_type": "display_data"
    }
   ],
   "source": [
    "from imblearn.under_sampling import TomekLinks\n",
    "\n",
    "tl = TomekLinks(sampling_strategy='majority')\n",
    "X_tl, y_tl = tl.fit_resample(X_train, y_train)\n",
    "\n",
    "print(\"Undersampling with TomekLinks:\", \"\\n\", y_tl.value_counts(), \"\\n\")\n",
    "print(\"Origin data:\", \"\\n\", y.value_counts(), \"\\n\")\n",
    "\n",
    "# calling the logistic regression model & check the result\n",
    "logreg_train_test(X_tl, y_tl)"
   ]
  },
  {
   "cell_type": "markdown",
   "id": "69cc8eac",
   "metadata": {},
   "source": [
    "### Result\n",
    "\n",
    "- This model predicts \"No\" class with high Precision and Recall\n",
    "- However, it predicts \"Yes\" class with only about 59% Precision and 52% Recall   \n"
   ]
  },
  {
   "cell_type": "markdown",
   "id": "87783243",
   "metadata": {},
   "source": [
    "## Over- and undersampling using Imblearn RandomUnderSampler & RandomOverSampler"
   ]
  },
  {
   "cell_type": "markdown",
   "id": "af939027",
   "metadata": {},
   "source": [
    "### Oversampling"
   ]
  },
  {
   "cell_type": "code",
   "execution_count": 58,
   "id": "2d89c496",
   "metadata": {},
   "outputs": [
    {
     "name": "stdout",
     "output_type": "stream",
     "text": [
      "Oversampling with Imblearn: \n",
      " Yes    4130\n",
      "No     4130\n",
      "Name: churn, dtype: int64 \n",
      "\n",
      "Origin data: \n",
      " No     5163\n",
      "Yes    1869\n",
      "Name: churn, dtype: int64 \n",
      "\n",
      "              precision    recall  f1-score   support\n",
      "\n",
      "          No       0.88      0.71      0.79      1033\n",
      "         Yes       0.48      0.73      0.58       374\n",
      "\n",
      "    accuracy                           0.72      1407\n",
      "   macro avg       0.68      0.72      0.68      1407\n",
      "weighted avg       0.77      0.72      0.73      1407\n",
      "\n"
     ]
    },
    {
     "data": {
      "image/png": "[encoded data removed]",
      "text/plain": [
       "<Figure size 640x480 with 2 Axes>"
      ]
     },
     "metadata": {},
     "output_type": "display_data"
    }
   ],
   "source": [
    "ros = RandomOverSampler()\n",
    "X_ros, y_ros = ros.fit_resample(X_train, y_train)\n",
    "\n",
    "print(\"Oversampling with Imblearn:\", \"\\n\", y_ros.value_counts(), \"\\n\")\n",
    "print(\"Origin data:\", \"\\n\", y.value_counts(), \"\\n\")\n",
    "\n",
    "# calling the logistic regression model & check the result\n",
    "logreg_train_test(X_ros, y_ros)"
   ]
  },
  {
   "cell_type": "markdown",
   "id": "5748e782",
   "metadata": {},
   "source": [
    "### Undersampling"
   ]
  },
  {
   "cell_type": "code",
   "execution_count": 59,
   "id": "648983c0",
   "metadata": {},
   "outputs": [
    {
     "name": "stdout",
     "output_type": "stream",
     "text": [
      "Undersampling with Imlearn: \n",
      " No     1495\n",
      "Yes    1495\n",
      "Name: churn, dtype: int64 \n",
      "\n",
      "Origin data: \n",
      " No     5163\n",
      "Yes    1869\n",
      "Name: churn, dtype: int64 \n",
      "\n",
      "              precision    recall  f1-score   support\n",
      "\n",
      "          No       0.88      0.71      0.79      1033\n",
      "         Yes       0.48      0.73      0.58       374\n",
      "\n",
      "    accuracy                           0.72      1407\n",
      "   macro avg       0.68      0.72      0.68      1407\n",
      "weighted avg       0.77      0.72      0.73      1407\n",
      "\n"
     ]
    },
    {
     "data": {
      "image/png": "[encoded data removed]",
      "text/plain": [
       "<Figure size 640x480 with 2 Axes>"
      ]
     },
     "metadata": {},
     "output_type": "display_data"
    }
   ],
   "source": [
    "rus = RandomUnderSampler()\n",
    "X_rus, y_rus = rus.fit_resample(X_train, y_train)\n",
    "\n",
    "print(\"Undersampling with Imlearn:\", \"\\n\", y_rus.value_counts(), \"\\n\")\n",
    "print(\"Origin data:\", \"\\n\", y.value_counts(), \"\\n\")\n",
    "\n",
    "# calling the logistic regression model & check the result\n",
    "logreg_train_test(X_rus, y_rus)"
   ]
  },
  {
   "cell_type": "markdown",
   "id": "5e8dc99d",
   "metadata": {},
   "source": [
    "# Result\n",
    "- Both models: OverSampling and UnderSampling predict both classes of Churn (yes and no) similar to the SMOTE method.\n",
    "- They predict 88% true positives in the \"No\" and 48% in the \"Yes\" class. While the models highly accurate predict true positive in the \"No\" class (88% precision), they predict 48% of false positives in the \"Yes\" class (52% are false positive).\n",
    "- With Recall predict 71% in \"No\" and 73% in \"Yes\" class. They predict fewer false negatives compared to the baseline model.\n",
    "\n",
    "\n",
    "## Discussion\n",
    "\n",
    "\n",
    "- Among the models we tested, they predicted the \"No\" class well but we want to be able to predict the \"Yes\" as well as the \"No\" class.\n",
    "- Therefore, focussing on the \"Yes\" class, the result showed that\n",
    "\n",
    "    - SMOTE, OverSampler, and UnderSampler methods predicted true negative very well with 73% (recall) and true positive with 48% (precision)\n",
    "    \n",
    "    - TomekLinks predicted true negative with 52% (recall) and true positive with 59% (precision)\n",
    "\n",
    "    - And the baseline model predicted true negative with 44% (recall) and true positive with 62% (precision)\n",
    "\n",
    "They provided different strong points.  \n",
    "    \n",
    "    \n",
    "## Conclusion    \n",
    "\n",
    "\n",
    "Depends on which problem/question/challenge we are facing:\n",
    "- In most business cases, we tend to focus more on predicting true positives. \n",
    "    \n",
    "    Therefore, in this case, we found the baseline and secondly, the TomekLinks model would be the appropriate method for this dataset. Because they predicted true positive best among the methods.\n",
    "    \n",
    "    \n",
    "- In the medical field, on the other hand, e.g. for creating a tool to predict a disease in the screen test for example. We focus on both equally but we want to screen positive cases more (--> sensitivity/recall <--) because we don't want to miss out on the true positive cases. \n",
    "    \n",
    "    That when a person has a disease, he/she should be able to have a chance to get medical attention in the early stage. \n",
    "    \n",
    "    Plus in some cases, e.g. detecting (deadly) infectious diseases, it is more important to have high sensitivity test otherwise, a person who has the disease can spread the disease if he/she got a false negative (undetected). \n",
    "    \n",
    "    Therefore, getting a false positive has a lower impact compared to a false negative because, in the process of diagnosis, we always have the process/steps/tests after the screening to exclude the cases. \n",
    "    \n",
    "    But after all, depending on the question/problem as we discussed in the first line.\n",
    "\n",
    "\n",
    "### For this dataset\n",
    "\n",
    "- We came to the conclusion that for this dataset, **baseline model would be the appropriate method to predict Churn**. Because it predicted true positive best among the methods. \n",
    "\n",
    "- And the **second best is the TomekLinks method**."
   ]
  },
  {
   "cell_type": "code",
   "execution_count": null,
   "id": "2b2308b1",
   "metadata": {},
   "outputs": [],
   "source": [
    "#### END OF THE LAB & THANK YOU!!! ❤️ ####"
   ]
  },
  {
   "cell_type": "code",
   "execution_count": null,
   "id": "c0a2bc9d",
   "metadata": {},
   "outputs": [],
   "source": []
  }
 ],
 "metadata": {
  "kernelspec": {
   "display_name": "Python 3 (ipykernel)",
   "language": "python",
   "name": "python3"
  },
  "language_info": {
   "codemirror_mode": {
    "name": "ipython",
    "version": 3
   },
   "file_extension": ".py",
   "mimetype": "text/x-python",
   "name": "python",
   "nbconvert_exporter": "python",
   "pygments_lexer": "ipython3",
   "version": "3.9.13"
  }
 },
 "nbformat": 4,
 "nbformat_minor": 5
}
