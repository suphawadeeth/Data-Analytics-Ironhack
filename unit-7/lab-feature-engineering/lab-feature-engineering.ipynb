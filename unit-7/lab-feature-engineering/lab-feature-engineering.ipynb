{
 "cells": [
  {
   "cell_type": "markdown",
   "metadata": {},
   "source": [
    "<div class=\"alert alert-block alert-info\">\n",
    "<b style=\"font-size:14px; color:light blue\">Note:</b> I use the same file as previous lab. \n",
    "\n",
    "For <b style=\"font-size:14px; color:light blue\">Lab Feature Engineering</b> Please scroll down (--> In [22]). Thank you! :D\n",
    "</div>"
   ]
  },
  {
   "cell_type": "markdown",
   "metadata": {},
   "source": [
    "# Lab | Revisiting Machine Learning Case Study\n",
    "- In this lab, you will use learningSet.csv file which you already have cloned in today's activities.\n",
    "\n",
    "### Instructions\n",
    "Complete the following steps on the categorical columns in the dataset:\n",
    "\n",
    "- Check for null values in all the columns\n",
    "\n",
    "- Exclude the following variables by looking at the definitions. Create a new empty list called drop_list. We will append this list and then drop all the columns in this list later:\n",
    "\n",
    "    - OSOURCE - symbol definitions not provided, too many categories\n",
    "    - ZIP CODE - we are including state already\n",
    "- Identify columns that over 85% missing values\n",
    "\n",
    "- Remove those columns from the dataframe\n",
    "\n",
    "- Reduce the number of categories in the column GENDER. The column should only have either \"M\" for males, \"F\" for females, and \"other\" for all the rest\n",
    "\n",
    "    - Note that there are a few null values in the column. We will first replace those null values using the code below:\n",
    "        print(categorical['GENDER'].value_counts())\n",
    "        categorical['GENDER'] = categorical['GENDER'].fillna('F')"
   ]
  },
  {
   "cell_type": "markdown",
   "metadata": {},
   "source": [
    "## Understand The Problem\n",
    "\n",
    "2 Problems are raised:\n",
    "    \n",
    "    1) Donate or not donate --> Binary Classification \"target_b\"\n",
    "\n",
    "    2) The amount of donation --> Linear Regression \"target_d\"\n",
    "\n",
    "Goal:\n",
    "- Target the high amount of donation group (consider cost-effective)"
   ]
  },
  {
   "cell_type": "markdown",
   "metadata": {},
   "source": [
    "## Import Libraries"
   ]
  },
  {
   "cell_type": "code",
   "execution_count": 1,
   "metadata": {},
   "outputs": [],
   "source": [
    "import pandas as pd\n",
    "import numpy as np\n",
    "import seaborn as sns\n",
    "import matplotlib.pyplot as plt\n",
    "import missingno as msno\n",
    "\n",
    "import xgboost as xgb\n",
    "from xgboost import XGBClassifier\n",
    "\n",
    "from sklearn import svm\n",
    "from sklearn.preprocessing import OneHotEncoder\n",
    "from sklearn.experimental import enable_iterative_imputer\n",
    "from sklearn.ensemble import HistGradientBoostingClassifier\n",
    "from sklearn.ensemble import RandomForestClassifier\n",
    "\n",
    "import warnings\n",
    "warnings.filterwarnings(\"ignore\")\n",
    "warnings.filterwarnings(\"ignore\", message=\"numpy.ufunc size changed\")"
   ]
  },
  {
   "cell_type": "markdown",
   "metadata": {},
   "source": [
    "## Import Data"
   ]
  },
  {
   "cell_type": "code",
   "execution_count": 2,
   "metadata": {},
   "outputs": [
    {
     "data": {
      "text/html": [
       "<div>\n",
       "<style scoped>\n",
       "    .dataframe tbody tr th:only-of-type {\n",
       "        vertical-align: middle;\n",
       "    }\n",
       "\n",
       "    .dataframe tbody tr th {\n",
       "        vertical-align: top;\n",
       "    }\n",
       "\n",
       "    .dataframe thead th {\n",
       "        text-align: right;\n",
       "    }\n",
       "</style>\n",
       "<table border=\"1\" class=\"dataframe\">\n",
       "  <thead>\n",
       "    <tr style=\"text-align: right;\">\n",
       "      <th></th>\n",
       "      <th>ODATEDW</th>\n",
       "      <th>OSOURCE</th>\n",
       "      <th>TCODE</th>\n",
       "      <th>STATE</th>\n",
       "      <th>ZIP</th>\n",
       "      <th>MAILCODE</th>\n",
       "      <th>PVASTATE</th>\n",
       "      <th>DOB</th>\n",
       "      <th>NOEXCH</th>\n",
       "      <th>RECINHSE</th>\n",
       "      <th>...</th>\n",
       "      <th>TARGET_D</th>\n",
       "      <th>HPHONE_D</th>\n",
       "      <th>RFA_2R</th>\n",
       "      <th>RFA_2F</th>\n",
       "      <th>RFA_2A</th>\n",
       "      <th>MDMAUD_R</th>\n",
       "      <th>MDMAUD_F</th>\n",
       "      <th>MDMAUD_A</th>\n",
       "      <th>CLUSTER2</th>\n",
       "      <th>GEOCODE2</th>\n",
       "    </tr>\n",
       "  </thead>\n",
       "  <tbody>\n",
       "    <tr>\n",
       "      <th>0</th>\n",
       "      <td>8901</td>\n",
       "      <td>GRI</td>\n",
       "      <td>0</td>\n",
       "      <td>IL</td>\n",
       "      <td>61081</td>\n",
       "      <td></td>\n",
       "      <td></td>\n",
       "      <td>3712</td>\n",
       "      <td>0</td>\n",
       "      <td></td>\n",
       "      <td>...</td>\n",
       "      <td>0.0</td>\n",
       "      <td>0</td>\n",
       "      <td>L</td>\n",
       "      <td>4</td>\n",
       "      <td>E</td>\n",
       "      <td>X</td>\n",
       "      <td>X</td>\n",
       "      <td>X</td>\n",
       "      <td>39.0</td>\n",
       "      <td>C</td>\n",
       "    </tr>\n",
       "    <tr>\n",
       "      <th>1</th>\n",
       "      <td>9401</td>\n",
       "      <td>BOA</td>\n",
       "      <td>1</td>\n",
       "      <td>CA</td>\n",
       "      <td>91326</td>\n",
       "      <td></td>\n",
       "      <td></td>\n",
       "      <td>5202</td>\n",
       "      <td>0</td>\n",
       "      <td></td>\n",
       "      <td>...</td>\n",
       "      <td>0.0</td>\n",
       "      <td>0</td>\n",
       "      <td>L</td>\n",
       "      <td>2</td>\n",
       "      <td>G</td>\n",
       "      <td>X</td>\n",
       "      <td>X</td>\n",
       "      <td>X</td>\n",
       "      <td>1.0</td>\n",
       "      <td>A</td>\n",
       "    </tr>\n",
       "    <tr>\n",
       "      <th>2</th>\n",
       "      <td>9001</td>\n",
       "      <td>AMH</td>\n",
       "      <td>1</td>\n",
       "      <td>NC</td>\n",
       "      <td>27017</td>\n",
       "      <td></td>\n",
       "      <td></td>\n",
       "      <td>0</td>\n",
       "      <td>0</td>\n",
       "      <td></td>\n",
       "      <td>...</td>\n",
       "      <td>0.0</td>\n",
       "      <td>1</td>\n",
       "      <td>L</td>\n",
       "      <td>4</td>\n",
       "      <td>E</td>\n",
       "      <td>X</td>\n",
       "      <td>X</td>\n",
       "      <td>X</td>\n",
       "      <td>60.0</td>\n",
       "      <td>C</td>\n",
       "    </tr>\n",
       "    <tr>\n",
       "      <th>3</th>\n",
       "      <td>8701</td>\n",
       "      <td>BRY</td>\n",
       "      <td>0</td>\n",
       "      <td>CA</td>\n",
       "      <td>95953</td>\n",
       "      <td></td>\n",
       "      <td></td>\n",
       "      <td>2801</td>\n",
       "      <td>0</td>\n",
       "      <td></td>\n",
       "      <td>...</td>\n",
       "      <td>0.0</td>\n",
       "      <td>1</td>\n",
       "      <td>L</td>\n",
       "      <td>4</td>\n",
       "      <td>E</td>\n",
       "      <td>X</td>\n",
       "      <td>X</td>\n",
       "      <td>X</td>\n",
       "      <td>41.0</td>\n",
       "      <td>C</td>\n",
       "    </tr>\n",
       "    <tr>\n",
       "      <th>4</th>\n",
       "      <td>8601</td>\n",
       "      <td></td>\n",
       "      <td>0</td>\n",
       "      <td>FL</td>\n",
       "      <td>33176</td>\n",
       "      <td></td>\n",
       "      <td></td>\n",
       "      <td>2001</td>\n",
       "      <td>0</td>\n",
       "      <td>X</td>\n",
       "      <td>...</td>\n",
       "      <td>0.0</td>\n",
       "      <td>1</td>\n",
       "      <td>L</td>\n",
       "      <td>2</td>\n",
       "      <td>F</td>\n",
       "      <td>X</td>\n",
       "      <td>X</td>\n",
       "      <td>X</td>\n",
       "      <td>26.0</td>\n",
       "      <td>A</td>\n",
       "    </tr>\n",
       "  </tbody>\n",
       "</table>\n",
       "<p>5 rows × 481 columns</p>\n",
       "</div>"
      ],
      "text/plain": [
       "   ODATEDW OSOURCE  TCODE STATE    ZIP MAILCODE PVASTATE   DOB NOEXCH  \\\n",
       "0     8901     GRI      0    IL  61081                    3712      0   \n",
       "1     9401     BOA      1    CA  91326                    5202      0   \n",
       "2     9001     AMH      1    NC  27017                       0      0   \n",
       "3     8701     BRY      0    CA  95953                    2801      0   \n",
       "4     8601              0    FL  33176                    2001      0   \n",
       "\n",
       "  RECINHSE  ... TARGET_D HPHONE_D RFA_2R RFA_2F RFA_2A MDMAUD_R  MDMAUD_F  \\\n",
       "0           ...      0.0        0      L      4      E        X         X   \n",
       "1           ...      0.0        0      L      2      G        X         X   \n",
       "2           ...      0.0        1      L      4      E        X         X   \n",
       "3           ...      0.0        1      L      4      E        X         X   \n",
       "4        X  ...      0.0        1      L      2      F        X         X   \n",
       "\n",
       "  MDMAUD_A CLUSTER2 GEOCODE2  \n",
       "0        X     39.0        C  \n",
       "1        X      1.0        A  \n",
       "2        X     60.0        C  \n",
       "3        X     41.0        C  \n",
       "4        X     26.0        A  \n",
       "\n",
       "[5 rows x 481 columns]"
      ]
     },
     "execution_count": 2,
     "metadata": {},
     "output_type": "execute_result"
    }
   ],
   "source": [
    "df = pd.read_csv(\"/Users/kt/Desktop/Ironhack/Data-Analytics-Ironhack/unit-7/learningSet.csv\")\n",
    "df.head()"
   ]
  },
  {
   "cell_type": "markdown",
   "metadata": {},
   "source": [
    "## Exploratory Data Analysis (EDA)"
   ]
  },
  {
   "cell_type": "code",
   "execution_count": 3,
   "metadata": {},
   "outputs": [
    {
     "data": {
      "text/plain": [
       "(95412, 481)"
      ]
     },
     "execution_count": 3,
     "metadata": {},
     "output_type": "execute_result"
    }
   ],
   "source": [
    "# Check rows, columns\n",
    "df.shape"
   ]
  },
  {
   "cell_type": "code",
   "execution_count": 4,
   "metadata": {},
   "outputs": [],
   "source": [
    "# Standardize columns' name\n",
    "df.columns = [df.columns[i].lower().replace(\" \",\"_\") for i in range(len(df.columns))]\n",
    "# df.columns"
   ]
  },
  {
   "cell_type": "code",
   "execution_count": 5,
   "metadata": {},
   "outputs": [
    {
     "name": "stdout",
     "output_type": "stream",
     "text": [
      "<class 'pandas.core.frame.DataFrame'>\n",
      "RangeIndex: 95412 entries, 0 to 95411\n",
      "Columns: 481 entries, odatedw to geocode2\n",
      "dtypes: float64(97), int64(310), object(74)\n",
      "memory usage: 350.1+ MB\n"
     ]
    }
   ],
   "source": [
    "# Check dtypes --> float64(97), int64(310), object(74)\n",
    "df.info()"
   ]
  },
  {
   "cell_type": "code",
   "execution_count": 6,
   "metadata": {},
   "outputs": [
    {
     "name": "stdout",
     "output_type": "stream",
     "text": [
      "There are 0 duplicate rows. Also;\n"
     ]
    },
    {
     "data": {
      "text/html": [
       "<div>\n",
       "<style scoped>\n",
       "    .dataframe tbody tr th:only-of-type {\n",
       "        vertical-align: middle;\n",
       "    }\n",
       "\n",
       "    .dataframe tbody tr th {\n",
       "        vertical-align: top;\n",
       "    }\n",
       "\n",
       "    .dataframe thead th {\n",
       "        text-align: right;\n",
       "    }\n",
       "</style>\n",
       "<table border=\"1\" class=\"dataframe\">\n",
       "  <thead>\n",
       "    <tr style=\"text-align: right;\">\n",
       "      <th></th>\n",
       "      <th>NaN</th>\n",
       "      <th>EmptySpaces</th>\n",
       "    </tr>\n",
       "  </thead>\n",
       "  <tbody>\n",
       "    <tr>\n",
       "      <th>odatedw</th>\n",
       "      <td>0</td>\n",
       "      <td>0</td>\n",
       "    </tr>\n",
       "    <tr>\n",
       "      <th>osource</th>\n",
       "      <td>0</td>\n",
       "      <td>928</td>\n",
       "    </tr>\n",
       "    <tr>\n",
       "      <th>tcode</th>\n",
       "      <td>0</td>\n",
       "      <td>0</td>\n",
       "    </tr>\n",
       "    <tr>\n",
       "      <th>state</th>\n",
       "      <td>0</td>\n",
       "      <td>0</td>\n",
       "    </tr>\n",
       "    <tr>\n",
       "      <th>zip</th>\n",
       "      <td>0</td>\n",
       "      <td>0</td>\n",
       "    </tr>\n",
       "    <tr>\n",
       "      <th>...</th>\n",
       "      <td>...</td>\n",
       "      <td>...</td>\n",
       "    </tr>\n",
       "    <tr>\n",
       "      <th>mdmaud_r</th>\n",
       "      <td>0</td>\n",
       "      <td>0</td>\n",
       "    </tr>\n",
       "    <tr>\n",
       "      <th>mdmaud_f</th>\n",
       "      <td>0</td>\n",
       "      <td>0</td>\n",
       "    </tr>\n",
       "    <tr>\n",
       "      <th>mdmaud_a</th>\n",
       "      <td>0</td>\n",
       "      <td>0</td>\n",
       "    </tr>\n",
       "    <tr>\n",
       "      <th>cluster2</th>\n",
       "      <td>132</td>\n",
       "      <td>0</td>\n",
       "    </tr>\n",
       "    <tr>\n",
       "      <th>geocode2</th>\n",
       "      <td>132</td>\n",
       "      <td>187</td>\n",
       "    </tr>\n",
       "  </tbody>\n",
       "</table>\n",
       "<p>481 rows × 2 columns</p>\n",
       "</div>"
      ],
      "text/plain": [
       "          NaN  EmptySpaces\n",
       "odatedw     0            0\n",
       "osource     0          928\n",
       "tcode       0            0\n",
       "state       0            0\n",
       "zip         0            0\n",
       "...       ...          ...\n",
       "mdmaud_r    0            0\n",
       "mdmaud_f    0            0\n",
       "mdmaud_a    0            0\n",
       "cluster2  132            0\n",
       "geocode2  132          187\n",
       "\n",
       "[481 rows x 2 columns]"
      ]
     },
     "execution_count": 6,
     "metadata": {},
     "output_type": "execute_result"
    }
   ],
   "source": [
    "# Check NaN & whitespace & duplicate rows in data frame\n",
    "\n",
    "def data_explore(data): # sum & returns duplicates, NaN & empty spaces\n",
    "    dup_rows = data.duplicated().sum()\n",
    "    nan = data.isna().sum()\n",
    "    empty = data.eq(' ').sum()\n",
    "    explore = pd.DataFrame({\"NaN\": nan, \"EmptySpaces\": empty}) # New dataframe with the results\n",
    "    print(f\"There are {data.duplicated().sum()} duplicate rows. Also;\")\n",
    "    return explore\n",
    "\n",
    "data_explore(df)"
   ]
  },
  {
   "cell_type": "markdown",
   "metadata": {},
   "source": [
    "### Replace empty spaces with NaN"
   ]
  },
  {
   "cell_type": "code",
   "execution_count": 7,
   "metadata": {
    "scrolled": false
   },
   "outputs": [
    {
     "name": "stdout",
     "output_type": "stream",
     "text": [
      "There are 0 duplicate rows. Also;\n"
     ]
    },
    {
     "data": {
      "text/html": [
       "<div>\n",
       "<style scoped>\n",
       "    .dataframe tbody tr th:only-of-type {\n",
       "        vertical-align: middle;\n",
       "    }\n",
       "\n",
       "    .dataframe tbody tr th {\n",
       "        vertical-align: top;\n",
       "    }\n",
       "\n",
       "    .dataframe thead th {\n",
       "        text-align: right;\n",
       "    }\n",
       "</style>\n",
       "<table border=\"1\" class=\"dataframe\">\n",
       "  <thead>\n",
       "    <tr style=\"text-align: right;\">\n",
       "      <th></th>\n",
       "      <th>NaN</th>\n",
       "      <th>EmptySpaces</th>\n",
       "    </tr>\n",
       "  </thead>\n",
       "  <tbody>\n",
       "    <tr>\n",
       "      <th>odatedw</th>\n",
       "      <td>0</td>\n",
       "      <td>0</td>\n",
       "    </tr>\n",
       "    <tr>\n",
       "      <th>osource</th>\n",
       "      <td>928</td>\n",
       "      <td>0</td>\n",
       "    </tr>\n",
       "    <tr>\n",
       "      <th>tcode</th>\n",
       "      <td>0</td>\n",
       "      <td>0</td>\n",
       "    </tr>\n",
       "    <tr>\n",
       "      <th>state</th>\n",
       "      <td>0</td>\n",
       "      <td>0</td>\n",
       "    </tr>\n",
       "    <tr>\n",
       "      <th>zip</th>\n",
       "      <td>0</td>\n",
       "      <td>0</td>\n",
       "    </tr>\n",
       "    <tr>\n",
       "      <th>...</th>\n",
       "      <td>...</td>\n",
       "      <td>...</td>\n",
       "    </tr>\n",
       "    <tr>\n",
       "      <th>mdmaud_r</th>\n",
       "      <td>0</td>\n",
       "      <td>0</td>\n",
       "    </tr>\n",
       "    <tr>\n",
       "      <th>mdmaud_f</th>\n",
       "      <td>0</td>\n",
       "      <td>0</td>\n",
       "    </tr>\n",
       "    <tr>\n",
       "      <th>mdmaud_a</th>\n",
       "      <td>0</td>\n",
       "      <td>0</td>\n",
       "    </tr>\n",
       "    <tr>\n",
       "      <th>cluster2</th>\n",
       "      <td>132</td>\n",
       "      <td>0</td>\n",
       "    </tr>\n",
       "    <tr>\n",
       "      <th>geocode2</th>\n",
       "      <td>319</td>\n",
       "      <td>0</td>\n",
       "    </tr>\n",
       "  </tbody>\n",
       "</table>\n",
       "<p>481 rows × 2 columns</p>\n",
       "</div>"
      ],
      "text/plain": [
       "          NaN  EmptySpaces\n",
       "odatedw     0            0\n",
       "osource   928            0\n",
       "tcode       0            0\n",
       "state       0            0\n",
       "zip         0            0\n",
       "...       ...          ...\n",
       "mdmaud_r    0            0\n",
       "mdmaud_f    0            0\n",
       "mdmaud_a    0            0\n",
       "cluster2  132            0\n",
       "geocode2  319            0\n",
       "\n",
       "[481 rows x 2 columns]"
      ]
     },
     "execution_count": 7,
     "metadata": {},
     "output_type": "execute_result"
    }
   ],
   "source": [
    "# We see a lot of empty space in the data frame. We can replace those with NaN\n",
    "df = df.replace(r'^\\s*$', np.nan, regex=True)\n",
    "\n",
    "data_explore(df)"
   ]
  },
  {
   "cell_type": "markdown",
   "metadata": {},
   "source": [
    "### Explore how much are those NaN (%)"
   ]
  },
  {
   "cell_type": "code",
   "execution_count": 8,
   "metadata": {},
   "outputs": [
    {
     "data": {
      "text/html": [
       "<div>\n",
       "<style scoped>\n",
       "    .dataframe tbody tr th:only-of-type {\n",
       "        vertical-align: middle;\n",
       "    }\n",
       "\n",
       "    .dataframe tbody tr th {\n",
       "        vertical-align: top;\n",
       "    }\n",
       "\n",
       "    .dataframe thead th {\n",
       "        text-align: right;\n",
       "    }\n",
       "</style>\n",
       "<table border=\"1\" class=\"dataframe\">\n",
       "  <thead>\n",
       "    <tr style=\"text-align: right;\">\n",
       "      <th></th>\n",
       "      <th>percentage</th>\n",
       "    </tr>\n",
       "  </thead>\n",
       "  <tbody>\n",
       "    <tr>\n",
       "      <th>rdate_5</th>\n",
       "      <td>99.990567</td>\n",
       "    </tr>\n",
       "    <tr>\n",
       "      <th>ramnt_5</th>\n",
       "      <td>99.990567</td>\n",
       "    </tr>\n",
       "    <tr>\n",
       "      <th>recpgvg</th>\n",
       "      <td>99.880518</td>\n",
       "    </tr>\n",
       "    <tr>\n",
       "      <th>solp3</th>\n",
       "      <td>99.811344</td>\n",
       "    </tr>\n",
       "    <tr>\n",
       "      <th>ramnt_3</th>\n",
       "      <td>99.746363</td>\n",
       "    </tr>\n",
       "    <tr>\n",
       "      <th>...</th>\n",
       "      <td>...</td>\n",
       "    </tr>\n",
       "    <tr>\n",
       "      <th>ic2</th>\n",
       "      <td>0.000000</td>\n",
       "    </tr>\n",
       "    <tr>\n",
       "      <th>ic1</th>\n",
       "      <td>0.000000</td>\n",
       "    </tr>\n",
       "    <tr>\n",
       "      <th>rp4</th>\n",
       "      <td>0.000000</td>\n",
       "    </tr>\n",
       "    <tr>\n",
       "      <th>rp3</th>\n",
       "      <td>0.000000</td>\n",
       "    </tr>\n",
       "    <tr>\n",
       "      <th>tpe11</th>\n",
       "      <td>0.000000</td>\n",
       "    </tr>\n",
       "  </tbody>\n",
       "</table>\n",
       "<p>481 rows × 1 columns</p>\n",
       "</div>"
      ],
      "text/plain": [
       "         percentage\n",
       "rdate_5   99.990567\n",
       "ramnt_5   99.990567\n",
       "recpgvg   99.880518\n",
       "solp3     99.811344\n",
       "ramnt_3   99.746363\n",
       "...             ...\n",
       "ic2        0.000000\n",
       "ic1        0.000000\n",
       "rp4        0.000000\n",
       "rp3        0.000000\n",
       "tpe11      0.000000\n",
       "\n",
       "[481 rows x 1 columns]"
      ]
     },
     "execution_count": 8,
     "metadata": {},
     "output_type": "execute_result"
    }
   ],
   "source": [
    "nulls = pd.DataFrame(df.isna().sum()*100/len(df), columns=['percentage'])\n",
    "nulls.sort_values('percentage', ascending = False)"
   ]
  },
  {
   "cell_type": "code",
   "execution_count": 9,
   "metadata": {
    "scrolled": false
   },
   "outputs": [],
   "source": [
    "# Identify columns that over 85% missing values\n",
    "\n",
    "# Get nulls with >85%\n",
    "df_nan = nulls[nulls[\"percentage\"] > 85] \n",
    "\n",
    "# Get the columns' name\n",
    "nan85 = df_nan.index.tolist()\n",
    "\n",
    "# nan85\n",
    "# len(nan85)"
   ]
  },
  {
   "cell_type": "code",
   "execution_count": 10,
   "metadata": {
    "scrolled": false
   },
   "outputs": [],
   "source": [
    "# Remove all those columns (nan > 85%) from the data frame\n",
    "\n",
    "df = df.drop(nan85, axis=1)"
   ]
  },
  {
   "cell_type": "code",
   "execution_count": 11,
   "metadata": {},
   "outputs": [
    {
     "data": {
      "text/plain": [
       "(95412, 426)"
      ]
     },
     "execution_count": 11,
     "metadata": {},
     "output_type": "execute_result"
    }
   ],
   "source": [
    "# Delete 55 columns --> We have 426 columns left\n",
    "df.shape"
   ]
  },
  {
   "cell_type": "markdown",
   "metadata": {},
   "source": [
    "## Explore Target\n",
    "### Check Target_D (Donate vs Not Donate)\n",
    "0 - No donate\n",
    "\n",
    "1 - Donate"
   ]
  },
  {
   "cell_type": "code",
   "execution_count": 12,
   "metadata": {
    "scrolled": false
   },
   "outputs": [
    {
     "name": "stdout",
     "output_type": "stream",
     "text": [
      "0    90569\n",
      "1     4843\n",
      "Name: target_b, dtype: int64\n"
     ]
    },
    {
     "data": {
      "text/plain": [
       "Text(0, 0.5, 'Count')"
      ]
     },
     "execution_count": 12,
     "metadata": {},
     "output_type": "execute_result"
    },
    {
     "data": {
      "image/png": "[encoded data removed]",
      "text/plain": [
       "<Figure size 640x480 with 1 Axes>"
      ]
     },
     "metadata": {},
     "output_type": "display_data"
    }
   ],
   "source": [
    "print(df.target_b.value_counts())\n",
    "\n",
    "sns.countplot(df.target_b)\n",
    "plt.xlabel(\"Donation (No/Yes)\")\n",
    "plt.ylabel(\"Count\")"
   ]
  },
  {
   "cell_type": "markdown",
   "metadata": {},
   "source": [
    "### Check Taget_B (The amount of donation)\n",
    "\n",
    "We see there's huge gap between the 2 groups of donation. The donate group is about 5% of the data whereas around 95% are non-donate. \n",
    "\n",
    "Since we're interested in the donation group. We will take a look how much the donors spent. \n",
    "As the marketing has a cost (0.68/mail), we want to focus on the high donate group. "
   ]
  },
  {
   "cell_type": "code",
   "execution_count": 13,
   "metadata": {},
   "outputs": [
    {
     "data": {
      "text/plain": [
       "4843"
      ]
     },
     "execution_count": 13,
     "metadata": {},
     "output_type": "execute_result"
    }
   ],
   "source": [
    "# Get the donate group & see amount of the donation\n",
    "df_donate = df[df[\"target_d\"] > 0]\n",
    "# df_donate.head()\n",
    "len(df_donate)"
   ]
  },
  {
   "cell_type": "code",
   "execution_count": 14,
   "metadata": {},
   "outputs": [
    {
     "name": "stdout",
     "output_type": "stream",
     "text": [
      "count    4843.000000\n",
      "mean       15.624344\n",
      "std        12.445137\n",
      "min         1.000000\n",
      "25%        10.000000\n",
      "50%        13.000000\n",
      "75%        20.000000\n",
      "max       200.000000\n",
      "Name: target_d, dtype: float64 \n",
      "\n"
     ]
    },
    {
     "data": {
      "text/plain": [
       "Text(0, 0.5, 'Density')"
      ]
     },
     "execution_count": 14,
     "metadata": {},
     "output_type": "execute_result"
    },
    {
     "data": {
      "image/png": "[encoded data removed]",
      "text/plain": [
       "<Figure size 640x480 with 1 Axes>"
      ]
     },
     "metadata": {},
     "output_type": "display_data"
    }
   ],
   "source": [
    "# Visualize donate group\n",
    "sns.distplot(df_donate[\"target_d\"])\n",
    "print(df_donate[\"target_d\"].describe(), \"\\n\")\n",
    "# print(df_donate[\"target_d\"].value_counts())\n",
    "plt.xlabel(\"Amount (dollars)\")\n",
    "plt.ylabel(\"Density\")"
   ]
  },
  {
   "cell_type": "markdown",
   "metadata": {},
   "source": [
    "- From the plot & describtive stats, we see that average amount of donation is about 15 dollars, max is 200.\n",
    "- We have so small amount of donors with high amount of donation."
   ]
  },
  {
   "cell_type": "code",
   "execution_count": 15,
   "metadata": {
    "scrolled": true
   },
   "outputs": [
    {
     "data": {
      "text/html": [
       "<div>\n",
       "<style scoped>\n",
       "    .dataframe tbody tr th:only-of-type {\n",
       "        vertical-align: middle;\n",
       "    }\n",
       "\n",
       "    .dataframe tbody tr th {\n",
       "        vertical-align: top;\n",
       "    }\n",
       "\n",
       "    .dataframe thead th {\n",
       "        text-align: right;\n",
       "    }\n",
       "</style>\n",
       "<table border=\"1\" class=\"dataframe\">\n",
       "  <thead>\n",
       "    <tr style=\"text-align: right;\">\n",
       "      <th></th>\n",
       "      <th>osource</th>\n",
       "      <th>state</th>\n",
       "      <th>zip</th>\n",
       "      <th>noexch</th>\n",
       "      <th>mdmaud</th>\n",
       "      <th>domain</th>\n",
       "      <th>cluster</th>\n",
       "      <th>ageflag</th>\n",
       "      <th>homeownr</th>\n",
       "      <th>gender</th>\n",
       "      <th>...</th>\n",
       "      <th>rfa_21</th>\n",
       "      <th>rfa_22</th>\n",
       "      <th>rfa_23</th>\n",
       "      <th>rfa_24</th>\n",
       "      <th>rfa_2r</th>\n",
       "      <th>rfa_2a</th>\n",
       "      <th>mdmaud_r</th>\n",
       "      <th>mdmaud_f</th>\n",
       "      <th>mdmaud_a</th>\n",
       "      <th>geocode2</th>\n",
       "    </tr>\n",
       "  </thead>\n",
       "  <tbody>\n",
       "    <tr>\n",
       "      <th>0</th>\n",
       "      <td>GRI</td>\n",
       "      <td>IL</td>\n",
       "      <td>61081</td>\n",
       "      <td>0</td>\n",
       "      <td>XXXX</td>\n",
       "      <td>T2</td>\n",
       "      <td>36</td>\n",
       "      <td>NaN</td>\n",
       "      <td>NaN</td>\n",
       "      <td>F</td>\n",
       "      <td>...</td>\n",
       "      <td>S4E</td>\n",
       "      <td>S4E</td>\n",
       "      <td>S4E</td>\n",
       "      <td>S4E</td>\n",
       "      <td>L</td>\n",
       "      <td>E</td>\n",
       "      <td>X</td>\n",
       "      <td>X</td>\n",
       "      <td>X</td>\n",
       "      <td>C</td>\n",
       "    </tr>\n",
       "    <tr>\n",
       "      <th>1</th>\n",
       "      <td>BOA</td>\n",
       "      <td>CA</td>\n",
       "      <td>91326</td>\n",
       "      <td>0</td>\n",
       "      <td>XXXX</td>\n",
       "      <td>S1</td>\n",
       "      <td>14</td>\n",
       "      <td>E</td>\n",
       "      <td>H</td>\n",
       "      <td>M</td>\n",
       "      <td>...</td>\n",
       "      <td>N1E</td>\n",
       "      <td>N1E</td>\n",
       "      <td>NaN</td>\n",
       "      <td>F1E</td>\n",
       "      <td>L</td>\n",
       "      <td>G</td>\n",
       "      <td>X</td>\n",
       "      <td>X</td>\n",
       "      <td>X</td>\n",
       "      <td>A</td>\n",
       "    </tr>\n",
       "    <tr>\n",
       "      <th>2</th>\n",
       "      <td>AMH</td>\n",
       "      <td>NC</td>\n",
       "      <td>27017</td>\n",
       "      <td>0</td>\n",
       "      <td>XXXX</td>\n",
       "      <td>R2</td>\n",
       "      <td>43</td>\n",
       "      <td>NaN</td>\n",
       "      <td>U</td>\n",
       "      <td>M</td>\n",
       "      <td>...</td>\n",
       "      <td>NaN</td>\n",
       "      <td>S4D</td>\n",
       "      <td>S4D</td>\n",
       "      <td>S3D</td>\n",
       "      <td>L</td>\n",
       "      <td>E</td>\n",
       "      <td>X</td>\n",
       "      <td>X</td>\n",
       "      <td>X</td>\n",
       "      <td>C</td>\n",
       "    </tr>\n",
       "    <tr>\n",
       "      <th>3</th>\n",
       "      <td>BRY</td>\n",
       "      <td>CA</td>\n",
       "      <td>95953</td>\n",
       "      <td>0</td>\n",
       "      <td>XXXX</td>\n",
       "      <td>R2</td>\n",
       "      <td>44</td>\n",
       "      <td>E</td>\n",
       "      <td>U</td>\n",
       "      <td>F</td>\n",
       "      <td>...</td>\n",
       "      <td>A1D</td>\n",
       "      <td>A1D</td>\n",
       "      <td>NaN</td>\n",
       "      <td>NaN</td>\n",
       "      <td>L</td>\n",
       "      <td>E</td>\n",
       "      <td>X</td>\n",
       "      <td>X</td>\n",
       "      <td>X</td>\n",
       "      <td>C</td>\n",
       "    </tr>\n",
       "    <tr>\n",
       "      <th>4</th>\n",
       "      <td>NaN</td>\n",
       "      <td>FL</td>\n",
       "      <td>33176</td>\n",
       "      <td>0</td>\n",
       "      <td>XXXX</td>\n",
       "      <td>S2</td>\n",
       "      <td>16</td>\n",
       "      <td>E</td>\n",
       "      <td>H</td>\n",
       "      <td>F</td>\n",
       "      <td>...</td>\n",
       "      <td>A3D</td>\n",
       "      <td>I4E</td>\n",
       "      <td>A3D</td>\n",
       "      <td>A3D</td>\n",
       "      <td>L</td>\n",
       "      <td>F</td>\n",
       "      <td>X</td>\n",
       "      <td>X</td>\n",
       "      <td>X</td>\n",
       "      <td>A</td>\n",
       "    </tr>\n",
       "  </tbody>\n",
       "</table>\n",
       "<p>5 rows × 44 columns</p>\n",
       "</div>"
      ],
      "text/plain": [
       "  osource state    zip noexch mdmaud domain cluster ageflag homeownr gender  \\\n",
       "0     GRI    IL  61081      0   XXXX     T2      36     NaN      NaN      F   \n",
       "1     BOA    CA  91326      0   XXXX     S1      14       E        H      M   \n",
       "2     AMH    NC  27017      0   XXXX     R2      43     NaN        U      M   \n",
       "3     BRY    CA  95953      0   XXXX     R2      44       E        U      F   \n",
       "4     NaN    FL  33176      0   XXXX     S2      16       E        H      F   \n",
       "\n",
       "   ... rfa_21 rfa_22 rfa_23 rfa_24 rfa_2r rfa_2a mdmaud_r mdmaud_f mdmaud_a  \\\n",
       "0  ...    S4E    S4E    S4E    S4E      L      E        X        X        X   \n",
       "1  ...    N1E    N1E    NaN    F1E      L      G        X        X        X   \n",
       "2  ...    NaN    S4D    S4D    S3D      L      E        X        X        X   \n",
       "3  ...    A1D    A1D    NaN    NaN      L      E        X        X        X   \n",
       "4  ...    A3D    I4E    A3D    A3D      L      F        X        X        X   \n",
       "\n",
       "  geocode2  \n",
       "0        C  \n",
       "1        A  \n",
       "2        C  \n",
       "3        C  \n",
       "4        A  \n",
       "\n",
       "[5 rows x 44 columns]"
      ]
     },
     "execution_count": 15,
     "metadata": {},
     "output_type": "execute_result"
    }
   ],
   "source": [
    "# Following lab instruction --> select categorical variable for this lab\n",
    "df_cat = df.select_dtypes(object)\n",
    "df_cat.head()"
   ]
  },
  {
   "cell_type": "markdown",
   "metadata": {},
   "source": [
    "### Lab instruction\n",
    "\n",
    "Exclude the following variables by looking at the definitions. Create a new empty list called drop_list. We will append this list and then drop all the columns in this list later:\n",
    "\n",
    "    - OSOURCE - symbol definitions not provided, too many categories\n",
    "    - ZIP CODE - we are including state already"
   ]
  },
  {
   "cell_type": "code",
   "execution_count": 16,
   "metadata": {},
   "outputs": [],
   "source": [
    "drop_list = [\"osource\", \"zip_code\"]"
   ]
  },
  {
   "cell_type": "markdown",
   "metadata": {},
   "source": [
    "### Reduce the number of categories in the column GENDER."
   ]
  },
  {
   "cell_type": "code",
   "execution_count": 17,
   "metadata": {},
   "outputs": [
    {
     "data": {
      "text/plain": [
       "F    51277\n",
       "M    39094\n",
       "U     1715\n",
       "J      365\n",
       "C        2\n",
       "A        2\n",
       "Name: gender, dtype: int64"
      ]
     },
     "execution_count": 17,
     "metadata": {},
     "output_type": "execute_result"
    }
   ],
   "source": [
    "# Check values in GENDER\n",
    "df_cat[\"gender\"].value_counts()"
   ]
  },
  {
   "cell_type": "code",
   "execution_count": 18,
   "metadata": {},
   "outputs": [],
   "source": [
    "# Chaeck NaN\n",
    "# df_cat[\"gender\"].isna().sum()"
   ]
  },
  {
   "cell_type": "code",
   "execution_count": 19,
   "metadata": {},
   "outputs": [],
   "source": [
    "# Fill NaN with \"U\" - Unknown\n",
    "df_cat[\"gender\"] = df_cat[\"gender\"].fillna(\"U\")\n",
    "\n",
    "# df_cat[\"gender\"].value_counts()"
   ]
  },
  {
   "cell_type": "code",
   "execution_count": 20,
   "metadata": {},
   "outputs": [
    {
     "data": {
      "text/plain": [
       "F        51277\n",
       "M        39094\n",
       "other     5041\n",
       "Name: gender, dtype: int64"
      ]
     },
     "execution_count": 20,
     "metadata": {},
     "output_type": "execute_result"
    }
   ],
   "source": [
    "df_cat[\"gender\"] = df_cat[\"gender\"].apply(lambda x: \"F\" if x == \"F\" else (\"M\" if x == \"M\" else \"other\"))\n",
    "df_cat[\"gender\"].value_counts()"
   ]
  },
  {
   "cell_type": "code",
   "execution_count": 21,
   "metadata": {},
   "outputs": [
    {
     "data": {
      "text/plain": [
       "Text(0, 0.5, 'Count')"
      ]
     },
     "execution_count": 21,
     "metadata": {},
     "output_type": "execute_result"
    },
    {
     "data": {
      "image/png": "[encoded data removed]",
      "text/plain": [
       "<Figure size 640x480 with 1 Axes>"
      ]
     },
     "metadata": {},
     "output_type": "display_data"
    }
   ],
   "source": [
    "sns.countplot(df_cat[\"gender\"])\n",
    "plt.xlabel(\"Gender\")\n",
    "plt.ylabel(\"Count\")"
   ]
  },
  {
   "cell_type": "markdown",
   "metadata": {},
   "source": [
    "<div class=\"alert alert-block alert-success\">\n",
    "<b style=\"font-size:28px; color:green\">Lab | Feature engineering</b>\n",
    "      \n",
    "</div>"
   ]
  },
  {
   "cell_type": "markdown",
   "metadata": {},
   "source": [
    "- In this lab, you will use learningSet.csv file which you have already cloned in the previous activities.\n",
    "### Lab Instructions\n",
    "Here we will work on cleaning some of the other columns in the dataset using the techniques that we used before in the lessons.\n",
    "\n",
    "- Check for null values in the numerical columns. <--- already done above\n",
    "- Use appropriate methods to clean the columns GEOCODE2, WEALTH1, ADI, DMA,and MSA.\n",
    "- Use appropriate EDA technique where ever necessary.\n"
   ]
  },
  {
   "cell_type": "markdown",
   "metadata": {},
   "source": [
    "### Get numerical columns & explore"
   ]
  },
  {
   "cell_type": "code",
   "execution_count": 22,
   "metadata": {},
   "outputs": [
    {
     "data": {
      "text/plain": [
       "(95412, 382)"
      ]
     },
     "execution_count": 22,
     "metadata": {},
     "output_type": "execute_result"
    }
   ],
   "source": [
    "df_num = df.select_dtypes(\"number\")\n",
    "# df_num.head()\n",
    "df_num.shape"
   ]
  },
  {
   "cell_type": "markdown",
   "metadata": {},
   "source": [
    "- We have done removing NaN (>85%) from precious step. \n",
    "- Therefore, we move to next step to check cloumns: GEOCODE2, WEALTH1, ADI, DMA,and MSA"
   ]
  },
  {
   "cell_type": "markdown",
   "metadata": {},
   "source": [
    "### Check specific columns\n",
    "Following lab instruction\n",
    "- Check out these columns:\n",
    "        > GEOCODE2 - Geo Cluster Code indicating the level geography at which a record matches the census data. A nominal or symbolic field.\n",
    "        \n",
    "        > WEALTH1 - Wealth Rating \n",
    "        \n",
    "        > ADI - Ad Intel Database or Area of Dominant Media Influence: information on the intensity of advertising (i.e. occurrences, impressions, expenditures) for all media types (e.g. TV, newspapers, magazines, coupons)\n",
    "        \n",
    "        > DMA - Designated Market Area is a group of counties in the United States that is covered by a specific group of television stations. There are 210 Designated Market Areas (DMAs) listed by the 2022 Nielsen rankings. \n",
    "        \n",
    "        > MSA - Metropolitan Statistical Area, as defined by the Office of Management and Budget, is used to designate a United States metropolitan area.\n",
    "        \n",
    "\n",
    "\n",
    "#### Sources: \n",
    "- [How Do Firms Build Market Share?](https://www.tcd.ie/Economics/assets/pdf/Seminars/20212022/how-do-firms-build-market-shareD.Fitzgerald01Dec21.pdf)\n",
    "- [Constituent Matching - DMA and MSA](https://webfiles.blackbaud.com/support/howto/coveo/luminate-online/Subsystems/Advocacy/Content/Ref/Advocacy_LTE_Constituent_Matching_DMA_MSA.html)\n",
    "- [DESIGNATED MARKET AREA](https://xoomer.virgilio.it/marketing_now/Designated_Market_Area.html)\n",
    "\n",
    "\n",
    "Note: about ADI, I don't know what it means exactly. I'm confused while searching. The sheet on Lab repo does not provide much information about this column."
   ]
  },
  {
   "cell_type": "code",
   "execution_count": 23,
   "metadata": {},
   "outputs": [
    {
     "data": {
      "text/html": [
       "<div>\n",
       "<style scoped>\n",
       "    .dataframe tbody tr th:only-of-type {\n",
       "        vertical-align: middle;\n",
       "    }\n",
       "\n",
       "    .dataframe tbody tr th {\n",
       "        vertical-align: top;\n",
       "    }\n",
       "\n",
       "    .dataframe thead th {\n",
       "        text-align: right;\n",
       "    }\n",
       "</style>\n",
       "<table border=\"1\" class=\"dataframe\">\n",
       "  <thead>\n",
       "    <tr style=\"text-align: right;\">\n",
       "      <th></th>\n",
       "      <th>geocode2</th>\n",
       "      <th>wealth1</th>\n",
       "      <th>adi</th>\n",
       "      <th>dma</th>\n",
       "      <th>msa</th>\n",
       "      <th>target_d</th>\n",
       "    </tr>\n",
       "  </thead>\n",
       "  <tbody>\n",
       "    <tr>\n",
       "      <th>0</th>\n",
       "      <td>C</td>\n",
       "      <td>NaN</td>\n",
       "      <td>177.0</td>\n",
       "      <td>682.0</td>\n",
       "      <td>0.0</td>\n",
       "      <td>0.0</td>\n",
       "    </tr>\n",
       "    <tr>\n",
       "      <th>1</th>\n",
       "      <td>A</td>\n",
       "      <td>9.0</td>\n",
       "      <td>13.0</td>\n",
       "      <td>803.0</td>\n",
       "      <td>4480.0</td>\n",
       "      <td>0.0</td>\n",
       "    </tr>\n",
       "    <tr>\n",
       "      <th>2</th>\n",
       "      <td>C</td>\n",
       "      <td>1.0</td>\n",
       "      <td>281.0</td>\n",
       "      <td>518.0</td>\n",
       "      <td>0.0</td>\n",
       "      <td>0.0</td>\n",
       "    </tr>\n",
       "    <tr>\n",
       "      <th>3</th>\n",
       "      <td>C</td>\n",
       "      <td>4.0</td>\n",
       "      <td>67.0</td>\n",
       "      <td>862.0</td>\n",
       "      <td>9340.0</td>\n",
       "      <td>0.0</td>\n",
       "    </tr>\n",
       "    <tr>\n",
       "      <th>4</th>\n",
       "      <td>A</td>\n",
       "      <td>2.0</td>\n",
       "      <td>127.0</td>\n",
       "      <td>528.0</td>\n",
       "      <td>5000.0</td>\n",
       "      <td>0.0</td>\n",
       "    </tr>\n",
       "    <tr>\n",
       "      <th>5</th>\n",
       "      <td>C</td>\n",
       "      <td>NaN</td>\n",
       "      <td>185.0</td>\n",
       "      <td>691.0</td>\n",
       "      <td>2030.0</td>\n",
       "      <td>0.0</td>\n",
       "    </tr>\n",
       "    <tr>\n",
       "      <th>6</th>\n",
       "      <td>D</td>\n",
       "      <td>6.0</td>\n",
       "      <td>91.0</td>\n",
       "      <td>509.0</td>\n",
       "      <td>0.0</td>\n",
       "      <td>0.0</td>\n",
       "    </tr>\n",
       "    <tr>\n",
       "      <th>7</th>\n",
       "      <td>C</td>\n",
       "      <td>9.0</td>\n",
       "      <td>251.0</td>\n",
       "      <td>643.0</td>\n",
       "      <td>3960.0</td>\n",
       "      <td>0.0</td>\n",
       "    </tr>\n",
       "    <tr>\n",
       "      <th>8</th>\n",
       "      <td>D</td>\n",
       "      <td>2.0</td>\n",
       "      <td>391.0</td>\n",
       "      <td>624.0</td>\n",
       "      <td>0.0</td>\n",
       "      <td>0.0</td>\n",
       "    </tr>\n",
       "    <tr>\n",
       "      <th>9</th>\n",
       "      <td>B</td>\n",
       "      <td>NaN</td>\n",
       "      <td>181.0</td>\n",
       "      <td>659.0</td>\n",
       "      <td>5360.0</td>\n",
       "      <td>0.0</td>\n",
       "    </tr>\n",
       "  </tbody>\n",
       "</table>\n",
       "</div>"
      ],
      "text/plain": [
       "  geocode2  wealth1    adi    dma     msa  target_d\n",
       "0        C      NaN  177.0  682.0     0.0       0.0\n",
       "1        A      9.0   13.0  803.0  4480.0       0.0\n",
       "2        C      1.0  281.0  518.0     0.0       0.0\n",
       "3        C      4.0   67.0  862.0  9340.0       0.0\n",
       "4        A      2.0  127.0  528.0  5000.0       0.0\n",
       "5        C      NaN  185.0  691.0  2030.0       0.0\n",
       "6        D      6.0   91.0  509.0     0.0       0.0\n",
       "7        C      9.0  251.0  643.0  3960.0       0.0\n",
       "8        D      2.0  391.0  624.0     0.0       0.0\n",
       "9        B      NaN  181.0  659.0  5360.0       0.0"
      ]
     },
     "execution_count": 23,
     "metadata": {},
     "output_type": "execute_result"
    }
   ],
   "source": [
    "df_geo = df[[\"geocode2\", \"wealth1\", \"adi\", \"dma\", \"msa\", \"target_d\"]]\n",
    "df_geo.head(10)"
   ]
  },
  {
   "cell_type": "markdown",
   "metadata": {},
   "source": [
    "### Visualize Missing Values"
   ]
  },
  {
   "cell_type": "code",
   "execution_count": 24,
   "metadata": {
    "scrolled": false
   },
   "outputs": [
    {
     "name": "stdout",
     "output_type": "stream",
     "text": [
      "geocode2      319\n",
      "wealth1     44732\n",
      "adi           132\n",
      "dma           132\n",
      "msa           132\n",
      "target_d        0\n",
      "dtype: int64\n"
     ]
    },
    {
     "data": {
      "text/plain": [
       "<AxesSubplot:>"
      ]
     },
     "execution_count": 24,
     "metadata": {},
     "output_type": "execute_result"
    },
    {
     "data": {
      "image/png": "[encoded data removed]",
      "text/plain": [
       "<Figure size 2500x1000 with 2 Axes>"
      ]
     },
     "metadata": {},
     "output_type": "display_data"
    }
   ],
   "source": [
    "# Check NaN\n",
    "print(df_geo.isna().sum())\n",
    "\n",
    "# visualize missing data\n",
    "msno.matrix(df_geo)"
   ]
  },
  {
   "cell_type": "markdown",
   "metadata": {},
   "source": [
    "- GEOCODE2, ADI, DMA,and MSA appear almost complete\n",
    "- WEALTH1 appear about 50% of missing data \n",
    "\n",
    "Note: I included target_d in this set of data because I want to include the target when applying the model for predicting missing data in further step. And the target_d data is complete (no missing value).\n",
    "\n",
    "\n",
    "\n",
    "Sources:\n",
    "- [How to visualize missing data using missingno](https://github.com/ResidentMario/missingno)"
   ]
  },
  {
   "cell_type": "markdown",
   "metadata": {},
   "source": [
    "## Dealing with NaN"
   ]
  },
  {
   "cell_type": "markdown",
   "metadata": {},
   "source": [
    "#### Wealth1"
   ]
  },
  {
   "cell_type": "code",
   "execution_count": 25,
   "metadata": {
    "scrolled": false
   },
   "outputs": [
    {
     "data": {
      "text/plain": [
       "Text(0, 0.5, 'Count')"
      ]
     },
     "execution_count": 25,
     "metadata": {},
     "output_type": "execute_result"
    },
    {
     "data": {
      "image/png": "[encoded data removed]",
      "text/plain": [
       "<Figure size 640x480 with 1 Axes>"
      ]
     },
     "metadata": {},
     "output_type": "display_data"
    }
   ],
   "source": [
    "# Almost half of Wealth1 data is null (47%). We should check what's in there & how's it important\n",
    "\n",
    "sns.countplot(df_geo[\"wealth1\"])\n",
    "plt.xlabel(\"Wealth Rating\")\n",
    "plt.ylabel(\"Count\")"
   ]
  },
  {
   "cell_type": "markdown",
   "metadata": {},
   "source": [
    "- There are 10 levels of wealth in this column.\n",
    "- The number of donors is increasing according to the wealth rate. --> Does that mean wealthy people tend to donate more?\n",
    "- However, as we see a trend here, this is important data. Even if there are a lot of nulls, we do not want to remove/drop them. \n",
    "- It shows some correlation to the target_d as well even if the corr score is not high but there's some level of correlation compare to other variables in the dataset.)"
   ]
  },
  {
   "cell_type": "code",
   "execution_count": 26,
   "metadata": {},
   "outputs": [],
   "source": [
    "# pd.set_option(\"display.max_columns\", None)\n",
    "# pd.set_option(\"display.max_rows\", None)"
   ]
  },
  {
   "cell_type": "code",
   "execution_count": 27,
   "metadata": {
    "scrolled": false
   },
   "outputs": [
    {
     "data": {
      "text/plain": [
       "tcode       0.000158\n",
       "dob         0.002754\n",
       "age         0.002282\n",
       "income      0.032063\n",
       "wealth1     0.024867\n",
       "              ...   \n",
       "target_b    0.774232\n",
       "target_d    1.000000\n",
       "hphone_d   -0.002432\n",
       "rfa_2f      0.000905\n",
       "cluster2   -0.029087\n",
       "Name: target_d, Length: 381, dtype: float64"
      ]
     },
     "execution_count": 27,
     "metadata": {},
     "output_type": "execute_result"
    }
   ],
   "source": [
    "df[df.columns[1:]].corr()[\"target_d\"][:]"
   ]
  },
  {
   "cell_type": "markdown",
   "metadata": {},
   "source": [
    "\n",
    "## How to deal with NaN\n",
    "NaN usually means unknown/no data. How can we deal with it?\n",
    "\n",
    "   - Drop rows/columm (not apply in this case)\n",
    "   \n",
    "   - Filling with 0 here does not make sense. Because there is a category 0 which has meaning (wealth rank 0) \n",
    "    \n",
    "   - Filling with mean does not apply because this is considered categorical (discrete variable)\n",
    "    \n",
    "   - Also, there are 47%NaN, the appropriate way to manage this is to use a machine learning algorithm to predict those values --> leads to the next question\n",
    "\n"
   ]
  },
  {
   "cell_type": "markdown",
   "metadata": {},
   "source": [
    "### What algorithms could apply in this case?\n",
    "\n",
    "\n",
    "- K nearest neighbour (KNN) classification\n",
    "- Support vector machine (SVM)\n",
    "- Decision tree and forest\n",
    "- Random forest\n",
    "- XGBoost\n",
    "- Naive Bayes\n",
    "- LightGBM\n",
    "- etc.\n",
    "\n",
    "\n",
    "Sources:\n",
    "- [A survey on missing data in machine learning](https://journalofbigdata.springeropen.com/articles/10.1186/s40537-021-00516-9)\n",
    "- [Handling Missing Values- Categorical & Numerical](https://www.scaler.com/topics/data-science/categorical-missing-values/)\n",
    "- [Handle missing values in Categorical Features](https://medium.com/analytics-vidhya/handle-missing-values-in-categorical-features-b7c5b073dda2)"
   ]
  },
  {
   "cell_type": "markdown",
   "metadata": {},
   "source": [
    "## Predicting Missing Value \n",
    "\n",
    "We want to predict the missing value (focusing on wealth1) from the data that we already have, meaning\n",
    "- the complete data --> this will be a training set\n",
    "- the missing data --> will be test set (which we will predict the value)"
   ]
  },
  {
   "cell_type": "code",
   "execution_count": 28,
   "metadata": {},
   "outputs": [
    {
     "data": {
      "text/plain": [
       "(95412, 4)"
      ]
     },
     "execution_count": 28,
     "metadata": {},
     "output_type": "execute_result"
    }
   ],
   "source": [
    "# Before fitting the missing value, encoding categorical data\n",
    "\n",
    "encoder = OneHotEncoder(handle_unknown='ignore', drop='first')\n",
    "encoder.fit(df_geo[[\"geocode2\"]])\n",
    "\n",
    "encoded = encoder.transform(df_geo[[\"geocode2\"]]).toarray() # transform step = encoding step --> get an array as a result \n",
    "cat_encoded = pd.DataFrame(encoded) # put the array into a data frame\n",
    "cat_encoded.columns = encoder.get_feature_names_out() # name the columns after transformation\n",
    "cat_encoded.shape\n",
    "# cat_encoded.head()"
   ]
  },
  {
   "cell_type": "code",
   "execution_count": 29,
   "metadata": {
    "scrolled": false
   },
   "outputs": [
    {
     "data": {
      "text/html": [
       "<div>\n",
       "<style scoped>\n",
       "    .dataframe tbody tr th:only-of-type {\n",
       "        vertical-align: middle;\n",
       "    }\n",
       "\n",
       "    .dataframe tbody tr th {\n",
       "        vertical-align: top;\n",
       "    }\n",
       "\n",
       "    .dataframe thead th {\n",
       "        text-align: right;\n",
       "    }\n",
       "</style>\n",
       "<table border=\"1\" class=\"dataframe\">\n",
       "  <thead>\n",
       "    <tr style=\"text-align: right;\">\n",
       "      <th></th>\n",
       "      <th>wealth1</th>\n",
       "      <th>adi</th>\n",
       "      <th>dma</th>\n",
       "      <th>msa</th>\n",
       "      <th>target_d</th>\n",
       "      <th>geocode2_B</th>\n",
       "      <th>geocode2_C</th>\n",
       "      <th>geocode2_D</th>\n",
       "      <th>geocode2_nan</th>\n",
       "    </tr>\n",
       "  </thead>\n",
       "  <tbody>\n",
       "    <tr>\n",
       "      <th>0</th>\n",
       "      <td>NaN</td>\n",
       "      <td>177.0</td>\n",
       "      <td>682.0</td>\n",
       "      <td>0.0</td>\n",
       "      <td>0.0</td>\n",
       "      <td>0.0</td>\n",
       "      <td>1.0</td>\n",
       "      <td>0.0</td>\n",
       "      <td>0.0</td>\n",
       "    </tr>\n",
       "    <tr>\n",
       "      <th>1</th>\n",
       "      <td>9.0</td>\n",
       "      <td>13.0</td>\n",
       "      <td>803.0</td>\n",
       "      <td>4480.0</td>\n",
       "      <td>0.0</td>\n",
       "      <td>0.0</td>\n",
       "      <td>0.0</td>\n",
       "      <td>0.0</td>\n",
       "      <td>0.0</td>\n",
       "    </tr>\n",
       "    <tr>\n",
       "      <th>2</th>\n",
       "      <td>1.0</td>\n",
       "      <td>281.0</td>\n",
       "      <td>518.0</td>\n",
       "      <td>0.0</td>\n",
       "      <td>0.0</td>\n",
       "      <td>0.0</td>\n",
       "      <td>1.0</td>\n",
       "      <td>0.0</td>\n",
       "      <td>0.0</td>\n",
       "    </tr>\n",
       "    <tr>\n",
       "      <th>3</th>\n",
       "      <td>4.0</td>\n",
       "      <td>67.0</td>\n",
       "      <td>862.0</td>\n",
       "      <td>9340.0</td>\n",
       "      <td>0.0</td>\n",
       "      <td>0.0</td>\n",
       "      <td>1.0</td>\n",
       "      <td>0.0</td>\n",
       "      <td>0.0</td>\n",
       "    </tr>\n",
       "    <tr>\n",
       "      <th>4</th>\n",
       "      <td>2.0</td>\n",
       "      <td>127.0</td>\n",
       "      <td>528.0</td>\n",
       "      <td>5000.0</td>\n",
       "      <td>0.0</td>\n",
       "      <td>0.0</td>\n",
       "      <td>0.0</td>\n",
       "      <td>0.0</td>\n",
       "      <td>0.0</td>\n",
       "    </tr>\n",
       "  </tbody>\n",
       "</table>\n",
       "</div>"
      ],
      "text/plain": [
       "   wealth1    adi    dma     msa  target_d  geocode2_B  geocode2_C  \\\n",
       "0      NaN  177.0  682.0     0.0       0.0         0.0         1.0   \n",
       "1      9.0   13.0  803.0  4480.0       0.0         0.0         0.0   \n",
       "2      1.0  281.0  518.0     0.0       0.0         0.0         1.0   \n",
       "3      4.0   67.0  862.0  9340.0       0.0         0.0         1.0   \n",
       "4      2.0  127.0  528.0  5000.0       0.0         0.0         0.0   \n",
       "\n",
       "   geocode2_D  geocode2_nan  \n",
       "0         0.0           0.0  \n",
       "1         0.0           0.0  \n",
       "2         0.0           0.0  \n",
       "3         0.0           0.0  \n",
       "4         0.0           0.0  "
      ]
     },
     "execution_count": 29,
     "metadata": {},
     "output_type": "execute_result"
    }
   ],
   "source": [
    "# concat cat_encoded into the data frame\n",
    "df_geo = pd.concat([df_geo.drop([\"geocode2\"], axis=1), cat_encoded], axis=1)\n",
    "df_geo.head()"
   ]
  },
  {
   "cell_type": "markdown",
   "metadata": {},
   "source": [
    "**Note**: encoding geocode2 assign NaN by default (into a column geocode2_nan)"
   ]
  },
  {
   "cell_type": "markdown",
   "metadata": {},
   "source": [
    "## Handling NaN in WEALTH1\n",
    "\n",
    "I tried below 2 methods:\n",
    "\n",
    "    1. Gradien Boosting Classifier\n",
    "    \n",
    "    2. XGBoost"
   ]
  },
  {
   "cell_type": "code",
   "execution_count": 30,
   "metadata": {},
   "outputs": [
    {
     "name": "stdout",
     "output_type": "stream",
     "text": [
      "TRAIN SET: \n",
      "    wealth1    adi    dma     msa  target_d  geocode2_B  geocode2_C  \\\n",
      "1      9.0   13.0  803.0  4480.0       0.0         0.0         0.0   \n",
      "2      1.0  281.0  518.0     0.0       0.0         0.0         1.0   \n",
      "3      4.0   67.0  862.0  9340.0       0.0         0.0         1.0   \n",
      "4      2.0  127.0  528.0  5000.0       0.0         0.0         0.0   \n",
      "6      6.0   91.0  509.0     0.0       0.0         0.0         0.0   \n",
      "\n",
      "   geocode2_D  geocode2_nan  \n",
      "1         0.0           0.0  \n",
      "2         0.0           0.0  \n",
      "3         0.0           0.0  \n",
      "4         0.0           0.0  \n",
      "6         1.0           0.0   \n",
      "\n",
      "TEST SET: \n",
      "     wealth1    adi    dma     msa  target_d  geocode2_B  geocode2_C  \\\n",
      "0       NaN  177.0  682.0     0.0       0.0         0.0         1.0   \n",
      "5       NaN  185.0  691.0  2030.0       0.0         0.0         1.0   \n",
      "9       NaN  181.0  659.0  5360.0       0.0         1.0         0.0   \n",
      "13      NaN  249.0  716.0   760.0       0.0         1.0         0.0   \n",
      "17      NaN  227.0  717.0     0.0       0.0         0.0         1.0   \n",
      "\n",
      "    geocode2_D  geocode2_nan  \n",
      "0          0.0           0.0  \n",
      "5          0.0           0.0  \n",
      "9          0.0           0.0  \n",
      "13         0.0           0.0  \n",
      "17         0.0           0.0   \n",
      "\n",
      "TRAIN (N): 50680\n",
      "TEST (N): 44732\n",
      "TOTAL (N): 95412 \n",
      "\n"
     ]
    }
   ],
   "source": [
    "# split data into train (complete data) - test (incomplete data)\n",
    "\n",
    "train = df_geo[df_geo[\"wealth1\"].notna()]\n",
    "test = df_geo[df_geo[\"wealth1\"].isna()]\n",
    "\n",
    "print(\"TRAIN SET:\", \"\\n\", train.head(), \"\\n\")\n",
    "print(\"TEST SET:\", \"\\n\", test.head(), \"\\n\")\n",
    "print(\"TRAIN (N):\", len(train))\n",
    "print(\"TEST (N):\", len(test))\n",
    "print(\"TOTAL (N):\", len(df_geo), \"\\n\")"
   ]
  },
  {
   "cell_type": "code",
   "execution_count": 31,
   "metadata": {},
   "outputs": [],
   "source": [
    "# split the train set into X-y\n",
    "\n",
    "X_train = train.drop([\"wealth1\"], axis=1)\n",
    "y_train = train[\"wealth1\"]\n",
    "\n",
    "X_test = test.drop([\"wealth1\"], axis=1)\n",
    "y_test = test[\"wealth1\"]\n",
    "\n",
    "# print(\"X_train:\", \"\\n\", X_train.head(), \"\\n\")\n",
    "# print(\"y_train:\", \"\\n\", y_train.head(), \"\\n\")\n",
    "# print(\"X_test:\", \"\\n\", X_test.head(), \"\\n\")\n",
    "# print(\"y_test:\", \"\\n\", y_test.head())"
   ]
  },
  {
   "cell_type": "markdown",
   "metadata": {},
   "source": [
    "### 1. Hist Gradient Boosting Classifier"
   ]
  },
  {
   "cell_type": "code",
   "execution_count": 32,
   "metadata": {},
   "outputs": [
    {
     "data": {
      "text/html": [
       "<div>\n",
       "<style scoped>\n",
       "    .dataframe tbody tr th:only-of-type {\n",
       "        vertical-align: middle;\n",
       "    }\n",
       "\n",
       "    .dataframe tbody tr th {\n",
       "        vertical-align: top;\n",
       "    }\n",
       "\n",
       "    .dataframe thead th {\n",
       "        text-align: right;\n",
       "    }\n",
       "</style>\n",
       "<table border=\"1\" class=\"dataframe\">\n",
       "  <thead>\n",
       "    <tr style=\"text-align: right;\">\n",
       "      <th></th>\n",
       "      <th>wealth1</th>\n",
       "      <th>adi</th>\n",
       "      <th>dma</th>\n",
       "      <th>msa</th>\n",
       "      <th>target_d</th>\n",
       "      <th>geocode2_B</th>\n",
       "      <th>geocode2_C</th>\n",
       "      <th>geocode2_D</th>\n",
       "      <th>geocode2_nan</th>\n",
       "    </tr>\n",
       "  </thead>\n",
       "  <tbody>\n",
       "    <tr>\n",
       "      <th>0</th>\n",
       "      <td>NaN</td>\n",
       "      <td>177.0</td>\n",
       "      <td>682.0</td>\n",
       "      <td>0.0</td>\n",
       "      <td>0.0</td>\n",
       "      <td>0.0</td>\n",
       "      <td>1.0</td>\n",
       "      <td>0.0</td>\n",
       "      <td>0.0</td>\n",
       "    </tr>\n",
       "    <tr>\n",
       "      <th>1</th>\n",
       "      <td>9.0</td>\n",
       "      <td>13.0</td>\n",
       "      <td>803.0</td>\n",
       "      <td>4480.0</td>\n",
       "      <td>0.0</td>\n",
       "      <td>0.0</td>\n",
       "      <td>0.0</td>\n",
       "      <td>0.0</td>\n",
       "      <td>0.0</td>\n",
       "    </tr>\n",
       "    <tr>\n",
       "      <th>2</th>\n",
       "      <td>1.0</td>\n",
       "      <td>281.0</td>\n",
       "      <td>518.0</td>\n",
       "      <td>0.0</td>\n",
       "      <td>0.0</td>\n",
       "      <td>0.0</td>\n",
       "      <td>1.0</td>\n",
       "      <td>0.0</td>\n",
       "      <td>0.0</td>\n",
       "    </tr>\n",
       "    <tr>\n",
       "      <th>3</th>\n",
       "      <td>4.0</td>\n",
       "      <td>67.0</td>\n",
       "      <td>862.0</td>\n",
       "      <td>9340.0</td>\n",
       "      <td>0.0</td>\n",
       "      <td>0.0</td>\n",
       "      <td>1.0</td>\n",
       "      <td>0.0</td>\n",
       "      <td>0.0</td>\n",
       "    </tr>\n",
       "    <tr>\n",
       "      <th>4</th>\n",
       "      <td>2.0</td>\n",
       "      <td>127.0</td>\n",
       "      <td>528.0</td>\n",
       "      <td>5000.0</td>\n",
       "      <td>0.0</td>\n",
       "      <td>0.0</td>\n",
       "      <td>0.0</td>\n",
       "      <td>0.0</td>\n",
       "      <td>0.0</td>\n",
       "    </tr>\n",
       "    <tr>\n",
       "      <th>5</th>\n",
       "      <td>NaN</td>\n",
       "      <td>185.0</td>\n",
       "      <td>691.0</td>\n",
       "      <td>2030.0</td>\n",
       "      <td>0.0</td>\n",
       "      <td>0.0</td>\n",
       "      <td>1.0</td>\n",
       "      <td>0.0</td>\n",
       "      <td>0.0</td>\n",
       "    </tr>\n",
       "    <tr>\n",
       "      <th>6</th>\n",
       "      <td>6.0</td>\n",
       "      <td>91.0</td>\n",
       "      <td>509.0</td>\n",
       "      <td>0.0</td>\n",
       "      <td>0.0</td>\n",
       "      <td>0.0</td>\n",
       "      <td>0.0</td>\n",
       "      <td>1.0</td>\n",
       "      <td>0.0</td>\n",
       "    </tr>\n",
       "    <tr>\n",
       "      <th>7</th>\n",
       "      <td>9.0</td>\n",
       "      <td>251.0</td>\n",
       "      <td>643.0</td>\n",
       "      <td>3960.0</td>\n",
       "      <td>0.0</td>\n",
       "      <td>0.0</td>\n",
       "      <td>1.0</td>\n",
       "      <td>0.0</td>\n",
       "      <td>0.0</td>\n",
       "    </tr>\n",
       "    <tr>\n",
       "      <th>8</th>\n",
       "      <td>2.0</td>\n",
       "      <td>391.0</td>\n",
       "      <td>624.0</td>\n",
       "      <td>0.0</td>\n",
       "      <td>0.0</td>\n",
       "      <td>0.0</td>\n",
       "      <td>0.0</td>\n",
       "      <td>1.0</td>\n",
       "      <td>0.0</td>\n",
       "    </tr>\n",
       "    <tr>\n",
       "      <th>9</th>\n",
       "      <td>NaN</td>\n",
       "      <td>181.0</td>\n",
       "      <td>659.0</td>\n",
       "      <td>5360.0</td>\n",
       "      <td>0.0</td>\n",
       "      <td>1.0</td>\n",
       "      <td>0.0</td>\n",
       "      <td>0.0</td>\n",
       "      <td>0.0</td>\n",
       "    </tr>\n",
       "  </tbody>\n",
       "</table>\n",
       "</div>"
      ],
      "text/plain": [
       "   wealth1    adi    dma     msa  target_d  geocode2_B  geocode2_C  \\\n",
       "0      NaN  177.0  682.0     0.0       0.0         0.0         1.0   \n",
       "1      9.0   13.0  803.0  4480.0       0.0         0.0         0.0   \n",
       "2      1.0  281.0  518.0     0.0       0.0         0.0         1.0   \n",
       "3      4.0   67.0  862.0  9340.0       0.0         0.0         1.0   \n",
       "4      2.0  127.0  528.0  5000.0       0.0         0.0         0.0   \n",
       "5      NaN  185.0  691.0  2030.0       0.0         0.0         1.0   \n",
       "6      6.0   91.0  509.0     0.0       0.0         0.0         0.0   \n",
       "7      9.0  251.0  643.0  3960.0       0.0         0.0         1.0   \n",
       "8      2.0  391.0  624.0     0.0       0.0         0.0         0.0   \n",
       "9      NaN  181.0  659.0  5360.0       0.0         1.0         0.0   \n",
       "\n",
       "   geocode2_D  geocode2_nan  \n",
       "0         0.0           0.0  \n",
       "1         0.0           0.0  \n",
       "2         0.0           0.0  \n",
       "3         0.0           0.0  \n",
       "4         0.0           0.0  \n",
       "5         0.0           0.0  \n",
       "6         1.0           0.0  \n",
       "7         0.0           0.0  \n",
       "8         1.0           0.0  \n",
       "9         0.0           0.0  "
      ]
     },
     "execution_count": 32,
     "metadata": {},
     "output_type": "execute_result"
    }
   ],
   "source": [
    "df_hgb = df_geo.copy()\n",
    "df_hgb.head(10)"
   ]
  },
  {
   "cell_type": "code",
   "execution_count": 33,
   "metadata": {},
   "outputs": [],
   "source": [
    "hgb_class = HistGradientBoostingClassifier()"
   ]
  },
  {
   "cell_type": "code",
   "execution_count": 34,
   "metadata": {},
   "outputs": [
    {
     "data": {
      "text/plain": [
       "HistGradientBoostingClassifier()"
      ]
     },
     "execution_count": 34,
     "metadata": {},
     "output_type": "execute_result"
    }
   ],
   "source": [
    "hgb_class.fit(X_train, y_train)"
   ]
  },
  {
   "cell_type": "code",
   "execution_count": 35,
   "metadata": {
    "scrolled": true
   },
   "outputs": [],
   "source": [
    "hbg_pred = hgb_class.predict(X_test)"
   ]
  },
  {
   "cell_type": "code",
   "execution_count": 36,
   "metadata": {
    "scrolled": false
   },
   "outputs": [],
   "source": [
    "# replace missing data with the result\n",
    "df_hgb.loc[df_hgb[\"wealth1\"].isna(), \"wealth1\"] = hbg_pred"
   ]
  },
  {
   "cell_type": "code",
   "execution_count": 37,
   "metadata": {},
   "outputs": [
    {
     "data": {
      "text/html": [
       "<div>\n",
       "<style scoped>\n",
       "    .dataframe tbody tr th:only-of-type {\n",
       "        vertical-align: middle;\n",
       "    }\n",
       "\n",
       "    .dataframe tbody tr th {\n",
       "        vertical-align: top;\n",
       "    }\n",
       "\n",
       "    .dataframe thead th {\n",
       "        text-align: right;\n",
       "    }\n",
       "</style>\n",
       "<table border=\"1\" class=\"dataframe\">\n",
       "  <thead>\n",
       "    <tr style=\"text-align: right;\">\n",
       "      <th></th>\n",
       "      <th>wealth1</th>\n",
       "      <th>adi</th>\n",
       "      <th>dma</th>\n",
       "      <th>msa</th>\n",
       "      <th>target_d</th>\n",
       "      <th>geocode2_B</th>\n",
       "      <th>geocode2_C</th>\n",
       "      <th>geocode2_D</th>\n",
       "      <th>geocode2_nan</th>\n",
       "    </tr>\n",
       "  </thead>\n",
       "  <tbody>\n",
       "    <tr>\n",
       "      <th>0</th>\n",
       "      <td>3.0</td>\n",
       "      <td>177.0</td>\n",
       "      <td>682.0</td>\n",
       "      <td>0.0</td>\n",
       "      <td>0.0</td>\n",
       "      <td>0.0</td>\n",
       "      <td>1.0</td>\n",
       "      <td>0.0</td>\n",
       "      <td>0.0</td>\n",
       "    </tr>\n",
       "    <tr>\n",
       "      <th>1</th>\n",
       "      <td>9.0</td>\n",
       "      <td>13.0</td>\n",
       "      <td>803.0</td>\n",
       "      <td>4480.0</td>\n",
       "      <td>0.0</td>\n",
       "      <td>0.0</td>\n",
       "      <td>0.0</td>\n",
       "      <td>0.0</td>\n",
       "      <td>0.0</td>\n",
       "    </tr>\n",
       "    <tr>\n",
       "      <th>2</th>\n",
       "      <td>1.0</td>\n",
       "      <td>281.0</td>\n",
       "      <td>518.0</td>\n",
       "      <td>0.0</td>\n",
       "      <td>0.0</td>\n",
       "      <td>0.0</td>\n",
       "      <td>1.0</td>\n",
       "      <td>0.0</td>\n",
       "      <td>0.0</td>\n",
       "    </tr>\n",
       "    <tr>\n",
       "      <th>3</th>\n",
       "      <td>4.0</td>\n",
       "      <td>67.0</td>\n",
       "      <td>862.0</td>\n",
       "      <td>9340.0</td>\n",
       "      <td>0.0</td>\n",
       "      <td>0.0</td>\n",
       "      <td>1.0</td>\n",
       "      <td>0.0</td>\n",
       "      <td>0.0</td>\n",
       "    </tr>\n",
       "    <tr>\n",
       "      <th>4</th>\n",
       "      <td>2.0</td>\n",
       "      <td>127.0</td>\n",
       "      <td>528.0</td>\n",
       "      <td>5000.0</td>\n",
       "      <td>0.0</td>\n",
       "      <td>0.0</td>\n",
       "      <td>0.0</td>\n",
       "      <td>0.0</td>\n",
       "      <td>0.0</td>\n",
       "    </tr>\n",
       "    <tr>\n",
       "      <th>5</th>\n",
       "      <td>8.0</td>\n",
       "      <td>185.0</td>\n",
       "      <td>691.0</td>\n",
       "      <td>2030.0</td>\n",
       "      <td>0.0</td>\n",
       "      <td>0.0</td>\n",
       "      <td>1.0</td>\n",
       "      <td>0.0</td>\n",
       "      <td>0.0</td>\n",
       "    </tr>\n",
       "    <tr>\n",
       "      <th>6</th>\n",
       "      <td>6.0</td>\n",
       "      <td>91.0</td>\n",
       "      <td>509.0</td>\n",
       "      <td>0.0</td>\n",
       "      <td>0.0</td>\n",
       "      <td>0.0</td>\n",
       "      <td>0.0</td>\n",
       "      <td>1.0</td>\n",
       "      <td>0.0</td>\n",
       "    </tr>\n",
       "    <tr>\n",
       "      <th>7</th>\n",
       "      <td>9.0</td>\n",
       "      <td>251.0</td>\n",
       "      <td>643.0</td>\n",
       "      <td>3960.0</td>\n",
       "      <td>0.0</td>\n",
       "      <td>0.0</td>\n",
       "      <td>1.0</td>\n",
       "      <td>0.0</td>\n",
       "      <td>0.0</td>\n",
       "    </tr>\n",
       "    <tr>\n",
       "      <th>8</th>\n",
       "      <td>2.0</td>\n",
       "      <td>391.0</td>\n",
       "      <td>624.0</td>\n",
       "      <td>0.0</td>\n",
       "      <td>0.0</td>\n",
       "      <td>0.0</td>\n",
       "      <td>0.0</td>\n",
       "      <td>1.0</td>\n",
       "      <td>0.0</td>\n",
       "    </tr>\n",
       "    <tr>\n",
       "      <th>9</th>\n",
       "      <td>9.0</td>\n",
       "      <td>181.0</td>\n",
       "      <td>659.0</td>\n",
       "      <td>5360.0</td>\n",
       "      <td>0.0</td>\n",
       "      <td>1.0</td>\n",
       "      <td>0.0</td>\n",
       "      <td>0.0</td>\n",
       "      <td>0.0</td>\n",
       "    </tr>\n",
       "  </tbody>\n",
       "</table>\n",
       "</div>"
      ],
      "text/plain": [
       "   wealth1    adi    dma     msa  target_d  geocode2_B  geocode2_C  \\\n",
       "0      3.0  177.0  682.0     0.0       0.0         0.0         1.0   \n",
       "1      9.0   13.0  803.0  4480.0       0.0         0.0         0.0   \n",
       "2      1.0  281.0  518.0     0.0       0.0         0.0         1.0   \n",
       "3      4.0   67.0  862.0  9340.0       0.0         0.0         1.0   \n",
       "4      2.0  127.0  528.0  5000.0       0.0         0.0         0.0   \n",
       "5      8.0  185.0  691.0  2030.0       0.0         0.0         1.0   \n",
       "6      6.0   91.0  509.0     0.0       0.0         0.0         0.0   \n",
       "7      9.0  251.0  643.0  3960.0       0.0         0.0         1.0   \n",
       "8      2.0  391.0  624.0     0.0       0.0         0.0         0.0   \n",
       "9      9.0  181.0  659.0  5360.0       0.0         1.0         0.0   \n",
       "\n",
       "   geocode2_D  geocode2_nan  \n",
       "0         0.0           0.0  \n",
       "1         0.0           0.0  \n",
       "2         0.0           0.0  \n",
       "3         0.0           0.0  \n",
       "4         0.0           0.0  \n",
       "5         0.0           0.0  \n",
       "6         1.0           0.0  \n",
       "7         0.0           0.0  \n",
       "8         1.0           0.0  \n",
       "9         0.0           0.0  "
      ]
     },
     "execution_count": 37,
     "metadata": {},
     "output_type": "execute_result"
    }
   ],
   "source": [
    "# Check, the NaN is filled with predicted data\n",
    "df_hgb.head(10)"
   ]
  },
  {
   "cell_type": "code",
   "execution_count": 38,
   "metadata": {
    "scrolled": false
   },
   "outputs": [
    {
     "name": "stdout",
     "output_type": "stream",
     "text": [
      "9.0    28.10\n",
      "8.0    11.56\n",
      "2.0     9.71\n",
      "6.0     9.28\n",
      "7.0     9.22\n",
      "4.0     7.83\n",
      "5.0     7.65\n",
      "3.0     6.97\n",
      "1.0     6.70\n",
      "0.0     2.98\n",
      "Name: wealth1, dtype: float64\n"
     ]
    },
    {
     "data": {
      "text/plain": [
       "<AxesSubplot:>"
      ]
     },
     "execution_count": 38,
     "metadata": {},
     "output_type": "execute_result"
    },
    {
     "data": {
      "image/png": "[encoded data removed]",
      "text/plain": [
       "<Figure size 640x480 with 1 Axes>"
      ]
     },
     "metadata": {},
     "output_type": "display_data"
    },
    {
     "data": {
      "image/png": "[encoded data removed]",
      "text/plain": [
       "<Figure size 2500x1000 with 2 Axes>"
      ]
     },
     "metadata": {},
     "output_type": "display_data"
    }
   ],
   "source": [
    "# Calculate each value in this column after filling missing data\n",
    "wealth_val_perc = round(df_hgb[\"wealth1\"].value_counts()*100/len(df_hgb[\"wealth1\"]), 2)\n",
    "print(wealth_val_perc)\n",
    "\n",
    "# Visualize after filling with predicted value, the trend should be the same\n",
    "sns.countplot(df_hgb[\"wealth1\"])\n",
    "plt.xlabel(\"Wealth Rating\")\n",
    "plt.ylabel(\"Count\")\n",
    "\n",
    "# visualize missing data\n",
    "msno.matrix(df_hgb)"
   ]
  },
  {
   "cell_type": "markdown",
   "metadata": {},
   "source": [
    "- It seems this HistGradientBoostingClassifier predicted the missing value with wealth rating 9 the most, follow by group 2, and 1.\n",
    "- From the missingno plot, wealth1 is now complete\n",
    "\n",
    "Note:\n",
    "- This prediction is far from the reality because we predicted using only a few features. For this step, it could improve if we have already select features for predicting the model & use more data (features/columns) to predict the missing values. It could be more accurate."
   ]
  },
  {
   "cell_type": "markdown",
   "metadata": {},
   "source": [
    "### 2. XGBoost"
   ]
  },
  {
   "cell_type": "markdown",
   "metadata": {},
   "source": [
    "Note: \n",
    "- I'm just curious if I'll get the same values for missing data when using different algorithms. So I'll try XGBoost & SVM"
   ]
  },
  {
   "cell_type": "code",
   "execution_count": 39,
   "metadata": {},
   "outputs": [
    {
     "data": {
      "text/html": [
       "<div>\n",
       "<style scoped>\n",
       "    .dataframe tbody tr th:only-of-type {\n",
       "        vertical-align: middle;\n",
       "    }\n",
       "\n",
       "    .dataframe tbody tr th {\n",
       "        vertical-align: top;\n",
       "    }\n",
       "\n",
       "    .dataframe thead th {\n",
       "        text-align: right;\n",
       "    }\n",
       "</style>\n",
       "<table border=\"1\" class=\"dataframe\">\n",
       "  <thead>\n",
       "    <tr style=\"text-align: right;\">\n",
       "      <th></th>\n",
       "      <th>wealth1</th>\n",
       "      <th>adi</th>\n",
       "      <th>dma</th>\n",
       "      <th>msa</th>\n",
       "      <th>target_d</th>\n",
       "      <th>geocode2_B</th>\n",
       "      <th>geocode2_C</th>\n",
       "      <th>geocode2_D</th>\n",
       "      <th>geocode2_nan</th>\n",
       "    </tr>\n",
       "  </thead>\n",
       "  <tbody>\n",
       "    <tr>\n",
       "      <th>0</th>\n",
       "      <td>NaN</td>\n",
       "      <td>177.0</td>\n",
       "      <td>682.0</td>\n",
       "      <td>0.0</td>\n",
       "      <td>0.0</td>\n",
       "      <td>0.0</td>\n",
       "      <td>1.0</td>\n",
       "      <td>0.0</td>\n",
       "      <td>0.0</td>\n",
       "    </tr>\n",
       "    <tr>\n",
       "      <th>1</th>\n",
       "      <td>9.0</td>\n",
       "      <td>13.0</td>\n",
       "      <td>803.0</td>\n",
       "      <td>4480.0</td>\n",
       "      <td>0.0</td>\n",
       "      <td>0.0</td>\n",
       "      <td>0.0</td>\n",
       "      <td>0.0</td>\n",
       "      <td>0.0</td>\n",
       "    </tr>\n",
       "    <tr>\n",
       "      <th>2</th>\n",
       "      <td>1.0</td>\n",
       "      <td>281.0</td>\n",
       "      <td>518.0</td>\n",
       "      <td>0.0</td>\n",
       "      <td>0.0</td>\n",
       "      <td>0.0</td>\n",
       "      <td>1.0</td>\n",
       "      <td>0.0</td>\n",
       "      <td>0.0</td>\n",
       "    </tr>\n",
       "    <tr>\n",
       "      <th>3</th>\n",
       "      <td>4.0</td>\n",
       "      <td>67.0</td>\n",
       "      <td>862.0</td>\n",
       "      <td>9340.0</td>\n",
       "      <td>0.0</td>\n",
       "      <td>0.0</td>\n",
       "      <td>1.0</td>\n",
       "      <td>0.0</td>\n",
       "      <td>0.0</td>\n",
       "    </tr>\n",
       "    <tr>\n",
       "      <th>4</th>\n",
       "      <td>2.0</td>\n",
       "      <td>127.0</td>\n",
       "      <td>528.0</td>\n",
       "      <td>5000.0</td>\n",
       "      <td>0.0</td>\n",
       "      <td>0.0</td>\n",
       "      <td>0.0</td>\n",
       "      <td>0.0</td>\n",
       "      <td>0.0</td>\n",
       "    </tr>\n",
       "    <tr>\n",
       "      <th>5</th>\n",
       "      <td>NaN</td>\n",
       "      <td>185.0</td>\n",
       "      <td>691.0</td>\n",
       "      <td>2030.0</td>\n",
       "      <td>0.0</td>\n",
       "      <td>0.0</td>\n",
       "      <td>1.0</td>\n",
       "      <td>0.0</td>\n",
       "      <td>0.0</td>\n",
       "    </tr>\n",
       "    <tr>\n",
       "      <th>6</th>\n",
       "      <td>6.0</td>\n",
       "      <td>91.0</td>\n",
       "      <td>509.0</td>\n",
       "      <td>0.0</td>\n",
       "      <td>0.0</td>\n",
       "      <td>0.0</td>\n",
       "      <td>0.0</td>\n",
       "      <td>1.0</td>\n",
       "      <td>0.0</td>\n",
       "    </tr>\n",
       "    <tr>\n",
       "      <th>7</th>\n",
       "      <td>9.0</td>\n",
       "      <td>251.0</td>\n",
       "      <td>643.0</td>\n",
       "      <td>3960.0</td>\n",
       "      <td>0.0</td>\n",
       "      <td>0.0</td>\n",
       "      <td>1.0</td>\n",
       "      <td>0.0</td>\n",
       "      <td>0.0</td>\n",
       "    </tr>\n",
       "    <tr>\n",
       "      <th>8</th>\n",
       "      <td>2.0</td>\n",
       "      <td>391.0</td>\n",
       "      <td>624.0</td>\n",
       "      <td>0.0</td>\n",
       "      <td>0.0</td>\n",
       "      <td>0.0</td>\n",
       "      <td>0.0</td>\n",
       "      <td>1.0</td>\n",
       "      <td>0.0</td>\n",
       "    </tr>\n",
       "    <tr>\n",
       "      <th>9</th>\n",
       "      <td>NaN</td>\n",
       "      <td>181.0</td>\n",
       "      <td>659.0</td>\n",
       "      <td>5360.0</td>\n",
       "      <td>0.0</td>\n",
       "      <td>1.0</td>\n",
       "      <td>0.0</td>\n",
       "      <td>0.0</td>\n",
       "      <td>0.0</td>\n",
       "    </tr>\n",
       "  </tbody>\n",
       "</table>\n",
       "</div>"
      ],
      "text/plain": [
       "   wealth1    adi    dma     msa  target_d  geocode2_B  geocode2_C  \\\n",
       "0      NaN  177.0  682.0     0.0       0.0         0.0         1.0   \n",
       "1      9.0   13.0  803.0  4480.0       0.0         0.0         0.0   \n",
       "2      1.0  281.0  518.0     0.0       0.0         0.0         1.0   \n",
       "3      4.0   67.0  862.0  9340.0       0.0         0.0         1.0   \n",
       "4      2.0  127.0  528.0  5000.0       0.0         0.0         0.0   \n",
       "5      NaN  185.0  691.0  2030.0       0.0         0.0         1.0   \n",
       "6      6.0   91.0  509.0     0.0       0.0         0.0         0.0   \n",
       "7      9.0  251.0  643.0  3960.0       0.0         0.0         1.0   \n",
       "8      2.0  391.0  624.0     0.0       0.0         0.0         0.0   \n",
       "9      NaN  181.0  659.0  5360.0       0.0         1.0         0.0   \n",
       "\n",
       "   geocode2_D  geocode2_nan  \n",
       "0         0.0           0.0  \n",
       "1         0.0           0.0  \n",
       "2         0.0           0.0  \n",
       "3         0.0           0.0  \n",
       "4         0.0           0.0  \n",
       "5         0.0           0.0  \n",
       "6         1.0           0.0  \n",
       "7         0.0           0.0  \n",
       "8         1.0           0.0  \n",
       "9         0.0           0.0  "
      ]
     },
     "execution_count": 39,
     "metadata": {},
     "output_type": "execute_result"
    }
   ],
   "source": [
    "df_xgb = df_geo.copy()\n",
    "df_xgb.head(10)"
   ]
  },
  {
   "cell_type": "code",
   "execution_count": 40,
   "metadata": {},
   "outputs": [],
   "source": [
    "# Train & predict missing values with XGBoost\n",
    "xgb = xgb.XGBClassifier()\n",
    "xgb.fit(X_train, y_train)\n",
    "xgb_pred = xgb.predict(X_test)"
   ]
  },
  {
   "cell_type": "code",
   "execution_count": 41,
   "metadata": {},
   "outputs": [
    {
     "name": "stdout",
     "output_type": "stream",
     "text": [
      "9.0    26.65\n",
      "8.0    11.94\n",
      "6.0     9.68\n",
      "7.0     9.59\n",
      "2.0     8.81\n",
      "5.0     8.18\n",
      "4.0     7.76\n",
      "3.0     7.13\n",
      "1.0     6.99\n",
      "0.0     3.27\n",
      "Name: wealth1, dtype: float64\n"
     ]
    },
    {
     "data": {
      "text/plain": [
       "Text(0, 0.5, 'Count')"
      ]
     },
     "execution_count": 41,
     "metadata": {},
     "output_type": "execute_result"
    },
    {
     "data": {
      "image/png": "[encoded data removed]",
      "text/plain": [
       "<Figure size 640x480 with 1 Axes>"
      ]
     },
     "metadata": {},
     "output_type": "display_data"
    }
   ],
   "source": [
    "# Replace missing data with the xgb result\n",
    "df_xgb.loc[df_xgb[\"wealth1\"].isna(), \"wealth1\"] = xgb_pred\n",
    "\n",
    "# Calculate each value in this column after filling missing data\n",
    "wealth_val_perc = round(df_xgb[\"wealth1\"].value_counts()*100/len(df_xgb[\"wealth1\"]), 2)\n",
    "print(wealth_val_perc)\n",
    "\n",
    "# Visualize after filling with predicted value, the trend should be the same\n",
    "sns.countplot(df_xgb[\"wealth1\"])\n",
    "plt.xlabel(\"Wealth Rating\")\n",
    "plt.ylabel(\"Count\")\n"
   ]
  },
  {
   "cell_type": "code",
   "execution_count": 42,
   "metadata": {
    "scrolled": true
   },
   "outputs": [
    {
     "data": {
      "text/html": [
       "<div>\n",
       "<style scoped>\n",
       "    .dataframe tbody tr th:only-of-type {\n",
       "        vertical-align: middle;\n",
       "    }\n",
       "\n",
       "    .dataframe tbody tr th {\n",
       "        vertical-align: top;\n",
       "    }\n",
       "\n",
       "    .dataframe thead th {\n",
       "        text-align: right;\n",
       "    }\n",
       "</style>\n",
       "<table border=\"1\" class=\"dataframe\">\n",
       "  <thead>\n",
       "    <tr style=\"text-align: right;\">\n",
       "      <th></th>\n",
       "      <th>wealth1</th>\n",
       "      <th>adi</th>\n",
       "      <th>dma</th>\n",
       "      <th>msa</th>\n",
       "      <th>target_d</th>\n",
       "      <th>geocode2_B</th>\n",
       "      <th>geocode2_C</th>\n",
       "      <th>geocode2_D</th>\n",
       "      <th>geocode2_nan</th>\n",
       "    </tr>\n",
       "  </thead>\n",
       "  <tbody>\n",
       "    <tr>\n",
       "      <th>0</th>\n",
       "      <td>3.0</td>\n",
       "      <td>177.0</td>\n",
       "      <td>682.0</td>\n",
       "      <td>0.0</td>\n",
       "      <td>0.0</td>\n",
       "      <td>0.0</td>\n",
       "      <td>1.0</td>\n",
       "      <td>0.0</td>\n",
       "      <td>0.0</td>\n",
       "    </tr>\n",
       "    <tr>\n",
       "      <th>1</th>\n",
       "      <td>9.0</td>\n",
       "      <td>13.0</td>\n",
       "      <td>803.0</td>\n",
       "      <td>4480.0</td>\n",
       "      <td>0.0</td>\n",
       "      <td>0.0</td>\n",
       "      <td>0.0</td>\n",
       "      <td>0.0</td>\n",
       "      <td>0.0</td>\n",
       "    </tr>\n",
       "    <tr>\n",
       "      <th>2</th>\n",
       "      <td>1.0</td>\n",
       "      <td>281.0</td>\n",
       "      <td>518.0</td>\n",
       "      <td>0.0</td>\n",
       "      <td>0.0</td>\n",
       "      <td>0.0</td>\n",
       "      <td>1.0</td>\n",
       "      <td>0.0</td>\n",
       "      <td>0.0</td>\n",
       "    </tr>\n",
       "    <tr>\n",
       "      <th>3</th>\n",
       "      <td>4.0</td>\n",
       "      <td>67.0</td>\n",
       "      <td>862.0</td>\n",
       "      <td>9340.0</td>\n",
       "      <td>0.0</td>\n",
       "      <td>0.0</td>\n",
       "      <td>1.0</td>\n",
       "      <td>0.0</td>\n",
       "      <td>0.0</td>\n",
       "    </tr>\n",
       "    <tr>\n",
       "      <th>4</th>\n",
       "      <td>2.0</td>\n",
       "      <td>127.0</td>\n",
       "      <td>528.0</td>\n",
       "      <td>5000.0</td>\n",
       "      <td>0.0</td>\n",
       "      <td>0.0</td>\n",
       "      <td>0.0</td>\n",
       "      <td>0.0</td>\n",
       "      <td>0.0</td>\n",
       "    </tr>\n",
       "    <tr>\n",
       "      <th>5</th>\n",
       "      <td>8.0</td>\n",
       "      <td>185.0</td>\n",
       "      <td>691.0</td>\n",
       "      <td>2030.0</td>\n",
       "      <td>0.0</td>\n",
       "      <td>0.0</td>\n",
       "      <td>1.0</td>\n",
       "      <td>0.0</td>\n",
       "      <td>0.0</td>\n",
       "    </tr>\n",
       "    <tr>\n",
       "      <th>6</th>\n",
       "      <td>6.0</td>\n",
       "      <td>91.0</td>\n",
       "      <td>509.0</td>\n",
       "      <td>0.0</td>\n",
       "      <td>0.0</td>\n",
       "      <td>0.0</td>\n",
       "      <td>0.0</td>\n",
       "      <td>1.0</td>\n",
       "      <td>0.0</td>\n",
       "    </tr>\n",
       "    <tr>\n",
       "      <th>7</th>\n",
       "      <td>9.0</td>\n",
       "      <td>251.0</td>\n",
       "      <td>643.0</td>\n",
       "      <td>3960.0</td>\n",
       "      <td>0.0</td>\n",
       "      <td>0.0</td>\n",
       "      <td>1.0</td>\n",
       "      <td>0.0</td>\n",
       "      <td>0.0</td>\n",
       "    </tr>\n",
       "    <tr>\n",
       "      <th>8</th>\n",
       "      <td>2.0</td>\n",
       "      <td>391.0</td>\n",
       "      <td>624.0</td>\n",
       "      <td>0.0</td>\n",
       "      <td>0.0</td>\n",
       "      <td>0.0</td>\n",
       "      <td>0.0</td>\n",
       "      <td>1.0</td>\n",
       "      <td>0.0</td>\n",
       "    </tr>\n",
       "    <tr>\n",
       "      <th>9</th>\n",
       "      <td>8.0</td>\n",
       "      <td>181.0</td>\n",
       "      <td>659.0</td>\n",
       "      <td>5360.0</td>\n",
       "      <td>0.0</td>\n",
       "      <td>1.0</td>\n",
       "      <td>0.0</td>\n",
       "      <td>0.0</td>\n",
       "      <td>0.0</td>\n",
       "    </tr>\n",
       "  </tbody>\n",
       "</table>\n",
       "</div>"
      ],
      "text/plain": [
       "   wealth1    adi    dma     msa  target_d  geocode2_B  geocode2_C  \\\n",
       "0      3.0  177.0  682.0     0.0       0.0         0.0         1.0   \n",
       "1      9.0   13.0  803.0  4480.0       0.0         0.0         0.0   \n",
       "2      1.0  281.0  518.0     0.0       0.0         0.0         1.0   \n",
       "3      4.0   67.0  862.0  9340.0       0.0         0.0         1.0   \n",
       "4      2.0  127.0  528.0  5000.0       0.0         0.0         0.0   \n",
       "5      8.0  185.0  691.0  2030.0       0.0         0.0         1.0   \n",
       "6      6.0   91.0  509.0     0.0       0.0         0.0         0.0   \n",
       "7      9.0  251.0  643.0  3960.0       0.0         0.0         1.0   \n",
       "8      2.0  391.0  624.0     0.0       0.0         0.0         0.0   \n",
       "9      8.0  181.0  659.0  5360.0       0.0         1.0         0.0   \n",
       "\n",
       "   geocode2_D  geocode2_nan  \n",
       "0         0.0           0.0  \n",
       "1         0.0           0.0  \n",
       "2         0.0           0.0  \n",
       "3         0.0           0.0  \n",
       "4         0.0           0.0  \n",
       "5         0.0           0.0  \n",
       "6         1.0           0.0  \n",
       "7         0.0           0.0  \n",
       "8         1.0           0.0  \n",
       "9         0.0           0.0  "
      ]
     },
     "execution_count": 42,
     "metadata": {},
     "output_type": "execute_result"
    }
   ],
   "source": [
    "# Check, the NaN is now filled with predicted data\n",
    "df_xgb.head(10)"
   ]
  },
  {
   "cell_type": "markdown",
   "metadata": {},
   "source": [
    "#### Observe\n",
    "\n",
    "- Handling missing value with XGBoost & Gradient Classifier give slightly different result. But we can't tell yet how much/different this will affect the model unless we test it out.\n",
    "\n",
    "\n",
    "- I tried to apply SVM & Random Forest to predict the missing values but these 2 methods do not take NaN as an argument. Since we have 132 NaN in columns ADI, DMA, MSA.\n",
    "\n",
    "\n",
    "    So I'll leave handling missing values in WEALTH1 just for now. \n",
    "    Next, we'll take a look at ADI, DMA, MSA"
   ]
  },
  {
   "cell_type": "markdown",
   "metadata": {},
   "source": [
    "## Handling NaN in ADI, DMA, MSA"
   ]
  },
  {
   "cell_type": "markdown",
   "metadata": {},
   "source": [
    "### What are ADI, DMA, MSA?\n",
    "\n",
    "    > ADI - Ad Intel Database or Area of Dominant Media Influence: information on the intensity of advertising (i.e. occurrences, impressions, expenditures) for all media types (e.g. TV, newspapers, magazines, coupons)\n",
    "\n",
    "    > DMA - Designated Market Area is a group of counties in the United States that is covered by a specific group of television stations. There are 210 Designated Market Areas (DMAs) listed by the 2022 Nielsen rankings. \n",
    "        \n",
    "    > MSA - Metropolitan Statistical Area, as defined by the Office of Management and Budget, is used to designate a United States metropolitan area.\n",
    "\n",
    "\n",
    "### In short: they represent geographic information.\n",
    "\n",
    "\n",
    "We have 132 NaN in each of them.\n",
    "\n",
    "- Filling with 0 does not apply because there are 0 value represents an area (? I couldn't find information so far. So I'm not sure about but I guess it has meaning.)\n",
    "\n",
    "\n",
    "- Since they represent the area similar the zip code. This is discrete data, we will not fill it with mean. Filling with mode also seems not right because of how data distribute (see graph below)."
   ]
  },
  {
   "cell_type": "markdown",
   "metadata": {},
   "source": [
    "#### ADI"
   ]
  },
  {
   "cell_type": "code",
   "execution_count": 43,
   "metadata": {
    "scrolled": false
   },
   "outputs": [
    {
     "name": "stdout",
     "output_type": "stream",
     "text": [
      "ADI values: \n",
      " [177.  13. 281.  67. 127. 185.  91. 251. 391. 181. 269.  83. 107. 249.\n",
      " 291.  57. 227. 329. 351.  55. 133.  51.  73. 159. 201.  75. 233. 591.\n",
      " 203. 175.  59. 105. 111. 173. 415. 323. 187.  65. 412. 109. 425. 405.\n",
      " 197. 279. 645. 207.  89. 361. 209. 213.  15.  21. 113. 131. 469. 199.\n",
      " 129. 441. 459. 235. 301.  39. 429. 285. 245. 335. 393. 577. 439. 455.\n",
      " 383. 263.   0. 427. 307. 275. 119. 229. 273. 325. 371. 377. 315. 342.\n",
      " 421. 219.  61.  93. 375. 283. 381. 243. 353. 613. 339. 367. 417. 299.\n",
      " 271. 157.  77. 327.  53.  87. 451. 627.  71. 253. 363. 403. 115. 389.\n",
      "  63. 321. 448. 237. 217. 241. 123. 221. 165. 277.  85. 319. 247.  69.\n",
      " 379.  95.  17. 625. 462. 303. 179. 331. 231. 337. 257. 409. 457. 359.\n",
      " 373.  nan 413. 215. 205. 313. 211. 305. 355. 419. 473. 423. 121. 433.\n",
      " 431. 465. 445.  19. 467. 255. 437. 117. 449. 195. 435. 621. 295.  11.\n",
      " 183. 265. 317.   9.   3. 151. 471. 293. 297. 603. 385.  33. 261.  25.\n",
      " 443.  29. 357. 135.  35. 143. 153. 149.  47. 140.  43. 141. 287. 345.\n",
      " 103.  45. 139. 651.  31. 601. 145. 161. 147.] \n",
      "\n",
      "Number of unique values: 204\n"
     ]
    },
    {
     "data": {
      "image/png": "[encoded data removed]",
      "text/plain": [
       "<Figure size 640x480 with 1 Axes>"
      ]
     },
     "metadata": {},
     "output_type": "display_data"
    }
   ],
   "source": [
    "# visulaize ADI\n",
    "sns.histplot(df_geo[\"adi\"])\n",
    "plt.xlabel(\"ADI\")\n",
    "\n",
    "print(\"ADI values:\", \"\\n\", df_geo[\"adi\"].unique(), \"\\n\")\n",
    "print(\"Number of unique values:\", df_geo[\"adi\"].nunique())\n",
    "# print(df_geo[\"adi\"].value_counts())\n"
   ]
  },
  {
   "cell_type": "markdown",
   "metadata": {},
   "source": [
    "#### DMA"
   ]
  },
  {
   "cell_type": "code",
   "execution_count": 44,
   "metadata": {},
   "outputs": [
    {
     "name": "stdout",
     "output_type": "stream",
     "text": [
      "DMA value: \n",
      " [682. 803. 518. 862. 528. 691. 509. 643. 624. 659. 671. 527. 613. 716.\n",
      " 770. 505. 717. 534. 560. 547. 571. 602. 800. 638. 618. 609. 820. 821.\n",
      " 635. 675. 563. 819. 617. 637. 606. 709. 632. 807. 698. 623. 507. 627.\n",
      " 524. 517. 539. 649. 868. 546. 529. 567. 825. 512. 669. 764. 575. 548.\n",
      " 662. 811. 801. 652. 771. 603. 556. 622. 561. 724. 804. 633. 839. 686.\n",
      " 650. 743. 619. 678. 753. 610. 745. 604. 749. 670. 765. 711. 553. 762.\n",
      " 520. 503. 551. 515. 647. 544.   0. 676. 752. 545. 754. 810. 790. 656.\n",
      " 755. 641. 616. 628. 588. 581. 540. 658. 583. 866. 642. 746. 634. 648.\n",
      " 705. 725. 744. 513. 612. 813. 531. 751. 500. 630. 611. 789. 582. 693.\n",
      " 692. 828. 626. 710. 542. 855. 687. 679. 640. 722. 620. 881. 564. 522.\n",
      " 756. 570. 718.  nan 530. 557. 625. 541. 657. 631. 550. 525. 605. 773.\n",
      " 519. 535. 600. 734. 759. 757. 511. 798. 802. 644. 651. 702. 737. 767.\n",
      " 673. 736. 636. 592. 758. 504. 639. 501. 506. 523. 760. 766. 646. 740.\n",
      " 574. 598. 533. 661. 508. 537. 514. 510. 577. 549. 532. 521. 565. 566.\n",
      " 555. 569. 573. 554. 543. 538. 584. 536. 502. 552. 516.] \n",
      "\n",
      "Number of unique value: 206\n"
     ]
    },
    {
     "data": {
      "image/png": "[encoded data removed]",
      "text/plain": [
       "<Figure size 640x480 with 1 Axes>"
      ]
     },
     "metadata": {},
     "output_type": "display_data"
    }
   ],
   "source": [
    "# visulaize dma\n",
    "sns.histplot(df_geo[\"dma\"])\n",
    "plt.xlabel(\"DMA\")\n",
    "\n",
    "print(\"DMA value:\", \"\\n\", df_geo[\"dma\"].unique(), \"\\n\")\n",
    "print(\"Number of unique value:\", df_geo[\"dma\"].nunique())"
   ]
  },
  {
   "cell_type": "markdown",
   "metadata": {},
   "source": [
    "#### MSA"
   ]
  },
  {
   "cell_type": "code",
   "execution_count": 45,
   "metadata": {
    "scrolled": false
   },
   "outputs": [
    {
     "name": "stdout",
     "output_type": "stream",
     "text": [
      "MSA value: \n",
      " [   0. 4480. 9340. 5000. 2030. 3960. 5360. 3480.  760. 2160. 5960. 5120.\n",
      "  440. 6580. 1600.  680. 3360. 7040. 2920. 3120. 6440.  640. 6120. 3000.\n",
      " 7600. 2680. 5080. 1360. 2180. 4420. 1960. 6640. 7360. 5945. 1920. 1145.\n",
      " 7520. 2800. 1520. 7510. 1620. 4520. 7320.  720. 4720. 1560. 8960.   40.\n",
      " 6720.  520. 9360. 3710. 8280. 6760. 3160. 5560. 3600. 6780. 5800. 4120.\n",
      " 5160. 5880.  380. 3440. 2710. 2020. 9040. 6200. 6880. 6920. 2760. 7080.\n",
      " 4080. 2580. 4100. 5790. 4200.  600. 4680. 4040. 1640. 5775. 8720. 3980.\n",
      " 2240. 1720. 5910. 9260.  200. 7400. 1020. 3290. 2720. 7240. 3800. 8120.\n",
      "  870. 2320. 3760. 1040. 2840. 3880.  920. 6080.  460.  320. 1400. 3320.\n",
      " 2640. 8200. 4890. 3660. 2670. 1000. 2520. 2440. 8520. 3720. 2080. 7500.\n",
      " 3920. 1125. 4400.  840. 7485. 8750. 8735. 1150. 5280. 3285. 7460. 2620.\n",
      " 7160. 4920. 8600.  880. 2985. 5920. 2655. 3560.   nan 3500. 7720. 7480.\n",
      "  860. 2330. 7680. 5200. 3400. 3605. 2750. 8240. 3080. 5170. 3150.  480.\n",
      " 6660. 3840. 2120. 3810. 2960. 7840. 5240. 6690. 1760. 6015. 8780. 4900.\n",
      " 4280. 7640. 3520. 7620. 8800. 2400. 9200. 7920. 8940.  120. 2995. 1440.\n",
      " 8440. 1840. 1880. 3620. 8560. 3850. 1080. 5345. 7120. 8840.  220. 1260.\n",
      " 6980. 6895. 1580. 6960. 1660. 1800. 4600. 6600. 7800. 2560. 2200. 3870.\n",
      " 2700. 8320. 2040.  500. 5720. 4940. 2980. 6560. 6820. 2650. 7880. 8920.\n",
      " 4880. 3350. 3060. 2900. 5330. 6340.  560. 3040. 9270. 3580. 1740. 2340.\n",
      " 5190. 8640. 6740. 1123. 8140. 1240. 4360. 7760. 1350. 7490. 8360. 2290.\n",
      " 3740. 5380. 1010. 9080. 2880. 6160. 3700.  450. 5990. 5483. 4150. 9160.\n",
      " 3680. 5523. 7200. 6520. 6280. 2000. 7000. 5600. 1480. 6240. 6403. 1280.\n",
      " 1680. 7560.  160.  743. 5640. 1303. 2281. 1320. 3240. 8400.   80. 5015.\n",
      " 9280. 3200. 6800. 4000.  875. 9140. 9000. 3283. 2975. 8003. 6840.  733.\n",
      " 1540. 9320. 7610. 3180. 6323. 6483.  960. 8160. 1950. 5660. 8480.] \n",
      "\n",
      "Number of unique value: 298\n"
     ]
    },
    {
     "data": {
      "image/png": "[encoded data removed]",
      "text/plain": [
       "<Figure size 640x480 with 1 Axes>"
      ]
     },
     "metadata": {},
     "output_type": "display_data"
    }
   ],
   "source": [
    "# visulaize ADI\n",
    "sns.histplot(df_geo[\"msa\"])\n",
    "plt.xlabel(\"MSA\")\n",
    "\n",
    "print(\"MSA value:\", \"\\n\", df_geo[\"msa\"].unique(), \"\\n\")\n",
    "print(\"Number of unique value:\", df_geo[\"msa\"].nunique())"
   ]
  },
  {
   "cell_type": "code",
   "execution_count": 46,
   "metadata": {
    "scrolled": false
   },
   "outputs": [
    {
     "data": {
      "text/html": [
       "<div>\n",
       "<style scoped>\n",
       "    .dataframe tbody tr th:only-of-type {\n",
       "        vertical-align: middle;\n",
       "    }\n",
       "\n",
       "    .dataframe tbody tr th {\n",
       "        vertical-align: top;\n",
       "    }\n",
       "\n",
       "    .dataframe thead th {\n",
       "        text-align: right;\n",
       "    }\n",
       "</style>\n",
       "<table border=\"1\" class=\"dataframe\">\n",
       "  <thead>\n",
       "    <tr style=\"text-align: right;\">\n",
       "      <th></th>\n",
       "      <th>wealth1</th>\n",
       "      <th>adi</th>\n",
       "      <th>dma</th>\n",
       "      <th>msa</th>\n",
       "      <th>target_d</th>\n",
       "      <th>geocode2_B</th>\n",
       "      <th>geocode2_C</th>\n",
       "      <th>geocode2_D</th>\n",
       "      <th>geocode2_nan</th>\n",
       "    </tr>\n",
       "  </thead>\n",
       "  <tbody>\n",
       "    <tr>\n",
       "      <th>577</th>\n",
       "      <td>NaN</td>\n",
       "      <td>NaN</td>\n",
       "      <td>NaN</td>\n",
       "      <td>NaN</td>\n",
       "      <td>0.0</td>\n",
       "      <td>0.0</td>\n",
       "      <td>0.0</td>\n",
       "      <td>0.0</td>\n",
       "      <td>1.0</td>\n",
       "    </tr>\n",
       "    <tr>\n",
       "      <th>1119</th>\n",
       "      <td>NaN</td>\n",
       "      <td>NaN</td>\n",
       "      <td>NaN</td>\n",
       "      <td>NaN</td>\n",
       "      <td>0.0</td>\n",
       "      <td>0.0</td>\n",
       "      <td>0.0</td>\n",
       "      <td>0.0</td>\n",
       "      <td>1.0</td>\n",
       "    </tr>\n",
       "    <tr>\n",
       "      <th>2250</th>\n",
       "      <td>3.0</td>\n",
       "      <td>NaN</td>\n",
       "      <td>NaN</td>\n",
       "      <td>NaN</td>\n",
       "      <td>0.0</td>\n",
       "      <td>0.0</td>\n",
       "      <td>0.0</td>\n",
       "      <td>0.0</td>\n",
       "      <td>1.0</td>\n",
       "    </tr>\n",
       "    <tr>\n",
       "      <th>3326</th>\n",
       "      <td>NaN</td>\n",
       "      <td>NaN</td>\n",
       "      <td>NaN</td>\n",
       "      <td>NaN</td>\n",
       "      <td>0.0</td>\n",
       "      <td>0.0</td>\n",
       "      <td>0.0</td>\n",
       "      <td>0.0</td>\n",
       "      <td>1.0</td>\n",
       "    </tr>\n",
       "    <tr>\n",
       "      <th>5558</th>\n",
       "      <td>8.0</td>\n",
       "      <td>NaN</td>\n",
       "      <td>NaN</td>\n",
       "      <td>NaN</td>\n",
       "      <td>6.0</td>\n",
       "      <td>0.0</td>\n",
       "      <td>0.0</td>\n",
       "      <td>0.0</td>\n",
       "      <td>1.0</td>\n",
       "    </tr>\n",
       "    <tr>\n",
       "      <th>...</th>\n",
       "      <td>...</td>\n",
       "      <td>...</td>\n",
       "      <td>...</td>\n",
       "      <td>...</td>\n",
       "      <td>...</td>\n",
       "      <td>...</td>\n",
       "      <td>...</td>\n",
       "      <td>...</td>\n",
       "      <td>...</td>\n",
       "    </tr>\n",
       "    <tr>\n",
       "      <th>90627</th>\n",
       "      <td>NaN</td>\n",
       "      <td>NaN</td>\n",
       "      <td>NaN</td>\n",
       "      <td>NaN</td>\n",
       "      <td>0.0</td>\n",
       "      <td>0.0</td>\n",
       "      <td>0.0</td>\n",
       "      <td>0.0</td>\n",
       "      <td>1.0</td>\n",
       "    </tr>\n",
       "    <tr>\n",
       "      <th>90993</th>\n",
       "      <td>3.0</td>\n",
       "      <td>NaN</td>\n",
       "      <td>NaN</td>\n",
       "      <td>NaN</td>\n",
       "      <td>0.0</td>\n",
       "      <td>0.0</td>\n",
       "      <td>0.0</td>\n",
       "      <td>0.0</td>\n",
       "      <td>1.0</td>\n",
       "    </tr>\n",
       "    <tr>\n",
       "      <th>92870</th>\n",
       "      <td>1.0</td>\n",
       "      <td>NaN</td>\n",
       "      <td>NaN</td>\n",
       "      <td>NaN</td>\n",
       "      <td>0.0</td>\n",
       "      <td>0.0</td>\n",
       "      <td>0.0</td>\n",
       "      <td>0.0</td>\n",
       "      <td>1.0</td>\n",
       "    </tr>\n",
       "    <tr>\n",
       "      <th>93624</th>\n",
       "      <td>NaN</td>\n",
       "      <td>NaN</td>\n",
       "      <td>NaN</td>\n",
       "      <td>NaN</td>\n",
       "      <td>0.0</td>\n",
       "      <td>0.0</td>\n",
       "      <td>0.0</td>\n",
       "      <td>0.0</td>\n",
       "      <td>1.0</td>\n",
       "    </tr>\n",
       "    <tr>\n",
       "      <th>94604</th>\n",
       "      <td>NaN</td>\n",
       "      <td>NaN</td>\n",
       "      <td>NaN</td>\n",
       "      <td>NaN</td>\n",
       "      <td>0.0</td>\n",
       "      <td>0.0</td>\n",
       "      <td>0.0</td>\n",
       "      <td>0.0</td>\n",
       "      <td>1.0</td>\n",
       "    </tr>\n",
       "  </tbody>\n",
       "</table>\n",
       "<p>132 rows × 9 columns</p>\n",
       "</div>"
      ],
      "text/plain": [
       "       wealth1  adi  dma  msa  target_d  geocode2_B  geocode2_C  geocode2_D  \\\n",
       "577        NaN  NaN  NaN  NaN       0.0         0.0         0.0         0.0   \n",
       "1119       NaN  NaN  NaN  NaN       0.0         0.0         0.0         0.0   \n",
       "2250       3.0  NaN  NaN  NaN       0.0         0.0         0.0         0.0   \n",
       "3326       NaN  NaN  NaN  NaN       0.0         0.0         0.0         0.0   \n",
       "5558       8.0  NaN  NaN  NaN       6.0         0.0         0.0         0.0   \n",
       "...        ...  ...  ...  ...       ...         ...         ...         ...   \n",
       "90627      NaN  NaN  NaN  NaN       0.0         0.0         0.0         0.0   \n",
       "90993      3.0  NaN  NaN  NaN       0.0         0.0         0.0         0.0   \n",
       "92870      1.0  NaN  NaN  NaN       0.0         0.0         0.0         0.0   \n",
       "93624      NaN  NaN  NaN  NaN       0.0         0.0         0.0         0.0   \n",
       "94604      NaN  NaN  NaN  NaN       0.0         0.0         0.0         0.0   \n",
       "\n",
       "       geocode2_nan  \n",
       "577             1.0  \n",
       "1119            1.0  \n",
       "2250            1.0  \n",
       "3326            1.0  \n",
       "5558            1.0  \n",
       "...             ...  \n",
       "90627           1.0  \n",
       "90993           1.0  \n",
       "92870           1.0  \n",
       "93624           1.0  \n",
       "94604           1.0  \n",
       "\n",
       "[132 rows x 9 columns]"
      ]
     },
     "execution_count": 46,
     "metadata": {},
     "output_type": "execute_result"
    }
   ],
   "source": [
    "# Since ADI, DMA, MSA contain 132 NaNs. I suspect they might have the missing values in the same rows\n",
    "\n",
    "# Check NaN \n",
    "df_geo[df_geo[\"dma\"].isna()]"
   ]
  },
  {
   "cell_type": "markdown",
   "metadata": {},
   "source": [
    "- They seems to have the missing values in the same rows\n",
    "\n",
    "- In this case, I think we can drop those rows. \n",
    "\n",
    "- But before dropping them we need to check if those rows contain important data, which is the target_d (specifically the donate group)"
   ]
  },
  {
   "cell_type": "code",
   "execution_count": 47,
   "metadata": {},
   "outputs": [
    {
     "name": "stdout",
     "output_type": "stream",
     "text": [
      "Donate group that contain missing values in ADI, DMA, MSA (ROWS): 6\n"
     ]
    },
    {
     "data": {
      "text/html": [
       "<div>\n",
       "<style scoped>\n",
       "    .dataframe tbody tr th:only-of-type {\n",
       "        vertical-align: middle;\n",
       "    }\n",
       "\n",
       "    .dataframe tbody tr th {\n",
       "        vertical-align: top;\n",
       "    }\n",
       "\n",
       "    .dataframe thead th {\n",
       "        text-align: right;\n",
       "    }\n",
       "</style>\n",
       "<table border=\"1\" class=\"dataframe\">\n",
       "  <thead>\n",
       "    <tr style=\"text-align: right;\">\n",
       "      <th></th>\n",
       "      <th>wealth1</th>\n",
       "      <th>adi</th>\n",
       "      <th>dma</th>\n",
       "      <th>msa</th>\n",
       "      <th>target_d</th>\n",
       "      <th>geocode2_B</th>\n",
       "      <th>geocode2_C</th>\n",
       "      <th>geocode2_D</th>\n",
       "      <th>geocode2_nan</th>\n",
       "    </tr>\n",
       "  </thead>\n",
       "  <tbody>\n",
       "    <tr>\n",
       "      <th>5558</th>\n",
       "      <td>8.0</td>\n",
       "      <td>NaN</td>\n",
       "      <td>NaN</td>\n",
       "      <td>NaN</td>\n",
       "      <td>6.0</td>\n",
       "      <td>0.0</td>\n",
       "      <td>0.0</td>\n",
       "      <td>0.0</td>\n",
       "      <td>1.0</td>\n",
       "    </tr>\n",
       "    <tr>\n",
       "      <th>21206</th>\n",
       "      <td>NaN</td>\n",
       "      <td>NaN</td>\n",
       "      <td>NaN</td>\n",
       "      <td>NaN</td>\n",
       "      <td>15.0</td>\n",
       "      <td>0.0</td>\n",
       "      <td>0.0</td>\n",
       "      <td>0.0</td>\n",
       "      <td>1.0</td>\n",
       "    </tr>\n",
       "    <tr>\n",
       "      <th>26981</th>\n",
       "      <td>NaN</td>\n",
       "      <td>NaN</td>\n",
       "      <td>NaN</td>\n",
       "      <td>NaN</td>\n",
       "      <td>10.0</td>\n",
       "      <td>0.0</td>\n",
       "      <td>0.0</td>\n",
       "      <td>0.0</td>\n",
       "      <td>1.0</td>\n",
       "    </tr>\n",
       "    <tr>\n",
       "      <th>44455</th>\n",
       "      <td>NaN</td>\n",
       "      <td>NaN</td>\n",
       "      <td>NaN</td>\n",
       "      <td>NaN</td>\n",
       "      <td>13.0</td>\n",
       "      <td>0.0</td>\n",
       "      <td>0.0</td>\n",
       "      <td>0.0</td>\n",
       "      <td>1.0</td>\n",
       "    </tr>\n",
       "    <tr>\n",
       "      <th>59698</th>\n",
       "      <td>NaN</td>\n",
       "      <td>NaN</td>\n",
       "      <td>NaN</td>\n",
       "      <td>NaN</td>\n",
       "      <td>10.0</td>\n",
       "      <td>0.0</td>\n",
       "      <td>0.0</td>\n",
       "      <td>0.0</td>\n",
       "      <td>1.0</td>\n",
       "    </tr>\n",
       "    <tr>\n",
       "      <th>83117</th>\n",
       "      <td>NaN</td>\n",
       "      <td>NaN</td>\n",
       "      <td>NaN</td>\n",
       "      <td>NaN</td>\n",
       "      <td>6.0</td>\n",
       "      <td>0.0</td>\n",
       "      <td>0.0</td>\n",
       "      <td>0.0</td>\n",
       "      <td>1.0</td>\n",
       "    </tr>\n",
       "  </tbody>\n",
       "</table>\n",
       "</div>"
      ],
      "text/plain": [
       "       wealth1  adi  dma  msa  target_d  geocode2_B  geocode2_C  geocode2_D  \\\n",
       "5558       8.0  NaN  NaN  NaN       6.0         0.0         0.0         0.0   \n",
       "21206      NaN  NaN  NaN  NaN      15.0         0.0         0.0         0.0   \n",
       "26981      NaN  NaN  NaN  NaN      10.0         0.0         0.0         0.0   \n",
       "44455      NaN  NaN  NaN  NaN      13.0         0.0         0.0         0.0   \n",
       "59698      NaN  NaN  NaN  NaN      10.0         0.0         0.0         0.0   \n",
       "83117      NaN  NaN  NaN  NaN       6.0         0.0         0.0         0.0   \n",
       "\n",
       "       geocode2_nan  \n",
       "5558            1.0  \n",
       "21206           1.0  \n",
       "26981           1.0  \n",
       "44455           1.0  \n",
       "59698           1.0  \n",
       "83117           1.0  "
      ]
     },
     "execution_count": 47,
     "metadata": {},
     "output_type": "execute_result"
    }
   ],
   "source": [
    "# Check NaN & target_d (donate group)\n",
    "print(\"Donate group that contain missing values in ADI, DMA, MSA (ROWS):\", len(df_geo[df_geo[\"dma\"].isna() & df_geo[\"target_d\"]>0]))\n",
    "df_geo[df_geo[\"dma\"].isna() & df_geo[\"target_d\"]>0]"
   ]
  },
  {
   "cell_type": "code",
   "execution_count": 48,
   "metadata": {},
   "outputs": [
    {
     "name": "stdout",
     "output_type": "stream",
     "text": [
      "No-donation group that contain missing values in ADI, DMA, MSA (ROWS): 4837\n"
     ]
    },
    {
     "data": {
      "text/html": [
       "<div>\n",
       "<style scoped>\n",
       "    .dataframe tbody tr th:only-of-type {\n",
       "        vertical-align: middle;\n",
       "    }\n",
       "\n",
       "    .dataframe tbody tr th {\n",
       "        vertical-align: top;\n",
       "    }\n",
       "\n",
       "    .dataframe thead th {\n",
       "        text-align: right;\n",
       "    }\n",
       "</style>\n",
       "<table border=\"1\" class=\"dataframe\">\n",
       "  <thead>\n",
       "    <tr style=\"text-align: right;\">\n",
       "      <th></th>\n",
       "      <th>wealth1</th>\n",
       "      <th>adi</th>\n",
       "      <th>dma</th>\n",
       "      <th>msa</th>\n",
       "      <th>target_d</th>\n",
       "      <th>geocode2_B</th>\n",
       "      <th>geocode2_C</th>\n",
       "      <th>geocode2_D</th>\n",
       "      <th>geocode2_nan</th>\n",
       "    </tr>\n",
       "  </thead>\n",
       "  <tbody>\n",
       "    <tr>\n",
       "      <th>20</th>\n",
       "      <td>8.0</td>\n",
       "      <td>107.0</td>\n",
       "      <td>613.0</td>\n",
       "      <td>5120.0</td>\n",
       "      <td>4.0</td>\n",
       "      <td>0.0</td>\n",
       "      <td>0.0</td>\n",
       "      <td>0.0</td>\n",
       "      <td>0.0</td>\n",
       "    </tr>\n",
       "    <tr>\n",
       "      <th>30</th>\n",
       "      <td>NaN</td>\n",
       "      <td>201.0</td>\n",
       "      <td>618.0</td>\n",
       "      <td>2920.0</td>\n",
       "      <td>7.0</td>\n",
       "      <td>0.0</td>\n",
       "      <td>0.0</td>\n",
       "      <td>0.0</td>\n",
       "      <td>0.0</td>\n",
       "    </tr>\n",
       "    <tr>\n",
       "      <th>45</th>\n",
       "      <td>9.0</td>\n",
       "      <td>173.0</td>\n",
       "      <td>637.0</td>\n",
       "      <td>1360.0</td>\n",
       "      <td>5.0</td>\n",
       "      <td>0.0</td>\n",
       "      <td>1.0</td>\n",
       "      <td>0.0</td>\n",
       "      <td>0.0</td>\n",
       "    </tr>\n",
       "    <tr>\n",
       "      <th>78</th>\n",
       "      <td>NaN</td>\n",
       "      <td>13.0</td>\n",
       "      <td>803.0</td>\n",
       "      <td>5945.0</td>\n",
       "      <td>13.0</td>\n",
       "      <td>0.0</td>\n",
       "      <td>0.0</td>\n",
       "      <td>0.0</td>\n",
       "      <td>0.0</td>\n",
       "    </tr>\n",
       "    <tr>\n",
       "      <th>93</th>\n",
       "      <td>7.0</td>\n",
       "      <td>197.0</td>\n",
       "      <td>524.0</td>\n",
       "      <td>520.0</td>\n",
       "      <td>10.0</td>\n",
       "      <td>0.0</td>\n",
       "      <td>0.0</td>\n",
       "      <td>0.0</td>\n",
       "      <td>0.0</td>\n",
       "    </tr>\n",
       "  </tbody>\n",
       "</table>\n",
       "</div>"
      ],
      "text/plain": [
       "    wealth1    adi    dma     msa  target_d  geocode2_B  geocode2_C  \\\n",
       "20      8.0  107.0  613.0  5120.0       4.0         0.0         0.0   \n",
       "30      NaN  201.0  618.0  2920.0       7.0         0.0         0.0   \n",
       "45      9.0  173.0  637.0  1360.0       5.0         0.0         1.0   \n",
       "78      NaN   13.0  803.0  5945.0      13.0         0.0         0.0   \n",
       "93      7.0  197.0  524.0   520.0      10.0         0.0         0.0   \n",
       "\n",
       "    geocode2_D  geocode2_nan  \n",
       "20         0.0           0.0  \n",
       "30         0.0           0.0  \n",
       "45         0.0           0.0  \n",
       "78         0.0           0.0  \n",
       "93         0.0           0.0  "
      ]
     },
     "execution_count": 48,
     "metadata": {},
     "output_type": "execute_result"
    }
   ],
   "source": [
    "# Check not nulls & target_d (no-donate group)\n",
    "\n",
    "print(\"No-donation group that contain missing values in ADI, DMA, MSA (ROWS):\", len(df_geo[df_geo[\"dma\"].notna() & df_geo[\"target_d\"]>0]))\n",
    "df_geo[df_geo[\"dma\"].notna() & df_geo[\"target_d\"]>0].head()\n"
   ]
  },
  {
   "cell_type": "code",
   "execution_count": 49,
   "metadata": {
    "scrolled": true
   },
   "outputs": [
    {
     "name": "stdout",
     "output_type": "stream",
     "text": [
      "Removing missing values in ADI, DMA, MSA will loss 0.12 % of the donate group (target_d > 0)\n"
     ]
    }
   ],
   "source": [
    "print(\"Removing missing values in ADI, DMA, MSA will loss\", \n",
    "      round(len(df_geo[df_geo[\"dma\"].isna() & df_geo[\"target_d\"]>0])*100/len(\n",
    "      df_geo[df_geo[\"dma\"].notna() & df_geo[\"target_d\"]>0]), 2), \"% of the donate group (target_d > 0)\")"
   ]
  },
  {
   "cell_type": "markdown",
   "metadata": {},
   "source": [
    "- Removing 0.12% of data is acceptable"
   ]
  },
  {
   "cell_type": "code",
   "execution_count": 50,
   "metadata": {},
   "outputs": [
    {
     "name": "stdout",
     "output_type": "stream",
     "text": [
      "Donate group that contain missing values in ADI, DMA, MSA (ROWS): 126\n",
      "No-donation group that contain missing values in ADI, DMA, MSA (ROWS): 90443\n",
      "Removing missing values in ADI, DMA, MSA will loss 0.14 % of the non-donation group (target_d == 0)\n"
     ]
    }
   ],
   "source": [
    "#### Here again checking for the rows that will be removed in the non_donation group (which is less important than above)\n",
    "\n",
    "# Check NaN & target_d (No-donation group)\n",
    "print(\"Donate group that contain missing values in ADI, DMA, MSA (ROWS):\", \n",
    "      len(df_geo[(df_geo[\"dma\"].isna()) & (df_geo[\"target_d\"] == 0)]))\n",
    "\n",
    "\n",
    "# Check not nulls & target_d (no-donate group)\n",
    "print(\"No-donation group that contain missing values in ADI, DMA, MSA (ROWS):\", \n",
    "      len(df_geo[(df_geo[\"dma\"].notna()) & (df_geo[\"target_d\"] == 0)]))\n",
    "\n",
    "\n",
    "print(\"Removing missing values in ADI, DMA, MSA will loss\", \n",
    "      round(len(df_geo[(df_geo[\"dma\"].isna()) & (df_geo[\"target_d\"] == 0)])*100/\n",
    "      len(df_geo[(df_geo[\"dma\"].notna()) & (df_geo[\"target_d\"] == 0)]), 2)\n",
    "      , \"% of the non-donation group (target_d == 0)\")"
   ]
  },
  {
   "cell_type": "markdown",
   "metadata": {},
   "source": [
    "- Since removing NaN will lost < 0.5% of the data. I decide to drop NaN for these 3 columns (ADI, DMA, MSA)"
   ]
  },
  {
   "cell_type": "markdown",
   "metadata": {},
   "source": [
    "### Drop missing values in ADI, DMA, MSA"
   ]
  },
  {
   "cell_type": "code",
   "execution_count": 51,
   "metadata": {},
   "outputs": [
    {
     "data": {
      "text/plain": [
       "95280"
      ]
     },
     "execution_count": 51,
     "metadata": {},
     "output_type": "execute_result"
    }
   ],
   "source": [
    "# drop rows only if these 3 columns contain nulls\n",
    "df_geo = df_geo.dropna(subset = [\"adi\", \"dma\", \"msa\"], how=\"all\")\n",
    "len(df_geo)"
   ]
  },
  {
   "cell_type": "code",
   "execution_count": 52,
   "metadata": {},
   "outputs": [
    {
     "data": {
      "text/plain": [
       "wealth1         44632\n",
       "adi                 0\n",
       "dma                 0\n",
       "msa                 0\n",
       "target_d            0\n",
       "geocode2_B          0\n",
       "geocode2_C          0\n",
       "geocode2_D          0\n",
       "geocode2_nan        0\n",
       "dtype: int64"
      ]
     },
     "execution_count": 52,
     "metadata": {},
     "output_type": "execute_result"
    }
   ],
   "source": [
    "df_geo.isna().sum()"
   ]
  },
  {
   "cell_type": "markdown",
   "metadata": {},
   "source": [
    "- Since now we remove all nulls, we can also try another algorithm to predict missing data in wealth1 !"
   ]
  },
  {
   "cell_type": "markdown",
   "metadata": {},
   "source": [
    "### Preparing data for training & predicting the missing value in WEALTH1"
   ]
  },
  {
   "cell_type": "code",
   "execution_count": 53,
   "metadata": {
    "scrolled": false
   },
   "outputs": [
    {
     "name": "stdout",
     "output_type": "stream",
     "text": [
      "TRAIN SET: \n",
      "    wealth1    adi    dma     msa  target_d  geocode2_B  geocode2_C  \\\n",
      "1      9.0   13.0  803.0  4480.0       0.0         0.0         0.0   \n",
      "2      1.0  281.0  518.0     0.0       0.0         0.0         1.0   \n",
      "3      4.0   67.0  862.0  9340.0       0.0         0.0         1.0   \n",
      "4      2.0  127.0  528.0  5000.0       0.0         0.0         0.0   \n",
      "6      6.0   91.0  509.0     0.0       0.0         0.0         0.0   \n",
      "\n",
      "   geocode2_D  geocode2_nan  \n",
      "1         0.0           0.0  \n",
      "2         0.0           0.0  \n",
      "3         0.0           0.0  \n",
      "4         0.0           0.0  \n",
      "6         1.0           0.0   \n",
      "\n",
      "TEST SET: \n",
      "     wealth1    adi    dma     msa  target_d  geocode2_B  geocode2_C  \\\n",
      "0       NaN  177.0  682.0     0.0       0.0         0.0         1.0   \n",
      "5       NaN  185.0  691.0  2030.0       0.0         0.0         1.0   \n",
      "9       NaN  181.0  659.0  5360.0       0.0         1.0         0.0   \n",
      "13      NaN  249.0  716.0   760.0       0.0         1.0         0.0   \n",
      "17      NaN  227.0  717.0     0.0       0.0         0.0         1.0   \n",
      "\n",
      "    geocode2_D  geocode2_nan  \n",
      "0          0.0           0.0  \n",
      "5          0.0           0.0  \n",
      "9          0.0           0.0  \n",
      "13         0.0           0.0  \n",
      "17         0.0           0.0   \n",
      "\n",
      "TRAIN (N): 50648\n",
      "TEST (N): 44632\n",
      "TOTAL (N): 95280 \n",
      "\n"
     ]
    }
   ],
   "source": [
    "# split data into train (complete data) - test (incomplete data)\n",
    "train = df_geo[df_geo[\"wealth1\"].notna()]\n",
    "test = df_geo[df_geo[\"wealth1\"].isna()]\n",
    "\n",
    "print(\"TRAIN SET:\", \"\\n\", train.head(), \"\\n\")\n",
    "print(\"TEST SET:\", \"\\n\", test.head(), \"\\n\")\n",
    "print(\"TRAIN (N):\", len(train))\n",
    "print(\"TEST (N):\", len(test))\n",
    "print(\"TOTAL (N):\", len(df_geo), \"\\n\")\n",
    "\n",
    "\n",
    "\n",
    "# split the train set into X-y\n",
    "X_train = train.drop([\"wealth1\"], axis=1)\n",
    "y_train = train[\"wealth1\"]\n",
    "\n",
    "X_test = test.drop([\"wealth1\"], axis=1)\n",
    "y_test = test[\"wealth1\"]\n",
    "\n",
    "# print(\"X_train:\", \"\\n\", X_train.head(), \"\\n\")\n",
    "# print(\"y_train:\", \"\\n\", y_train.head(), \"\\n\")\n",
    "# print(\"X_test:\", \"\\n\", X_test.head(), \"\\n\")\n",
    "# print(\"y_test:\", \"\\n\", y_test.head())"
   ]
  },
  {
   "cell_type": "markdown",
   "metadata": {},
   "source": [
    "### Random Forest Classifier"
   ]
  },
  {
   "cell_type": "code",
   "execution_count": 54,
   "metadata": {},
   "outputs": [
    {
     "data": {
      "text/html": [
       "<div>\n",
       "<style scoped>\n",
       "    .dataframe tbody tr th:only-of-type {\n",
       "        vertical-align: middle;\n",
       "    }\n",
       "\n",
       "    .dataframe tbody tr th {\n",
       "        vertical-align: top;\n",
       "    }\n",
       "\n",
       "    .dataframe thead th {\n",
       "        text-align: right;\n",
       "    }\n",
       "</style>\n",
       "<table border=\"1\" class=\"dataframe\">\n",
       "  <thead>\n",
       "    <tr style=\"text-align: right;\">\n",
       "      <th></th>\n",
       "      <th>wealth1</th>\n",
       "      <th>adi</th>\n",
       "      <th>dma</th>\n",
       "      <th>msa</th>\n",
       "      <th>target_d</th>\n",
       "      <th>geocode2_B</th>\n",
       "      <th>geocode2_C</th>\n",
       "      <th>geocode2_D</th>\n",
       "      <th>geocode2_nan</th>\n",
       "    </tr>\n",
       "  </thead>\n",
       "  <tbody>\n",
       "    <tr>\n",
       "      <th>0</th>\n",
       "      <td>NaN</td>\n",
       "      <td>177.0</td>\n",
       "      <td>682.0</td>\n",
       "      <td>0.0</td>\n",
       "      <td>0.0</td>\n",
       "      <td>0.0</td>\n",
       "      <td>1.0</td>\n",
       "      <td>0.0</td>\n",
       "      <td>0.0</td>\n",
       "    </tr>\n",
       "    <tr>\n",
       "      <th>1</th>\n",
       "      <td>9.0</td>\n",
       "      <td>13.0</td>\n",
       "      <td>803.0</td>\n",
       "      <td>4480.0</td>\n",
       "      <td>0.0</td>\n",
       "      <td>0.0</td>\n",
       "      <td>0.0</td>\n",
       "      <td>0.0</td>\n",
       "      <td>0.0</td>\n",
       "    </tr>\n",
       "    <tr>\n",
       "      <th>2</th>\n",
       "      <td>1.0</td>\n",
       "      <td>281.0</td>\n",
       "      <td>518.0</td>\n",
       "      <td>0.0</td>\n",
       "      <td>0.0</td>\n",
       "      <td>0.0</td>\n",
       "      <td>1.0</td>\n",
       "      <td>0.0</td>\n",
       "      <td>0.0</td>\n",
       "    </tr>\n",
       "    <tr>\n",
       "      <th>3</th>\n",
       "      <td>4.0</td>\n",
       "      <td>67.0</td>\n",
       "      <td>862.0</td>\n",
       "      <td>9340.0</td>\n",
       "      <td>0.0</td>\n",
       "      <td>0.0</td>\n",
       "      <td>1.0</td>\n",
       "      <td>0.0</td>\n",
       "      <td>0.0</td>\n",
       "    </tr>\n",
       "    <tr>\n",
       "      <th>4</th>\n",
       "      <td>2.0</td>\n",
       "      <td>127.0</td>\n",
       "      <td>528.0</td>\n",
       "      <td>5000.0</td>\n",
       "      <td>0.0</td>\n",
       "      <td>0.0</td>\n",
       "      <td>0.0</td>\n",
       "      <td>0.0</td>\n",
       "      <td>0.0</td>\n",
       "    </tr>\n",
       "    <tr>\n",
       "      <th>5</th>\n",
       "      <td>NaN</td>\n",
       "      <td>185.0</td>\n",
       "      <td>691.0</td>\n",
       "      <td>2030.0</td>\n",
       "      <td>0.0</td>\n",
       "      <td>0.0</td>\n",
       "      <td>1.0</td>\n",
       "      <td>0.0</td>\n",
       "      <td>0.0</td>\n",
       "    </tr>\n",
       "    <tr>\n",
       "      <th>6</th>\n",
       "      <td>6.0</td>\n",
       "      <td>91.0</td>\n",
       "      <td>509.0</td>\n",
       "      <td>0.0</td>\n",
       "      <td>0.0</td>\n",
       "      <td>0.0</td>\n",
       "      <td>0.0</td>\n",
       "      <td>1.0</td>\n",
       "      <td>0.0</td>\n",
       "    </tr>\n",
       "    <tr>\n",
       "      <th>7</th>\n",
       "      <td>9.0</td>\n",
       "      <td>251.0</td>\n",
       "      <td>643.0</td>\n",
       "      <td>3960.0</td>\n",
       "      <td>0.0</td>\n",
       "      <td>0.0</td>\n",
       "      <td>1.0</td>\n",
       "      <td>0.0</td>\n",
       "      <td>0.0</td>\n",
       "    </tr>\n",
       "    <tr>\n",
       "      <th>8</th>\n",
       "      <td>2.0</td>\n",
       "      <td>391.0</td>\n",
       "      <td>624.0</td>\n",
       "      <td>0.0</td>\n",
       "      <td>0.0</td>\n",
       "      <td>0.0</td>\n",
       "      <td>0.0</td>\n",
       "      <td>1.0</td>\n",
       "      <td>0.0</td>\n",
       "    </tr>\n",
       "    <tr>\n",
       "      <th>9</th>\n",
       "      <td>NaN</td>\n",
       "      <td>181.0</td>\n",
       "      <td>659.0</td>\n",
       "      <td>5360.0</td>\n",
       "      <td>0.0</td>\n",
       "      <td>1.0</td>\n",
       "      <td>0.0</td>\n",
       "      <td>0.0</td>\n",
       "      <td>0.0</td>\n",
       "    </tr>\n",
       "  </tbody>\n",
       "</table>\n",
       "</div>"
      ],
      "text/plain": [
       "   wealth1    adi    dma     msa  target_d  geocode2_B  geocode2_C  \\\n",
       "0      NaN  177.0  682.0     0.0       0.0         0.0         1.0   \n",
       "1      9.0   13.0  803.0  4480.0       0.0         0.0         0.0   \n",
       "2      1.0  281.0  518.0     0.0       0.0         0.0         1.0   \n",
       "3      4.0   67.0  862.0  9340.0       0.0         0.0         1.0   \n",
       "4      2.0  127.0  528.0  5000.0       0.0         0.0         0.0   \n",
       "5      NaN  185.0  691.0  2030.0       0.0         0.0         1.0   \n",
       "6      6.0   91.0  509.0     0.0       0.0         0.0         0.0   \n",
       "7      9.0  251.0  643.0  3960.0       0.0         0.0         1.0   \n",
       "8      2.0  391.0  624.0     0.0       0.0         0.0         0.0   \n",
       "9      NaN  181.0  659.0  5360.0       0.0         1.0         0.0   \n",
       "\n",
       "   geocode2_D  geocode2_nan  \n",
       "0         0.0           0.0  \n",
       "1         0.0           0.0  \n",
       "2         0.0           0.0  \n",
       "3         0.0           0.0  \n",
       "4         0.0           0.0  \n",
       "5         0.0           0.0  \n",
       "6         1.0           0.0  \n",
       "7         0.0           0.0  \n",
       "8         1.0           0.0  \n",
       "9         0.0           0.0  "
      ]
     },
     "execution_count": 54,
     "metadata": {},
     "output_type": "execute_result"
    }
   ],
   "source": [
    "df_rfc = df_geo.copy()\n",
    "df_rfc.head(10)"
   ]
  },
  {
   "cell_type": "code",
   "execution_count": 55,
   "metadata": {},
   "outputs": [],
   "source": [
    "rfc = RandomForestClassifier()\n",
    "rfc.fit(X_train, y_train)\n",
    "rfc_pred = rfc.predict(X_test)\n",
    "\n",
    "# replace missing data with the result\n",
    "df_rfc.loc[df_rfc[\"wealth1\"].isna(), \"wealth1\"] = rfc_pred"
   ]
  },
  {
   "cell_type": "code",
   "execution_count": 56,
   "metadata": {},
   "outputs": [
    {
     "name": "stdout",
     "output_type": "stream",
     "text": [
      "9.0    26.28\n",
      "8.0    12.02\n",
      "7.0     9.65\n",
      "6.0     9.57\n",
      "5.0     8.99\n",
      "4.0     8.26\n",
      "2.0     7.84\n",
      "3.0     7.44\n",
      "1.0     6.67\n",
      "0.0     3.26\n",
      "Name: wealth1, dtype: float64\n"
     ]
    },
    {
     "data": {
      "text/plain": [
       "Text(0, 0.5, 'Count')"
      ]
     },
     "execution_count": 56,
     "metadata": {},
     "output_type": "execute_result"
    },
    {
     "data": {
      "image/png": "[encoded data removed]",
      "text/plain": [
       "<Figure size 640x480 with 1 Axes>"
      ]
     },
     "metadata": {},
     "output_type": "display_data"
    }
   ],
   "source": [
    "# Calculate each value in this column after filling missing data\n",
    "wealth_val_perc = round(df_rfc[\"wealth1\"].value_counts()*100/len(df_rfc[\"wealth1\"]), 2)\n",
    "print(wealth_val_perc)\n",
    "\n",
    "# Visualize after filling with predicted value, the trend should be the same\n",
    "sns.countplot(df_rfc[\"wealth1\"])\n",
    "plt.xlabel(\"Wealth Rating\")\n",
    "plt.ylabel(\"Count\")\n",
    "\n",
    "# visualize missing data\n",
    "# msno.matrix(df_rfc)"
   ]
  },
  {
   "cell_type": "code",
   "execution_count": 57,
   "metadata": {},
   "outputs": [
    {
     "data": {
      "text/html": [
       "<div>\n",
       "<style scoped>\n",
       "    .dataframe tbody tr th:only-of-type {\n",
       "        vertical-align: middle;\n",
       "    }\n",
       "\n",
       "    .dataframe tbody tr th {\n",
       "        vertical-align: top;\n",
       "    }\n",
       "\n",
       "    .dataframe thead th {\n",
       "        text-align: right;\n",
       "    }\n",
       "</style>\n",
       "<table border=\"1\" class=\"dataframe\">\n",
       "  <thead>\n",
       "    <tr style=\"text-align: right;\">\n",
       "      <th></th>\n",
       "      <th>wealth1</th>\n",
       "      <th>adi</th>\n",
       "      <th>dma</th>\n",
       "      <th>msa</th>\n",
       "      <th>target_d</th>\n",
       "      <th>geocode2_B</th>\n",
       "      <th>geocode2_C</th>\n",
       "      <th>geocode2_D</th>\n",
       "      <th>geocode2_nan</th>\n",
       "    </tr>\n",
       "  </thead>\n",
       "  <tbody>\n",
       "    <tr>\n",
       "      <th>0</th>\n",
       "      <td>3.0</td>\n",
       "      <td>177.0</td>\n",
       "      <td>682.0</td>\n",
       "      <td>0.0</td>\n",
       "      <td>0.0</td>\n",
       "      <td>0.0</td>\n",
       "      <td>1.0</td>\n",
       "      <td>0.0</td>\n",
       "      <td>0.0</td>\n",
       "    </tr>\n",
       "    <tr>\n",
       "      <th>1</th>\n",
       "      <td>9.0</td>\n",
       "      <td>13.0</td>\n",
       "      <td>803.0</td>\n",
       "      <td>4480.0</td>\n",
       "      <td>0.0</td>\n",
       "      <td>0.0</td>\n",
       "      <td>0.0</td>\n",
       "      <td>0.0</td>\n",
       "      <td>0.0</td>\n",
       "    </tr>\n",
       "    <tr>\n",
       "      <th>2</th>\n",
       "      <td>1.0</td>\n",
       "      <td>281.0</td>\n",
       "      <td>518.0</td>\n",
       "      <td>0.0</td>\n",
       "      <td>0.0</td>\n",
       "      <td>0.0</td>\n",
       "      <td>1.0</td>\n",
       "      <td>0.0</td>\n",
       "      <td>0.0</td>\n",
       "    </tr>\n",
       "    <tr>\n",
       "      <th>3</th>\n",
       "      <td>4.0</td>\n",
       "      <td>67.0</td>\n",
       "      <td>862.0</td>\n",
       "      <td>9340.0</td>\n",
       "      <td>0.0</td>\n",
       "      <td>0.0</td>\n",
       "      <td>1.0</td>\n",
       "      <td>0.0</td>\n",
       "      <td>0.0</td>\n",
       "    </tr>\n",
       "    <tr>\n",
       "      <th>4</th>\n",
       "      <td>2.0</td>\n",
       "      <td>127.0</td>\n",
       "      <td>528.0</td>\n",
       "      <td>5000.0</td>\n",
       "      <td>0.0</td>\n",
       "      <td>0.0</td>\n",
       "      <td>0.0</td>\n",
       "      <td>0.0</td>\n",
       "      <td>0.0</td>\n",
       "    </tr>\n",
       "    <tr>\n",
       "      <th>5</th>\n",
       "      <td>5.0</td>\n",
       "      <td>185.0</td>\n",
       "      <td>691.0</td>\n",
       "      <td>2030.0</td>\n",
       "      <td>0.0</td>\n",
       "      <td>0.0</td>\n",
       "      <td>1.0</td>\n",
       "      <td>0.0</td>\n",
       "      <td>0.0</td>\n",
       "    </tr>\n",
       "    <tr>\n",
       "      <th>6</th>\n",
       "      <td>6.0</td>\n",
       "      <td>91.0</td>\n",
       "      <td>509.0</td>\n",
       "      <td>0.0</td>\n",
       "      <td>0.0</td>\n",
       "      <td>0.0</td>\n",
       "      <td>0.0</td>\n",
       "      <td>1.0</td>\n",
       "      <td>0.0</td>\n",
       "    </tr>\n",
       "    <tr>\n",
       "      <th>7</th>\n",
       "      <td>9.0</td>\n",
       "      <td>251.0</td>\n",
       "      <td>643.0</td>\n",
       "      <td>3960.0</td>\n",
       "      <td>0.0</td>\n",
       "      <td>0.0</td>\n",
       "      <td>1.0</td>\n",
       "      <td>0.0</td>\n",
       "      <td>0.0</td>\n",
       "    </tr>\n",
       "    <tr>\n",
       "      <th>8</th>\n",
       "      <td>2.0</td>\n",
       "      <td>391.0</td>\n",
       "      <td>624.0</td>\n",
       "      <td>0.0</td>\n",
       "      <td>0.0</td>\n",
       "      <td>0.0</td>\n",
       "      <td>0.0</td>\n",
       "      <td>1.0</td>\n",
       "      <td>0.0</td>\n",
       "    </tr>\n",
       "    <tr>\n",
       "      <th>9</th>\n",
       "      <td>8.0</td>\n",
       "      <td>181.0</td>\n",
       "      <td>659.0</td>\n",
       "      <td>5360.0</td>\n",
       "      <td>0.0</td>\n",
       "      <td>1.0</td>\n",
       "      <td>0.0</td>\n",
       "      <td>0.0</td>\n",
       "      <td>0.0</td>\n",
       "    </tr>\n",
       "  </tbody>\n",
       "</table>\n",
       "</div>"
      ],
      "text/plain": [
       "   wealth1    adi    dma     msa  target_d  geocode2_B  geocode2_C  \\\n",
       "0      3.0  177.0  682.0     0.0       0.0         0.0         1.0   \n",
       "1      9.0   13.0  803.0  4480.0       0.0         0.0         0.0   \n",
       "2      1.0  281.0  518.0     0.0       0.0         0.0         1.0   \n",
       "3      4.0   67.0  862.0  9340.0       0.0         0.0         1.0   \n",
       "4      2.0  127.0  528.0  5000.0       0.0         0.0         0.0   \n",
       "5      5.0  185.0  691.0  2030.0       0.0         0.0         1.0   \n",
       "6      6.0   91.0  509.0     0.0       0.0         0.0         0.0   \n",
       "7      9.0  251.0  643.0  3960.0       0.0         0.0         1.0   \n",
       "8      2.0  391.0  624.0     0.0       0.0         0.0         0.0   \n",
       "9      8.0  181.0  659.0  5360.0       0.0         1.0         0.0   \n",
       "\n",
       "   geocode2_D  geocode2_nan  \n",
       "0         0.0           0.0  \n",
       "1         0.0           0.0  \n",
       "2         0.0           0.0  \n",
       "3         0.0           0.0  \n",
       "4         0.0           0.0  \n",
       "5         0.0           0.0  \n",
       "6         1.0           0.0  \n",
       "7         0.0           0.0  \n",
       "8         1.0           0.0  \n",
       "9         0.0           0.0  "
      ]
     },
     "execution_count": 57,
     "metadata": {},
     "output_type": "execute_result"
    }
   ],
   "source": [
    "df_rfc.head(10)"
   ]
  },
  {
   "cell_type": "markdown",
   "metadata": {},
   "source": [
    "### Observe\n",
    "\n",
    "- After filling nulls with predicted values using 3 methods: Hist Gradient Booster, XGBoost, Random Forest\n",
    "The result showed slightly different between Hist Gradient Booster and XGBoost. But Random Forest predicted a quite different value from the two methods. \n",
    "\n",
    "- About time consuming while training the model, I see a huge different among them. While Hist Gradient Booster and Random Forest take a few minutes, XGBoost takes longer.\n",
    "\n",
    "- If we have nulls in the dataset, Random Forest can't handle that unlike Hist Gradient Booster, XGBoost.\n",
    "\n",
    "\n",
    "Note:\n",
    "- SVM took so much time to train the model. It takes forever ... so I didn't use it. "
   ]
  },
  {
   "cell_type": "markdown",
   "metadata": {},
   "source": [
    "### Further read\n",
    "\n",
    "- [Support Vector Machines with Scikit-learn Tutorial](https://www.datacamp.com/tutorial/svm-classification-scikit-learn-python)\n",
    "- [Machine Learning Algorithms: A comparison of different algorithms and when to use them](https://medium.com/@taniyaghosh29/machine-learning-algorithms-what-are-the-differences-9b71df4f248f)\n",
    "- [XGBoost versus Random Forest (easy explain with graphic)](https://www.qwak.com/post/xgboost-versus-random-forest)\n",
    "- [How to SVM vs XGBoost vs Random Forest](https://www.kaggle.com/code/thejomayabr/svm-vs-xgboost-vs-random-forest)"
   ]
  },
  {
   "cell_type": "code",
   "execution_count": null,
   "metadata": {},
   "outputs": [],
   "source": []
  }
 ],
 "metadata": {
  "kernelspec": {
   "display_name": "Python 3 (ipykernel)",
   "language": "python",
   "name": "python3"
  },
  "language_info": {
   "codemirror_mode": {
    "name": "ipython",
    "version": 3
   },
   "file_extension": ".py",
   "mimetype": "text/x-python",
   "name": "python",
   "nbconvert_exporter": "python",
   "pygments_lexer": "ipython3",
   "version": "3.9.13"
  }
 },
 "nbformat": 4,
 "nbformat_minor": 2
}
