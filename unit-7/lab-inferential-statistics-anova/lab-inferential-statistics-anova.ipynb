{
 "cells": [
  {
   "cell_type": "markdown",
   "id": "3e286402",
   "metadata": {},
   "source": [
    "<div class=\"alert alert-info\">\n",
    "    <font color = black>\n",
    "    <h1> Lab | Inferential statistics - ANOVA</h1>\n",
    "    </font>\n",
    "\n",
    "</div>\n",
    "\n",
    "Note: The following lab is divided in 2 sections which represent activities 3 and 4.\n",
    "\n",
    "\n",
    "### Context\n",
    "Suppose you are working as an analyst in a microprocessor chip manufacturing plant. You have been given the task of analyzing a plasma etching process with respect to changing Power (in Watts) of the plasma beam. Data was collected and provided to you to conduct statistical analysis and **check if changing the power of the plasma beam has any effect on the etching rate** by the machine. **You will conduct ANOVA and check if there is any difference in the mean etching rate for different levels of power.** You can find the data anova_lab_data.xlsx file in the files_for_lab folder\n",
    "\n",
    "\n"
   ]
  },
  {
   "cell_type": "markdown",
   "id": "3272cc00",
   "metadata": {},
   "source": [
    "## Part 1\n",
    "\n",
    "\n",
    "In this activity, we will look at another example. \n",
    "\n",
    "Your task is to understand the problem and write down all the steps to set up ANOVA. After the next lesson, we will ask you to solve this problem using Python. Here are the steps that you would need to work on: \n",
    "\n",
    "\n",
    "- State the null hypothesis\n",
    "\n",
    "- State the alternate hypothesis\n",
    "\n",
    "- What is the significance level\n",
    "\n",
    "- What are the degrees of freedom of model, error terms, and total DoF\n",
    "\n",
    "\n",
    "---\n",
    "\n",
    "\n",
    "<div class=\"alert alert-success\">\n",
    "    <font color = black>\n",
    "\n",
    "#### Null Hypothesis \n",
    "   H<sub>0</sub>: There is no difference in the mean etching rate for different levels of power (μ1 = μ2 = μ3).\n",
    "\n",
    "#### Alternative Hypothesis\n",
    "\n",
    "   H<sub>a</sub>: The mean of at least one etching rate is different among the \"power\" groups.\n",
    "\n",
    "#### Level of significance \n",
    "\n",
    "   Alpha (α) = 0.05\n",
    "\n",
    "#### Degree of freedom\n",
    "\n",
    "   - Degree of freedom<sub>1</sub> = 2\n",
    "   - Degree of freedom<sub>2</sub> (Error terms) = 12\n",
    "   - Total degree of freedom = 14\n",
    "\n",
    "</font>\n",
    "</div>\n",
    "\n",
    "\n",
    "---"
   ]
  },
  {
   "cell_type": "markdown",
   "id": "ec2325e6",
   "metadata": {},
   "source": [
    "## Part 2\n",
    "In this section, use Python to conduct ANOVA.\n",
    "What conclusions can you draw from the experiment and why?\n"
   ]
  },
  {
   "cell_type": "code",
   "execution_count": 1,
   "id": "c2ee87b2",
   "metadata": {},
   "outputs": [],
   "source": [
    "import pandas as pd\n",
    "import numpy as np\n",
    "import matplotlib.pyplot as plt\n",
    "\n",
    "import statsmodels.api as sm\n",
    "from statsmodels.formula.api import ols\n",
    "from scipy.stats import ttest_ind\n",
    "\n",
    "import warnings\n",
    "warnings.filterwarnings('ignore')"
   ]
  },
  {
   "cell_type": "code",
   "execution_count": 2,
   "id": "de99a3d5",
   "metadata": {
    "scrolled": false
   },
   "outputs": [
    {
     "data": {
      "text/html": [
       "<div>\n",
       "<style scoped>\n",
       "    .dataframe tbody tr th:only-of-type {\n",
       "        vertical-align: middle;\n",
       "    }\n",
       "\n",
       "    .dataframe tbody tr th {\n",
       "        vertical-align: top;\n",
       "    }\n",
       "\n",
       "    .dataframe thead th {\n",
       "        text-align: right;\n",
       "    }\n",
       "</style>\n",
       "<table border=\"1\" class=\"dataframe\">\n",
       "  <thead>\n",
       "    <tr style=\"text-align: right;\">\n",
       "      <th></th>\n",
       "      <th>power</th>\n",
       "      <th>etching_rate</th>\n",
       "    </tr>\n",
       "  </thead>\n",
       "  <tbody>\n",
       "    <tr>\n",
       "      <th>0</th>\n",
       "      <td>160 W</td>\n",
       "      <td>5.43</td>\n",
       "    </tr>\n",
       "    <tr>\n",
       "      <th>1</th>\n",
       "      <td>180 W</td>\n",
       "      <td>6.24</td>\n",
       "    </tr>\n",
       "    <tr>\n",
       "      <th>2</th>\n",
       "      <td>200 W</td>\n",
       "      <td>8.79</td>\n",
       "    </tr>\n",
       "    <tr>\n",
       "      <th>3</th>\n",
       "      <td>160 W</td>\n",
       "      <td>5.71</td>\n",
       "    </tr>\n",
       "    <tr>\n",
       "      <th>4</th>\n",
       "      <td>180 W</td>\n",
       "      <td>6.71</td>\n",
       "    </tr>\n",
       "  </tbody>\n",
       "</table>\n",
       "</div>"
      ],
      "text/plain": [
       "   power  etching_rate\n",
       "0  160 W          5.43\n",
       "1  180 W          6.24\n",
       "2  200 W          8.79\n",
       "3  160 W          5.71\n",
       "4  180 W          6.71"
      ]
     },
     "execution_count": 2,
     "metadata": {},
     "output_type": "execute_result"
    }
   ],
   "source": [
    "df = pd.read_excel('anova_lab_data.xlsx', sheet_name='data_collected')\n",
    "df.columns = df.columns.str.strip().str.replace(' ', '_').str.lower()\n",
    "df.head()"
   ]
  },
  {
   "cell_type": "code",
   "execution_count": 3,
   "id": "65f3c675",
   "metadata": {
    "scrolled": true
   },
   "outputs": [
    {
     "data": {
      "text/html": [
       "<div>\n",
       "<style scoped>\n",
       "    .dataframe tbody tr th:only-of-type {\n",
       "        vertical-align: middle;\n",
       "    }\n",
       "\n",
       "    .dataframe tbody tr th {\n",
       "        vertical-align: top;\n",
       "    }\n",
       "\n",
       "    .dataframe thead th {\n",
       "        text-align: right;\n",
       "    }\n",
       "</style>\n",
       "<table border=\"1\" class=\"dataframe\">\n",
       "  <thead>\n",
       "    <tr style=\"text-align: right;\">\n",
       "      <th></th>\n",
       "      <th>mean_etching_rate</th>\n",
       "    </tr>\n",
       "    <tr>\n",
       "      <th>power</th>\n",
       "      <th></th>\n",
       "    </tr>\n",
       "  </thead>\n",
       "  <tbody>\n",
       "    <tr>\n",
       "      <th>160 W</th>\n",
       "      <td>5.792</td>\n",
       "    </tr>\n",
       "    <tr>\n",
       "      <th>180 W</th>\n",
       "      <td>6.238</td>\n",
       "    </tr>\n",
       "    <tr>\n",
       "      <th>200 W</th>\n",
       "      <td>8.318</td>\n",
       "    </tr>\n",
       "  </tbody>\n",
       "</table>\n",
       "</div>"
      ],
      "text/plain": [
       "       mean_etching_rate\n",
       "power                   \n",
       "160 W              5.792\n",
       "180 W              6.238\n",
       "200 W              8.318"
      ]
     },
     "execution_count": 3,
     "metadata": {},
     "output_type": "execute_result"
    }
   ],
   "source": [
    "# Check mean of of etching_rate for each power groups\n",
    "mean_std = df.groupby(\"power\").agg(np.mean)\n",
    "mean_std = mean_std.rename(columns={'etching_rate': 'mean_etching_rate'})\n",
    "mean_std"
   ]
  },
  {
   "cell_type": "code",
   "execution_count": 4,
   "id": "4c29e021",
   "metadata": {
    "scrolled": true
   },
   "outputs": [
    {
     "data": {
      "text/html": [
       "<div>\n",
       "<style scoped>\n",
       "    .dataframe tbody tr th:only-of-type {\n",
       "        vertical-align: middle;\n",
       "    }\n",
       "\n",
       "    .dataframe tbody tr th {\n",
       "        vertical-align: top;\n",
       "    }\n",
       "\n",
       "    .dataframe thead th {\n",
       "        text-align: right;\n",
       "    }\n",
       "</style>\n",
       "<table border=\"1\" class=\"dataframe\">\n",
       "  <thead>\n",
       "    <tr style=\"text-align: right;\">\n",
       "      <th></th>\n",
       "      <th>mean_etching_rate</th>\n",
       "      <th>std_etching_rate</th>\n",
       "    </tr>\n",
       "    <tr>\n",
       "      <th>power</th>\n",
       "      <th></th>\n",
       "      <th></th>\n",
       "    </tr>\n",
       "  </thead>\n",
       "  <tbody>\n",
       "    <tr>\n",
       "      <th>160 W</th>\n",
       "      <td>5.792</td>\n",
       "      <td>0.319875</td>\n",
       "    </tr>\n",
       "    <tr>\n",
       "      <th>180 W</th>\n",
       "      <td>6.238</td>\n",
       "      <td>0.434304</td>\n",
       "    </tr>\n",
       "    <tr>\n",
       "      <th>200 W</th>\n",
       "      <td>8.318</td>\n",
       "      <td>0.669604</td>\n",
       "    </tr>\n",
       "  </tbody>\n",
       "</table>\n",
       "</div>"
      ],
      "text/plain": [
       "       mean_etching_rate  std_etching_rate\n",
       "power                                     \n",
       "160 W              5.792          0.319875\n",
       "180 W              6.238          0.434304\n",
       "200 W              8.318          0.669604"
      ]
     },
     "execution_count": 4,
     "metadata": {},
     "output_type": "execute_result"
    }
   ],
   "source": [
    "# Check standard deviation of etching_rate for each power groups & add into the same dataframe\n",
    "mean_std[\"std_etching_rate\"] = df.groupby(\"power\").agg(np.std)\n",
    "mean_std"
   ]
  },
  {
   "cell_type": "code",
   "execution_count": 5,
   "id": "cf8bb011",
   "metadata": {
    "scrolled": false
   },
   "outputs": [
    {
     "data": {
      "text/plain": [
       "Text(0, 0.5, 'Average Etching Rate')"
      ]
     },
     "execution_count": 5,
     "metadata": {},
     "output_type": "execute_result"
    },
    {
     "data": {
      "image/png": "[encoded data removed]",
      "text/plain": [
       "<Figure size 640x480 with 1 Axes>"
      ]
     },
     "metadata": {},
     "output_type": "display_data"
    }
   ],
   "source": [
    "# Visulaize bar plot with error bar for a quick check of differences among 3 groups\n",
    "\n",
    "mean_std.plot.bar(y = \"mean_etching_rate\", yerr = \"std_etching_rate\", legend = False)\n",
    "plt.xticks(rotation = 0)\n",
    "plt.xlabel(\"Power\")\n",
    "plt.ylabel(\"Average Etching Rate\")"
   ]
  },
  {
   "cell_type": "markdown",
   "id": "91a9cd3e",
   "metadata": {},
   "source": [
    "### Observation\n",
    "- From this simple plot, we observe the power of 200 W is significantly higher (denoted by the error bar) in the etching rate compared to both the 160 W and 180 W groups.\n",
    "\n",
    "- On the other hand, the standard deviation (error) bars between 160 W and 180 W overlapped. Therefore, there's no difference between these two groups. \n",
    "\n",
    "\n",
    "### Next step: \n",
    "1. Prove this observation using ANOVA (F-test) to find a difference among the three groups.\n",
    "2. After that we can test each pair from this observation if it's true\n",
    "    \n",
    "    2.1 T-test between 200W and 160W\n",
    "    \n",
    "    2.2 T-test between 200W and 180W"
   ]
  },
  {
   "cell_type": "markdown",
   "id": "85e6f91e",
   "metadata": {},
   "source": [
    "## 1. ANOVA test\n",
    "\n",
    "### Determine if any level of power has an effect on the etching rate "
   ]
  },
  {
   "cell_type": "code",
   "execution_count": 6,
   "id": "bf6d1012",
   "metadata": {},
   "outputs": [
    {
     "data": {
      "text/html": [
       "<div>\n",
       "<style scoped>\n",
       "    .dataframe tbody tr th:only-of-type {\n",
       "        vertical-align: middle;\n",
       "    }\n",
       "\n",
       "    .dataframe tbody tr th {\n",
       "        vertical-align: top;\n",
       "    }\n",
       "\n",
       "    .dataframe thead th {\n",
       "        text-align: right;\n",
       "    }\n",
       "</style>\n",
       "<table border=\"1\" class=\"dataframe\">\n",
       "  <thead>\n",
       "    <tr style=\"text-align: right;\">\n",
       "      <th></th>\n",
       "      <th>df</th>\n",
       "      <th>sum_sq</th>\n",
       "      <th>mean_sq</th>\n",
       "      <th>F</th>\n",
       "      <th>PR(&gt;F)</th>\n",
       "    </tr>\n",
       "  </thead>\n",
       "  <tbody>\n",
       "    <tr>\n",
       "      <th>C(power)</th>\n",
       "      <td>2.0</td>\n",
       "      <td>18.176653</td>\n",
       "      <td>9.088327</td>\n",
       "      <td>36.878955</td>\n",
       "      <td>0.000008</td>\n",
       "    </tr>\n",
       "    <tr>\n",
       "      <th>Residual</th>\n",
       "      <td>12.0</td>\n",
       "      <td>2.957240</td>\n",
       "      <td>0.246437</td>\n",
       "      <td>NaN</td>\n",
       "      <td>NaN</td>\n",
       "    </tr>\n",
       "  </tbody>\n",
       "</table>\n",
       "</div>"
      ],
      "text/plain": [
       "            df     sum_sq   mean_sq          F    PR(>F)\n",
       "C(power)   2.0  18.176653  9.088327  36.878955  0.000008\n",
       "Residual  12.0   2.957240  0.246437        NaN       NaN"
      ]
     },
     "execution_count": 6,
     "metadata": {},
     "output_type": "execute_result"
    }
   ],
   "source": [
    "model = ols('etching_rate ~ C(power)', data=df).fit()\n",
    "sm.stats.anova_lm(model)"
   ]
  },
  {
   "cell_type": "markdown",
   "id": "4cae81c2",
   "metadata": {},
   "source": [
    "- From the ANOVA test, the **p-value is < 0.05**. Therefore, **the null hypothesis is rejected** indicating a difference among the groups.\n",
    "- This means **there is at least one group of the power levels that has an effect on the etching rate**.\n",
    "- Next, we will find out which group of power does that.\n"
   ]
  },
  {
   "cell_type": "markdown",
   "id": "42c4c067",
   "metadata": {},
   "source": [
    "# 2. T-test\n",
    "### Determine which level of power has an effect on the etching rate\n",
    "\n",
    "From the plot above, we already get an idea on which group has an effect on the etching rate.\n",
    "Therefore, we will prove that by performing \n",
    "\n",
    "    2.1 T-test between 200W and 160W\n",
    "    2.2 T-test between 200W and 180W\n",
    "\n"
   ]
  },
  {
   "cell_type": "markdown",
   "id": "abce3a26",
   "metadata": {},
   "source": [
    "### Pair T-test (ttest_ind)"
   ]
  },
  {
   "cell_type": "code",
   "execution_count": 7,
   "id": "29b7bac7",
   "metadata": {},
   "outputs": [
    {
     "name": "stdout",
     "output_type": "stream",
     "text": [
      "160 W Ttest_indResult(statistic=7.611403634613074, pvalue=6.237977344615716e-05)\n",
      "180 W Ttest_indResult(statistic=5.827496614588661, pvalue=0.0003926796476049085)\n",
      "200 W Ttest_indResult(statistic=0.0, pvalue=1.0)\n"
     ]
    }
   ],
   "source": [
    "power_a = df[df[\"power\"] == \"200 W\"][\"etching_rate\"]\n",
    "\n",
    "for power in df[\"power\"].unique():\n",
    "    power_b = df[df[\"power\"] == power][\"etching_rate\"]\n",
    "    print(power, ttest_ind(power_a, power_b))"
   ]
  },
  {
   "cell_type": "markdown",
   "id": "340265e0",
   "metadata": {},
   "source": [
    "### Conclusion\n",
    "- The p-value of:\n",
    "    - 200 W against 160 W is < 0.05 (6.2379e-05) \n",
    "    - 200 W against 180 W is < 0.05 (0.0003)\n",
    "\n",
    "- Therefore, the null hypothesis is rejected in both cases, indicating that 200 W power has a significantly different effect on the etching rate compared to the 160 W and 180 W.\n",
    "- The result conformed to the result from the observation we have got from the bar graph above."
   ]
  },
  {
   "cell_type": "markdown",
   "id": "c82ed41d",
   "metadata": {},
   "source": [
    "### Pair T-test (t_test_pairwise)"
   ]
  },
  {
   "cell_type": "code",
   "execution_count": 8,
   "id": "031c6db3",
   "metadata": {},
   "outputs": [
    {
     "name": "stdout",
     "output_type": "stream",
     "text": [
      "             sum_sq    df          F    PR(>F)\n",
      "power     18.176653   2.0  36.878955  0.000008\n",
      "Residual   2.957240  12.0        NaN       NaN\n"
     ]
    },
    {
     "data": {
      "text/html": [
       "<div>\n",
       "<style scoped>\n",
       "    .dataframe tbody tr th:only-of-type {\n",
       "        vertical-align: middle;\n",
       "    }\n",
       "\n",
       "    .dataframe tbody tr th {\n",
       "        vertical-align: top;\n",
       "    }\n",
       "\n",
       "    .dataframe thead th {\n",
       "        text-align: right;\n",
       "    }\n",
       "</style>\n",
       "<table border=\"1\" class=\"dataframe\">\n",
       "  <thead>\n",
       "    <tr style=\"text-align: right;\">\n",
       "      <th></th>\n",
       "      <th>coef</th>\n",
       "      <th>std err</th>\n",
       "      <th>t</th>\n",
       "      <th>P&gt;|t|</th>\n",
       "      <th>Conf. Int. Low</th>\n",
       "      <th>Conf. Int. Upp.</th>\n",
       "      <th>pvalue-hs</th>\n",
       "      <th>reject-hs</th>\n",
       "    </tr>\n",
       "  </thead>\n",
       "  <tbody>\n",
       "    <tr>\n",
       "      <th>180 W-160 W</th>\n",
       "      <td>0.446</td>\n",
       "      <td>0.313966</td>\n",
       "      <td>1.420536</td>\n",
       "      <td>0.180910</td>\n",
       "      <td>-0.238073</td>\n",
       "      <td>1.130073</td>\n",
       "      <td>0.180910</td>\n",
       "      <td>False</td>\n",
       "    </tr>\n",
       "    <tr>\n",
       "      <th>200 W-160 W</th>\n",
       "      <td>2.526</td>\n",
       "      <td>0.313966</td>\n",
       "      <td>8.045456</td>\n",
       "      <td>0.000004</td>\n",
       "      <td>1.841927</td>\n",
       "      <td>3.210073</td>\n",
       "      <td>0.000011</td>\n",
       "      <td>True</td>\n",
       "    </tr>\n",
       "    <tr>\n",
       "      <th>200 W-180 W</th>\n",
       "      <td>2.080</td>\n",
       "      <td>0.313966</td>\n",
       "      <td>6.624921</td>\n",
       "      <td>0.000024</td>\n",
       "      <td>1.395927</td>\n",
       "      <td>2.764073</td>\n",
       "      <td>0.000049</td>\n",
       "      <td>True</td>\n",
       "    </tr>\n",
       "  </tbody>\n",
       "</table>\n",
       "</div>"
      ],
      "text/plain": [
       "              coef   std err         t     P>|t|  Conf. Int. Low  \\\n",
       "180 W-160 W  0.446  0.313966  1.420536  0.180910       -0.238073   \n",
       "200 W-160 W  2.526  0.313966  8.045456  0.000004        1.841927   \n",
       "200 W-180 W  2.080  0.313966  6.624921  0.000024        1.395927   \n",
       "\n",
       "             Conf. Int. Upp.  pvalue-hs  reject-hs  \n",
       "180 W-160 W         1.130073   0.180910      False  \n",
       "200 W-160 W         3.210073   0.000011       True  \n",
       "200 W-180 W         2.764073   0.000049       True  "
      ]
     },
     "execution_count": 8,
     "metadata": {},
     "output_type": "execute_result"
    }
   ],
   "source": [
    "# One-way ANOVA \n",
    "mod = ols('etching_rate ~ power', data=df).fit()   \n",
    "print(sm.stats.anova_lm(mod, typ=2))\n",
    "\n",
    "# pair t-test using t_test_pairwise method\n",
    "mod.t_test_pairwise('power').result_frame"
   ]
  },
  {
   "cell_type": "markdown",
   "id": "15d1bc7c",
   "metadata": {},
   "source": [
    "### Conclusion \n",
    "- Here we use another method (t_test_pairwise) for comparing each pair.\n",
    "- The p-value of:\n",
    "    - 180 W against 160 W is > 0.05 (0.180910) not enough evident to reject the null hypothesis \n",
    "    - 200 W against 160 W is < 0.05 (0.000011) rejected the null hypothesis\n",
    "    - 200 W against 180 W is < 0.05 (0.000049) rejected the null hypothesis\n",
    "\n",
    "- The result is consistent with the outcome from the previous T-test as well as the observation  from the bar graph above.\n",
    "- Additionally, the result confirmed there is no difference between the group of 180 W and 160 W."
   ]
  },
  {
   "cell_type": "code",
   "execution_count": 9,
   "id": "727dfc80",
   "metadata": {},
   "outputs": [],
   "source": [
    "#### END OF THE LAB & THANK YOU !!! 💖 ####"
   ]
  }
 ],
 "metadata": {
  "kernelspec": {
   "display_name": "Python 3 (ipykernel)",
   "language": "python",
   "name": "python3"
  },
  "language_info": {
   "codemirror_mode": {
    "name": "ipython",
    "version": 3
   },
   "file_extension": ".py",
   "mimetype": "text/x-python",
   "name": "python",
   "nbconvert_exporter": "python",
   "pygments_lexer": "ipython3",
   "version": "3.9.13"
  }
 },
 "nbformat": 4,
 "nbformat_minor": 5
}
