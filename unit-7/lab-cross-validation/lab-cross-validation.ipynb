{
 "cells": [
  {
   "cell_type": "markdown",
   "id": "1ca95ff3",
   "metadata": {},
   "source": [
    "# Lab | Cross Validation\n",
    "For this lab, we will build a model on customer churn binary classification problem. You will be using files_for_lab/Customer-Churn.csv file.\n",
    "\n",
    "### Instructions\n",
    "1. Apply SMOTE for upsampling the data\n",
    "\n",
    "- Use logistic regression to fit the model and compute the accuracy of the model.\n",
    "- Use decision tree classifier to fit the model and compute the accuracy of the model.\n",
    "- Compare the accuracies of the two models.\n",
    "\n",
    "2. Apply TomekLinks for downsampling\n",
    "\n",
    "- It is important to remember that it does not make the two classes equal but only removes the points from the majority class that are close to other points in minority class.\n",
    "- Use logistic regression to fit the model and compute the accuracy of the model.\n",
    "- Use decision tree classifier to fit the model and compute the accuracy of the model.\n",
    "- Compare the accuracies of the two models.\n",
    "- You can also apply this algorithm one more time and check the how the imbalance in the two classes changed from the last time.\n",
    "\n",
    "---"
   ]
  },
  {
   "cell_type": "markdown",
   "id": "ab8e8543",
   "metadata": {},
   "source": [
    "# Import Libraries"
   ]
  },
  {
   "cell_type": "code",
   "execution_count": 1,
   "id": "cefed7c9",
   "metadata": {},
   "outputs": [],
   "source": [
    "import pandas as pd\n",
    "import numpy as np\n",
    "import seaborn as sns\n",
    "import matplotlib.pyplot as plt\n",
    "\n",
    "from scipy import stats\n",
    "from sklearn.preprocessing import StandardScaler\n",
    "from sklearn.model_selection import train_test_split\n",
    "from sklearn.linear_model import LogisticRegression\n",
    "from sklearn.metrics import confusion_matrix, plot_confusion_matrix, accuracy_score, precision_score, recall_score, f1_score, roc_auc_score\n",
    "from sklearn.metrics import classification_report\n",
    "from sklearn.tree import DecisionTreeClassifier\n",
    "\n",
    "import warnings\n",
    "warnings.filterwarnings('ignore')"
   ]
  },
  {
   "cell_type": "code",
   "execution_count": 2,
   "id": "5aa6e2dd",
   "metadata": {},
   "outputs": [
    {
     "data": {
      "text/html": [
       "<div>\n",
       "<style scoped>\n",
       "    .dataframe tbody tr th:only-of-type {\n",
       "        vertical-align: middle;\n",
       "    }\n",
       "\n",
       "    .dataframe tbody tr th {\n",
       "        vertical-align: top;\n",
       "    }\n",
       "\n",
       "    .dataframe thead th {\n",
       "        text-align: right;\n",
       "    }\n",
       "</style>\n",
       "<table border=\"1\" class=\"dataframe\">\n",
       "  <thead>\n",
       "    <tr style=\"text-align: right;\">\n",
       "      <th></th>\n",
       "      <th>index</th>\n",
       "      <th>tenure</th>\n",
       "      <th>seniorcitizen</th>\n",
       "      <th>monthlycharges</th>\n",
       "      <th>totalcharges</th>\n",
       "      <th>churn</th>\n",
       "    </tr>\n",
       "  </thead>\n",
       "  <tbody>\n",
       "    <tr>\n",
       "      <th>0</th>\n",
       "      <td>0</td>\n",
       "      <td>1</td>\n",
       "      <td>0</td>\n",
       "      <td>29.85</td>\n",
       "      <td>29.85</td>\n",
       "      <td>0.0</td>\n",
       "    </tr>\n",
       "    <tr>\n",
       "      <th>1</th>\n",
       "      <td>1</td>\n",
       "      <td>34</td>\n",
       "      <td>0</td>\n",
       "      <td>56.95</td>\n",
       "      <td>1889.50</td>\n",
       "      <td>0.0</td>\n",
       "    </tr>\n",
       "    <tr>\n",
       "      <th>2</th>\n",
       "      <td>2</td>\n",
       "      <td>2</td>\n",
       "      <td>0</td>\n",
       "      <td>53.85</td>\n",
       "      <td>108.15</td>\n",
       "      <td>1.0</td>\n",
       "    </tr>\n",
       "    <tr>\n",
       "      <th>3</th>\n",
       "      <td>3</td>\n",
       "      <td>45</td>\n",
       "      <td>0</td>\n",
       "      <td>42.30</td>\n",
       "      <td>1840.75</td>\n",
       "      <td>0.0</td>\n",
       "    </tr>\n",
       "    <tr>\n",
       "      <th>4</th>\n",
       "      <td>4</td>\n",
       "      <td>2</td>\n",
       "      <td>0</td>\n",
       "      <td>70.70</td>\n",
       "      <td>151.65</td>\n",
       "      <td>1.0</td>\n",
       "    </tr>\n",
       "  </tbody>\n",
       "</table>\n",
       "</div>"
      ],
      "text/plain": [
       "   index  tenure  seniorcitizen  monthlycharges  totalcharges  churn\n",
       "0      0       1              0           29.85         29.85    0.0\n",
       "1      1      34              0           56.95       1889.50    0.0\n",
       "2      2       2              0           53.85        108.15    1.0\n",
       "3      3      45              0           42.30       1840.75    0.0\n",
       "4      4       2              0           70.70        151.65    1.0"
      ]
     },
     "execution_count": 2,
     "metadata": {},
     "output_type": "execute_result"
    }
   ],
   "source": [
    "df = pd.read_csv(\"churn_data_cleaned.csv\")\n",
    "#df.columns = df.columns.str.replace(' ', '_').str.lower()\n",
    "df.head()"
   ]
  },
  {
   "cell_type": "code",
   "execution_count": 3,
   "id": "c9f85d1f",
   "metadata": {},
   "outputs": [
    {
     "data": {
      "text/plain": [
       "(7032, 6)"
      ]
     },
     "execution_count": 3,
     "metadata": {},
     "output_type": "execute_result"
    }
   ],
   "source": [
    "df.shape"
   ]
  },
  {
   "cell_type": "code",
   "execution_count": 4,
   "id": "bc0bd9fd",
   "metadata": {
    "scrolled": false
   },
   "outputs": [
    {
     "name": "stdout",
     "output_type": "stream",
     "text": [
      "<class 'pandas.core.frame.DataFrame'>\n",
      "RangeIndex: 7032 entries, 0 to 7031\n",
      "Data columns (total 6 columns):\n",
      " #   Column          Non-Null Count  Dtype  \n",
      "---  ------          --------------  -----  \n",
      " 0   index           7032 non-null   int64  \n",
      " 1   tenure          7032 non-null   int64  \n",
      " 2   seniorcitizen   7032 non-null   int64  \n",
      " 3   monthlycharges  7032 non-null   float64\n",
      " 4   totalcharges    7032 non-null   float64\n",
      " 5   churn           7032 non-null   float64\n",
      "dtypes: float64(3), int64(3)\n",
      "memory usage: 329.8 KB\n"
     ]
    }
   ],
   "source": [
    "df.info()"
   ]
  },
  {
   "cell_type": "markdown",
   "id": "e59c2be4",
   "metadata": {},
   "source": [
    "# Imbalaned Data"
   ]
  },
  {
   "cell_type": "code",
   "execution_count": 5,
   "id": "0c3cbb65",
   "metadata": {},
   "outputs": [
    {
     "name": "stdout",
     "output_type": "stream",
     "text": [
      "0.0    5163\n",
      "1.0    1869\n",
      "Name: churn, dtype: int64\n"
     ]
    },
    {
     "data": {
      "text/plain": [
       "<AxesSubplot:xlabel='churn', ylabel='count'>"
      ]
     },
     "execution_count": 5,
     "metadata": {},
     "output_type": "execute_result"
    },
    {
     "data": {
      "image/png": "[encoded data removed]",
      "text/plain": [
       "<Figure size 640x480 with 1 Axes>"
      ]
     },
     "metadata": {},
     "output_type": "display_data"
    }
   ],
   "source": [
    "# Check target --> we have imbalanced data\n",
    "print (df[\"churn\"].value_counts())\n",
    "\n",
    "sns.countplot(df[\"churn\"])"
   ]
  },
  {
   "cell_type": "markdown",
   "id": "ef13791b",
   "metadata": {},
   "source": [
    "- We see imbalanced data with: \n",
    "    - majority \"No\" class 73%\n",
    "    - minority \"Yes\" class 27%"
   ]
  },
  {
   "cell_type": "markdown",
   "id": "7aa161ea",
   "metadata": {},
   "source": [
    "# Define Features"
   ]
  },
  {
   "cell_type": "code",
   "execution_count": 6,
   "id": "841cb246",
   "metadata": {
    "scrolled": false
   },
   "outputs": [
    {
     "data": {
      "text/html": [
       "<div>\n",
       "<style scoped>\n",
       "    .dataframe tbody tr th:only-of-type {\n",
       "        vertical-align: middle;\n",
       "    }\n",
       "\n",
       "    .dataframe tbody tr th {\n",
       "        vertical-align: top;\n",
       "    }\n",
       "\n",
       "    .dataframe thead th {\n",
       "        text-align: right;\n",
       "    }\n",
       "</style>\n",
       "<table border=\"1\" class=\"dataframe\">\n",
       "  <thead>\n",
       "    <tr style=\"text-align: right;\">\n",
       "      <th></th>\n",
       "      <th>tenure</th>\n",
       "      <th>seniorcitizen</th>\n",
       "      <th>monthlycharges</th>\n",
       "      <th>totalcharges</th>\n",
       "    </tr>\n",
       "  </thead>\n",
       "  <tbody>\n",
       "    <tr>\n",
       "      <th>0</th>\n",
       "      <td>1</td>\n",
       "      <td>0</td>\n",
       "      <td>29.85</td>\n",
       "      <td>29.85</td>\n",
       "    </tr>\n",
       "    <tr>\n",
       "      <th>1</th>\n",
       "      <td>34</td>\n",
       "      <td>0</td>\n",
       "      <td>56.95</td>\n",
       "      <td>1889.50</td>\n",
       "    </tr>\n",
       "    <tr>\n",
       "      <th>2</th>\n",
       "      <td>2</td>\n",
       "      <td>0</td>\n",
       "      <td>53.85</td>\n",
       "      <td>108.15</td>\n",
       "    </tr>\n",
       "    <tr>\n",
       "      <th>3</th>\n",
       "      <td>45</td>\n",
       "      <td>0</td>\n",
       "      <td>42.30</td>\n",
       "      <td>1840.75</td>\n",
       "    </tr>\n",
       "    <tr>\n",
       "      <th>4</th>\n",
       "      <td>2</td>\n",
       "      <td>0</td>\n",
       "      <td>70.70</td>\n",
       "      <td>151.65</td>\n",
       "    </tr>\n",
       "  </tbody>\n",
       "</table>\n",
       "</div>"
      ],
      "text/plain": [
       "   tenure  seniorcitizen  monthlycharges  totalcharges\n",
       "0       1              0           29.85         29.85\n",
       "1      34              0           56.95       1889.50\n",
       "2       2              0           53.85        108.15\n",
       "3      45              0           42.30       1840.75\n",
       "4       2              0           70.70        151.65"
      ]
     },
     "execution_count": 6,
     "metadata": {},
     "output_type": "execute_result"
    }
   ],
   "source": [
    "X = df.drop([\"churn\", \"index\"], axis=1)\n",
    "X.head()"
   ]
  },
  {
   "cell_type": "code",
   "execution_count": 7,
   "id": "c0bd7c24",
   "metadata": {},
   "outputs": [
    {
     "data": {
      "text/html": [
       "<div>\n",
       "<style scoped>\n",
       "    .dataframe tbody tr th:only-of-type {\n",
       "        vertical-align: middle;\n",
       "    }\n",
       "\n",
       "    .dataframe tbody tr th {\n",
       "        vertical-align: top;\n",
       "    }\n",
       "\n",
       "    .dataframe thead th {\n",
       "        text-align: right;\n",
       "    }\n",
       "</style>\n",
       "<table border=\"1\" class=\"dataframe\">\n",
       "  <thead>\n",
       "    <tr style=\"text-align: right;\">\n",
       "      <th></th>\n",
       "      <th>tenure</th>\n",
       "      <th>seniorcitizen</th>\n",
       "      <th>monthlycharges</th>\n",
       "      <th>totalcharges</th>\n",
       "    </tr>\n",
       "  </thead>\n",
       "  <tbody>\n",
       "    <tr>\n",
       "      <th>0</th>\n",
       "      <td>-1.280248</td>\n",
       "      <td>-0.440327</td>\n",
       "      <td>-1.161694</td>\n",
       "      <td>-0.994194</td>\n",
       "    </tr>\n",
       "    <tr>\n",
       "      <th>1</th>\n",
       "      <td>0.064303</td>\n",
       "      <td>-0.440327</td>\n",
       "      <td>-0.260878</td>\n",
       "      <td>-0.173740</td>\n",
       "    </tr>\n",
       "    <tr>\n",
       "      <th>2</th>\n",
       "      <td>-1.239504</td>\n",
       "      <td>-0.440327</td>\n",
       "      <td>-0.363923</td>\n",
       "      <td>-0.959649</td>\n",
       "    </tr>\n",
       "    <tr>\n",
       "      <th>3</th>\n",
       "      <td>0.512486</td>\n",
       "      <td>-0.440327</td>\n",
       "      <td>-0.747850</td>\n",
       "      <td>-0.195248</td>\n",
       "    </tr>\n",
       "    <tr>\n",
       "      <th>4</th>\n",
       "      <td>-1.239504</td>\n",
       "      <td>-0.440327</td>\n",
       "      <td>0.196178</td>\n",
       "      <td>-0.940457</td>\n",
       "    </tr>\n",
       "  </tbody>\n",
       "</table>\n",
       "</div>"
      ],
      "text/plain": [
       "     tenure  seniorcitizen  monthlycharges  totalcharges\n",
       "0 -1.280248      -0.440327       -1.161694     -0.994194\n",
       "1  0.064303      -0.440327       -0.260878     -0.173740\n",
       "2 -1.239504      -0.440327       -0.363923     -0.959649\n",
       "3  0.512486      -0.440327       -0.747850     -0.195248\n",
       "4 -1.239504      -0.440327        0.196178     -0.940457"
      ]
     },
     "execution_count": 7,
     "metadata": {},
     "output_type": "execute_result"
    }
   ],
   "source": [
    "#standardise the numerical data \n",
    "scaler = StandardScaler()\n",
    "X_standardized = scaler.fit_transform(X)\n",
    "X_standardized = pd.DataFrame(X_standardized, columns=X.columns)\n",
    "X_standardized.head()"
   ]
  },
  {
   "cell_type": "markdown",
   "id": "555104c8",
   "metadata": {},
   "source": [
    "# Baseline Model"
   ]
  },
  {
   "cell_type": "code",
   "execution_count": 8,
   "id": "ea6e5985",
   "metadata": {},
   "outputs": [],
   "source": [
    "# Define target\n",
    "y = df[['churn']]\n",
    "# y.head()"
   ]
  },
  {
   "cell_type": "code",
   "execution_count": 9,
   "id": "0edbe7f4",
   "metadata": {},
   "outputs": [],
   "source": [
    "# Train-test split \n",
    "X_train, X_test, y_train, y_test = train_test_split(X_standardized, y, test_size=0.25, random_state=42)\n",
    "# print(len(X_train))\n",
    "# print(len(y_train))"
   ]
  },
  {
   "cell_type": "code",
   "execution_count": 10,
   "id": "5e72a1b9",
   "metadata": {},
   "outputs": [
    {
     "name": "stdout",
     "output_type": "stream",
     "text": [
      "Logistic Regression: \n",
      "\n",
      "              precision    recall  f1-score   support\n",
      "\n",
      "         0.0       0.82      0.90      0.86      1300\n",
      "         1.0       0.62      0.45      0.52       458\n",
      "\n",
      "    accuracy                           0.78      1758\n",
      "   macro avg       0.72      0.67      0.69      1758\n",
      "weighted avg       0.77      0.78      0.77      1758\n",
      "\n"
     ]
    },
    {
     "data": {
      "image/png": "[encoded data removed]",
      "text/plain": [
       "<Figure size 640x480 with 2 Axes>"
      ]
     },
     "metadata": {},
     "output_type": "display_data"
    },
    {
     "name": "stdout",
     "output_type": "stream",
     "text": [
      "\n",
      " Decision Tree: \n",
      "\n",
      "              precision    recall  f1-score   support\n",
      "\n",
      "         0.0       0.81      0.81      0.81      1300\n",
      "         1.0       0.46      0.46      0.46       458\n",
      "\n",
      "    accuracy                           0.72      1758\n",
      "   macro avg       0.63      0.63      0.63      1758\n",
      "weighted avg       0.72      0.72      0.72      1758\n",
      "\n"
     ]
    },
    {
     "data": {
      "image/png": "[encoded data removed]",
      "text/plain": [
       "<Figure size 640x480 with 2 Axes>"
      ]
     },
     "metadata": {},
     "output_type": "display_data"
    }
   ],
   "source": [
    "def fitting_model(model_x_condition, X_train, y_train):\n",
    "    \n",
    "    # setup and train the model\n",
    "    model = model_x_condition.fit(X_train,y_train) \n",
    "    \n",
    "    # predict the y_pred (predictions)\n",
    "    predictions = model.predict(X_test)\n",
    "    \n",
    "    # Evaluate the model\n",
    "    print(classification_report(y_test, predictions))\n",
    "\n",
    "    # Visualze\n",
    "    plot_confusion_matrix(model, X_test, y_test, cmap=plt.cm.Blues)\n",
    "    plt.show()\n",
    "\n",
    "# Calling the Logistic Regression baseline model\n",
    "print(\"Logistic Regression:\", \"\\n\")\n",
    "fitting_model(LogisticRegression(random_state=42, multi_class='ovr'), X_train, y_train)\n",
    "\n",
    "# Calling the Decision Trees baseline model\n",
    "print(\"\\n\", \"Decision Tree:\", \"\\n\")\n",
    "fitting_model(DecisionTreeClassifier(criterion = \"gini\", random_state = 42, max_depth=None), X_train, y_train)"
   ]
  },
  {
   "cell_type": "markdown",
   "id": "503901eb",
   "metadata": {},
   "source": [
    "### Observation\n",
    "\n",
    "- Logistic Regression seems to perform better than the Decision Trees with overall precision, recall, f-1 and accuraccy scores.\n",
    "\n",
    "- Also, we see a huge gap of precision & recall scores between the 2 classes because of the imbalanced data. \n",
    "\n",
    "### What's next?\n",
    "- We might be able to improve the model by using machine learning algorithms to manage the imbalanced- into (more) balanced data.\n",
    "- In this lab, we will try two methods to manage the data:\n",
    "    1. SMOTE\n",
    "    2. TomekLinks\n",
    "    "
   ]
  },
  {
   "cell_type": "markdown",
   "id": "9275d4d8",
   "metadata": {},
   "source": [
    "<div class=\"alert alert-block alert-info\">\n",
    "    <font color=black>\n",
    "    <h2>Managing Imbalanced Data & Improving the Classification Model</h2>\n",
    "    </font>\n",
    "    </div>"
   ]
  },
  {
   "cell_type": "markdown",
   "id": "e460848a",
   "metadata": {},
   "source": [
    "# SMOTE (OverSampling)\n",
    "\n",
    "- Oversampling data using by \n",
    "    - Picking a point from the minority class\n",
    "    - Computing the k-nearest neighbors (for some pre-specified k) for this point\n",
    "    - Adding k new points somewhere between the chosen point and each of its neighbors\n",
    "    \n",
    "\n",
    "Read more:\n",
    "- [SMOTE explained for noobs – Synthetic Minority Over-sampling TEchnique line by line](https://rikunert.com/smote_explained)"
   ]
  },
  {
   "cell_type": "markdown",
   "id": "569ca3a2",
   "metadata": {},
   "source": [
    "## Logistic Regression  "
   ]
  },
  {
   "cell_type": "code",
   "execution_count": 11,
   "id": "7ecd85bf",
   "metadata": {},
   "outputs": [
    {
     "name": "stdout",
     "output_type": "stream",
     "text": [
      "Oversampling with SMOTE: \n",
      " churn\n",
      "0.0      3863\n",
      "1.0      3863\n",
      "dtype: int64 \n",
      "\n",
      "Origin data: \n",
      " churn\n",
      "0.0      5163\n",
      "1.0      1869\n",
      "dtype: int64 \n",
      "\n",
      "              precision    recall  f1-score   support\n",
      "\n",
      "         0.0       0.88      0.72      0.79      1300\n",
      "         1.0       0.48      0.73      0.58       458\n",
      "\n",
      "    accuracy                           0.72      1758\n",
      "   macro avg       0.68      0.72      0.68      1758\n",
      "weighted avg       0.78      0.72      0.74      1758\n",
      "\n"
     ]
    },
    {
     "data": {
      "image/png": "[encoded data removed]",
      "text/plain": [
       "<Figure size 640x480 with 2 Axes>"
      ]
     },
     "metadata": {},
     "output_type": "display_data"
    }
   ],
   "source": [
    "from imblearn.over_sampling import SMOTE\n",
    "  \n",
    "# Resampling with SMOTE\n",
    "sm = SMOTE(random_state = 42)\n",
    "X_train_smt, y_train_smt = sm.fit_resample(X_train, y_train)\n",
    "print(\"Oversampling with SMOTE:\", \"\\n\", y_train_smt.value_counts(), \"\\n\")\n",
    "print(\"Origin data:\", \"\\n\", y.value_counts(), \"\\n\")\n",
    "\n",
    "# # Calling the Logistic Regression after SMOTE \n",
    "fitting_model(LogisticRegression(random_state=42, multi_class='ovr'), X_train_smt, y_train_smt)"
   ]
  },
  {
   "cell_type": "markdown",
   "id": "7054aa73",
   "metadata": {},
   "source": [
    "## Decision Trees"
   ]
  },
  {
   "cell_type": "code",
   "execution_count": 12,
   "id": "8e7f6f4e",
   "metadata": {},
   "outputs": [
    {
     "name": "stdout",
     "output_type": "stream",
     "text": [
      "              precision    recall  f1-score   support\n",
      "\n",
      "         0.0       0.82      0.78      0.80      1300\n",
      "         1.0       0.46      0.52      0.49       458\n",
      "\n",
      "    accuracy                           0.72      1758\n",
      "   macro avg       0.64      0.65      0.64      1758\n",
      "weighted avg       0.73      0.72      0.72      1758\n",
      "\n"
     ]
    },
    {
     "data": {
      "image/png": "[encoded data removed]",
      "text/plain": [
       "<Figure size 640x480 with 2 Axes>"
      ]
     },
     "metadata": {},
     "output_type": "display_data"
    }
   ],
   "source": [
    "# Calling the Decicsion Trees after SMOTE \n",
    "fitting_model(DecisionTreeClassifier(criterion = \"gini\", random_state = 42, max_depth=None), X_train_smt, y_train_smt)"
   ]
  },
  {
   "cell_type": "markdown",
   "id": "c8f8b41d",
   "metadata": {},
   "source": [
    "### Evaluation Metrics\n",
    "\n",
    "---\n",
    "\n",
    "- **Logistic Regression**: \n",
    "\n",
    "\n",
    "    precision    recall  f1-score   support\n",
    "\n",
    "         0.0       0.88      0.72      0.79      1300\n",
    "         1.0       0.48      0.73      0.58       458\n",
    "\n",
    "    accuracy                           0.72      1758\n",
    "    \n",
    "    \n",
    "---\n",
    "\n",
    "    \n",
    "- **Decision Trees**:\n",
    "\n",
    "\n",
    "    precision    recall  f1-score   support\n",
    "\n",
    "         0.0       0.82      0.78      0.80      1300\n",
    "         1.0       0.46      0.52      0.49       458\n",
    "\n",
    "    accuracy                           0.72      1758\n",
    "\n",
    "\n",
    "    \n",
    "## Result\n",
    "\n",
    "- Overall, the Logistic Regression showed better scores in precision, recall, and accuracy after applying SMOTE.\n",
    "\n"
   ]
  },
  {
   "cell_type": "markdown",
   "id": "b0b89066",
   "metadata": {},
   "source": [
    "# TomekLinks\n",
    "\n",
    "Removing the instances of the majority class of each pair by comparing the close instances between two classes.  This method increases the space between the two classes, facilitating the classification process."
   ]
  },
  {
   "cell_type": "markdown",
   "id": "9da42d78",
   "metadata": {},
   "source": [
    "## Logistic Regression"
   ]
  },
  {
   "cell_type": "code",
   "execution_count": 13,
   "id": "1306102b",
   "metadata": {},
   "outputs": [
    {
     "name": "stdout",
     "output_type": "stream",
     "text": [
      "Undersampling with TomekLinks: \n",
      " churn\n",
      "0.0      3484\n",
      "1.0      1411\n",
      "dtype: int64 \n",
      "\n",
      "Origin data: \n",
      " churn\n",
      "0.0      5163\n",
      "1.0      1869\n",
      "dtype: int64 \n",
      "\n",
      "              precision    recall  f1-score   support\n",
      "\n",
      "         0.0       0.84      0.86      0.85      1300\n",
      "         1.0       0.57      0.53      0.55       458\n",
      "\n",
      "    accuracy                           0.77      1758\n",
      "   macro avg       0.71      0.69      0.70      1758\n",
      "weighted avg       0.77      0.77      0.77      1758\n",
      "\n"
     ]
    },
    {
     "data": {
      "image/png": "[encoded data removed]",
      "text/plain": [
       "<Figure size 640x480 with 2 Axes>"
      ]
     },
     "metadata": {},
     "output_type": "display_data"
    }
   ],
   "source": [
    "from imblearn.under_sampling import TomekLinks\n",
    "\n",
    "tl = TomekLinks(sampling_strategy='majority')\n",
    "X_tl, y_tl = tl.fit_resample(X_train, y_train)\n",
    "\n",
    "print(\"Undersampling with TomekLinks:\", \"\\n\", y_tl.value_counts(), \"\\n\")\n",
    "print(\"Origin data:\", \"\\n\", y.value_counts(), \"\\n\")\n",
    "\n",
    "# Calling the Logistic Regression after TomekLinks \n",
    "fitting_model(LogisticRegression(random_state=42, multi_class='ovr'), X_tl, y_tl)\n"
   ]
  },
  {
   "cell_type": "markdown",
   "id": "7ddee4ad",
   "metadata": {},
   "source": [
    "## Decision Trees"
   ]
  },
  {
   "cell_type": "code",
   "execution_count": 14,
   "id": "b6e94512",
   "metadata": {
    "scrolled": false
   },
   "outputs": [
    {
     "name": "stdout",
     "output_type": "stream",
     "text": [
      "              precision    recall  f1-score   support\n",
      "\n",
      "         0.0       0.82      0.78      0.80      1300\n",
      "         1.0       0.45      0.51      0.48       458\n",
      "\n",
      "    accuracy                           0.71      1758\n",
      "   macro avg       0.64      0.65      0.64      1758\n",
      "weighted avg       0.73      0.71      0.72      1758\n",
      "\n"
     ]
    },
    {
     "data": {
      "image/png": "[encoded data removed]",
      "text/plain": [
       "<Figure size 640x480 with 2 Axes>"
      ]
     },
     "metadata": {},
     "output_type": "display_data"
    }
   ],
   "source": [
    "# Calling the decision trees model after TomekLinks\n",
    "\n",
    "fitting_model(DecisionTreeClassifier(criterion = \"gini\", random_state = 42, max_depth=None), X_tl, y_tl)"
   ]
  },
  {
   "cell_type": "markdown",
   "id": "7816983e",
   "metadata": {},
   "source": [
    "## Comparing the Models after TomekLinks Downsampling"
   ]
  },
  {
   "cell_type": "markdown",
   "id": "fd45c0ba",
   "metadata": {},
   "source": [
    "### Evaluation Metrics\n",
    "\n",
    "---\n",
    "\n",
    "- **Logistic Regression**: \n",
    "\n",
    "\n",
    "    precision    recall  f1-score   support\n",
    "\n",
    "         0.0       0.84      0.86      0.85      1300\n",
    "         1.0       0.57      0.53      0.55       458\n",
    "\n",
    "    accuracy                           0.77      1758\n",
    "    \n",
    "    \n",
    "---\n",
    "\n",
    "    \n",
    "- **Decision Trees**:\n",
    "\n",
    "\n",
    "    precision    recall  f1-score   support\n",
    "\n",
    "         0.0       0.82      0.78      0.80      1300\n",
    "         1.0       0.45      0.51      0.48       458\n",
    "\n",
    "    accuracy                           0.71      1758\n",
    "\n",
    "\n",
    "## Result\n",
    "\n",
    "- Overall, the Logistic Regression showed better scores in precision, recall, and accuracy after applying TomekLinks.\n"
   ]
  },
  {
   "cell_type": "markdown",
   "id": "2c71e1b8",
   "metadata": {},
   "source": [
    "## Summarize\n",
    "\n",
    "- In both cases, after applying SMOTE and TomekLinks, we found that Logistic Regression model performed better for this dataset.\n"
   ]
  },
  {
   "cell_type": "code",
   "execution_count": 15,
   "id": "c2539f0c",
   "metadata": {},
   "outputs": [],
   "source": [
    "#### END OF THE LAB & THANK YOU!!! ❤️ ####"
   ]
  },
  {
   "cell_type": "code",
   "execution_count": null,
   "id": "38cb2ffe",
   "metadata": {},
   "outputs": [],
   "source": []
  }
 ],
 "metadata": {
  "kernelspec": {
   "display_name": "Python 3 (ipykernel)",
   "language": "python",
   "name": "python3"
  },
  "language_info": {
   "codemirror_mode": {
    "name": "ipython",
    "version": 3
   },
   "file_extension": ".py",
   "mimetype": "text/x-python",
   "name": "python",
   "nbconvert_exporter": "python",
   "pygments_lexer": "ipython3",
   "version": "3.9.13"
  }
 },
 "nbformat": 4,
 "nbformat_minor": 5
}
