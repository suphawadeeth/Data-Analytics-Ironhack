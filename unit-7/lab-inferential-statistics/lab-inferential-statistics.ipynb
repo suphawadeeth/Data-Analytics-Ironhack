{
 "cells": [
  {
   "cell_type": "markdown",
   "id": "847d7324",
   "metadata": {},
   "source": [
    "# Lab | Inferential statistics\n",
    "### Instructions\n",
    "It is assumed that the mean systolic blood pressure is μ = 120 mm Hg. In the Honolulu Heart Study, a sample of n = 100 people had an average systolic blood pressure of 130.1 mm Hg with a standard deviation of 21.21 mm Hg. Is the group significantly different (with respect to systolic blood pressure!) from the regular population?\n",
    "\n",
    "Set up the hypothesis test.\n",
    "Write down all the steps followed for setting up the test.\n",
    "Calculate the test statistic by hand and also code it in Python. It should be 4.76190. We will take a look at how to make decisions based on this calculated value.\n",
    "If you finished the previous question, please go through the code for principal_component_analysis_example provided in the files_for_lab folder ."
   ]
  },
  {
   "cell_type": "markdown",
   "id": "755a3b4d",
   "metadata": {},
   "source": [
    "**Step 1:** Define the null hypothesis - This is our assumption about the population. It is defined by H0 and in this case **H0: μ = 120**;\n",
    "\n",
    "**Step 2:** Define the alternative hypothesis - This means, what if our assumption is not true. It is defined by Ha and in this case **Ha: μ ≠ 120**. \n",
    "\n",
    "**Step 3:** Determine if it is a one-tailed or a two-tailed test. This is a **two-tailed test**.\n",
    "\n",
    "**Step 4:** N = 100, we can either use z-test or t-test.\n",
    "\n",
    "**Step 5:** Level of significance: This defines the rejection region/critical region, it's the probability of making the wrong decision when the null hypothesis is true. In **this case is 0.05**. \n",
    " \n",
    "**Step 6:** Calculate the test statistic based on the given information.\n",
    "\n",
    "**Step 7:** Check the table to determine the critical value.\n",
    "<br> For z-test you have fixed values according to Confidence Level.\n",
    "<br> For t-test you have to calculate according to the degrees of freedom (df), which is the *sample_size - 1*.\n",
    "\n",
    "**Step 8:** Make conclusions:\n",
    "* If the test statistic falls in the critical region, then we reject the Null Hypothesis\n",
    "* If the test statistic falls in the region between the critical region, then we fail to reject the Null Hypothesis."
   ]
  },
  {
   "cell_type": "code",
   "execution_count": 35,
   "id": "ca872830",
   "metadata": {},
   "outputs": [],
   "source": [
    "import math\n",
    "import scipy.stats\n",
    "from scipy.stats import t, norm\n",
    "import numpy as np"
   ]
  },
  {
   "cell_type": "code",
   "execution_count": 95,
   "id": "8b77b357",
   "metadata": {},
   "outputs": [
    {
     "name": "stdout",
     "output_type": "stream",
     "text": [
      "statistic value 4.761904761904759\n",
      "t-critical value:  1.9842169515086827\n",
      "p-value:  6.562701817208617e-06\n"
     ]
    }
   ],
   "source": [
    "sample_mean = 130.1\n",
    "pop_mean = 120\n",
    "pop_std = 21.21\n",
    "n = 100\n",
    "\n",
    "statistic = (sample_mean - pop_mean)/(pop_std/math.sqrt(n))\n",
    "print(\"statistic value\", statistic)\n",
    "\n",
    "t_critic = scipy.stats.t.ppf(1-0.05/2, n-1)\n",
    "print(\"t-critical value: \", t_critic) \n",
    "\n",
    "\n",
    "# Determining the p-value\n",
    "p_val = scipy.stats.t.sf(abs(statistic), df = n-1)*2\n",
    "print(\"p-value: \", p_val)"
   ]
  },
  {
   "cell_type": "markdown",
   "id": "bdb20226",
   "metadata": {},
   "source": [
    "### Conclusion\n",
    "\n",
    "> statistic = 4.76 \n",
    "\n",
    "> p-value < 0.05\n",
    "\n",
    "- From the result, the H0 hypothesis was rejected, meaning\n",
    "\n",
    "    **Blood pressure of sample group in Honolulu is significantly different from the regular population**"
   ]
  },
  {
   "cell_type": "code",
   "execution_count": 2,
   "id": "11886f1d",
   "metadata": {},
   "outputs": [],
   "source": [
    "#### IGNORE BELOW THIS LINE ####"
   ]
  },
  {
   "cell_type": "markdown",
   "id": "7bfe2443",
   "metadata": {},
   "source": [
    "### Two-tailed T-test"
   ]
  },
  {
   "cell_type": "code",
   "execution_count": 92,
   "id": "5b08a6e8",
   "metadata": {},
   "outputs": [
    {
     "name": "stdout",
     "output_type": "stream",
     "text": [
      "t-statistic (t-value):  4.7619\n",
      "t-critical value:  1.9842\n",
      "p-value: 0.0\n"
     ]
    }
   ],
   "source": [
    "# Find t-score --> scipy.stats.t.ppf(q, df) -- q = critical value, df = degree of freedom\n",
    "# In our case, this is two-tailed test\n",
    "t_stat = round(abs(sample_mean - pop_mean) / (pop_std / np.sqrt(n)), 4)\n",
    "t_critic = round(scipy.stats.t.ppf(1-0.05/2, n-1), 4)\n",
    "print(\"t-statistic (t-value): \", t_stat)\n",
    "print(\"t-critical value: \", t_critic)\n",
    "\n",
    "\n",
    "# Find p-value from t-score (just want to try using different function)\n",
    "p_val_cdf = round((scipy.stats.t.cdf(-abs(t_stat), n-1))*2, 4) # cdf = cumulative distribution function\n",
    "p_val_sf = scipy.stats.t.sf(abs(t_stat), n-1)*2 \n",
    "\n",
    "print(\"p-value:\", p_val_cdf)\n",
    "#print(\"p-value using t.sf:\", p_val_sf)"
   ]
  },
  {
   "cell_type": "markdown",
   "id": "be315141",
   "metadata": {},
   "source": [
    "### Two-tailed Z-test"
   ]
  },
  {
   "cell_type": "code",
   "execution_count": 93,
   "id": "8e04f02e",
   "metadata": {},
   "outputs": [
    {
     "name": "stdout",
     "output_type": "stream",
     "text": [
      "z-statistic (z-value):  4.7619\n",
      "z-critical value:  1.96\n",
      "p-value: 1.9177871528608392e-06\n"
     ]
    }
   ],
   "source": [
    "alpha = 0.05\n",
    "n_sided = 2\n",
    "\n",
    "# Calculate z-score\n",
    "z_stat = round((sample_mean - pop_mean) / (pop_std / np.sqrt(n)), 4)\n",
    "z_critic = round(scipy.stats.norm.ppf(1-alpha/n_sided), 4)\n",
    "print(\"z-statistic (z-value): \", z_stat)\n",
    "print(\"z-critical value: \", z_critic)\n",
    "\n",
    "# Find p-value from z-score\n",
    "p_val_cdf = 2*(1 - scipy.stats.norm.cdf(abs(z_stat)))\n",
    "p_val_sf = scipy.stats.norm.sf(abs(z_stat))*2\n",
    "\n",
    "print(\"p-value:\", p_val_cdf)\n",
    "# print(\"p-value using sf:\", p_val_sf)"
   ]
  },
  {
   "cell_type": "markdown",
   "id": "b15c03d6",
   "metadata": {},
   "source": [
    "- Z-test gave different p-value comparing to T-test but still < 0.05. H0 was rejected"
   ]
  },
  {
   "cell_type": "markdown",
   "id": "990adf37",
   "metadata": {},
   "source": [
    "### Sources:\n",
    "\n",
    "#### Z-test\n",
    "- [How to Find a P-Value from a Z-Score in Python](https://softwareto.com/p-value-from-z-score-python/)\n",
    "- [Z Test: Uses, Formula & Examples](https://statisticsbyjim.com/hypothesis-testing/z-test/)\n",
    "- [Probability to z-score and vice versa](https://stackoverflow.com/questions/20864847/probability-to-z-score-and-vice-versa)\n",
    "- [The Standard Normal Distribution | Calculator, Examples & Uses](https://www.scribbr.com/statistics/standard-normal-distribution/)\n",
    "\n",
    "#### T-test\n",
    "- [A beginner’s guide to Student’s t-test in python from scratch](https://analyticsindiamag.com/a-beginners-guide-to-students-t-test-in-python-from-scratch%EF%BF%BC/)\n",
    "- [How to do a t-test in Python?](https://thedatascientist.com/how-to-do-a-t-test-in-python/)\n",
    "- [INDEPENDENT T-TEST](https://www.pythonfordatascience.org/independent-samples-t-test-python/)\n",
    "- [Python Statistics – Python p-Value, Correlation, T-test, KS Test](https://data-flair.training/blogs/python-statistics/)\n",
    "- [T test formula](http://www.sthda.com/english/wiki/t-test-formula)\n",
    "- [Types of t-tests](https://www.jmp.com/en_ch/statistics-knowledge-portal/t-test.html)"
   ]
  }
 ],
 "metadata": {
  "kernelspec": {
   "display_name": "Python 3 (ipykernel)",
   "language": "python",
   "name": "python3"
  },
  "language_info": {
   "codemirror_mode": {
    "name": "ipython",
    "version": 3
   },
   "file_extension": ".py",
   "mimetype": "text/x-python",
   "name": "python",
   "nbconvert_exporter": "python",
   "pygments_lexer": "ipython3",
   "version": "3.9.13"
  }
 },
 "nbformat": 4,
 "nbformat_minor": 5
}
