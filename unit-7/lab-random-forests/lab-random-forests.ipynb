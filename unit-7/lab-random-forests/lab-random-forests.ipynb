{
 "cells": [
  {
   "cell_type": "markdown",
   "id": "908f7f80",
   "metadata": {},
   "source": [
    "# Lab | Random Forests\n",
    "For this lab, you will be using the CSV files provided in the files_for_lab folder.\n",
    "\n",
    "### Instructions\n",
    "- Apply the Random Forests algorithm but this time only by upscaling the data using SMOTE.\n",
    "\n",
    "\n",
    "Note that since SMOTE works on numerical data only, we will first encode the categorical variables in this case."
   ]
  },
  {
   "cell_type": "markdown",
   "id": "bce35614",
   "metadata": {},
   "source": [
    "# Import Libraries"
   ]
  },
  {
   "cell_type": "code",
   "execution_count": 1,
   "id": "a94e9989",
   "metadata": {},
   "outputs": [],
   "source": [
    "import pandas as pd\n",
    "import seaborn as sns\n",
    "import matplotlib.pyplot as plt\n",
    "\n",
    "from sklearn.preprocessing import OneHotEncoder\n",
    "from sklearn.model_selection import train_test_split\n",
    "from imblearn.over_sampling import SMOTE\n",
    "from sklearn.ensemble import RandomForestClassifier\n",
    "from sklearn.metrics import confusion_matrix, plot_confusion_matrix, accuracy_score, precision_score, recall_score, f1_score, roc_auc_score\n",
    "from sklearn.metrics import classification_report\n",
    "\n",
    "import warnings\n",
    "warnings.filterwarnings(\"ignore\")"
   ]
  },
  {
   "cell_type": "markdown",
   "id": "a2ca0f15",
   "metadata": {},
   "source": [
    "# Load The Data"
   ]
  },
  {
   "cell_type": "code",
   "execution_count": 2,
   "id": "fb31d879",
   "metadata": {},
   "outputs": [],
   "source": [
    "# Load numerical & categorical data\n",
    "num_df = pd.read_csv(\"numerical.csv\")\n",
    "cat_df = pd.read_csv(\"categorical.csv\")"
   ]
  },
  {
   "cell_type": "code",
   "execution_count": 3,
   "id": "cdfd3b1c",
   "metadata": {},
   "outputs": [],
   "source": [
    "# set the max columns to none\n",
    "pd.set_option('display.max_columns', None)"
   ]
  },
  {
   "cell_type": "code",
   "execution_count": 4,
   "id": "4956b4a5",
   "metadata": {},
   "outputs": [],
   "source": [
    "# num_df.head()"
   ]
  },
  {
   "cell_type": "markdown",
   "id": "2f8f1df5",
   "metadata": {},
   "source": [
    "# Encoding Categorical Data"
   ]
  },
  {
   "cell_type": "markdown",
   "id": "5eaec38b",
   "metadata": {},
   "source": [
    "- Since we will upsampling with SMOTE, we need to encode categorical data \n",
    "- Firstly, we will look inside the categorical data to check each variables. Because some of them might not need to encode"
   ]
  },
  {
   "cell_type": "code",
   "execution_count": 5,
   "id": "5f136f16",
   "metadata": {},
   "outputs": [],
   "source": [
    "# cat_df.head()"
   ]
  },
  {
   "cell_type": "code",
   "execution_count": 6,
   "id": "6021c362",
   "metadata": {},
   "outputs": [
    {
     "name": "stdout",
     "output_type": "stream",
     "text": [
      "<class 'pandas.core.frame.DataFrame'>\n",
      "RangeIndex: 95412 entries, 0 to 95411\n",
      "Data columns (total 22 columns):\n",
      " #   Column        Non-Null Count  Dtype \n",
      "---  ------        --------------  ----- \n",
      " 0   STATE         95412 non-null  object\n",
      " 1   CLUSTER       95412 non-null  int64 \n",
      " 2   HOMEOWNR      95412 non-null  object\n",
      " 3   GENDER        95412 non-null  object\n",
      " 4   DATASRCE      95412 non-null  int64 \n",
      " 5   RFA_2R        95412 non-null  object\n",
      " 6   RFA_2A        95412 non-null  object\n",
      " 7   GEOCODE2      95412 non-null  object\n",
      " 8   DOMAIN_A      95412 non-null  object\n",
      " 9   DOMAIN_B      95412 non-null  int64 \n",
      " 10  ODATEW_YR     95412 non-null  int64 \n",
      " 11  ODATEW_MM     95412 non-null  int64 \n",
      " 12  DOB_YR        95412 non-null  int64 \n",
      " 13  DOB_MM        95412 non-null  int64 \n",
      " 14  MINRDATE_YR   95412 non-null  int64 \n",
      " 15  MINRDATE_MM   95412 non-null  int64 \n",
      " 16  MAXRDATE_YR   95412 non-null  int64 \n",
      " 17  MAXRDATE_MM   95412 non-null  int64 \n",
      " 18  LASTDATE_YR   95412 non-null  int64 \n",
      " 19  LASTDATE_MM   95412 non-null  int64 \n",
      " 20  FIRSTDATE_YR  95412 non-null  int64 \n",
      " 21  FIRSTDATE_MM  95412 non-null  int64 \n",
      "dtypes: int64(15), object(7)\n",
      "memory usage: 16.0+ MB\n"
     ]
    }
   ],
   "source": [
    "cat_df.info()"
   ]
  },
  {
   "cell_type": "markdown",
   "id": "92418ef2",
   "metadata": {},
   "source": [
    "- We have 22 columns in categorical data\n",
    "- Some are already number as shown above as \"int64\"\n",
    "- We will separate the int64 type into numerical data\n",
    "- After then, we will encode only the object type into number"
   ]
  },
  {
   "cell_type": "code",
   "execution_count": 7,
   "id": "f46cbf9b",
   "metadata": {},
   "outputs": [
    {
     "name": "stdout",
     "output_type": "stream",
     "text": [
      "  STATE HOMEOWNR GENDER RFA_2R RFA_2A GEOCODE2 DOMAIN_A\n",
      "0    IL        H      F      L      E        C        T\n",
      "1    CA        H      M      L      G        A        S\n",
      "2    NC        U      M      L      E        C        R\n",
      "3    CA        U      F      L      E        C        R\n",
      "4    FL        H      F      L      F        A        S \n",
      "\n",
      "Data shape:  (95412, 7)\n"
     ]
    }
   ],
   "source": [
    "# Separate numeric and categoric columns\n",
    "numeric_cat = cat_df.select_dtypes(\"number\")\n",
    "str_cat = cat_df.select_dtypes(exclude = \"number\")\n",
    "\n",
    "# numeric_cat.head()\n",
    "print(str_cat.head(), \"\\n\")\n",
    "print(\"Data shape: \", str_cat.shape)"
   ]
  },
  {
   "cell_type": "code",
   "execution_count": 8,
   "id": "04569aba",
   "metadata": {
    "scrolled": true
   },
   "outputs": [
    {
     "data": {
      "text/html": [
       "<div>\n",
       "<style scoped>\n",
       "    .dataframe tbody tr th:only-of-type {\n",
       "        vertical-align: middle;\n",
       "    }\n",
       "\n",
       "    .dataframe tbody tr th {\n",
       "        vertical-align: top;\n",
       "    }\n",
       "\n",
       "    .dataframe thead th {\n",
       "        text-align: right;\n",
       "    }\n",
       "</style>\n",
       "<table border=\"1\" class=\"dataframe\">\n",
       "  <thead>\n",
       "    <tr style=\"text-align: right;\">\n",
       "      <th></th>\n",
       "      <th>STATE_FL</th>\n",
       "      <th>STATE_GA</th>\n",
       "      <th>STATE_IL</th>\n",
       "      <th>STATE_IN</th>\n",
       "      <th>STATE_MI</th>\n",
       "      <th>STATE_MO</th>\n",
       "      <th>STATE_NC</th>\n",
       "      <th>STATE_TX</th>\n",
       "      <th>STATE_WA</th>\n",
       "      <th>STATE_WI</th>\n",
       "      <th>STATE_other</th>\n",
       "      <th>HOMEOWNR_U</th>\n",
       "      <th>GENDER_M</th>\n",
       "      <th>GENDER_other</th>\n",
       "      <th>RFA_2A_E</th>\n",
       "      <th>RFA_2A_F</th>\n",
       "      <th>RFA_2A_G</th>\n",
       "      <th>GEOCODE2_B</th>\n",
       "      <th>GEOCODE2_C</th>\n",
       "      <th>GEOCODE2_D</th>\n",
       "      <th>DOMAIN_A_R</th>\n",
       "      <th>DOMAIN_A_S</th>\n",
       "      <th>DOMAIN_A_T</th>\n",
       "      <th>DOMAIN_A_U</th>\n",
       "    </tr>\n",
       "  </thead>\n",
       "  <tbody>\n",
       "    <tr>\n",
       "      <th>0</th>\n",
       "      <td>0.0</td>\n",
       "      <td>0.0</td>\n",
       "      <td>1.0</td>\n",
       "      <td>0.0</td>\n",
       "      <td>0.0</td>\n",
       "      <td>0.0</td>\n",
       "      <td>0.0</td>\n",
       "      <td>0.0</td>\n",
       "      <td>0.0</td>\n",
       "      <td>0.0</td>\n",
       "      <td>0.0</td>\n",
       "      <td>0.0</td>\n",
       "      <td>0.0</td>\n",
       "      <td>0.0</td>\n",
       "      <td>1.0</td>\n",
       "      <td>0.0</td>\n",
       "      <td>0.0</td>\n",
       "      <td>0.0</td>\n",
       "      <td>1.0</td>\n",
       "      <td>0.0</td>\n",
       "      <td>0.0</td>\n",
       "      <td>0.0</td>\n",
       "      <td>1.0</td>\n",
       "      <td>0.0</td>\n",
       "    </tr>\n",
       "    <tr>\n",
       "      <th>1</th>\n",
       "      <td>0.0</td>\n",
       "      <td>0.0</td>\n",
       "      <td>0.0</td>\n",
       "      <td>0.0</td>\n",
       "      <td>0.0</td>\n",
       "      <td>0.0</td>\n",
       "      <td>0.0</td>\n",
       "      <td>0.0</td>\n",
       "      <td>0.0</td>\n",
       "      <td>0.0</td>\n",
       "      <td>0.0</td>\n",
       "      <td>0.0</td>\n",
       "      <td>1.0</td>\n",
       "      <td>0.0</td>\n",
       "      <td>0.0</td>\n",
       "      <td>0.0</td>\n",
       "      <td>1.0</td>\n",
       "      <td>0.0</td>\n",
       "      <td>0.0</td>\n",
       "      <td>0.0</td>\n",
       "      <td>0.0</td>\n",
       "      <td>1.0</td>\n",
       "      <td>0.0</td>\n",
       "      <td>0.0</td>\n",
       "    </tr>\n",
       "    <tr>\n",
       "      <th>2</th>\n",
       "      <td>0.0</td>\n",
       "      <td>0.0</td>\n",
       "      <td>0.0</td>\n",
       "      <td>0.0</td>\n",
       "      <td>0.0</td>\n",
       "      <td>0.0</td>\n",
       "      <td>1.0</td>\n",
       "      <td>0.0</td>\n",
       "      <td>0.0</td>\n",
       "      <td>0.0</td>\n",
       "      <td>0.0</td>\n",
       "      <td>1.0</td>\n",
       "      <td>1.0</td>\n",
       "      <td>0.0</td>\n",
       "      <td>1.0</td>\n",
       "      <td>0.0</td>\n",
       "      <td>0.0</td>\n",
       "      <td>0.0</td>\n",
       "      <td>1.0</td>\n",
       "      <td>0.0</td>\n",
       "      <td>1.0</td>\n",
       "      <td>0.0</td>\n",
       "      <td>0.0</td>\n",
       "      <td>0.0</td>\n",
       "    </tr>\n",
       "    <tr>\n",
       "      <th>3</th>\n",
       "      <td>0.0</td>\n",
       "      <td>0.0</td>\n",
       "      <td>0.0</td>\n",
       "      <td>0.0</td>\n",
       "      <td>0.0</td>\n",
       "      <td>0.0</td>\n",
       "      <td>0.0</td>\n",
       "      <td>0.0</td>\n",
       "      <td>0.0</td>\n",
       "      <td>0.0</td>\n",
       "      <td>0.0</td>\n",
       "      <td>1.0</td>\n",
       "      <td>0.0</td>\n",
       "      <td>0.0</td>\n",
       "      <td>1.0</td>\n",
       "      <td>0.0</td>\n",
       "      <td>0.0</td>\n",
       "      <td>0.0</td>\n",
       "      <td>1.0</td>\n",
       "      <td>0.0</td>\n",
       "      <td>1.0</td>\n",
       "      <td>0.0</td>\n",
       "      <td>0.0</td>\n",
       "      <td>0.0</td>\n",
       "    </tr>\n",
       "    <tr>\n",
       "      <th>4</th>\n",
       "      <td>1.0</td>\n",
       "      <td>0.0</td>\n",
       "      <td>0.0</td>\n",
       "      <td>0.0</td>\n",
       "      <td>0.0</td>\n",
       "      <td>0.0</td>\n",
       "      <td>0.0</td>\n",
       "      <td>0.0</td>\n",
       "      <td>0.0</td>\n",
       "      <td>0.0</td>\n",
       "      <td>0.0</td>\n",
       "      <td>0.0</td>\n",
       "      <td>0.0</td>\n",
       "      <td>0.0</td>\n",
       "      <td>0.0</td>\n",
       "      <td>1.0</td>\n",
       "      <td>0.0</td>\n",
       "      <td>0.0</td>\n",
       "      <td>0.0</td>\n",
       "      <td>0.0</td>\n",
       "      <td>0.0</td>\n",
       "      <td>1.0</td>\n",
       "      <td>0.0</td>\n",
       "      <td>0.0</td>\n",
       "    </tr>\n",
       "  </tbody>\n",
       "</table>\n",
       "</div>"
      ],
      "text/plain": [
       "   STATE_FL  STATE_GA  STATE_IL  STATE_IN  STATE_MI  STATE_MO  STATE_NC  \\\n",
       "0       0.0       0.0       1.0       0.0       0.0       0.0       0.0   \n",
       "1       0.0       0.0       0.0       0.0       0.0       0.0       0.0   \n",
       "2       0.0       0.0       0.0       0.0       0.0       0.0       1.0   \n",
       "3       0.0       0.0       0.0       0.0       0.0       0.0       0.0   \n",
       "4       1.0       0.0       0.0       0.0       0.0       0.0       0.0   \n",
       "\n",
       "   STATE_TX  STATE_WA  STATE_WI  STATE_other  HOMEOWNR_U  GENDER_M  \\\n",
       "0       0.0       0.0       0.0          0.0         0.0       0.0   \n",
       "1       0.0       0.0       0.0          0.0         0.0       1.0   \n",
       "2       0.0       0.0       0.0          0.0         1.0       1.0   \n",
       "3       0.0       0.0       0.0          0.0         1.0       0.0   \n",
       "4       0.0       0.0       0.0          0.0         0.0       0.0   \n",
       "\n",
       "   GENDER_other  RFA_2A_E  RFA_2A_F  RFA_2A_G  GEOCODE2_B  GEOCODE2_C  \\\n",
       "0           0.0       1.0       0.0       0.0         0.0         1.0   \n",
       "1           0.0       0.0       0.0       1.0         0.0         0.0   \n",
       "2           0.0       1.0       0.0       0.0         0.0         1.0   \n",
       "3           0.0       1.0       0.0       0.0         0.0         1.0   \n",
       "4           0.0       0.0       1.0       0.0         0.0         0.0   \n",
       "\n",
       "   GEOCODE2_D  DOMAIN_A_R  DOMAIN_A_S  DOMAIN_A_T  DOMAIN_A_U  \n",
       "0         0.0         0.0         0.0         1.0         0.0  \n",
       "1         0.0         0.0         1.0         0.0         0.0  \n",
       "2         0.0         1.0         0.0         0.0         0.0  \n",
       "3         0.0         1.0         0.0         0.0         0.0  \n",
       "4         0.0         0.0         1.0         0.0         0.0  "
      ]
     },
     "execution_count": 8,
     "metadata": {},
     "output_type": "execute_result"
    }
   ],
   "source": [
    "# Encoding the categorical data into number\n",
    "\n",
    "encoder = OneHotEncoder(handle_unknown=\"ignore\", drop=\"first\").fit(str_cat)\n",
    "encoded = encoder.transform(str_cat).toarray()\n",
    "cat_encoded = pd.DataFrame(encoded)\n",
    "cat_encoded.columns = encoder.get_feature_names_out()\n",
    "cat_encoded.head()"
   ]
  },
  {
   "cell_type": "code",
   "execution_count": 9,
   "id": "25e5f8f1",
   "metadata": {},
   "outputs": [
    {
     "name": "stdout",
     "output_type": "stream",
     "text": [
      "<class 'pandas.core.frame.DataFrame'>\n",
      "RangeIndex: 95412 entries, 0 to 95411\n",
      "Columns: 354 entries, STATE_FL to CLUSTER2\n",
      "dtypes: float64(33), int64(321)\n",
      "memory usage: 257.7 MB\n"
     ]
    }
   ],
   "source": [
    "# Concat all columns into one data frame\n",
    "\n",
    "df = pd.concat([cat_encoded, numeric_cat, num_df], axis=1)\n",
    "df.info()"
   ]
  },
  {
   "cell_type": "code",
   "execution_count": 10,
   "id": "cbe6740e",
   "metadata": {},
   "outputs": [],
   "source": [
    "X = df"
   ]
  },
  {
   "cell_type": "code",
   "execution_count": 11,
   "id": "f2afa1d4",
   "metadata": {},
   "outputs": [
    {
     "data": {
      "text/html": [
       "<div>\n",
       "<style scoped>\n",
       "    .dataframe tbody tr th:only-of-type {\n",
       "        vertical-align: middle;\n",
       "    }\n",
       "\n",
       "    .dataframe tbody tr th {\n",
       "        vertical-align: top;\n",
       "    }\n",
       "\n",
       "    .dataframe thead th {\n",
       "        text-align: right;\n",
       "    }\n",
       "</style>\n",
       "<table border=\"1\" class=\"dataframe\">\n",
       "  <thead>\n",
       "    <tr style=\"text-align: right;\">\n",
       "      <th></th>\n",
       "      <th>TARGET_B</th>\n",
       "      <th>TARGET_D</th>\n",
       "    </tr>\n",
       "  </thead>\n",
       "  <tbody>\n",
       "    <tr>\n",
       "      <th>0</th>\n",
       "      <td>0</td>\n",
       "      <td>0.0</td>\n",
       "    </tr>\n",
       "    <tr>\n",
       "      <th>1</th>\n",
       "      <td>0</td>\n",
       "      <td>0.0</td>\n",
       "    </tr>\n",
       "    <tr>\n",
       "      <th>2</th>\n",
       "      <td>0</td>\n",
       "      <td>0.0</td>\n",
       "    </tr>\n",
       "    <tr>\n",
       "      <th>3</th>\n",
       "      <td>0</td>\n",
       "      <td>0.0</td>\n",
       "    </tr>\n",
       "    <tr>\n",
       "      <th>4</th>\n",
       "      <td>0</td>\n",
       "      <td>0.0</td>\n",
       "    </tr>\n",
       "  </tbody>\n",
       "</table>\n",
       "</div>"
      ],
      "text/plain": [
       "   TARGET_B  TARGET_D\n",
       "0         0       0.0\n",
       "1         0       0.0\n",
       "2         0       0.0\n",
       "3         0       0.0\n",
       "4         0       0.0"
      ]
     },
     "execution_count": 11,
     "metadata": {},
     "output_type": "execute_result"
    }
   ],
   "source": [
    "# Download the target\n",
    "\n",
    "y = pd.read_csv(\"target.csv\")\n",
    "y.head()"
   ]
  },
  {
   "cell_type": "markdown",
   "id": "7c113adf",
   "metadata": {},
   "source": [
    "- In this lab, we want to work on imbalanced data using SMOTE technique\n",
    "- Therefore, we will work on TARGET_B as our target column"
   ]
  },
  {
   "cell_type": "code",
   "execution_count": 12,
   "id": "2c15051b",
   "metadata": {},
   "outputs": [],
   "source": [
    "# Get only TARGET_D as our target\n",
    "y = y[[\"TARGET_B\"]]\n",
    "# y.head()"
   ]
  },
  {
   "cell_type": "code",
   "execution_count": 13,
   "id": "e0ebca2a",
   "metadata": {},
   "outputs": [
    {
     "name": "stdout",
     "output_type": "stream",
     "text": [
      "TARGET_B\n",
      "0           90569\n",
      "1            4843\n",
      "dtype: int64\n"
     ]
    },
    {
     "data": {
      "text/plain": [
       "Text(0, 0.5, 'Count')"
      ]
     },
     "execution_count": 13,
     "metadata": {},
     "output_type": "execute_result"
    },
    {
     "data": {
      "image/png": "[encoded data removed]",
      "text/plain": [
       "<Figure size 640x480 with 1 Axes>"
      ]
     },
     "metadata": {},
     "output_type": "display_data"
    }
   ],
   "source": [
    "# Check the target \n",
    "print(y.value_counts())\n",
    "\n",
    "sns.countplot(y.TARGET_B)\n",
    "plt.xlabel(\"Donation (No/Yes)\")\n",
    "plt.ylabel(\"Count\")\n"
   ]
  },
  {
   "cell_type": "markdown",
   "id": "826b20a8",
   "metadata": {},
   "source": [
    "- We see imbalanced data\n",
    "- Therefore, we will use SMOTE technique to work on the imbalanced data"
   ]
  },
  {
   "cell_type": "markdown",
   "id": "31e977c4",
   "metadata": {},
   "source": [
    "# SMOTE Upsampling Technique"
   ]
  },
  {
   "cell_type": "code",
   "execution_count": 14,
   "id": "a1711b54",
   "metadata": {},
   "outputs": [
    {
     "name": "stdout",
     "output_type": "stream",
     "text": [
      "y_train (N rows): 71559\n"
     ]
    }
   ],
   "source": [
    "# Train-Test split\n",
    "\n",
    "X_train, X_test, y_train, y_test = train_test_split(X, y, test_size=0.25, random_state=42)\n",
    "# print(len(X_train))\n",
    "print(\"y_train (N rows):\", len(y_train))"
   ]
  },
  {
   "cell_type": "code",
   "execution_count": 15,
   "id": "8448c12f",
   "metadata": {},
   "outputs": [
    {
     "name": "stdout",
     "output_type": "stream",
     "text": [
      "Sample after SMOTE (N rows): \n",
      " TARGET_B\n",
      "0           67905\n",
      "1           67905\n",
      "dtype: int64 \n",
      "\n",
      "Sample before SMOTE (N rows): \n",
      " TARGET_B\n",
      "0           67905\n",
      "1            3654\n",
      "dtype: int64 \n",
      "\n"
     ]
    },
    {
     "data": {
      "text/plain": [
       "Text(0, 0.5, 'Count')"
      ]
     },
     "execution_count": 15,
     "metadata": {},
     "output_type": "execute_result"
    },
    {
     "data": {
      "image/png": "[encoded data removed]",
      "text/plain": [
       "<Figure size 640x480 with 1 Axes>"
      ]
     },
     "metadata": {},
     "output_type": "display_data"
    }
   ],
   "source": [
    "# Oversampling with SMOTE\n",
    "sm = SMOTE(random_state = 42)\n",
    "X_train_smt, y_train_smt = sm.fit_resample(X_train, y_train)\n",
    "print(\"Sample after SMOTE (N rows):\", \"\\n\", y_train_smt.value_counts(), \"\\n\")\n",
    "print(\"Sample before SMOTE (N rows):\", \"\\n\", y_train.value_counts(), \"\\n\")\n",
    "\n",
    "sns.countplot(y_train_smt.TARGET_B)\n",
    "plt.xlabel(\"Donation (No/Yes)\")\n",
    "plt.ylabel(\"Count\")"
   ]
  },
  {
   "cell_type": "markdown",
   "id": "d82a615f",
   "metadata": {},
   "source": [
    "# Random Forest - Baseline Model"
   ]
  },
  {
   "cell_type": "code",
   "execution_count": 16,
   "id": "0c8b87e2",
   "metadata": {},
   "outputs": [],
   "source": [
    "# Define function for apllying different model\n",
    "\n",
    "def fitting_model(model_x_condition, X_train, y_train):\n",
    "    \n",
    "    # setup and train the model\n",
    "    model = model_x_condition.fit(X_train,y_train) \n",
    "    \n",
    "    # predict the y_pred (predictions)\n",
    "    predictions = model.predict(X_test)\n",
    "    \n",
    "    # Evaluate the model\n",
    "    print(classification_report(y_test, predictions))\n",
    "\n",
    "    # Visualze\n",
    "    cm = confusion_matrix(y_test, predictions)\n",
    "\n",
    "    # plot the confusion matrix as a heatmap\n",
    "    plt.imshow(cm, cmap=plt.cm.Blues)\n",
    "    plt.title('Confusion Matrix')\n",
    "    plt.colorbar()\n",
    "    plt.xlabel('Predicted Response')\n",
    "    plt.ylabel('True Response')\n",
    "    plt.xticks([0,1], ['No', 'Yes'])\n",
    "    plt.yticks([0,1], ['No', 'Yes'])\n",
    "\n",
    "    # add the values of the confusion matrix to the heatmap\n",
    "    thresh = cm.max() / 2.\n",
    "    for i, j in ((0, 0), (0, 1), (1, 0), (1, 1)):\n",
    "        plt.text(j, i, cm[i, j],\n",
    "                 horizontalalignment=\"center\",\n",
    "                 color=\"white\" if cm[i, j] > thresh else \"black\")\n",
    "\n",
    "    plt.show()\n",
    "    "
   ]
  },
  {
   "cell_type": "code",
   "execution_count": 17,
   "id": "6caca026",
   "metadata": {},
   "outputs": [
    {
     "name": "stdout",
     "output_type": "stream",
     "text": [
      "\n",
      " Random Forest - Baseline Model: \n",
      "\n",
      "              precision    recall  f1-score   support\n",
      "\n",
      "           0       0.95      1.00      0.97     22664\n",
      "           1       0.00      0.00      0.00      1189\n",
      "\n",
      "    accuracy                           0.95     23853\n",
      "   macro avg       0.48      0.50      0.49     23853\n",
      "weighted avg       0.90      0.95      0.93     23853\n",
      "\n"
     ]
    },
    {
     "data": {
      "image/png": "[encoded data removed]",
      "text/plain": [
       "<Figure size 640x480 with 2 Axes>"
      ]
     },
     "metadata": {},
     "output_type": "display_data"
    }
   ],
   "source": [
    "# Calling the RandomForest as a baseline model\n",
    "print(\"\\n\", \"Random Forest - Baseline Model:\", \"\\n\")\n",
    "fitting_model(RandomForestClassifier(random_state = 42), X_train, y_train)"
   ]
  },
  {
   "cell_type": "markdown",
   "id": "b662102f",
   "metadata": {},
   "source": [
    "# Random Forest - SMOTE"
   ]
  },
  {
   "cell_type": "code",
   "execution_count": 18,
   "id": "3a0cf03e",
   "metadata": {},
   "outputs": [
    {
     "name": "stdout",
     "output_type": "stream",
     "text": [
      "Random Forest - SMOTE: \n",
      "\n",
      "              precision    recall  f1-score   support\n",
      "\n",
      "           0       0.95      1.00      0.97     22664\n",
      "           1       0.00      0.00      0.00      1189\n",
      "\n",
      "    accuracy                           0.95     23853\n",
      "   macro avg       0.48      0.50      0.49     23853\n",
      "weighted avg       0.90      0.95      0.93     23853\n",
      "\n"
     ]
    },
    {
     "data": {
      "image/png": "[encoded data removed]",
      "text/plain": [
       "<Figure size 640x480 with 2 Axes>"
      ]
     },
     "metadata": {},
     "output_type": "display_data"
    }
   ],
   "source": [
    "# Calling the RandomForest after SMOTE technoque\n",
    "print(\"Random Forest - SMOTE:\", \"\\n\")\n",
    "fitting_model(RandomForestClassifier(random_state = 42), X_train_smt, y_train_smt)\n"
   ]
  },
  {
   "cell_type": "markdown",
   "id": "691aa899",
   "metadata": {},
   "source": [
    "# Result\n",
    "\n",
    "- **Both baseline and random forest models are able to predict only the \"No (0)\" class**. \n",
    "- **Even though we did the Oversampling technique using SMOTE, the Random Forest model was not improved in predicting another class at all**.\n",
    "\n",
    "**Possibles reasons**:\n",
    "- We skipped the features selection/engineering process. Including all columns from the whole dataset in the feature is not ideal. \n",
    "\n",
    "**Further steps**:\n",
    "- We could get back to the very first step --> feature selection before predicting the model\n",
    "- We could also try other ML algorithms apart from Random Forest\n",
    "\n",
    "\n",
    "**Observe**\n",
    "- If we do the resampling with the whole dataset, the model get improved & seems to predict pretty well for both classes.\n",
    "- My opinion, resamling the whole dataset means data leak. So I resampled only the training set. \n",
    "\n",
    "**Note**: \n",
    "- I noticed that I used a different dataset than my classmate for this lab. \n",
    "- This dataset contains > 300 columns, which means it needs more steps to work on the feature selection/engineering part. (For this lab I didn't go over those steps). \n",
    "\n",
    "- I might get back to work on this later.\n",
    "\n",
    "\n"
   ]
  },
  {
   "cell_type": "code",
   "execution_count": 19,
   "id": "7b9309de",
   "metadata": {},
   "outputs": [],
   "source": [
    "#### THANK YOU 💖 ####"
   ]
  },
  {
   "cell_type": "markdown",
   "id": "faab9ab2",
   "metadata": {},
   "source": [
    "#### Read more about random_state in Random Forest\n",
    "\n",
    "- [What is random_state?](https://medium.com/mlearning-ai/what-the-heck-is-random-state-24a7a8389f3d)"
   ]
  },
  {
   "cell_type": "code",
   "execution_count": null,
   "id": "0704a1c1",
   "metadata": {},
   "outputs": [],
   "source": []
  }
 ],
 "metadata": {
  "kernelspec": {
   "display_name": "Python 3 (ipykernel)",
   "language": "python",
   "name": "python3"
  },
  "language_info": {
   "codemirror_mode": {
    "name": "ipython",
    "version": 3
   },
   "file_extension": ".py",
   "mimetype": "text/x-python",
   "name": "python",
   "nbconvert_exporter": "python",
   "pygments_lexer": "ipython3",
   "version": "3.9.13"
  }
 },
 "nbformat": 4,
 "nbformat_minor": 5
}
