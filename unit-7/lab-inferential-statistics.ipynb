{
 "cells": [
  {
   "cell_type": "markdown",
   "id": "847d7324",
   "metadata": {},
   "source": [
    "# Lab | Inferential statistics\n",
    "### Instructions\n",
    "It is assumed that the mean systolic blood pressure is μ = 120 mm Hg. In the Honolulu Heart Study, a sample of n = 100 people had an average systolic blood pressure of 130.1 mm Hg with a standard deviation of 21.21 mm Hg. Is the group significantly different (with respect to systolic blood pressure!) from the regular population?\n",
    "\n",
    "Set up the hypothesis test.\n",
    "Write down all the steps followed for setting up the test.\n",
    "Calculate the test statistic by hand and also code it in Python. It should be 4.76190. We will take a look at how to make decisions based on this calculated value.\n",
    "If you finished the previous question, please go through the code for principal_component_analysis_example provided in the files_for_lab folder ."
   ]
  },
  {
   "cell_type": "markdown",
   "id": "755a3b4d",
   "metadata": {},
   "source": [
    "**Step 1:** Define the null hypothesis - This is our assumption about the population. It is defined by H0 and in this case **H0: μ = 120**;\n",
    "\n",
    "**Step 2:** Define the alternative hypothesis - This means, what if our assumption is not true. It is defined by Ha and in this case **Ha: μ ≠ 113.1**. \n",
    "\n",
    "**Step 3:** Determine if it is a one-tailed or a two-tailed test. This is a **two-tailed test**.\n",
    "\n",
    "**Step 4:** N = 100, we can either use z-test or t-test.\n",
    "\n",
    "**Step 5:** Level of significance: This defines the rejection region/critical region, it's the probability of making the wrong decision when the null hypothesis is true. In **this case is 0.05**. \n",
    " \n",
    "**Step 6:** Calculate the test statistic based on the given information.\n",
    "\n",
    "**Step 7:** Check the table to determine the critical value.\n",
    "<br> For z-test you have fixed values according to Confidence Level.\n",
    "<br> For t-test you have to calculate according to the degrees of freedom (df), which is the *sample_size - 1*.\n",
    "\n",
    "**Step 8:** Make conclusions:\n",
    "* If the test statistic falls in the critical region, then we reject the Null Hypothesis\n",
    "* If the test statistic falls in the region between the critical region, then we fail to reject the Null Hypothesis."
   ]
  },
  {
   "cell_type": "code",
   "execution_count": 5,
   "id": "8b77b357",
   "metadata": {},
   "outputs": [
    {
     "name": "stdout",
     "output_type": "stream",
     "text": [
      "statistic value -3.253182461103256\n",
      "p-value:  0.0007807351304365829\n"
     ]
    }
   ],
   "source": [
    "import math\n",
    "import scipy.stats\n",
    "\n",
    "sample_mean = 113.1\n",
    "pop_mean = 120\n",
    "pop_std = 21.21\n",
    "n = 100\n",
    "\n",
    "statistic = (sample_mean - pop_mean)/(pop_std/math.sqrt(n))\n",
    "print(\"statistic value\", statistic)\n",
    "\n",
    "# Determining the p-value\n",
    "p_val = scipy.stats.t.sf(abs(statistic), df = n-1) \n",
    "print(\"p-value: \", p_val)"
   ]
  },
  {
   "cell_type": "markdown",
   "id": "bdb20226",
   "metadata": {},
   "source": [
    "### Conclusion\n",
    "\n",
    "> statistic = -3.25 \n",
    "\n",
    "> p-value = 0.00018\n",
    "\n",
    "- From the result, we rejected the H0, meaning\n",
    "\n",
    "    **Blood pressure of sample group in Honolulu is significantly different from the regular population**"
   ]
  },
  {
   "cell_type": "code",
   "execution_count": null,
   "id": "11886f1d",
   "metadata": {},
   "outputs": [],
   "source": []
  }
 ],
 "metadata": {
  "kernelspec": {
   "display_name": "Python 3 (ipykernel)",
   "language": "python",
   "name": "python3"
  },
  "language_info": {
   "codemirror_mode": {
    "name": "ipython",
    "version": 3
   },
   "file_extension": ".py",
   "mimetype": "text/x-python",
   "name": "python",
   "nbconvert_exporter": "python",
   "pygments_lexer": "ipython3",
   "version": "3.9.13"
  }
 },
 "nbformat": 4,
 "nbformat_minor": 5
}
