{
 "cells": [
  {
   "cell_type": "markdown",
   "id": "ded6ab2d",
   "metadata": {},
   "source": [
    "# Lab | Inferential statistics - T-test & P-value\n",
    "### Instructions\n",
    "We will have another simple example on two sample t test (pooled- when the variances are equal). But this time this is a one sided t-test\n",
    "\n",
    "\n",
    "In a packing plant, a machine packs cartons with jars. It is supposed that a new machine will pack faster on the average than the machine currently used. To test that hypothesis, the times it takes each machine to pack ten cartons are recorded. The results, in seconds, are shown in the tables in the file files_for_lab/machine.txt. Assume that there is sufficient evidence to conduct the t test, does the data provide sufficient evidence to show if one machine is better than the other\n"
   ]
  },
  {
   "cell_type": "markdown",
   "id": "95178e90",
   "metadata": {},
   "source": [
    "**Step 1:** Define the null hypothesis - **H0: μ1 ≤ μ2**. (μ1 = mean of time of an old machine, μ2 = mean of time of a new machine)\n",
    "\n",
    "**Step 2:** Define the alternative hypothesis - **Ha: μ1 > μ2**. \n",
    "\n",
    "**Step 3:** This is a **one-tailed test**.\n",
    "\n",
    "**Step 4:** It is a test between two groups, we will use a **t-test**. \n",
    "\n",
    "**Step 5:** Level of significance: **It is 0.05**. \n"
   ]
  },
  {
   "cell_type": "code",
   "execution_count": 4,
   "id": "7955cb4d",
   "metadata": {},
   "outputs": [
    {
     "data": {
      "text/plain": [
       "Ttest_indResult(statistic=3.3972307061176026, pvalue=0.0032111425007745158)"
      ]
     },
     "execution_count": 4,
     "metadata": {},
     "output_type": "execute_result"
    }
   ],
   "source": [
    "from scipy.stats import ttest_ind, norm\n",
    "\n",
    "# create the samples\n",
    "machi_curr = [42.7, 43.6, 43.8, 43.3, 42.5, 43.5, 43.1, 41.7, 44.0, 44.1]\n",
    "machi_new = [42.1, 41.0, 41.3, 41.8, 42.4, 42.8, 43.2, 42.3, 41.8, 42.7]\n",
    "\n",
    "ttest_ind(machi_curr, machi_new)"
   ]
  },
  {
   "cell_type": "markdown",
   "id": "31eaa72c",
   "metadata": {},
   "source": [
    "### Conclusion\n",
    "\n",
    "> statistic = 3.40\n",
    "\n",
    "> p-value = 0.0032\n",
    "\n",
    "- From the result, we rejected the H0, meaning\n",
    "\n",
    "    **A new machine will pack faster on the average than the machine currently used**"
   ]
  },
  {
   "cell_type": "code",
   "execution_count": null,
   "id": "ff0f380c",
   "metadata": {},
   "outputs": [],
   "source": []
  }
 ],
 "metadata": {
  "kernelspec": {
   "display_name": "Python 3 (ipykernel)",
   "language": "python",
   "name": "python3"
  },
  "language_info": {
   "codemirror_mode": {
    "name": "ipython",
    "version": 3
   },
   "file_extension": ".py",
   "mimetype": "text/x-python",
   "name": "python",
   "nbconvert_exporter": "python",
   "pygments_lexer": "ipython3",
   "version": "3.9.13"
  }
 },
 "nbformat": 4,
 "nbformat_minor": 5
}
