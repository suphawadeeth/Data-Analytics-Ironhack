{
 "cells": [
  {
   "cell_type": "markdown",
   "metadata": {},
   "source": [
    "# Lab | Revisiting Machine Learning Case Study\n",
    "- In this lab, you will use learningSet.csv file which you already have cloned in today's activities.\n",
    "\n",
    "### Instructions\n",
    "Complete the following steps on the categorical columns in the dataset:\n",
    "\n",
    "- Check for null values in all the columns\n",
    "\n",
    "- Exclude the following variables by looking at the definitions. Create a new empty list called drop_list. We will append this list and then drop all the columns in this list later:\n",
    "\n",
    "    - OSOURCE - symbol definitions not provided, too many categories\n",
    "    - ZIP CODE - we are including state already\n",
    "- Identify columns that over 85% missing values\n",
    "\n",
    "- Remove those columns from the dataframe\n",
    "\n",
    "- Reduce the number of categories in the column GENDER. The column should only have either \"M\" for males, \"F\" for females, and \"other\" for all the rest\n",
    "\n",
    "    - Note that there are a few null values in the column. We will first replace those null values using the code below:\n",
    "        print(categorical['GENDER'].value_counts())\n",
    "        categorical['GENDER'] = categorical['GENDER'].fillna('F')"
   ]
  },
  {
   "cell_type": "markdown",
   "metadata": {},
   "source": [
    "## Understand The Problem\n",
    "\n",
    "2 Problems are raised:\n",
    "    \n",
    "    1) Donate or not donate --> Binary Classification \"target_b\"\n",
    "\n",
    "    2) The amount of donation --> Linear Regression \"target_d\"\n",
    "\n",
    "Goal:\n",
    "- Target the high amount of donation group (consider cost-effective)"
   ]
  },
  {
   "cell_type": "markdown",
   "metadata": {},
   "source": [
    "## Import Libraries"
   ]
  },
  {
   "cell_type": "code",
   "execution_count": 1,
   "metadata": {},
   "outputs": [],
   "source": [
    "import pandas as pd\n",
    "import numpy as np\n",
    "import seaborn as sns\n",
    "import matplotlib.pyplot as plt\n",
    "\n",
    "import warnings\n",
    "warnings.filterwarnings(\"ignore\")\n",
    "warnings.filterwarnings(\"ignore\", message=\"numpy.ufunc size changed\")"
   ]
  },
  {
   "cell_type": "markdown",
   "metadata": {},
   "source": [
    "## Import Data"
   ]
  },
  {
   "cell_type": "code",
   "execution_count": 2,
   "metadata": {},
   "outputs": [
    {
     "data": {
      "text/html": [
       "<div>\n",
       "<style scoped>\n",
       "    .dataframe tbody tr th:only-of-type {\n",
       "        vertical-align: middle;\n",
       "    }\n",
       "\n",
       "    .dataframe tbody tr th {\n",
       "        vertical-align: top;\n",
       "    }\n",
       "\n",
       "    .dataframe thead th {\n",
       "        text-align: right;\n",
       "    }\n",
       "</style>\n",
       "<table border=\"1\" class=\"dataframe\">\n",
       "  <thead>\n",
       "    <tr style=\"text-align: right;\">\n",
       "      <th></th>\n",
       "      <th>ODATEDW</th>\n",
       "      <th>OSOURCE</th>\n",
       "      <th>TCODE</th>\n",
       "      <th>STATE</th>\n",
       "      <th>ZIP</th>\n",
       "      <th>MAILCODE</th>\n",
       "      <th>PVASTATE</th>\n",
       "      <th>DOB</th>\n",
       "      <th>NOEXCH</th>\n",
       "      <th>RECINHSE</th>\n",
       "      <th>...</th>\n",
       "      <th>TARGET_D</th>\n",
       "      <th>HPHONE_D</th>\n",
       "      <th>RFA_2R</th>\n",
       "      <th>RFA_2F</th>\n",
       "      <th>RFA_2A</th>\n",
       "      <th>MDMAUD_R</th>\n",
       "      <th>MDMAUD_F</th>\n",
       "      <th>MDMAUD_A</th>\n",
       "      <th>CLUSTER2</th>\n",
       "      <th>GEOCODE2</th>\n",
       "    </tr>\n",
       "  </thead>\n",
       "  <tbody>\n",
       "    <tr>\n",
       "      <th>0</th>\n",
       "      <td>8901</td>\n",
       "      <td>GRI</td>\n",
       "      <td>0</td>\n",
       "      <td>IL</td>\n",
       "      <td>61081</td>\n",
       "      <td></td>\n",
       "      <td></td>\n",
       "      <td>3712</td>\n",
       "      <td>0</td>\n",
       "      <td></td>\n",
       "      <td>...</td>\n",
       "      <td>0.0</td>\n",
       "      <td>0</td>\n",
       "      <td>L</td>\n",
       "      <td>4</td>\n",
       "      <td>E</td>\n",
       "      <td>X</td>\n",
       "      <td>X</td>\n",
       "      <td>X</td>\n",
       "      <td>39.0</td>\n",
       "      <td>C</td>\n",
       "    </tr>\n",
       "    <tr>\n",
       "      <th>1</th>\n",
       "      <td>9401</td>\n",
       "      <td>BOA</td>\n",
       "      <td>1</td>\n",
       "      <td>CA</td>\n",
       "      <td>91326</td>\n",
       "      <td></td>\n",
       "      <td></td>\n",
       "      <td>5202</td>\n",
       "      <td>0</td>\n",
       "      <td></td>\n",
       "      <td>...</td>\n",
       "      <td>0.0</td>\n",
       "      <td>0</td>\n",
       "      <td>L</td>\n",
       "      <td>2</td>\n",
       "      <td>G</td>\n",
       "      <td>X</td>\n",
       "      <td>X</td>\n",
       "      <td>X</td>\n",
       "      <td>1.0</td>\n",
       "      <td>A</td>\n",
       "    </tr>\n",
       "    <tr>\n",
       "      <th>2</th>\n",
       "      <td>9001</td>\n",
       "      <td>AMH</td>\n",
       "      <td>1</td>\n",
       "      <td>NC</td>\n",
       "      <td>27017</td>\n",
       "      <td></td>\n",
       "      <td></td>\n",
       "      <td>0</td>\n",
       "      <td>0</td>\n",
       "      <td></td>\n",
       "      <td>...</td>\n",
       "      <td>0.0</td>\n",
       "      <td>1</td>\n",
       "      <td>L</td>\n",
       "      <td>4</td>\n",
       "      <td>E</td>\n",
       "      <td>X</td>\n",
       "      <td>X</td>\n",
       "      <td>X</td>\n",
       "      <td>60.0</td>\n",
       "      <td>C</td>\n",
       "    </tr>\n",
       "    <tr>\n",
       "      <th>3</th>\n",
       "      <td>8701</td>\n",
       "      <td>BRY</td>\n",
       "      <td>0</td>\n",
       "      <td>CA</td>\n",
       "      <td>95953</td>\n",
       "      <td></td>\n",
       "      <td></td>\n",
       "      <td>2801</td>\n",
       "      <td>0</td>\n",
       "      <td></td>\n",
       "      <td>...</td>\n",
       "      <td>0.0</td>\n",
       "      <td>1</td>\n",
       "      <td>L</td>\n",
       "      <td>4</td>\n",
       "      <td>E</td>\n",
       "      <td>X</td>\n",
       "      <td>X</td>\n",
       "      <td>X</td>\n",
       "      <td>41.0</td>\n",
       "      <td>C</td>\n",
       "    </tr>\n",
       "    <tr>\n",
       "      <th>4</th>\n",
       "      <td>8601</td>\n",
       "      <td></td>\n",
       "      <td>0</td>\n",
       "      <td>FL</td>\n",
       "      <td>33176</td>\n",
       "      <td></td>\n",
       "      <td></td>\n",
       "      <td>2001</td>\n",
       "      <td>0</td>\n",
       "      <td>X</td>\n",
       "      <td>...</td>\n",
       "      <td>0.0</td>\n",
       "      <td>1</td>\n",
       "      <td>L</td>\n",
       "      <td>2</td>\n",
       "      <td>F</td>\n",
       "      <td>X</td>\n",
       "      <td>X</td>\n",
       "      <td>X</td>\n",
       "      <td>26.0</td>\n",
       "      <td>A</td>\n",
       "    </tr>\n",
       "  </tbody>\n",
       "</table>\n",
       "<p>5 rows × 481 columns</p>\n",
       "</div>"
      ],
      "text/plain": [
       "   ODATEDW OSOURCE  TCODE STATE    ZIP MAILCODE PVASTATE   DOB NOEXCH  \\\n",
       "0     8901     GRI      0    IL  61081                    3712      0   \n",
       "1     9401     BOA      1    CA  91326                    5202      0   \n",
       "2     9001     AMH      1    NC  27017                       0      0   \n",
       "3     8701     BRY      0    CA  95953                    2801      0   \n",
       "4     8601              0    FL  33176                    2001      0   \n",
       "\n",
       "  RECINHSE  ... TARGET_D HPHONE_D RFA_2R RFA_2F RFA_2A MDMAUD_R  MDMAUD_F  \\\n",
       "0           ...      0.0        0      L      4      E        X         X   \n",
       "1           ...      0.0        0      L      2      G        X         X   \n",
       "2           ...      0.0        1      L      4      E        X         X   \n",
       "3           ...      0.0        1      L      4      E        X         X   \n",
       "4        X  ...      0.0        1      L      2      F        X         X   \n",
       "\n",
       "  MDMAUD_A CLUSTER2 GEOCODE2  \n",
       "0        X     39.0        C  \n",
       "1        X      1.0        A  \n",
       "2        X     60.0        C  \n",
       "3        X     41.0        C  \n",
       "4        X     26.0        A  \n",
       "\n",
       "[5 rows x 481 columns]"
      ]
     },
     "execution_count": 2,
     "metadata": {},
     "output_type": "execute_result"
    }
   ],
   "source": [
    "df = pd.read_csv(\"/Users/kt/Desktop/Ironhack/Data-Analytics-Ironhack/unit-7/learningSet.csv\")\n",
    "df.head()"
   ]
  },
  {
   "cell_type": "markdown",
   "metadata": {},
   "source": [
    "## Exploratory Data Analysis (EDA)"
   ]
  },
  {
   "cell_type": "code",
   "execution_count": 3,
   "metadata": {},
   "outputs": [
    {
     "data": {
      "text/plain": [
       "(95412, 481)"
      ]
     },
     "execution_count": 3,
     "metadata": {},
     "output_type": "execute_result"
    }
   ],
   "source": [
    "# Check rows, columns\n",
    "df.shape"
   ]
  },
  {
   "cell_type": "code",
   "execution_count": 4,
   "metadata": {},
   "outputs": [],
   "source": [
    "# Standardize columns' name\n",
    "df.columns = [df.columns[i].lower().replace(\" \",\"_\") for i in range(len(df.columns))]\n",
    "# df.columns"
   ]
  },
  {
   "cell_type": "code",
   "execution_count": 5,
   "metadata": {},
   "outputs": [
    {
     "name": "stdout",
     "output_type": "stream",
     "text": [
      "<class 'pandas.core.frame.DataFrame'>\n",
      "RangeIndex: 95412 entries, 0 to 95411\n",
      "Columns: 481 entries, odatedw to geocode2\n",
      "dtypes: float64(97), int64(310), object(74)\n",
      "memory usage: 350.1+ MB\n"
     ]
    }
   ],
   "source": [
    "# Check dtypes --> float64(97), int64(310), object(74)\n",
    "df.info()"
   ]
  },
  {
   "cell_type": "code",
   "execution_count": 6,
   "metadata": {},
   "outputs": [
    {
     "name": "stdout",
     "output_type": "stream",
     "text": [
      "There are 0 duplicate rows. Also;\n"
     ]
    },
    {
     "data": {
      "text/html": [
       "<div>\n",
       "<style scoped>\n",
       "    .dataframe tbody tr th:only-of-type {\n",
       "        vertical-align: middle;\n",
       "    }\n",
       "\n",
       "    .dataframe tbody tr th {\n",
       "        vertical-align: top;\n",
       "    }\n",
       "\n",
       "    .dataframe thead th {\n",
       "        text-align: right;\n",
       "    }\n",
       "</style>\n",
       "<table border=\"1\" class=\"dataframe\">\n",
       "  <thead>\n",
       "    <tr style=\"text-align: right;\">\n",
       "      <th></th>\n",
       "      <th>NaN</th>\n",
       "      <th>EmptySpaces</th>\n",
       "    </tr>\n",
       "  </thead>\n",
       "  <tbody>\n",
       "    <tr>\n",
       "      <th>odatedw</th>\n",
       "      <td>0</td>\n",
       "      <td>0</td>\n",
       "    </tr>\n",
       "    <tr>\n",
       "      <th>osource</th>\n",
       "      <td>0</td>\n",
       "      <td>928</td>\n",
       "    </tr>\n",
       "    <tr>\n",
       "      <th>tcode</th>\n",
       "      <td>0</td>\n",
       "      <td>0</td>\n",
       "    </tr>\n",
       "    <tr>\n",
       "      <th>state</th>\n",
       "      <td>0</td>\n",
       "      <td>0</td>\n",
       "    </tr>\n",
       "    <tr>\n",
       "      <th>zip</th>\n",
       "      <td>0</td>\n",
       "      <td>0</td>\n",
       "    </tr>\n",
       "    <tr>\n",
       "      <th>...</th>\n",
       "      <td>...</td>\n",
       "      <td>...</td>\n",
       "    </tr>\n",
       "    <tr>\n",
       "      <th>mdmaud_r</th>\n",
       "      <td>0</td>\n",
       "      <td>0</td>\n",
       "    </tr>\n",
       "    <tr>\n",
       "      <th>mdmaud_f</th>\n",
       "      <td>0</td>\n",
       "      <td>0</td>\n",
       "    </tr>\n",
       "    <tr>\n",
       "      <th>mdmaud_a</th>\n",
       "      <td>0</td>\n",
       "      <td>0</td>\n",
       "    </tr>\n",
       "    <tr>\n",
       "      <th>cluster2</th>\n",
       "      <td>132</td>\n",
       "      <td>0</td>\n",
       "    </tr>\n",
       "    <tr>\n",
       "      <th>geocode2</th>\n",
       "      <td>132</td>\n",
       "      <td>187</td>\n",
       "    </tr>\n",
       "  </tbody>\n",
       "</table>\n",
       "<p>481 rows × 2 columns</p>\n",
       "</div>"
      ],
      "text/plain": [
       "          NaN  EmptySpaces\n",
       "odatedw     0            0\n",
       "osource     0          928\n",
       "tcode       0            0\n",
       "state       0            0\n",
       "zip         0            0\n",
       "...       ...          ...\n",
       "mdmaud_r    0            0\n",
       "mdmaud_f    0            0\n",
       "mdmaud_a    0            0\n",
       "cluster2  132            0\n",
       "geocode2  132          187\n",
       "\n",
       "[481 rows x 2 columns]"
      ]
     },
     "execution_count": 6,
     "metadata": {},
     "output_type": "execute_result"
    }
   ],
   "source": [
    "# Check NaN & whitespace & duplicate rows in data frame\n",
    "\n",
    "def data_explore(data): # sum & returns duplicates, NaN & empty spaces\n",
    "    dup_rows = data.duplicated().sum()\n",
    "    nan = data.isna().sum()\n",
    "    empty = data.eq(' ').sum()\n",
    "    explore = pd.DataFrame({\"NaN\": nan, \"EmptySpaces\": empty}) # New dataframe with the results\n",
    "    print(f\"There are {data.duplicated().sum()} duplicate rows. Also;\")\n",
    "    return explore\n",
    "\n",
    "data_explore(df)"
   ]
  },
  {
   "cell_type": "markdown",
   "metadata": {},
   "source": [
    "### Replace empty spaces with NaN"
   ]
  },
  {
   "cell_type": "code",
   "execution_count": 7,
   "metadata": {
    "scrolled": false
   },
   "outputs": [
    {
     "name": "stdout",
     "output_type": "stream",
     "text": [
      "There are 0 duplicate rows. Also;\n"
     ]
    },
    {
     "data": {
      "text/html": [
       "<div>\n",
       "<style scoped>\n",
       "    .dataframe tbody tr th:only-of-type {\n",
       "        vertical-align: middle;\n",
       "    }\n",
       "\n",
       "    .dataframe tbody tr th {\n",
       "        vertical-align: top;\n",
       "    }\n",
       "\n",
       "    .dataframe thead th {\n",
       "        text-align: right;\n",
       "    }\n",
       "</style>\n",
       "<table border=\"1\" class=\"dataframe\">\n",
       "  <thead>\n",
       "    <tr style=\"text-align: right;\">\n",
       "      <th></th>\n",
       "      <th>NaN</th>\n",
       "      <th>EmptySpaces</th>\n",
       "    </tr>\n",
       "  </thead>\n",
       "  <tbody>\n",
       "    <tr>\n",
       "      <th>odatedw</th>\n",
       "      <td>0</td>\n",
       "      <td>0</td>\n",
       "    </tr>\n",
       "    <tr>\n",
       "      <th>osource</th>\n",
       "      <td>928</td>\n",
       "      <td>0</td>\n",
       "    </tr>\n",
       "    <tr>\n",
       "      <th>tcode</th>\n",
       "      <td>0</td>\n",
       "      <td>0</td>\n",
       "    </tr>\n",
       "    <tr>\n",
       "      <th>state</th>\n",
       "      <td>0</td>\n",
       "      <td>0</td>\n",
       "    </tr>\n",
       "    <tr>\n",
       "      <th>zip</th>\n",
       "      <td>0</td>\n",
       "      <td>0</td>\n",
       "    </tr>\n",
       "    <tr>\n",
       "      <th>...</th>\n",
       "      <td>...</td>\n",
       "      <td>...</td>\n",
       "    </tr>\n",
       "    <tr>\n",
       "      <th>mdmaud_r</th>\n",
       "      <td>0</td>\n",
       "      <td>0</td>\n",
       "    </tr>\n",
       "    <tr>\n",
       "      <th>mdmaud_f</th>\n",
       "      <td>0</td>\n",
       "      <td>0</td>\n",
       "    </tr>\n",
       "    <tr>\n",
       "      <th>mdmaud_a</th>\n",
       "      <td>0</td>\n",
       "      <td>0</td>\n",
       "    </tr>\n",
       "    <tr>\n",
       "      <th>cluster2</th>\n",
       "      <td>132</td>\n",
       "      <td>0</td>\n",
       "    </tr>\n",
       "    <tr>\n",
       "      <th>geocode2</th>\n",
       "      <td>319</td>\n",
       "      <td>0</td>\n",
       "    </tr>\n",
       "  </tbody>\n",
       "</table>\n",
       "<p>481 rows × 2 columns</p>\n",
       "</div>"
      ],
      "text/plain": [
       "          NaN  EmptySpaces\n",
       "odatedw     0            0\n",
       "osource   928            0\n",
       "tcode       0            0\n",
       "state       0            0\n",
       "zip         0            0\n",
       "...       ...          ...\n",
       "mdmaud_r    0            0\n",
       "mdmaud_f    0            0\n",
       "mdmaud_a    0            0\n",
       "cluster2  132            0\n",
       "geocode2  319            0\n",
       "\n",
       "[481 rows x 2 columns]"
      ]
     },
     "execution_count": 7,
     "metadata": {},
     "output_type": "execute_result"
    }
   ],
   "source": [
    "# We see a lot of empty space in the data frame. We can replace those with NaN\n",
    "df = df.replace(r'^\\s*$', np.nan, regex=True)\n",
    "\n",
    "data_explore(df)"
   ]
  },
  {
   "cell_type": "markdown",
   "metadata": {},
   "source": [
    "### Explore how much are those NaN (%)"
   ]
  },
  {
   "cell_type": "code",
   "execution_count": 8,
   "metadata": {},
   "outputs": [
    {
     "data": {
      "text/html": [
       "<div>\n",
       "<style scoped>\n",
       "    .dataframe tbody tr th:only-of-type {\n",
       "        vertical-align: middle;\n",
       "    }\n",
       "\n",
       "    .dataframe tbody tr th {\n",
       "        vertical-align: top;\n",
       "    }\n",
       "\n",
       "    .dataframe thead th {\n",
       "        text-align: right;\n",
       "    }\n",
       "</style>\n",
       "<table border=\"1\" class=\"dataframe\">\n",
       "  <thead>\n",
       "    <tr style=\"text-align: right;\">\n",
       "      <th></th>\n",
       "      <th>percentage</th>\n",
       "    </tr>\n",
       "  </thead>\n",
       "  <tbody>\n",
       "    <tr>\n",
       "      <th>rdate_5</th>\n",
       "      <td>99.990567</td>\n",
       "    </tr>\n",
       "    <tr>\n",
       "      <th>ramnt_5</th>\n",
       "      <td>99.990567</td>\n",
       "    </tr>\n",
       "    <tr>\n",
       "      <th>recpgvg</th>\n",
       "      <td>99.880518</td>\n",
       "    </tr>\n",
       "    <tr>\n",
       "      <th>solp3</th>\n",
       "      <td>99.811344</td>\n",
       "    </tr>\n",
       "    <tr>\n",
       "      <th>ramnt_3</th>\n",
       "      <td>99.746363</td>\n",
       "    </tr>\n",
       "    <tr>\n",
       "      <th>...</th>\n",
       "      <td>...</td>\n",
       "    </tr>\n",
       "    <tr>\n",
       "      <th>ic2</th>\n",
       "      <td>0.000000</td>\n",
       "    </tr>\n",
       "    <tr>\n",
       "      <th>ic1</th>\n",
       "      <td>0.000000</td>\n",
       "    </tr>\n",
       "    <tr>\n",
       "      <th>rp4</th>\n",
       "      <td>0.000000</td>\n",
       "    </tr>\n",
       "    <tr>\n",
       "      <th>rp3</th>\n",
       "      <td>0.000000</td>\n",
       "    </tr>\n",
       "    <tr>\n",
       "      <th>tpe11</th>\n",
       "      <td>0.000000</td>\n",
       "    </tr>\n",
       "  </tbody>\n",
       "</table>\n",
       "<p>481 rows × 1 columns</p>\n",
       "</div>"
      ],
      "text/plain": [
       "         percentage\n",
       "rdate_5   99.990567\n",
       "ramnt_5   99.990567\n",
       "recpgvg   99.880518\n",
       "solp3     99.811344\n",
       "ramnt_3   99.746363\n",
       "...             ...\n",
       "ic2        0.000000\n",
       "ic1        0.000000\n",
       "rp4        0.000000\n",
       "rp3        0.000000\n",
       "tpe11      0.000000\n",
       "\n",
       "[481 rows x 1 columns]"
      ]
     },
     "execution_count": 8,
     "metadata": {},
     "output_type": "execute_result"
    }
   ],
   "source": [
    "nulls = pd.DataFrame(df.isna().sum()*100/len(df), columns=['percentage'])\n",
    "nulls.sort_values('percentage', ascending = False)"
   ]
  },
  {
   "cell_type": "code",
   "execution_count": 9,
   "metadata": {
    "scrolled": false
   },
   "outputs": [],
   "source": [
    "# Identify columns that over 85% missing values\n",
    "\n",
    "# Get nulls with >85%\n",
    "df_nan = nulls[nulls[\"percentage\"] > 85] \n",
    "\n",
    "# Get the columns' name\n",
    "nan85 = df_nan.index.tolist()\n",
    "\n",
    "# nan85\n",
    "# len(nan85)"
   ]
  },
  {
   "cell_type": "code",
   "execution_count": 10,
   "metadata": {
    "scrolled": false
   },
   "outputs": [],
   "source": [
    "# Remove all those columns (nan > 85%) from the data frame\n",
    "\n",
    "df = df.drop(nan85, axis=1)"
   ]
  },
  {
   "cell_type": "code",
   "execution_count": 11,
   "metadata": {},
   "outputs": [
    {
     "data": {
      "text/plain": [
       "(95412, 426)"
      ]
     },
     "execution_count": 11,
     "metadata": {},
     "output_type": "execute_result"
    }
   ],
   "source": [
    "# Delete 55 columns --> We have 426 columns left\n",
    "df.shape"
   ]
  },
  {
   "cell_type": "markdown",
   "metadata": {},
   "source": [
    "## Explore Target\n",
    "### Check Target_D (Donate vs Not Donate)\n",
    "0 - No donate\n",
    "\n",
    "1 - Donate"
   ]
  },
  {
   "cell_type": "code",
   "execution_count": 12,
   "metadata": {
    "scrolled": false
   },
   "outputs": [
    {
     "name": "stdout",
     "output_type": "stream",
     "text": [
      "0    90569\n",
      "1     4843\n",
      "Name: target_b, dtype: int64\n"
     ]
    },
    {
     "data": {
      "text/plain": [
       "Text(0, 0.5, 'Count')"
      ]
     },
     "execution_count": 12,
     "metadata": {},
     "output_type": "execute_result"
    },
    {
     "data": {
      "image/png": "[encoded data removed]",
      "text/plain": [
       "<Figure size 640x480 with 1 Axes>"
      ]
     },
     "metadata": {},
     "output_type": "display_data"
    }
   ],
   "source": [
    "print(df.target_b.value_counts())\n",
    "\n",
    "sns.countplot(df.target_b)\n",
    "plt.xlabel(\"Donation (No/Yes)\")\n",
    "plt.ylabel(\"Count\")"
   ]
  },
  {
   "cell_type": "markdown",
   "metadata": {},
   "source": [
    "### Check Taget_B (The amount of donation)\n",
    "\n",
    "We see there's huge gap between the 2 groups of donation. The donate group is about 5% of the data whereas around 95% are non-donate. \n",
    "\n",
    "Since we're interested in the donation group. We will take a look how much the donors spent. \n",
    "As the marketing has a cost (0.68/mail), we want to focus on the high donate group. "
   ]
  },
  {
   "cell_type": "code",
   "execution_count": 13,
   "metadata": {},
   "outputs": [
    {
     "data": {
      "text/plain": [
       "4843"
      ]
     },
     "execution_count": 13,
     "metadata": {},
     "output_type": "execute_result"
    }
   ],
   "source": [
    "# Get the donate group & see amount of the donation\n",
    "df_donate = df[df[\"target_d\"] > 0]\n",
    "# df_donate.head()\n",
    "len(df_donate)"
   ]
  },
  {
   "cell_type": "code",
   "execution_count": 14,
   "metadata": {},
   "outputs": [
    {
     "name": "stdout",
     "output_type": "stream",
     "text": [
      "count    4843.000000\n",
      "mean       15.624344\n",
      "std        12.445137\n",
      "min         1.000000\n",
      "25%        10.000000\n",
      "50%        13.000000\n",
      "75%        20.000000\n",
      "max       200.000000\n",
      "Name: target_d, dtype: float64 \n",
      "\n"
     ]
    },
    {
     "data": {
      "text/plain": [
       "Text(0, 0.5, 'Density')"
      ]
     },
     "execution_count": 14,
     "metadata": {},
     "output_type": "execute_result"
    },
    {
     "data": {
      "image/png": "[encoded data removed]",
      "text/plain": [
       "<Figure size 640x480 with 1 Axes>"
      ]
     },
     "metadata": {},
     "output_type": "display_data"
    }
   ],
   "source": [
    "# Visualize donate group\n",
    "sns.distplot(df_donate[\"target_d\"])\n",
    "print(df_donate[\"target_d\"].describe(), \"\\n\")\n",
    "# print(df_donate[\"target_d\"].value_counts())\n",
    "plt.xlabel(\"Amount (dollars)\")\n",
    "plt.ylabel(\"Density\")"
   ]
  },
  {
   "cell_type": "markdown",
   "metadata": {},
   "source": [
    "- From the plot & describtive stats, we see that average amount of donation is about 15 dollars, max is 200.\n",
    "- We have so small amount of donors with high amount of donation."
   ]
  },
  {
   "cell_type": "code",
   "execution_count": 15,
   "metadata": {
    "scrolled": true
   },
   "outputs": [
    {
     "data": {
      "text/html": [
       "<div>\n",
       "<style scoped>\n",
       "    .dataframe tbody tr th:only-of-type {\n",
       "        vertical-align: middle;\n",
       "    }\n",
       "\n",
       "    .dataframe tbody tr th {\n",
       "        vertical-align: top;\n",
       "    }\n",
       "\n",
       "    .dataframe thead th {\n",
       "        text-align: right;\n",
       "    }\n",
       "</style>\n",
       "<table border=\"1\" class=\"dataframe\">\n",
       "  <thead>\n",
       "    <tr style=\"text-align: right;\">\n",
       "      <th></th>\n",
       "      <th>osource</th>\n",
       "      <th>state</th>\n",
       "      <th>zip</th>\n",
       "      <th>noexch</th>\n",
       "      <th>mdmaud</th>\n",
       "      <th>domain</th>\n",
       "      <th>cluster</th>\n",
       "      <th>ageflag</th>\n",
       "      <th>homeownr</th>\n",
       "      <th>gender</th>\n",
       "      <th>...</th>\n",
       "      <th>rfa_21</th>\n",
       "      <th>rfa_22</th>\n",
       "      <th>rfa_23</th>\n",
       "      <th>rfa_24</th>\n",
       "      <th>rfa_2r</th>\n",
       "      <th>rfa_2a</th>\n",
       "      <th>mdmaud_r</th>\n",
       "      <th>mdmaud_f</th>\n",
       "      <th>mdmaud_a</th>\n",
       "      <th>geocode2</th>\n",
       "    </tr>\n",
       "  </thead>\n",
       "  <tbody>\n",
       "    <tr>\n",
       "      <th>0</th>\n",
       "      <td>GRI</td>\n",
       "      <td>IL</td>\n",
       "      <td>61081</td>\n",
       "      <td>0</td>\n",
       "      <td>XXXX</td>\n",
       "      <td>T2</td>\n",
       "      <td>36</td>\n",
       "      <td>NaN</td>\n",
       "      <td>NaN</td>\n",
       "      <td>F</td>\n",
       "      <td>...</td>\n",
       "      <td>S4E</td>\n",
       "      <td>S4E</td>\n",
       "      <td>S4E</td>\n",
       "      <td>S4E</td>\n",
       "      <td>L</td>\n",
       "      <td>E</td>\n",
       "      <td>X</td>\n",
       "      <td>X</td>\n",
       "      <td>X</td>\n",
       "      <td>C</td>\n",
       "    </tr>\n",
       "    <tr>\n",
       "      <th>1</th>\n",
       "      <td>BOA</td>\n",
       "      <td>CA</td>\n",
       "      <td>91326</td>\n",
       "      <td>0</td>\n",
       "      <td>XXXX</td>\n",
       "      <td>S1</td>\n",
       "      <td>14</td>\n",
       "      <td>E</td>\n",
       "      <td>H</td>\n",
       "      <td>M</td>\n",
       "      <td>...</td>\n",
       "      <td>N1E</td>\n",
       "      <td>N1E</td>\n",
       "      <td>NaN</td>\n",
       "      <td>F1E</td>\n",
       "      <td>L</td>\n",
       "      <td>G</td>\n",
       "      <td>X</td>\n",
       "      <td>X</td>\n",
       "      <td>X</td>\n",
       "      <td>A</td>\n",
       "    </tr>\n",
       "    <tr>\n",
       "      <th>2</th>\n",
       "      <td>AMH</td>\n",
       "      <td>NC</td>\n",
       "      <td>27017</td>\n",
       "      <td>0</td>\n",
       "      <td>XXXX</td>\n",
       "      <td>R2</td>\n",
       "      <td>43</td>\n",
       "      <td>NaN</td>\n",
       "      <td>U</td>\n",
       "      <td>M</td>\n",
       "      <td>...</td>\n",
       "      <td>NaN</td>\n",
       "      <td>S4D</td>\n",
       "      <td>S4D</td>\n",
       "      <td>S3D</td>\n",
       "      <td>L</td>\n",
       "      <td>E</td>\n",
       "      <td>X</td>\n",
       "      <td>X</td>\n",
       "      <td>X</td>\n",
       "      <td>C</td>\n",
       "    </tr>\n",
       "    <tr>\n",
       "      <th>3</th>\n",
       "      <td>BRY</td>\n",
       "      <td>CA</td>\n",
       "      <td>95953</td>\n",
       "      <td>0</td>\n",
       "      <td>XXXX</td>\n",
       "      <td>R2</td>\n",
       "      <td>44</td>\n",
       "      <td>E</td>\n",
       "      <td>U</td>\n",
       "      <td>F</td>\n",
       "      <td>...</td>\n",
       "      <td>A1D</td>\n",
       "      <td>A1D</td>\n",
       "      <td>NaN</td>\n",
       "      <td>NaN</td>\n",
       "      <td>L</td>\n",
       "      <td>E</td>\n",
       "      <td>X</td>\n",
       "      <td>X</td>\n",
       "      <td>X</td>\n",
       "      <td>C</td>\n",
       "    </tr>\n",
       "    <tr>\n",
       "      <th>4</th>\n",
       "      <td>NaN</td>\n",
       "      <td>FL</td>\n",
       "      <td>33176</td>\n",
       "      <td>0</td>\n",
       "      <td>XXXX</td>\n",
       "      <td>S2</td>\n",
       "      <td>16</td>\n",
       "      <td>E</td>\n",
       "      <td>H</td>\n",
       "      <td>F</td>\n",
       "      <td>...</td>\n",
       "      <td>A3D</td>\n",
       "      <td>I4E</td>\n",
       "      <td>A3D</td>\n",
       "      <td>A3D</td>\n",
       "      <td>L</td>\n",
       "      <td>F</td>\n",
       "      <td>X</td>\n",
       "      <td>X</td>\n",
       "      <td>X</td>\n",
       "      <td>A</td>\n",
       "    </tr>\n",
       "  </tbody>\n",
       "</table>\n",
       "<p>5 rows × 44 columns</p>\n",
       "</div>"
      ],
      "text/plain": [
       "  osource state    zip noexch mdmaud domain cluster ageflag homeownr gender  \\\n",
       "0     GRI    IL  61081      0   XXXX     T2      36     NaN      NaN      F   \n",
       "1     BOA    CA  91326      0   XXXX     S1      14       E        H      M   \n",
       "2     AMH    NC  27017      0   XXXX     R2      43     NaN        U      M   \n",
       "3     BRY    CA  95953      0   XXXX     R2      44       E        U      F   \n",
       "4     NaN    FL  33176      0   XXXX     S2      16       E        H      F   \n",
       "\n",
       "   ... rfa_21 rfa_22 rfa_23 rfa_24 rfa_2r rfa_2a mdmaud_r mdmaud_f mdmaud_a  \\\n",
       "0  ...    S4E    S4E    S4E    S4E      L      E        X        X        X   \n",
       "1  ...    N1E    N1E    NaN    F1E      L      G        X        X        X   \n",
       "2  ...    NaN    S4D    S4D    S3D      L      E        X        X        X   \n",
       "3  ...    A1D    A1D    NaN    NaN      L      E        X        X        X   \n",
       "4  ...    A3D    I4E    A3D    A3D      L      F        X        X        X   \n",
       "\n",
       "  geocode2  \n",
       "0        C  \n",
       "1        A  \n",
       "2        C  \n",
       "3        C  \n",
       "4        A  \n",
       "\n",
       "[5 rows x 44 columns]"
      ]
     },
     "execution_count": 15,
     "metadata": {},
     "output_type": "execute_result"
    }
   ],
   "source": [
    "# Following lab instruction --> select categorical variable for this lab\n",
    "df_cat = df.select_dtypes(object)\n",
    "df_cat.head()"
   ]
  },
  {
   "cell_type": "markdown",
   "metadata": {},
   "source": [
    "### Lab instruction\n",
    "\n",
    "Exclude the following variables by looking at the definitions. Create a new empty list called drop_list. We will append this list and then drop all the columns in this list later:\n",
    "\n",
    "    - OSOURCE - symbol definitions not provided, too many categories\n",
    "    - ZIP CODE - we are including state already"
   ]
  },
  {
   "cell_type": "code",
   "execution_count": 16,
   "metadata": {},
   "outputs": [],
   "source": [
    "drop_list = [\"osource\", \"zip_code\"]"
   ]
  },
  {
   "cell_type": "markdown",
   "metadata": {},
   "source": [
    "### Reduce the number of categories in the column GENDER."
   ]
  },
  {
   "cell_type": "code",
   "execution_count": 17,
   "metadata": {},
   "outputs": [
    {
     "data": {
      "text/plain": [
       "F    51277\n",
       "M    39094\n",
       "U     1715\n",
       "J      365\n",
       "C        2\n",
       "A        2\n",
       "Name: gender, dtype: int64"
      ]
     },
     "execution_count": 17,
     "metadata": {},
     "output_type": "execute_result"
    }
   ],
   "source": [
    "# Check values in GENDER\n",
    "df_cat[\"gender\"].value_counts()"
   ]
  },
  {
   "cell_type": "code",
   "execution_count": 18,
   "metadata": {},
   "outputs": [],
   "source": [
    "# Chaeck NaN\n",
    "# df_cat[\"gender\"].isna().sum()"
   ]
  },
  {
   "cell_type": "code",
   "execution_count": 19,
   "metadata": {},
   "outputs": [],
   "source": [
    "# Fill NaN with \"U\" - Unknown\n",
    "df_cat[\"gender\"] = df_cat[\"gender\"].fillna(\"U\")\n",
    "\n",
    "# df_cat[\"gender\"].value_counts()"
   ]
  },
  {
   "cell_type": "code",
   "execution_count": 20,
   "metadata": {},
   "outputs": [
    {
     "data": {
      "text/plain": [
       "F        51277\n",
       "M        39094\n",
       "other     5041\n",
       "Name: gender, dtype: int64"
      ]
     },
     "execution_count": 20,
     "metadata": {},
     "output_type": "execute_result"
    }
   ],
   "source": [
    "df_cat[\"gender\"] = df_cat[\"gender\"].apply(lambda x: \"F\" if x == \"F\" else (\"M\" if x == \"M\" else \"other\"))\n",
    "df_cat[\"gender\"].value_counts()"
   ]
  },
  {
   "cell_type": "code",
   "execution_count": 21,
   "metadata": {},
   "outputs": [
    {
     "data": {
      "text/plain": [
       "Text(0, 0.5, 'Count')"
      ]
     },
     "execution_count": 21,
     "metadata": {},
     "output_type": "execute_result"
    },
    {
     "data": {
      "image/png": "[encoded data removed]",
      "text/plain": [
       "<Figure size 640x480 with 1 Axes>"
      ]
     },
     "metadata": {},
     "output_type": "display_data"
    }
   ],
   "source": [
    "sns.countplot(df_cat[\"gender\"])\n",
    "plt.xlabel(\"Gender\")\n",
    "plt.ylabel(\"Count\")"
   ]
  },
  {
   "cell_type": "code",
   "execution_count": null,
   "metadata": {},
   "outputs": [],
   "source": []
  }
 ],
 "metadata": {
  "kernelspec": {
   "display_name": "Python 3 (ipykernel)",
   "language": "python",
   "name": "python3"
  },
  "language_info": {
   "codemirror_mode": {
    "name": "ipython",
    "version": 3
   },
   "file_extension": ".py",
   "mimetype": "text/x-python",
   "name": "python",
   "nbconvert_exporter": "python",
   "pygments_lexer": "ipython3",
   "version": "3.9.13"
  }
 },
 "nbformat": 4,
 "nbformat_minor": 2
}
