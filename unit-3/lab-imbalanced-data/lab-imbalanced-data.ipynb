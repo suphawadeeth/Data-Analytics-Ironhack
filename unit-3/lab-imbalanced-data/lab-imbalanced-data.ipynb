{
 "cells": [
  {
   "cell_type": "markdown",
   "id": "1b38d791",
   "metadata": {},
   "source": [
    "# Lab | Imbalanced data\n",
    "We will be using the files_for_lab/customer_churn.csv dataset to build a churn predictor.\n",
    "\n",
    "### Instructions\n",
    "1. Load the dataset and explore the variables.\n",
    "2. We will try to predict variable Churn using a logistic regression on variables tenure, SeniorCitizen,MonthlyCharges.\n",
    "3. Extract the target variable.\n",
    "4. Extract the independent variables and scale them.\n",
    "5. Build the logistic regression model.\n",
    "6. Evaluate the model.\n",
    "7. Even a simple model will give us more than 70% accuracy. Why?\n",
    "8. Synthetic Minority Oversampling TEchnique (SMOTE) is an over sampling technique based on nearest neighbors that adds new points between existing points. Apply imblearn.over_sampling.SMOTE to the dataset. Build and evaluate the logistic regression model. Is it there any improvement?\n",
    "9. Tomek links are pairs of very close instances, but of opposite classes. Removing the instances of the majority class of each pair increases the space between the two classes, facilitating the classification process. Apply imblearn.under_sampling.TomekLinks to the dataset. Build and evaluate the logistic regression model. Is it there any improvement?"
   ]
  },
  {
   "cell_type": "markdown",
   "id": "40e72ab7",
   "metadata": {},
   "source": [
    "## Import Libraries"
   ]
  },
  {
   "cell_type": "code",
   "execution_count": 1,
   "id": "6681d82c",
   "metadata": {},
   "outputs": [],
   "source": [
    "import pandas as pd\n",
    "import numpy as np\n",
    "from sklearn.linear_model import LogisticRegression\n",
    "from sklearn.preprocessing import StandardScaler\n",
    "from sklearn.metrics import confusion_matrix\n",
    "import warnings\n",
    "from sklearn.metrics import cohen_kappa_score\n",
    "from sklearn.model_selection import train_test_split\n",
    "import matplotlib.pyplot as plt\n",
    "import seaborn as sns \n",
    "warnings.filterwarnings('ignore')"
   ]
  },
  {
   "cell_type": "markdown",
   "id": "8630ce70",
   "metadata": {},
   "source": [
    "## 1. Load the dataset and explore the variables.\n"
   ]
  },
  {
   "cell_type": "code",
   "execution_count": 2,
   "id": "6314ca0a",
   "metadata": {},
   "outputs": [
    {
     "data": {
      "text/html": [
       "<div>\n",
       "<style scoped>\n",
       "    .dataframe tbody tr th:only-of-type {\n",
       "        vertical-align: middle;\n",
       "    }\n",
       "\n",
       "    .dataframe tbody tr th {\n",
       "        vertical-align: top;\n",
       "    }\n",
       "\n",
       "    .dataframe thead th {\n",
       "        text-align: right;\n",
       "    }\n",
       "</style>\n",
       "<table border=\"1\" class=\"dataframe\">\n",
       "  <thead>\n",
       "    <tr style=\"text-align: right;\">\n",
       "      <th></th>\n",
       "      <th>customerID</th>\n",
       "      <th>gender</th>\n",
       "      <th>SeniorCitizen</th>\n",
       "      <th>Partner</th>\n",
       "      <th>Dependents</th>\n",
       "      <th>tenure</th>\n",
       "      <th>PhoneService</th>\n",
       "      <th>MultipleLines</th>\n",
       "      <th>InternetService</th>\n",
       "      <th>OnlineSecurity</th>\n",
       "      <th>...</th>\n",
       "      <th>DeviceProtection</th>\n",
       "      <th>TechSupport</th>\n",
       "      <th>StreamingTV</th>\n",
       "      <th>StreamingMovies</th>\n",
       "      <th>Contract</th>\n",
       "      <th>PaperlessBilling</th>\n",
       "      <th>PaymentMethod</th>\n",
       "      <th>MonthlyCharges</th>\n",
       "      <th>TotalCharges</th>\n",
       "      <th>Churn</th>\n",
       "    </tr>\n",
       "  </thead>\n",
       "  <tbody>\n",
       "    <tr>\n",
       "      <th>0</th>\n",
       "      <td>7590-VHVEG</td>\n",
       "      <td>Female</td>\n",
       "      <td>0</td>\n",
       "      <td>Yes</td>\n",
       "      <td>No</td>\n",
       "      <td>1</td>\n",
       "      <td>No</td>\n",
       "      <td>No phone service</td>\n",
       "      <td>DSL</td>\n",
       "      <td>No</td>\n",
       "      <td>...</td>\n",
       "      <td>No</td>\n",
       "      <td>No</td>\n",
       "      <td>No</td>\n",
       "      <td>No</td>\n",
       "      <td>Month-to-month</td>\n",
       "      <td>Yes</td>\n",
       "      <td>Electronic check</td>\n",
       "      <td>29.85</td>\n",
       "      <td>29.85</td>\n",
       "      <td>No</td>\n",
       "    </tr>\n",
       "    <tr>\n",
       "      <th>1</th>\n",
       "      <td>5575-GNVDE</td>\n",
       "      <td>Male</td>\n",
       "      <td>0</td>\n",
       "      <td>No</td>\n",
       "      <td>No</td>\n",
       "      <td>34</td>\n",
       "      <td>Yes</td>\n",
       "      <td>No</td>\n",
       "      <td>DSL</td>\n",
       "      <td>Yes</td>\n",
       "      <td>...</td>\n",
       "      <td>Yes</td>\n",
       "      <td>No</td>\n",
       "      <td>No</td>\n",
       "      <td>No</td>\n",
       "      <td>One year</td>\n",
       "      <td>No</td>\n",
       "      <td>Mailed check</td>\n",
       "      <td>56.95</td>\n",
       "      <td>1889.5</td>\n",
       "      <td>No</td>\n",
       "    </tr>\n",
       "    <tr>\n",
       "      <th>2</th>\n",
       "      <td>3668-QPYBK</td>\n",
       "      <td>Male</td>\n",
       "      <td>0</td>\n",
       "      <td>No</td>\n",
       "      <td>No</td>\n",
       "      <td>2</td>\n",
       "      <td>Yes</td>\n",
       "      <td>No</td>\n",
       "      <td>DSL</td>\n",
       "      <td>Yes</td>\n",
       "      <td>...</td>\n",
       "      <td>No</td>\n",
       "      <td>No</td>\n",
       "      <td>No</td>\n",
       "      <td>No</td>\n",
       "      <td>Month-to-month</td>\n",
       "      <td>Yes</td>\n",
       "      <td>Mailed check</td>\n",
       "      <td>53.85</td>\n",
       "      <td>108.15</td>\n",
       "      <td>Yes</td>\n",
       "    </tr>\n",
       "    <tr>\n",
       "      <th>3</th>\n",
       "      <td>7795-CFOCW</td>\n",
       "      <td>Male</td>\n",
       "      <td>0</td>\n",
       "      <td>No</td>\n",
       "      <td>No</td>\n",
       "      <td>45</td>\n",
       "      <td>No</td>\n",
       "      <td>No phone service</td>\n",
       "      <td>DSL</td>\n",
       "      <td>Yes</td>\n",
       "      <td>...</td>\n",
       "      <td>Yes</td>\n",
       "      <td>Yes</td>\n",
       "      <td>No</td>\n",
       "      <td>No</td>\n",
       "      <td>One year</td>\n",
       "      <td>No</td>\n",
       "      <td>Bank transfer (automatic)</td>\n",
       "      <td>42.30</td>\n",
       "      <td>1840.75</td>\n",
       "      <td>No</td>\n",
       "    </tr>\n",
       "    <tr>\n",
       "      <th>4</th>\n",
       "      <td>9237-HQITU</td>\n",
       "      <td>Female</td>\n",
       "      <td>0</td>\n",
       "      <td>No</td>\n",
       "      <td>No</td>\n",
       "      <td>2</td>\n",
       "      <td>Yes</td>\n",
       "      <td>No</td>\n",
       "      <td>Fiber optic</td>\n",
       "      <td>No</td>\n",
       "      <td>...</td>\n",
       "      <td>No</td>\n",
       "      <td>No</td>\n",
       "      <td>No</td>\n",
       "      <td>No</td>\n",
       "      <td>Month-to-month</td>\n",
       "      <td>Yes</td>\n",
       "      <td>Electronic check</td>\n",
       "      <td>70.70</td>\n",
       "      <td>151.65</td>\n",
       "      <td>Yes</td>\n",
       "    </tr>\n",
       "  </tbody>\n",
       "</table>\n",
       "<p>5 rows × 21 columns</p>\n",
       "</div>"
      ],
      "text/plain": [
       "   customerID  gender  SeniorCitizen Partner Dependents  tenure PhoneService  \\\n",
       "0  7590-VHVEG  Female              0     Yes         No       1           No   \n",
       "1  5575-GNVDE    Male              0      No         No      34          Yes   \n",
       "2  3668-QPYBK    Male              0      No         No       2          Yes   \n",
       "3  7795-CFOCW    Male              0      No         No      45           No   \n",
       "4  9237-HQITU  Female              0      No         No       2          Yes   \n",
       "\n",
       "      MultipleLines InternetService OnlineSecurity  ... DeviceProtection  \\\n",
       "0  No phone service             DSL             No  ...               No   \n",
       "1                No             DSL            Yes  ...              Yes   \n",
       "2                No             DSL            Yes  ...               No   \n",
       "3  No phone service             DSL            Yes  ...              Yes   \n",
       "4                No     Fiber optic             No  ...               No   \n",
       "\n",
       "  TechSupport StreamingTV StreamingMovies        Contract PaperlessBilling  \\\n",
       "0          No          No              No  Month-to-month              Yes   \n",
       "1          No          No              No        One year               No   \n",
       "2          No          No              No  Month-to-month              Yes   \n",
       "3         Yes          No              No        One year               No   \n",
       "4          No          No              No  Month-to-month              Yes   \n",
       "\n",
       "               PaymentMethod MonthlyCharges  TotalCharges Churn  \n",
       "0           Electronic check          29.85         29.85    No  \n",
       "1               Mailed check          56.95        1889.5    No  \n",
       "2               Mailed check          53.85        108.15   Yes  \n",
       "3  Bank transfer (automatic)          42.30       1840.75    No  \n",
       "4           Electronic check          70.70        151.65   Yes  \n",
       "\n",
       "[5 rows x 21 columns]"
      ]
     },
     "execution_count": 2,
     "metadata": {},
     "output_type": "execute_result"
    }
   ],
   "source": [
    "df = pd.read_csv('customer_churn.csv',sep=\",\")\n",
    "df.head()"
   ]
  },
  {
   "cell_type": "code",
   "execution_count": 3,
   "id": "e8317c2a",
   "metadata": {},
   "outputs": [
    {
     "name": "stdout",
     "output_type": "stream",
     "text": [
      "<class 'pandas.core.frame.DataFrame'>\n",
      "RangeIndex: 7043 entries, 0 to 7042\n",
      "Data columns (total 21 columns):\n",
      " #   Column            Non-Null Count  Dtype  \n",
      "---  ------            --------------  -----  \n",
      " 0   customerID        7043 non-null   object \n",
      " 1   gender            7043 non-null   object \n",
      " 2   SeniorCitizen     7043 non-null   int64  \n",
      " 3   Partner           7043 non-null   object \n",
      " 4   Dependents        7043 non-null   object \n",
      " 5   tenure            7043 non-null   int64  \n",
      " 6   PhoneService      7043 non-null   object \n",
      " 7   MultipleLines     7043 non-null   object \n",
      " 8   InternetService   7043 non-null   object \n",
      " 9   OnlineSecurity    7043 non-null   object \n",
      " 10  OnlineBackup      7043 non-null   object \n",
      " 11  DeviceProtection  7043 non-null   object \n",
      " 12  TechSupport       7043 non-null   object \n",
      " 13  StreamingTV       7043 non-null   object \n",
      " 14  StreamingMovies   7043 non-null   object \n",
      " 15  Contract          7043 non-null   object \n",
      " 16  PaperlessBilling  7043 non-null   object \n",
      " 17  PaymentMethod     7043 non-null   object \n",
      " 18  MonthlyCharges    7043 non-null   float64\n",
      " 19  TotalCharges      7043 non-null   object \n",
      " 20  Churn             7043 non-null   object \n",
      "dtypes: float64(1), int64(2), object(18)\n",
      "memory usage: 1.1+ MB\n"
     ]
    }
   ],
   "source": [
    "df.info()"
   ]
  },
  {
   "cell_type": "code",
   "execution_count": 4,
   "id": "eac365e2",
   "metadata": {},
   "outputs": [],
   "source": [
    "# standardize column name\n",
    "df.columns = [df.columns[i].lower().replace(' ', '_') for i in range(len(df.columns))] "
   ]
  },
  {
   "cell_type": "code",
   "execution_count": 5,
   "id": "0427e8fd",
   "metadata": {
    "scrolled": true
   },
   "outputs": [
    {
     "data": {
      "text/plain": [
       "(7043, 21)"
      ]
     },
     "execution_count": 5,
     "metadata": {},
     "output_type": "execute_result"
    }
   ],
   "source": [
    "df.shape"
   ]
  },
  {
   "cell_type": "code",
   "execution_count": 6,
   "id": "4d307aff",
   "metadata": {},
   "outputs": [
    {
     "data": {
      "text/plain": [
       "customerid          0\n",
       "gender              0\n",
       "seniorcitizen       0\n",
       "partner             0\n",
       "dependents          0\n",
       "tenure              0\n",
       "phoneservice        0\n",
       "multiplelines       0\n",
       "internetservice     0\n",
       "onlinesecurity      0\n",
       "onlinebackup        0\n",
       "deviceprotection    0\n",
       "techsupport         0\n",
       "streamingtv         0\n",
       "streamingmovies     0\n",
       "contract            0\n",
       "paperlessbilling    0\n",
       "paymentmethod       0\n",
       "monthlycharges      0\n",
       "totalcharges        0\n",
       "churn               0\n",
       "dtype: int64"
      ]
     },
     "execution_count": 6,
     "metadata": {},
     "output_type": "execute_result"
    }
   ],
   "source": [
    "df.isna().sum()"
   ]
  },
  {
   "cell_type": "markdown",
   "id": "bdaee2b1",
   "metadata": {},
   "source": [
    "## 2. We will try to predict variable Churn using a logistic regression on variables tenure, SeniorCitizen,MonthlyCharges."
   ]
  },
  {
   "cell_type": "code",
   "execution_count": 7,
   "id": "2baea288",
   "metadata": {},
   "outputs": [],
   "source": [
    "# get numerical\n",
    "numerical = df[[\"tenure\", \"monthlycharges\"]]\n",
    "\n",
    "# get categorical\n",
    "categorical = df[[\"seniorcitizen\"]]"
   ]
  },
  {
   "cell_type": "code",
   "execution_count": 8,
   "id": "039e6503",
   "metadata": {
    "scrolled": true
   },
   "outputs": [
    {
     "name": "stdout",
     "output_type": "stream",
     "text": [
      "<class 'pandas.core.frame.DataFrame'>\n",
      "RangeIndex: 7043 entries, 0 to 7042\n",
      "Data columns (total 2 columns):\n",
      " #   Column          Non-Null Count  Dtype  \n",
      "---  ------          --------------  -----  \n",
      " 0   tenure          7043 non-null   int64  \n",
      " 1   monthlycharges  7043 non-null   float64\n",
      "dtypes: float64(1), int64(1)\n",
      "memory usage: 110.2 KB\n"
     ]
    }
   ],
   "source": [
    "numerical.info()"
   ]
  },
  {
   "cell_type": "code",
   "execution_count": 9,
   "id": "940bafc7",
   "metadata": {},
   "outputs": [
    {
     "data": {
      "text/html": [
       "<div>\n",
       "<style scoped>\n",
       "    .dataframe tbody tr th:only-of-type {\n",
       "        vertical-align: middle;\n",
       "    }\n",
       "\n",
       "    .dataframe tbody tr th {\n",
       "        vertical-align: top;\n",
       "    }\n",
       "\n",
       "    .dataframe thead th {\n",
       "        text-align: right;\n",
       "    }\n",
       "</style>\n",
       "<table border=\"1\" class=\"dataframe\">\n",
       "  <thead>\n",
       "    <tr style=\"text-align: right;\">\n",
       "      <th></th>\n",
       "      <th>tenure</th>\n",
       "      <th>monthlycharges</th>\n",
       "    </tr>\n",
       "  </thead>\n",
       "  <tbody>\n",
       "    <tr>\n",
       "      <th>count</th>\n",
       "      <td>7043.000000</td>\n",
       "      <td>7043.000000</td>\n",
       "    </tr>\n",
       "    <tr>\n",
       "      <th>mean</th>\n",
       "      <td>32.371149</td>\n",
       "      <td>64.761692</td>\n",
       "    </tr>\n",
       "    <tr>\n",
       "      <th>std</th>\n",
       "      <td>24.559481</td>\n",
       "      <td>30.090047</td>\n",
       "    </tr>\n",
       "    <tr>\n",
       "      <th>min</th>\n",
       "      <td>0.000000</td>\n",
       "      <td>18.250000</td>\n",
       "    </tr>\n",
       "    <tr>\n",
       "      <th>25%</th>\n",
       "      <td>9.000000</td>\n",
       "      <td>35.500000</td>\n",
       "    </tr>\n",
       "    <tr>\n",
       "      <th>50%</th>\n",
       "      <td>29.000000</td>\n",
       "      <td>70.350000</td>\n",
       "    </tr>\n",
       "    <tr>\n",
       "      <th>75%</th>\n",
       "      <td>55.000000</td>\n",
       "      <td>89.850000</td>\n",
       "    </tr>\n",
       "    <tr>\n",
       "      <th>max</th>\n",
       "      <td>72.000000</td>\n",
       "      <td>118.750000</td>\n",
       "    </tr>\n",
       "  </tbody>\n",
       "</table>\n",
       "</div>"
      ],
      "text/plain": [
       "            tenure  monthlycharges\n",
       "count  7043.000000     7043.000000\n",
       "mean     32.371149       64.761692\n",
       "std      24.559481       30.090047\n",
       "min       0.000000       18.250000\n",
       "25%       9.000000       35.500000\n",
       "50%      29.000000       70.350000\n",
       "75%      55.000000       89.850000\n",
       "max      72.000000      118.750000"
      ]
     },
     "execution_count": 9,
     "metadata": {},
     "output_type": "execute_result"
    }
   ],
   "source": [
    "numerical.describe()"
   ]
  },
  {
   "cell_type": "code",
   "execution_count": 10,
   "id": "746ee2b7",
   "metadata": {
    "scrolled": true
   },
   "outputs": [
    {
     "data": {
      "image/png": "[encoded data removed]",
      "text/plain": [
       "<Figure size 800x200 with 2 Axes>"
      ]
     },
     "metadata": {},
     "output_type": "display_data"
    }
   ],
   "source": [
    "# visualize to understand the data >> see data distribution\n",
    "\n",
    "import matplotlib.pyplot as plt\n",
    "import seaborn as sns \n",
    "\n",
    "enum = list(enumerate(numerical, start = 1)) \n",
    "plt.figure(figsize = (8, 2), constrained_layout = True)\n",
    "\n",
    "for i in enum:\n",
    "    plt.subplot(1, 3, i[0]) # create multi-plot, using subplot, 1 rows, 3 cols, sequence of plot (iterate through enum_x)\n",
    "    sns.distplot(numerical[(i[1])])\n",
    "    \n"
   ]
  },
  {
   "cell_type": "code",
   "execution_count": 11,
   "id": "7cf6c4bf",
   "metadata": {},
   "outputs": [
    {
     "data": {
      "text/html": [
       "<div>\n",
       "<style scoped>\n",
       "    .dataframe tbody tr th:only-of-type {\n",
       "        vertical-align: middle;\n",
       "    }\n",
       "\n",
       "    .dataframe tbody tr th {\n",
       "        vertical-align: top;\n",
       "    }\n",
       "\n",
       "    .dataframe thead th {\n",
       "        text-align: right;\n",
       "    }\n",
       "</style>\n",
       "<table border=\"1\" class=\"dataframe\">\n",
       "  <thead>\n",
       "    <tr style=\"text-align: right;\">\n",
       "      <th></th>\n",
       "      <th>0</th>\n",
       "      <th>1</th>\n",
       "    </tr>\n",
       "  </thead>\n",
       "  <tbody>\n",
       "    <tr>\n",
       "      <th>0</th>\n",
       "      <td>-1.277445</td>\n",
       "      <td>-1.160323</td>\n",
       "    </tr>\n",
       "    <tr>\n",
       "      <th>1</th>\n",
       "      <td>0.066327</td>\n",
       "      <td>-0.259629</td>\n",
       "    </tr>\n",
       "    <tr>\n",
       "      <th>2</th>\n",
       "      <td>-1.236724</td>\n",
       "      <td>-0.362660</td>\n",
       "    </tr>\n",
       "    <tr>\n",
       "      <th>3</th>\n",
       "      <td>0.514251</td>\n",
       "      <td>-0.746535</td>\n",
       "    </tr>\n",
       "    <tr>\n",
       "      <th>4</th>\n",
       "      <td>-1.236724</td>\n",
       "      <td>0.197365</td>\n",
       "    </tr>\n",
       "  </tbody>\n",
       "</table>\n",
       "</div>"
      ],
      "text/plain": [
       "          0         1\n",
       "0 -1.277445 -1.160323\n",
       "1  0.066327 -0.259629\n",
       "2 -1.236724 -0.362660\n",
       "3  0.514251 -0.746535\n",
       "4 -1.236724  0.197365"
      ]
     },
     "execution_count": 11,
     "metadata": {},
     "output_type": "execute_result"
    }
   ],
   "source": [
    "# Normalizes numerical data\n",
    "\n",
    "transformer = StandardScaler().fit(numerical)\n",
    "standard_x = transformer.transform(numerical)\n",
    "X_normed = pd.DataFrame(standard_x)\n",
    "X_normed.head()"
   ]
  },
  {
   "cell_type": "markdown",
   "id": "7429b56c",
   "metadata": {},
   "source": [
    "## 3. Extract the target variable.\n"
   ]
  },
  {
   "cell_type": "code",
   "execution_count": 12,
   "id": "92b4e52c",
   "metadata": {},
   "outputs": [
    {
     "data": {
      "text/plain": [
       "churn\n",
       "No       5174\n",
       "Yes      1869\n",
       "dtype: int64"
      ]
     },
     "execution_count": 12,
     "metadata": {},
     "output_type": "execute_result"
    }
   ],
   "source": [
    "# the target is Churn, so check the size of values & see how different they are\n",
    "\n",
    "y = df[['churn']]\n",
    "y.value_counts()"
   ]
  },
  {
   "cell_type": "markdown",
   "id": "3aae5f75",
   "metadata": {},
   "source": [
    "## 4. Extract the independent variables and scale them.\n",
    "\n",
    "\n"
   ]
  },
  {
   "cell_type": "code",
   "execution_count": 13,
   "id": "d26345fd",
   "metadata": {},
   "outputs": [],
   "source": [
    "# get independent variables, which I already scaled them\n",
    "X = pd.concat([categorical, X_normed], axis=1)"
   ]
  },
  {
   "cell_type": "code",
   "execution_count": 14,
   "id": "ac1c6240",
   "metadata": {},
   "outputs": [
    {
     "data": {
      "text/html": [
       "<div>\n",
       "<style scoped>\n",
       "    .dataframe tbody tr th:only-of-type {\n",
       "        vertical-align: middle;\n",
       "    }\n",
       "\n",
       "    .dataframe tbody tr th {\n",
       "        vertical-align: top;\n",
       "    }\n",
       "\n",
       "    .dataframe thead th {\n",
       "        text-align: right;\n",
       "    }\n",
       "</style>\n",
       "<table border=\"1\" class=\"dataframe\">\n",
       "  <thead>\n",
       "    <tr style=\"text-align: right;\">\n",
       "      <th></th>\n",
       "      <th>seniorcitizen</th>\n",
       "      <th>0</th>\n",
       "      <th>1</th>\n",
       "    </tr>\n",
       "  </thead>\n",
       "  <tbody>\n",
       "    <tr>\n",
       "      <th>0</th>\n",
       "      <td>0</td>\n",
       "      <td>-1.277445</td>\n",
       "      <td>-1.160323</td>\n",
       "    </tr>\n",
       "    <tr>\n",
       "      <th>1</th>\n",
       "      <td>0</td>\n",
       "      <td>0.066327</td>\n",
       "      <td>-0.259629</td>\n",
       "    </tr>\n",
       "    <tr>\n",
       "      <th>2</th>\n",
       "      <td>0</td>\n",
       "      <td>-1.236724</td>\n",
       "      <td>-0.362660</td>\n",
       "    </tr>\n",
       "    <tr>\n",
       "      <th>3</th>\n",
       "      <td>0</td>\n",
       "      <td>0.514251</td>\n",
       "      <td>-0.746535</td>\n",
       "    </tr>\n",
       "    <tr>\n",
       "      <th>4</th>\n",
       "      <td>0</td>\n",
       "      <td>-1.236724</td>\n",
       "      <td>0.197365</td>\n",
       "    </tr>\n",
       "  </tbody>\n",
       "</table>\n",
       "</div>"
      ],
      "text/plain": [
       "   seniorcitizen         0         1\n",
       "0              0 -1.277445 -1.160323\n",
       "1              0  0.066327 -0.259629\n",
       "2              0 -1.236724 -0.362660\n",
       "3              0  0.514251 -0.746535\n",
       "4              0 -1.236724  0.197365"
      ]
     },
     "execution_count": 14,
     "metadata": {},
     "output_type": "execute_result"
    }
   ],
   "source": [
    "X.head()"
   ]
  },
  {
   "cell_type": "markdown",
   "id": "9ddf3305",
   "metadata": {},
   "source": [
    "## 5. Build the logistic regression model.\n"
   ]
  },
  {
   "cell_type": "code",
   "execution_count": 15,
   "id": "e42223b0",
   "metadata": {},
   "outputs": [],
   "source": [
    "# Split rows\n",
    "X_train, X_test, y_train, y_test = train_test_split(X, y, test_size=0.2, random_state=42)\n",
    "\n",
    "# fitting the model with train sets\n",
    "classification = LogisticRegression(random_state=0).fit(X_train, y_train)\n",
    "\n",
    "# predict y with X test set\n",
    "predictions = classification.predict(X_test)\n",
    "\n"
   ]
  },
  {
   "cell_type": "markdown",
   "id": "3deffb86",
   "metadata": {},
   "source": [
    "## 6. Evaluate the model.\n"
   ]
  },
  {
   "cell_type": "code",
   "execution_count": 16,
   "id": "084c1656",
   "metadata": {},
   "outputs": [
    {
     "data": {
      "text/plain": [
       "0.81"
      ]
     },
     "execution_count": 16,
     "metadata": {},
     "output_type": "execute_result"
    }
   ],
   "source": [
    "# check accuracy score\n",
    "\n",
    "round(classification.score(X_test, y_test), 2)"
   ]
  },
  {
   "cell_type": "markdown",
   "id": "f7a5db41",
   "metadata": {},
   "source": [
    "## 7. Even a simple model will give us more than 70% accuracy. Why?\n"
   ]
  },
  {
   "cell_type": "code",
   "execution_count": 17,
   "id": "50f3ff3a",
   "metadata": {},
   "outputs": [
    {
     "name": "stdout",
     "output_type": "stream",
     "text": [
      "              precision    recall  f1-score   support\n",
      "\n",
      "          No       0.83      0.92      0.88      1036\n",
      "         Yes       0.69      0.48      0.57       373\n",
      "\n",
      "    accuracy                           0.81      1409\n",
      "   macro avg       0.76      0.70      0.72      1409\n",
      "weighted avg       0.80      0.81      0.79      1409\n",
      "\n"
     ]
    }
   ],
   "source": [
    "from sklearn.metrics import classification_report\n",
    "\n",
    "print(classification_report(y_test, predictions))\n"
   ]
  },
  {
   "cell_type": "markdown",
   "id": "0cb26925",
   "metadata": {},
   "source": [
    "Because the **accuracy score** only tell us on: \n",
    "- Out of all predictions, how many of the them are true? (which including True Posotive & True Negative)\n",
    "- Here we have 81% accuracy, this could also mean:\n",
    "    - the model predicts very good on Yes & No groups (equally)\n",
    "    - the model predicts very good on Yes group (>> very very high score on Yes group). But on the other hand, it's bad prediction on No group (with low score on No group) and vise versa.\n",
    "    - Somehow when the accuracy score is calculated, the score from both groups are combined. Therefore, it could make up with very high score of accuracy. But it cannot tell yet the model is a good prediction for both groups especially, with the imbalanced data\n",
    "  \n",
    "  \n",
    "Accept for Accuracy score, we take a look at Precision, Recall, F1-score. Which they will tell us more about how good the model is.\n",
    "\n",
    "#### Precision\n",
    "This Precision tells us: Out of all the positive predictions, how many are true?\n",
    "In our case:\n",
    "- The model predict true 'NO' 83% (out of true 'NO' + false 'NO')\n",
    "- The model predict true 'YES' 69% (out of true 'YES' + false 'YES')\n",
    "\n",
    "\n",
    "\n",
    "#### Recall\n",
    "Recall (Sensitivity) tells us: Out of all the predictions that should be true, how many did the model predicted as true?\n",
    "In our case:\n",
    "- Out of all the prediction that supposed to be 'NO', the model correctly predicted 92% of 'NO'\n",
    "- Out of all the prediction that supposed to be 'YES', the model correctly predicted 48% 'YES'\n",
    "\n",
    "From here we started to see the differenced of the efficiency of this model through Recall between Yes & No groups. \n",
    "\n",
    "There are a huge gaps between them, meaning while the model predicted NO very well, on the other hand it doesn't do well with the YES group.\n",
    "\n",
    "\n",
    "\n",
    "\n",
    "#### F1-score\n",
    "F1-score is a measure combines recall & precision (F1 = 2*((Precision*Recall) / (Precision+Recall)).\n",
    "It tells how effeiciency the model predict for both groups.\n",
    "\n",
    "\n",
    "- From our predictions, after considering all the metrics, the model predicted well on the 'NO' but not well on the 'YES' group. Even we have high Accuracy score.\n",
    "- This possibly caused by imbalance data in our target 'churn'\n",
    "\n",
    "\n",
    "        \"\"\"\n",
    "        churn\n",
    "        No       5174\n",
    "        Yes      1869\n",
    "        dtype: int64\n",
    "        \"\"\"\n",
    "\n"
   ]
  },
  {
   "cell_type": "markdown",
   "id": "0b8b0191",
   "metadata": {},
   "source": [
    "## What can we do more?"
   ]
  },
  {
   "cell_type": "markdown",
   "id": "e3a2fae3",
   "metadata": {},
   "source": [
    "- As we discussed about all the metrics above, they indicates that the model did not learn well from minority class hence it's not be able to detect/predict well. \n",
    "\n",
    "##### Why does this importance?\n",
    "\n",
    "This will become a serious problem when we want to predict the dataset that the minority class is more significant e.g. \n",
    "    \n",
    "    - cancer prediction dataset: \n",
    "        - in this case, we usually have samples of cancer cases way less than the samples of  healthy cases. \n",
    "        - The prediction model tends to not be sensitive enough to detect the cancer incidence.\n",
    "\n",
    "    - fraud detection dataset\n",
    "    - etc.\n",
    "        \n",
    "##### Solutions?        \n",
    "     \n",
    "\n",
    "For Data Science, oversampling the minority class **(SMOTE)** and/or undersampling the majority class **(Tomek Links)** are common approaches to solve this imbalanced data problem"
   ]
  },
  {
   "cell_type": "markdown",
   "id": "decfb9aa",
   "metadata": {},
   "source": [
    "## 8. Synthetic Minority Oversampling Technique (SMOTE) \n",
    "\n",
    "- SMOTE is an over sampling technique based on nearest neighbors that adds new points between existing points. "
   ]
  },
  {
   "cell_type": "markdown",
   "id": "837bbcc5",
   "metadata": {},
   "source": [
    "#### Apply imblearn.over_sampling.SMOTE to the dataset. \n"
   ]
  },
  {
   "cell_type": "code",
   "execution_count": 18,
   "id": "a2645345",
   "metadata": {},
   "outputs": [
    {
     "data": {
      "text/plain": [
       "churn\n",
       "No       5174\n",
       "Yes      5174\n",
       "dtype: int64"
      ]
     },
     "execution_count": 18,
     "metadata": {},
     "output_type": "execute_result"
    }
   ],
   "source": [
    "from imblearn.over_sampling import SMOTE\n",
    "\n",
    "smote = SMOTE()\n",
    "\n",
    "X_sm, y_sm = smote.fit_resample(X, y)\n",
    "y_sm.value_counts()"
   ]
  },
  {
   "cell_type": "code",
   "execution_count": 19,
   "id": "8de79332",
   "metadata": {},
   "outputs": [],
   "source": [
    "X_train, X_test, y_train, y_test = train_test_split(X_sm, y_sm, test_size=0.2, random_state=42)\n",
    "\n",
    "classification = LogisticRegression(random_state=0).fit(X_train, y_train)\n",
    "\n",
    "predictions = classification.predict(X_test)\n",
    "\n",
    "# print(classification_report(y_test, predictions))"
   ]
  },
  {
   "cell_type": "code",
   "execution_count": 20,
   "id": "81a80897",
   "metadata": {
    "scrolled": false
   },
   "outputs": [
    {
     "name": "stdout",
     "output_type": "stream",
     "text": [
      "              precision    recall  f1-score   support\n",
      "\n",
      "          No       0.74      0.75      0.74      1021\n",
      "         Yes       0.75      0.74      0.75      1049\n",
      "\n",
      "    accuracy                           0.74      2070\n",
      "   macro avg       0.74      0.74      0.74      2070\n",
      "weighted avg       0.74      0.74      0.74      2070\n",
      "\n"
     ]
    }
   ],
   "source": [
    "print(classification_report(y_test, predictions))"
   ]
  },
  {
   "cell_type": "markdown",
   "id": "60d073b9",
   "metadata": {},
   "source": [
    "#### What I observed after applyint upsampling using SMOTE\n",
    "\n",
    "- Accuracy score is lower than before applying the SMOTE\n",
    "- Considering other metrics, we can see that the model predicted better for both classes with similar score for Precision, Recall, F1-scre\n"
   ]
  },
  {
   "cell_type": "markdown",
   "id": "14b723f4",
   "metadata": {},
   "source": [
    "### Let's try undersampling with Tomek Links"
   ]
  },
  {
   "cell_type": "markdown",
   "id": "b68467f5",
   "metadata": {},
   "source": [
    "## 9. Tomek links "
   ]
  },
  {
   "cell_type": "markdown",
   "id": "8e8fe0fa",
   "metadata": {},
   "source": [
    "#### Build and evaluate the logistic regression model. Is it there any improvement?\n"
   ]
  },
  {
   "cell_type": "code",
   "execution_count": 21,
   "id": "770f8b24",
   "metadata": {},
   "outputs": [
    {
     "data": {
      "text/plain": [
       "churn\n",
       "No       4695\n",
       "Yes      1869\n",
       "dtype: int64"
      ]
     },
     "execution_count": 21,
     "metadata": {},
     "output_type": "execute_result"
    }
   ],
   "source": [
    "from imblearn.under_sampling import TomekLinks\n",
    "\n",
    "tl = TomekLinks(sampling_strategy='majority')\n",
    "X_tl, y_tl = tl.fit_resample(X, y)\n",
    "y_tl.value_counts()"
   ]
  },
  {
   "cell_type": "markdown",
   "id": "757c6f13",
   "metadata": {},
   "source": [
    "With Tomek Links method, we downsize the majority class \n",
    "        \n",
    "    \"\"\"\n",
    "       churn  From(n) --> To(n)\n",
    "        No       5174 --> 4695 \n",
    "        Yes      1869 --> 1869\n",
    "        dtype: int64\n",
    "    \"\"\""
   ]
  },
  {
   "cell_type": "code",
   "execution_count": 22,
   "id": "b04ca404",
   "metadata": {},
   "outputs": [
    {
     "data": {
      "text/plain": [
       "0.7806549885757806"
      ]
     },
     "execution_count": 22,
     "metadata": {},
     "output_type": "execute_result"
    }
   ],
   "source": [
    "X_train, X_test, y_train, y_test = train_test_split(X_tl, y_tl, test_size=0.2, random_state=42)\n",
    "\n",
    "classification = LogisticRegression(random_state=0).fit(X_train, y_train)\n",
    "\n",
    "predictions = classification.predict(X_test)\n",
    "\n",
    "classification.score(X_test, y_test)"
   ]
  },
  {
   "cell_type": "code",
   "execution_count": 23,
   "id": "85a6c7ee",
   "metadata": {},
   "outputs": [
    {
     "name": "stdout",
     "output_type": "stream",
     "text": [
      "              precision    recall  f1-score   support\n",
      "\n",
      "          No       0.82      0.88      0.85       929\n",
      "         Yes       0.65      0.53      0.59       384\n",
      "\n",
      "    accuracy                           0.78      1313\n",
      "   macro avg       0.74      0.71      0.72      1313\n",
      "weighted avg       0.77      0.78      0.77      1313\n",
      "\n"
     ]
    }
   ],
   "source": [
    "print(classification_report(y_test, predictions))"
   ]
  },
  {
   "cell_type": "markdown",
   "id": "a7c86fb5",
   "metadata": {},
   "source": [
    "### What I observed after applying undersampling using Tomek Links\n",
    "\n",
    "- Accuracy score is lower than using original data (but similar to the score when we applying SMOTE)\n",
    "- Considering other metrics: Precision, Recall, F1-score \n",
    "\n",
    "        - The model predicted a little better for the minority class (but not extremely significant comparing to the original data) because the sample size of majority class are still a lot higher than the minority class\n",
    "    \n",
    "            \"\"\"\n",
    "            churn (original data)   (Tomek Links)\n",
    "            No       5174            4695\n",
    "            Yes      1869            1869\n",
    "            dtype: int64\n",
    "            \"\"\"\n",
    "\n",
    "\n",
    "\n",
    "### Conclusion\n",
    "#### What would I do in the real case? Should I apply SMOTE or Temek Links?\n",
    "\n",
    "##### SMOTE \n",
    "- SMOTE gave us the equal (50/50) information which is ideally for training the model to learn equally from both classes. \n",
    "- But this could also mean that the model is (possibly) overfitting for the minority class because SMOTE replicates the minority class events. \n",
    "- Especially, when there's a huge gap between 2 classes and SMOTE replicates information to make up number of events to the majority class. \n",
    "- Therefore, I prefer to avoid SMOTE when:\n",
    "        - There's too huge gap of data between 2 classes because it'll create too much replicated data\n",
    "\n",
    "##### Tomek Links\n",
    "- Tomek Links removes the event of the majority class when it finds pair to the nearest events of the opposite class. \n",
    "- This method makes sense when the data is huge. Somehow it might end up losing some useful information.\n",
    "\n",
    "      \n",
    "\n",
    "##### My approch of what to use:\n",
    "- First, look at the data, check\n",
    "    - how big is the different between classes?\n",
    "    - how big is the dataset?\n",
    "    - consider advantages & disavantages of the methods on each use case\n",
    "    - how serious/significant is it if you manipulate the dataset?\n",
    "    - maybe, we can combine oversampling & undersampling when the data is huge & also big gap between classes ??\n",
    "    \n",
    "\n",
    "\n",
    "#### Conclusion for this Churn dataset\n",
    "- SMOTE seems to perform well for both classes considering the metrics that we have got.\n",
    "- But it replicates and fill up 3305 rows (47% of the whole dataset). It's almost 2 times that SMOTE made up data of the minority class. This is too much (in my opinion) replicated data that SMOTE made up. \n",
    "\n",
    "\n",
    "\n",
    "- While Tomek Links removes 479 rows (6.8% of the whole dataset). Even though the metrics indicated that the model doesn't perform very well. But I like to idea of not over manipulating the data. \n",
    "\n",
    "- Therefore, I prefer Tomek Links over SMOTE for this dataset.\n",
    "\n",
    "\n",
    "- After all, I have never worked in the Data Science's world. I as an outsider, surely, have a different view on how to choose/apply oversampling/undersampling method. \n",
    "- And I'm hopeing to learn more in the real cases very soon."
   ]
  },
  {
   "cell_type": "markdown",
   "id": "56689aea",
   "metadata": {},
   "source": [
    "## References\n",
    "\n",
    "- [10 Techniques to Solve Imbalanced Classes in Machine Learning (Updated 2023)](https://www.analyticsvidhya.com/blog/2020/07/10-techniques-to-deal-with-class-imbalance-in-machine-learning/)\n",
    "- [How to Combine Oversampling and Undersampling for Imbalanced Classification](https://machinelearningmastery.com/combine-oversampling-and-undersampling-for-imbalanced-classification/)\n",
    "- [What is Accuracy, Precision, Recall and F1 Score?](https://www.labelf.ai/blog/what-is-accuracy-precision-recall-and-f1-score)\n",
    "- [A Look at Precision, Recall, and F1-Score](https://towardsdatascience.com/a-look-at-precision-recall-and-f1-score-36b5fd0dd3ec)"
   ]
  },
  {
   "cell_type": "code",
   "execution_count": null,
   "id": "8d37dbff",
   "metadata": {},
   "outputs": [],
   "source": []
  }
 ],
 "metadata": {
  "kernelspec": {
   "display_name": "Python 3 (ipykernel)",
   "language": "python",
   "name": "python3"
  },
  "language_info": {
   "codemirror_mode": {
    "name": "ipython",
    "version": 3
   },
   "file_extension": ".py",
   "mimetype": "text/x-python",
   "name": "python",
   "nbconvert_exporter": "python",
   "pygments_lexer": "ipython3",
   "version": "3.9.13"
  }
 },
 "nbformat": 4,
 "nbformat_minor": 5
}
